{
  "nbformat": 4,
  "nbformat_minor": 0,
  "metadata": {
    "colab": {
      "provenance": []
    },
    "kernelspec": {
      "name": "python3",
      "display_name": "Python 3"
    },
    "language_info": {
      "name": "python"
    }
  },
  "cells": [
    {
      "cell_type": "code",
      "source": [
        "from google.colab import drive\n",
        "drive.mount(\"1a_OG.csv\")"
      ],
      "metadata": {
        "colab": {
          "base_uri": "https://localhost:8080/"
        },
        "id": "Iy2RtGTr_kMV",
        "outputId": "ffd09fa0-8411-41e7-8af9-31363e408b16"
      },
      "execution_count": null,
      "outputs": [
        {
          "output_type": "stream",
          "name": "stdout",
          "text": [
            "Mounted at 1a_OG.csv\n"
          ]
        }
      ]
    },
    {
      "cell_type": "code",
      "source": [
        "import numpy as np\n",
        "import pandas as pd\n",
        "import matplotlib.pyplot as plt\n",
        "import string\n",
        "import re\n",
        "import nltk\n",
        "from sklearn.pipeline import Pipeline\n",
        "from sklearn.feature_extraction.text import TfidfTransformer\n",
        "from sklearn.model_selection import cross_val_score\n",
        "nltk.download('stopwords')\n",
        "from nltk.corpus import stopwords\n",
        "stop_words = stopwords.words('english')\n",
        "nltk.download('punkt')\n",
        "nltk.download('wordnet')\n",
        "nltk.download('omw-1.4')"
      ],
      "metadata": {
        "colab": {
          "base_uri": "https://localhost:8080/"
        },
        "id": "bMOwAHCijDX4",
        "outputId": "f1aafd26-57b1-4aad-b1ac-877df0ce7278"
      },
      "execution_count": null,
      "outputs": [
        {
          "output_type": "stream",
          "name": "stderr",
          "text": [
            "[nltk_data] Downloading package stopwords to /root/nltk_data...\n",
            "[nltk_data]   Unzipping corpora/stopwords.zip.\n",
            "[nltk_data] Downloading package punkt to /root/nltk_data...\n",
            "[nltk_data]   Unzipping tokenizers/punkt.zip.\n",
            "[nltk_data] Downloading package wordnet to /root/nltk_data...\n",
            "[nltk_data] Downloading package omw-1.4 to /root/nltk_data...\n"
          ]
        },
        {
          "output_type": "execute_result",
          "data": {
            "text/plain": [
              "True"
            ]
          },
          "metadata": {},
          "execution_count": 4
        }
      ]
    },
    {
      "cell_type": "code",
      "source": [
        "df = pd.read_csv(\"/content/1a_OG.csv/MyDrive/1a_OG.csv\")\n",
        "df.head()\n"
      ],
      "metadata": {
        "colab": {
          "base_uri": "https://localhost:8080/",
          "height": 423
        },
        "id": "MXpFHfO7AZel",
        "outputId": "01eaa67e-b4f1-4655-ad06-645021973f6d"
      },
      "execution_count": null,
      "outputs": [
        {
          "output_type": "execute_result",
          "data": {
            "text/plain": [
              "   product_id                                       product_name    brand  \\\n",
              "0  B085J1J32G  Samsung Galaxy M51 (Electric Blue, 6GB RAM, 12...  Samsung   \n",
              "1  B085J1J32G  Samsung Galaxy M51 (Electric Blue, 6GB RAM, 12...  Samsung   \n",
              "2  B085J1J32G  Samsung Galaxy M51 (Electric Blue, 6GB RAM, 12...  Samsung   \n",
              "3  B085J1J32G  Samsung Galaxy M51 (Electric Blue, 6GB RAM, 12...  Samsung   \n",
              "4  B085J1J32G  Samsung Galaxy M51 (Electric Blue, 6GB RAM, 12...  Samsung   \n",
              "\n",
              "  website                 source_URL  \\\n",
              "0  Amazon  https://amzn.eu/d/bOFfVHI   \n",
              "1  Amazon  https://amzn.eu/d/bOFfVHI   \n",
              "2  Amazon  https://amzn.eu/d/bOFfVHI   \n",
              "3  Amazon  https://amzn.eu/d/bOFfVHI   \n",
              "4  Amazon  https://amzn.eu/d/bOFfVHI   \n",
              "\n",
              "                                   review_title  \\\n",
              "0                                  Worst mobile   \n",
              "1                       Average mid-range phone   \n",
              "2  Bulky, and Back side chrome finish is faulty   \n",
              "3               Good product with some drawback   \n",
              "4                  The best phone you could buy   \n",
              "\n",
              "                                         review_text          reviewer_name  \\\n",
              "0                            Worst display quality😩😩              PHALAKSHA   \n",
              "1  Battery is good but not great as advertised.Ru...                Snehith   \n",
              "2  Back side chrome finish started like scratches...  Pro-tan International   \n",
              "3  Battery life is extraordinary. No need of carr...            sai krishna   \n",
              "4  I'm writing review after year of purchase , ev...                  vicky   \n",
              "\n",
              "  rating  \n",
              "0      1  \n",
              "1      3  \n",
              "2      4  \n",
              "3      4  \n",
              "4      5  "
            ],
            "text/html": [
              "\n",
              "  <div id=\"df-3fed31bf-ada9-465f-a27a-f70081721b64\">\n",
              "    <div class=\"colab-df-container\">\n",
              "      <div>\n",
              "<style scoped>\n",
              "    .dataframe tbody tr th:only-of-type {\n",
              "        vertical-align: middle;\n",
              "    }\n",
              "\n",
              "    .dataframe tbody tr th {\n",
              "        vertical-align: top;\n",
              "    }\n",
              "\n",
              "    .dataframe thead th {\n",
              "        text-align: right;\n",
              "    }\n",
              "</style>\n",
              "<table border=\"1\" class=\"dataframe\">\n",
              "  <thead>\n",
              "    <tr style=\"text-align: right;\">\n",
              "      <th></th>\n",
              "      <th>product_id</th>\n",
              "      <th>product_name</th>\n",
              "      <th>brand</th>\n",
              "      <th>website</th>\n",
              "      <th>source_URL</th>\n",
              "      <th>review_title</th>\n",
              "      <th>review_text</th>\n",
              "      <th>reviewer_name</th>\n",
              "      <th>rating</th>\n",
              "    </tr>\n",
              "  </thead>\n",
              "  <tbody>\n",
              "    <tr>\n",
              "      <th>0</th>\n",
              "      <td>B085J1J32G</td>\n",
              "      <td>Samsung Galaxy M51 (Electric Blue, 6GB RAM, 12...</td>\n",
              "      <td>Samsung</td>\n",
              "      <td>Amazon</td>\n",
              "      <td>https://amzn.eu/d/bOFfVHI</td>\n",
              "      <td>Worst mobile</td>\n",
              "      <td>Worst display quality😩😩</td>\n",
              "      <td>PHALAKSHA</td>\n",
              "      <td>1</td>\n",
              "    </tr>\n",
              "    <tr>\n",
              "      <th>1</th>\n",
              "      <td>B085J1J32G</td>\n",
              "      <td>Samsung Galaxy M51 (Electric Blue, 6GB RAM, 12...</td>\n",
              "      <td>Samsung</td>\n",
              "      <td>Amazon</td>\n",
              "      <td>https://amzn.eu/d/bOFfVHI</td>\n",
              "      <td>Average mid-range phone</td>\n",
              "      <td>Battery is good but not great as advertised.Ru...</td>\n",
              "      <td>Snehith</td>\n",
              "      <td>3</td>\n",
              "    </tr>\n",
              "    <tr>\n",
              "      <th>2</th>\n",
              "      <td>B085J1J32G</td>\n",
              "      <td>Samsung Galaxy M51 (Electric Blue, 6GB RAM, 12...</td>\n",
              "      <td>Samsung</td>\n",
              "      <td>Amazon</td>\n",
              "      <td>https://amzn.eu/d/bOFfVHI</td>\n",
              "      <td>Bulky, and Back side chrome finish is faulty</td>\n",
              "      <td>Back side chrome finish started like scratches...</td>\n",
              "      <td>Pro-tan International</td>\n",
              "      <td>4</td>\n",
              "    </tr>\n",
              "    <tr>\n",
              "      <th>3</th>\n",
              "      <td>B085J1J32G</td>\n",
              "      <td>Samsung Galaxy M51 (Electric Blue, 6GB RAM, 12...</td>\n",
              "      <td>Samsung</td>\n",
              "      <td>Amazon</td>\n",
              "      <td>https://amzn.eu/d/bOFfVHI</td>\n",
              "      <td>Good product with some drawback</td>\n",
              "      <td>Battery life is extraordinary. No need of carr...</td>\n",
              "      <td>sai krishna</td>\n",
              "      <td>4</td>\n",
              "    </tr>\n",
              "    <tr>\n",
              "      <th>4</th>\n",
              "      <td>B085J1J32G</td>\n",
              "      <td>Samsung Galaxy M51 (Electric Blue, 6GB RAM, 12...</td>\n",
              "      <td>Samsung</td>\n",
              "      <td>Amazon</td>\n",
              "      <td>https://amzn.eu/d/bOFfVHI</td>\n",
              "      <td>The best phone you could buy</td>\n",
              "      <td>I'm writing review after year of purchase , ev...</td>\n",
              "      <td>vicky</td>\n",
              "      <td>5</td>\n",
              "    </tr>\n",
              "  </tbody>\n",
              "</table>\n",
              "</div>\n",
              "      <button class=\"colab-df-convert\" onclick=\"convertToInteractive('df-3fed31bf-ada9-465f-a27a-f70081721b64')\"\n",
              "              title=\"Convert this dataframe to an interactive table.\"\n",
              "              style=\"display:none;\">\n",
              "        \n",
              "  <svg xmlns=\"http://www.w3.org/2000/svg\" height=\"24px\"viewBox=\"0 0 24 24\"\n",
              "       width=\"24px\">\n",
              "    <path d=\"M0 0h24v24H0V0z\" fill=\"none\"/>\n",
              "    <path d=\"M18.56 5.44l.94 2.06.94-2.06 2.06-.94-2.06-.94-.94-2.06-.94 2.06-2.06.94zm-11 1L8.5 8.5l.94-2.06 2.06-.94-2.06-.94L8.5 2.5l-.94 2.06-2.06.94zm10 10l.94 2.06.94-2.06 2.06-.94-2.06-.94-.94-2.06-.94 2.06-2.06.94z\"/><path d=\"M17.41 7.96l-1.37-1.37c-.4-.4-.92-.59-1.43-.59-.52 0-1.04.2-1.43.59L10.3 9.45l-7.72 7.72c-.78.78-.78 2.05 0 2.83L4 21.41c.39.39.9.59 1.41.59.51 0 1.02-.2 1.41-.59l7.78-7.78 2.81-2.81c.8-.78.8-2.07 0-2.86zM5.41 20L4 18.59l7.72-7.72 1.47 1.35L5.41 20z\"/>\n",
              "  </svg>\n",
              "      </button>\n",
              "      \n",
              "  <style>\n",
              "    .colab-df-container {\n",
              "      display:flex;\n",
              "      flex-wrap:wrap;\n",
              "      gap: 12px;\n",
              "    }\n",
              "\n",
              "    .colab-df-convert {\n",
              "      background-color: #E8F0FE;\n",
              "      border: none;\n",
              "      border-radius: 50%;\n",
              "      cursor: pointer;\n",
              "      display: none;\n",
              "      fill: #1967D2;\n",
              "      height: 32px;\n",
              "      padding: 0 0 0 0;\n",
              "      width: 32px;\n",
              "    }\n",
              "\n",
              "    .colab-df-convert:hover {\n",
              "      background-color: #E2EBFA;\n",
              "      box-shadow: 0px 1px 2px rgba(60, 64, 67, 0.3), 0px 1px 3px 1px rgba(60, 64, 67, 0.15);\n",
              "      fill: #174EA6;\n",
              "    }\n",
              "\n",
              "    [theme=dark] .colab-df-convert {\n",
              "      background-color: #3B4455;\n",
              "      fill: #D2E3FC;\n",
              "    }\n",
              "\n",
              "    [theme=dark] .colab-df-convert:hover {\n",
              "      background-color: #434B5C;\n",
              "      box-shadow: 0px 1px 3px 1px rgba(0, 0, 0, 0.15);\n",
              "      filter: drop-shadow(0px 1px 2px rgba(0, 0, 0, 0.3));\n",
              "      fill: #FFFFFF;\n",
              "    }\n",
              "  </style>\n",
              "\n",
              "      <script>\n",
              "        const buttonEl =\n",
              "          document.querySelector('#df-3fed31bf-ada9-465f-a27a-f70081721b64 button.colab-df-convert');\n",
              "        buttonEl.style.display =\n",
              "          google.colab.kernel.accessAllowed ? 'block' : 'none';\n",
              "\n",
              "        async function convertToInteractive(key) {\n",
              "          const element = document.querySelector('#df-3fed31bf-ada9-465f-a27a-f70081721b64');\n",
              "          const dataTable =\n",
              "            await google.colab.kernel.invokeFunction('convertToInteractive',\n",
              "                                                     [key], {});\n",
              "          if (!dataTable) return;\n",
              "\n",
              "          const docLinkHtml = 'Like what you see? Visit the ' +\n",
              "            '<a target=\"_blank\" href=https://colab.research.google.com/notebooks/data_table.ipynb>data table notebook</a>'\n",
              "            + ' to learn more about interactive tables.';\n",
              "          element.innerHTML = '';\n",
              "          dataTable['output_type'] = 'display_data';\n",
              "          await google.colab.output.renderOutput(dataTable, element);\n",
              "          const docLink = document.createElement('div');\n",
              "          docLink.innerHTML = docLinkHtml;\n",
              "          element.appendChild(docLink);\n",
              "        }\n",
              "      </script>\n",
              "    </div>\n",
              "  </div>\n",
              "  "
            ]
          },
          "metadata": {},
          "execution_count": 5
        }
      ]
    },
    {
      "cell_type": "code",
      "source": [
        "df.isnull().sum()"
      ],
      "metadata": {
        "colab": {
          "base_uri": "https://localhost:8080/"
        },
        "id": "EBgUuRrOAh29",
        "outputId": "b2f4eb0d-147d-4278-bc8e-59679377180d"
      },
      "execution_count": null,
      "outputs": [
        {
          "output_type": "execute_result",
          "data": {
            "text/plain": [
              "product_id       38\n",
              "product_name      0\n",
              "brand             1\n",
              "website           0\n",
              "source_URL        0\n",
              "review_title      8\n",
              "review_text      44\n",
              "reviewer_name     8\n",
              "rating           28\n",
              "dtype: int64"
            ]
          },
          "metadata": {},
          "execution_count": 6
        }
      ]
    },
    {
      "cell_type": "code",
      "source": [
        "df['review_text'] = df['review_text'].astype(str)\n",
        "df.dtypes"
      ],
      "metadata": {
        "id": "sZw_rPnrArje",
        "colab": {
          "base_uri": "https://localhost:8080/"
        },
        "outputId": "232aa9e4-dc45-46ed-f32e-44c0f200dcb9"
      },
      "execution_count": null,
      "outputs": [
        {
          "output_type": "execute_result",
          "data": {
            "text/plain": [
              "product_id       object\n",
              "product_name     object\n",
              "brand            object\n",
              "website          object\n",
              "source_URL       object\n",
              "review_title     object\n",
              "review_text      object\n",
              "reviewer_name    object\n",
              "rating           object\n",
              "dtype: object"
            ]
          },
          "metadata": {},
          "execution_count": 7
        }
      ]
    },
    {
      "cell_type": "code",
      "source": [
        "df = df.drop_duplicates(subset=['review_text'])\n",
        "df"
      ],
      "metadata": {
        "colab": {
          "base_uri": "https://localhost:8080/",
          "height": 901
        },
        "id": "FnfKj2yiA7yk",
        "outputId": "18b2500e-95a3-4fcf-b199-e8e36cb5bcc5"
      },
      "execution_count": null,
      "outputs": [
        {
          "output_type": "execute_result",
          "data": {
            "text/plain": [
              "      product_id                                       product_name    brand  \\\n",
              "0     B085J1J32G  Samsung Galaxy M51 (Electric Blue, 6GB RAM, 12...  Samsung   \n",
              "1     B085J1J32G  Samsung Galaxy M51 (Electric Blue, 6GB RAM, 12...  Samsung   \n",
              "2     B085J1J32G  Samsung Galaxy M51 (Electric Blue, 6GB RAM, 12...  Samsung   \n",
              "3     B085J1J32G  Samsung Galaxy M51 (Electric Blue, 6GB RAM, 12...  Samsung   \n",
              "4     B085J1J32G  Samsung Galaxy M51 (Electric Blue, 6GB RAM, 12...  Samsung   \n",
              "...          ...                                                ...      ...   \n",
              "1678  B08FN6WGDQ  Samsung Galaxy Buds Live Bluetooth Truly Wirel...  Samsung   \n",
              "1679  B08FN6WGDQ  Samsung Galaxy Buds Live Bluetooth Truly Wirel...  Samsung   \n",
              "1680  B08FN6WGDQ  Samsung Galaxy Buds Live Bluetooth Truly Wirel...  Samsung   \n",
              "1683  B08FN6WGDQ  Samsung Galaxy Buds Live Bluetooth Truly Wirel...  Samsung   \n",
              "1684  B08FN6WGDQ  Samsung Galaxy Buds Live Bluetooth Truly Wirel...  Samsung   \n",
              "\n",
              "     website                                         source_URL  \\\n",
              "0     Amazon                          https://amzn.eu/d/bOFfVHI   \n",
              "1     Amazon                          https://amzn.eu/d/bOFfVHI   \n",
              "2     Amazon                          https://amzn.eu/d/bOFfVHI   \n",
              "3     Amazon                          https://amzn.eu/d/bOFfVHI   \n",
              "4     Amazon                          https://amzn.eu/d/bOFfVHI   \n",
              "...      ...                                                ...   \n",
              "1678  Amazon  https://www.amazon.in/Samsung-Galaxy-SM-R180NZ...   \n",
              "1679  Amazon  https://www.amazon.in/Samsung-Galaxy-SM-R180NZ...   \n",
              "1680  Amazon  https://www.amazon.in/Samsung-Galaxy-SM-R180NZ...   \n",
              "1683  Amazon  https://www.amazon.in/Samsung-Galaxy-SM-R180NZ...   \n",
              "1684  Amazon  https://www.amazon.in/Samsung-Galaxy-SM-R180NZ...   \n",
              "\n",
              "                                           review_title  \\\n",
              "0                                          Worst mobile   \n",
              "1                               Average mid-range phone   \n",
              "2          Bulky, and Back side chrome finish is faulty   \n",
              "3                       Good product with some drawback   \n",
              "4                          The best phone you could buy   \n",
              "...                                                 ...   \n",
              "1678                                        Itâ€™s Good   \n",
              "1679                                       NOT WORTH IT   \n",
              "1680                                      Good purchase   \n",
              "1683                                 Affordable earbuds   \n",
              "1684  Buy this only for design and few not so import...   \n",
              "\n",
              "                                            review_text  \\\n",
              "0                               Worst display quality😩😩   \n",
              "1     Battery is good but not great as advertised.Ru...   \n",
              "2     Back side chrome finish started like scratches...   \n",
              "3     Battery life is extraordinary. No need of carr...   \n",
              "4     I'm writing review after year of purchase , ev...   \n",
              "...                                                 ...   \n",
              "1678  I bought it in festive season Sale..\\n Itâ€™s ...   \n",
              "1679  Pro.. Good Finish and Quality. Good Battery Li...   \n",
              "1680  First they sent a defective one which alwaysss...   \n",
              "1683  Sound is loud and somewhat clear with some ech...   \n",
              "1684  Loved the style. But sound isn't that great. N...   \n",
              "\n",
              "              reviewer_name rating  \n",
              "0                 PHALAKSHA      1  \n",
              "1                   Snehith      3  \n",
              "2     Pro-tan International      4  \n",
              "3               sai krishna      4  \n",
              "4                     vicky      5  \n",
              "...                     ...    ...  \n",
              "1678          Diwakar Nayal      3  \n",
              "1679     Sainathan Arumugam      3  \n",
              "1680              Naveen B.      5  \n",
              "1683           shahid patel      4  \n",
              "1684                  Manas      4  \n",
              "\n",
              "[799 rows x 9 columns]"
            ],
            "text/html": [
              "\n",
              "  <div id=\"df-9b6968d1-fc09-4b40-baac-b670d8cf36bb\">\n",
              "    <div class=\"colab-df-container\">\n",
              "      <div>\n",
              "<style scoped>\n",
              "    .dataframe tbody tr th:only-of-type {\n",
              "        vertical-align: middle;\n",
              "    }\n",
              "\n",
              "    .dataframe tbody tr th {\n",
              "        vertical-align: top;\n",
              "    }\n",
              "\n",
              "    .dataframe thead th {\n",
              "        text-align: right;\n",
              "    }\n",
              "</style>\n",
              "<table border=\"1\" class=\"dataframe\">\n",
              "  <thead>\n",
              "    <tr style=\"text-align: right;\">\n",
              "      <th></th>\n",
              "      <th>product_id</th>\n",
              "      <th>product_name</th>\n",
              "      <th>brand</th>\n",
              "      <th>website</th>\n",
              "      <th>source_URL</th>\n",
              "      <th>review_title</th>\n",
              "      <th>review_text</th>\n",
              "      <th>reviewer_name</th>\n",
              "      <th>rating</th>\n",
              "    </tr>\n",
              "  </thead>\n",
              "  <tbody>\n",
              "    <tr>\n",
              "      <th>0</th>\n",
              "      <td>B085J1J32G</td>\n",
              "      <td>Samsung Galaxy M51 (Electric Blue, 6GB RAM, 12...</td>\n",
              "      <td>Samsung</td>\n",
              "      <td>Amazon</td>\n",
              "      <td>https://amzn.eu/d/bOFfVHI</td>\n",
              "      <td>Worst mobile</td>\n",
              "      <td>Worst display quality😩😩</td>\n",
              "      <td>PHALAKSHA</td>\n",
              "      <td>1</td>\n",
              "    </tr>\n",
              "    <tr>\n",
              "      <th>1</th>\n",
              "      <td>B085J1J32G</td>\n",
              "      <td>Samsung Galaxy M51 (Electric Blue, 6GB RAM, 12...</td>\n",
              "      <td>Samsung</td>\n",
              "      <td>Amazon</td>\n",
              "      <td>https://amzn.eu/d/bOFfVHI</td>\n",
              "      <td>Average mid-range phone</td>\n",
              "      <td>Battery is good but not great as advertised.Ru...</td>\n",
              "      <td>Snehith</td>\n",
              "      <td>3</td>\n",
              "    </tr>\n",
              "    <tr>\n",
              "      <th>2</th>\n",
              "      <td>B085J1J32G</td>\n",
              "      <td>Samsung Galaxy M51 (Electric Blue, 6GB RAM, 12...</td>\n",
              "      <td>Samsung</td>\n",
              "      <td>Amazon</td>\n",
              "      <td>https://amzn.eu/d/bOFfVHI</td>\n",
              "      <td>Bulky, and Back side chrome finish is faulty</td>\n",
              "      <td>Back side chrome finish started like scratches...</td>\n",
              "      <td>Pro-tan International</td>\n",
              "      <td>4</td>\n",
              "    </tr>\n",
              "    <tr>\n",
              "      <th>3</th>\n",
              "      <td>B085J1J32G</td>\n",
              "      <td>Samsung Galaxy M51 (Electric Blue, 6GB RAM, 12...</td>\n",
              "      <td>Samsung</td>\n",
              "      <td>Amazon</td>\n",
              "      <td>https://amzn.eu/d/bOFfVHI</td>\n",
              "      <td>Good product with some drawback</td>\n",
              "      <td>Battery life is extraordinary. No need of carr...</td>\n",
              "      <td>sai krishna</td>\n",
              "      <td>4</td>\n",
              "    </tr>\n",
              "    <tr>\n",
              "      <th>4</th>\n",
              "      <td>B085J1J32G</td>\n",
              "      <td>Samsung Galaxy M51 (Electric Blue, 6GB RAM, 12...</td>\n",
              "      <td>Samsung</td>\n",
              "      <td>Amazon</td>\n",
              "      <td>https://amzn.eu/d/bOFfVHI</td>\n",
              "      <td>The best phone you could buy</td>\n",
              "      <td>I'm writing review after year of purchase , ev...</td>\n",
              "      <td>vicky</td>\n",
              "      <td>5</td>\n",
              "    </tr>\n",
              "    <tr>\n",
              "      <th>...</th>\n",
              "      <td>...</td>\n",
              "      <td>...</td>\n",
              "      <td>...</td>\n",
              "      <td>...</td>\n",
              "      <td>...</td>\n",
              "      <td>...</td>\n",
              "      <td>...</td>\n",
              "      <td>...</td>\n",
              "      <td>...</td>\n",
              "    </tr>\n",
              "    <tr>\n",
              "      <th>1678</th>\n",
              "      <td>B08FN6WGDQ</td>\n",
              "      <td>Samsung Galaxy Buds Live Bluetooth Truly Wirel...</td>\n",
              "      <td>Samsung</td>\n",
              "      <td>Amazon</td>\n",
              "      <td>https://www.amazon.in/Samsung-Galaxy-SM-R180NZ...</td>\n",
              "      <td>Itâ€™s Good</td>\n",
              "      <td>I bought it in festive season Sale..\\n Itâ€™s ...</td>\n",
              "      <td>Diwakar Nayal</td>\n",
              "      <td>3</td>\n",
              "    </tr>\n",
              "    <tr>\n",
              "      <th>1679</th>\n",
              "      <td>B08FN6WGDQ</td>\n",
              "      <td>Samsung Galaxy Buds Live Bluetooth Truly Wirel...</td>\n",
              "      <td>Samsung</td>\n",
              "      <td>Amazon</td>\n",
              "      <td>https://www.amazon.in/Samsung-Galaxy-SM-R180NZ...</td>\n",
              "      <td>NOT WORTH IT</td>\n",
              "      <td>Pro.. Good Finish and Quality. Good Battery Li...</td>\n",
              "      <td>Sainathan Arumugam</td>\n",
              "      <td>3</td>\n",
              "    </tr>\n",
              "    <tr>\n",
              "      <th>1680</th>\n",
              "      <td>B08FN6WGDQ</td>\n",
              "      <td>Samsung Galaxy Buds Live Bluetooth Truly Wirel...</td>\n",
              "      <td>Samsung</td>\n",
              "      <td>Amazon</td>\n",
              "      <td>https://www.amazon.in/Samsung-Galaxy-SM-R180NZ...</td>\n",
              "      <td>Good purchase</td>\n",
              "      <td>First they sent a defective one which alwaysss...</td>\n",
              "      <td>Naveen B.</td>\n",
              "      <td>5</td>\n",
              "    </tr>\n",
              "    <tr>\n",
              "      <th>1683</th>\n",
              "      <td>B08FN6WGDQ</td>\n",
              "      <td>Samsung Galaxy Buds Live Bluetooth Truly Wirel...</td>\n",
              "      <td>Samsung</td>\n",
              "      <td>Amazon</td>\n",
              "      <td>https://www.amazon.in/Samsung-Galaxy-SM-R180NZ...</td>\n",
              "      <td>Affordable earbuds</td>\n",
              "      <td>Sound is loud and somewhat clear with some ech...</td>\n",
              "      <td>shahid patel</td>\n",
              "      <td>4</td>\n",
              "    </tr>\n",
              "    <tr>\n",
              "      <th>1684</th>\n",
              "      <td>B08FN6WGDQ</td>\n",
              "      <td>Samsung Galaxy Buds Live Bluetooth Truly Wirel...</td>\n",
              "      <td>Samsung</td>\n",
              "      <td>Amazon</td>\n",
              "      <td>https://www.amazon.in/Samsung-Galaxy-SM-R180NZ...</td>\n",
              "      <td>Buy this only for design and few not so import...</td>\n",
              "      <td>Loved the style. But sound isn't that great. N...</td>\n",
              "      <td>Manas</td>\n",
              "      <td>4</td>\n",
              "    </tr>\n",
              "  </tbody>\n",
              "</table>\n",
              "<p>799 rows × 9 columns</p>\n",
              "</div>\n",
              "      <button class=\"colab-df-convert\" onclick=\"convertToInteractive('df-9b6968d1-fc09-4b40-baac-b670d8cf36bb')\"\n",
              "              title=\"Convert this dataframe to an interactive table.\"\n",
              "              style=\"display:none;\">\n",
              "        \n",
              "  <svg xmlns=\"http://www.w3.org/2000/svg\" height=\"24px\"viewBox=\"0 0 24 24\"\n",
              "       width=\"24px\">\n",
              "    <path d=\"M0 0h24v24H0V0z\" fill=\"none\"/>\n",
              "    <path d=\"M18.56 5.44l.94 2.06.94-2.06 2.06-.94-2.06-.94-.94-2.06-.94 2.06-2.06.94zm-11 1L8.5 8.5l.94-2.06 2.06-.94-2.06-.94L8.5 2.5l-.94 2.06-2.06.94zm10 10l.94 2.06.94-2.06 2.06-.94-2.06-.94-.94-2.06-.94 2.06-2.06.94z\"/><path d=\"M17.41 7.96l-1.37-1.37c-.4-.4-.92-.59-1.43-.59-.52 0-1.04.2-1.43.59L10.3 9.45l-7.72 7.72c-.78.78-.78 2.05 0 2.83L4 21.41c.39.39.9.59 1.41.59.51 0 1.02-.2 1.41-.59l7.78-7.78 2.81-2.81c.8-.78.8-2.07 0-2.86zM5.41 20L4 18.59l7.72-7.72 1.47 1.35L5.41 20z\"/>\n",
              "  </svg>\n",
              "      </button>\n",
              "      \n",
              "  <style>\n",
              "    .colab-df-container {\n",
              "      display:flex;\n",
              "      flex-wrap:wrap;\n",
              "      gap: 12px;\n",
              "    }\n",
              "\n",
              "    .colab-df-convert {\n",
              "      background-color: #E8F0FE;\n",
              "      border: none;\n",
              "      border-radius: 50%;\n",
              "      cursor: pointer;\n",
              "      display: none;\n",
              "      fill: #1967D2;\n",
              "      height: 32px;\n",
              "      padding: 0 0 0 0;\n",
              "      width: 32px;\n",
              "    }\n",
              "\n",
              "    .colab-df-convert:hover {\n",
              "      background-color: #E2EBFA;\n",
              "      box-shadow: 0px 1px 2px rgba(60, 64, 67, 0.3), 0px 1px 3px 1px rgba(60, 64, 67, 0.15);\n",
              "      fill: #174EA6;\n",
              "    }\n",
              "\n",
              "    [theme=dark] .colab-df-convert {\n",
              "      background-color: #3B4455;\n",
              "      fill: #D2E3FC;\n",
              "    }\n",
              "\n",
              "    [theme=dark] .colab-df-convert:hover {\n",
              "      background-color: #434B5C;\n",
              "      box-shadow: 0px 1px 3px 1px rgba(0, 0, 0, 0.15);\n",
              "      filter: drop-shadow(0px 1px 2px rgba(0, 0, 0, 0.3));\n",
              "      fill: #FFFFFF;\n",
              "    }\n",
              "  </style>\n",
              "\n",
              "      <script>\n",
              "        const buttonEl =\n",
              "          document.querySelector('#df-9b6968d1-fc09-4b40-baac-b670d8cf36bb button.colab-df-convert');\n",
              "        buttonEl.style.display =\n",
              "          google.colab.kernel.accessAllowed ? 'block' : 'none';\n",
              "\n",
              "        async function convertToInteractive(key) {\n",
              "          const element = document.querySelector('#df-9b6968d1-fc09-4b40-baac-b670d8cf36bb');\n",
              "          const dataTable =\n",
              "            await google.colab.kernel.invokeFunction('convertToInteractive',\n",
              "                                                     [key], {});\n",
              "          if (!dataTable) return;\n",
              "\n",
              "          const docLinkHtml = 'Like what you see? Visit the ' +\n",
              "            '<a target=\"_blank\" href=https://colab.research.google.com/notebooks/data_table.ipynb>data table notebook</a>'\n",
              "            + ' to learn more about interactive tables.';\n",
              "          element.innerHTML = '';\n",
              "          dataTable['output_type'] = 'display_data';\n",
              "          await google.colab.output.renderOutput(dataTable, element);\n",
              "          const docLink = document.createElement('div');\n",
              "          docLink.innerHTML = docLinkHtml;\n",
              "          element.appendChild(docLink);\n",
              "        }\n",
              "      </script>\n",
              "    </div>\n",
              "  </div>\n",
              "  "
            ]
          },
          "metadata": {},
          "execution_count": 8
        }
      ]
    },
    {
      "cell_type": "code",
      "source": [
        "from textblob import Word, TextBlob"
      ],
      "metadata": {
        "id": "Fjv6MzCIBEQL"
      },
      "execution_count": null,
      "outputs": []
    },
    {
      "cell_type": "code",
      "source": [
        "pol = lambda x: TextBlob(x).sentiment.polarity\n",
        "sub = lambda x: TextBlob(x).sentiment.subjectivity\n",
        "\n",
        "df['polarity'] = df['review_text'].apply(pol)\n",
        "df['subjectivity'] = df['review_text'].apply(sub)\n",
        "df"
      ],
      "metadata": {
        "colab": {
          "base_uri": "https://localhost:8080/",
          "height": 1000
        },
        "id": "Doh14amqBO9c",
        "outputId": "7c9e1e68-55be-46e0-8553-1374b48c4968"
      },
      "execution_count": null,
      "outputs": [
        {
          "output_type": "execute_result",
          "data": {
            "text/plain": [
              "      product_id                                       product_name    brand  \\\n",
              "0     B085J1J32G  Samsung Galaxy M51 (Electric Blue, 6GB RAM, 12...  Samsung   \n",
              "1     B085J1J32G  Samsung Galaxy M51 (Electric Blue, 6GB RAM, 12...  Samsung   \n",
              "2     B085J1J32G  Samsung Galaxy M51 (Electric Blue, 6GB RAM, 12...  Samsung   \n",
              "3     B085J1J32G  Samsung Galaxy M51 (Electric Blue, 6GB RAM, 12...  Samsung   \n",
              "4     B085J1J32G  Samsung Galaxy M51 (Electric Blue, 6GB RAM, 12...  Samsung   \n",
              "...          ...                                                ...      ...   \n",
              "1678  B08FN6WGDQ  Samsung Galaxy Buds Live Bluetooth Truly Wirel...  Samsung   \n",
              "1679  B08FN6WGDQ  Samsung Galaxy Buds Live Bluetooth Truly Wirel...  Samsung   \n",
              "1680  B08FN6WGDQ  Samsung Galaxy Buds Live Bluetooth Truly Wirel...  Samsung   \n",
              "1683  B08FN6WGDQ  Samsung Galaxy Buds Live Bluetooth Truly Wirel...  Samsung   \n",
              "1684  B08FN6WGDQ  Samsung Galaxy Buds Live Bluetooth Truly Wirel...  Samsung   \n",
              "\n",
              "     website                                         source_URL  \\\n",
              "0     Amazon                          https://amzn.eu/d/bOFfVHI   \n",
              "1     Amazon                          https://amzn.eu/d/bOFfVHI   \n",
              "2     Amazon                          https://amzn.eu/d/bOFfVHI   \n",
              "3     Amazon                          https://amzn.eu/d/bOFfVHI   \n",
              "4     Amazon                          https://amzn.eu/d/bOFfVHI   \n",
              "...      ...                                                ...   \n",
              "1678  Amazon  https://www.amazon.in/Samsung-Galaxy-SM-R180NZ...   \n",
              "1679  Amazon  https://www.amazon.in/Samsung-Galaxy-SM-R180NZ...   \n",
              "1680  Amazon  https://www.amazon.in/Samsung-Galaxy-SM-R180NZ...   \n",
              "1683  Amazon  https://www.amazon.in/Samsung-Galaxy-SM-R180NZ...   \n",
              "1684  Amazon  https://www.amazon.in/Samsung-Galaxy-SM-R180NZ...   \n",
              "\n",
              "                                           review_title  \\\n",
              "0                                          Worst mobile   \n",
              "1                               Average mid-range phone   \n",
              "2          Bulky, and Back side chrome finish is faulty   \n",
              "3                       Good product with some drawback   \n",
              "4                          The best phone you could buy   \n",
              "...                                                 ...   \n",
              "1678                                        Itâ€™s Good   \n",
              "1679                                       NOT WORTH IT   \n",
              "1680                                      Good purchase   \n",
              "1683                                 Affordable earbuds   \n",
              "1684  Buy this only for design and few not so import...   \n",
              "\n",
              "                                            review_text  \\\n",
              "0                               Worst display quality😩😩   \n",
              "1     Battery is good but not great as advertised.Ru...   \n",
              "2     Back side chrome finish started like scratches...   \n",
              "3     Battery life is extraordinary. No need of carr...   \n",
              "4     I'm writing review after year of purchase , ev...   \n",
              "...                                                 ...   \n",
              "1678  I bought it in festive season Sale..\\n Itâ€™s ...   \n",
              "1679  Pro.. Good Finish and Quality. Good Battery Li...   \n",
              "1680  First they sent a defective one which alwaysss...   \n",
              "1683  Sound is loud and somewhat clear with some ech...   \n",
              "1684  Loved the style. But sound isn't that great. N...   \n",
              "\n",
              "              reviewer_name rating  polarity  subjectivity  \n",
              "0                 PHALAKSHA      1 -1.000000      1.000000  \n",
              "1                   Snehith      3  0.333333      0.650000  \n",
              "2     Pro-tan International      4  0.100000      0.150000  \n",
              "3               sai krishna      4  0.132500      0.622500  \n",
              "4                     vicky      5  0.325714      0.587857  \n",
              "...                     ...    ...       ...           ...  \n",
              "1678          Diwakar Nayal      3  0.184667      0.614667  \n",
              "1679     Sainathan Arumugam      3  0.217949      0.496062  \n",
              "1680              Naveen B.      5  0.329509      0.549206  \n",
              "1683           shahid patel      4  0.200000      0.527778  \n",
              "1684                  Manas      4  0.466667      0.475000  \n",
              "\n",
              "[799 rows x 11 columns]"
            ],
            "text/html": [
              "\n",
              "  <div id=\"df-8a4f1721-b1da-4633-87a2-2a20793b017f\">\n",
              "    <div class=\"colab-df-container\">\n",
              "      <div>\n",
              "<style scoped>\n",
              "    .dataframe tbody tr th:only-of-type {\n",
              "        vertical-align: middle;\n",
              "    }\n",
              "\n",
              "    .dataframe tbody tr th {\n",
              "        vertical-align: top;\n",
              "    }\n",
              "\n",
              "    .dataframe thead th {\n",
              "        text-align: right;\n",
              "    }\n",
              "</style>\n",
              "<table border=\"1\" class=\"dataframe\">\n",
              "  <thead>\n",
              "    <tr style=\"text-align: right;\">\n",
              "      <th></th>\n",
              "      <th>product_id</th>\n",
              "      <th>product_name</th>\n",
              "      <th>brand</th>\n",
              "      <th>website</th>\n",
              "      <th>source_URL</th>\n",
              "      <th>review_title</th>\n",
              "      <th>review_text</th>\n",
              "      <th>reviewer_name</th>\n",
              "      <th>rating</th>\n",
              "      <th>polarity</th>\n",
              "      <th>subjectivity</th>\n",
              "    </tr>\n",
              "  </thead>\n",
              "  <tbody>\n",
              "    <tr>\n",
              "      <th>0</th>\n",
              "      <td>B085J1J32G</td>\n",
              "      <td>Samsung Galaxy M51 (Electric Blue, 6GB RAM, 12...</td>\n",
              "      <td>Samsung</td>\n",
              "      <td>Amazon</td>\n",
              "      <td>https://amzn.eu/d/bOFfVHI</td>\n",
              "      <td>Worst mobile</td>\n",
              "      <td>Worst display quality😩😩</td>\n",
              "      <td>PHALAKSHA</td>\n",
              "      <td>1</td>\n",
              "      <td>-1.000000</td>\n",
              "      <td>1.000000</td>\n",
              "    </tr>\n",
              "    <tr>\n",
              "      <th>1</th>\n",
              "      <td>B085J1J32G</td>\n",
              "      <td>Samsung Galaxy M51 (Electric Blue, 6GB RAM, 12...</td>\n",
              "      <td>Samsung</td>\n",
              "      <td>Amazon</td>\n",
              "      <td>https://amzn.eu/d/bOFfVHI</td>\n",
              "      <td>Average mid-range phone</td>\n",
              "      <td>Battery is good but not great as advertised.Ru...</td>\n",
              "      <td>Snehith</td>\n",
              "      <td>3</td>\n",
              "      <td>0.333333</td>\n",
              "      <td>0.650000</td>\n",
              "    </tr>\n",
              "    <tr>\n",
              "      <th>2</th>\n",
              "      <td>B085J1J32G</td>\n",
              "      <td>Samsung Galaxy M51 (Electric Blue, 6GB RAM, 12...</td>\n",
              "      <td>Samsung</td>\n",
              "      <td>Amazon</td>\n",
              "      <td>https://amzn.eu/d/bOFfVHI</td>\n",
              "      <td>Bulky, and Back side chrome finish is faulty</td>\n",
              "      <td>Back side chrome finish started like scratches...</td>\n",
              "      <td>Pro-tan International</td>\n",
              "      <td>4</td>\n",
              "      <td>0.100000</td>\n",
              "      <td>0.150000</td>\n",
              "    </tr>\n",
              "    <tr>\n",
              "      <th>3</th>\n",
              "      <td>B085J1J32G</td>\n",
              "      <td>Samsung Galaxy M51 (Electric Blue, 6GB RAM, 12...</td>\n",
              "      <td>Samsung</td>\n",
              "      <td>Amazon</td>\n",
              "      <td>https://amzn.eu/d/bOFfVHI</td>\n",
              "      <td>Good product with some drawback</td>\n",
              "      <td>Battery life is extraordinary. No need of carr...</td>\n",
              "      <td>sai krishna</td>\n",
              "      <td>4</td>\n",
              "      <td>0.132500</td>\n",
              "      <td>0.622500</td>\n",
              "    </tr>\n",
              "    <tr>\n",
              "      <th>4</th>\n",
              "      <td>B085J1J32G</td>\n",
              "      <td>Samsung Galaxy M51 (Electric Blue, 6GB RAM, 12...</td>\n",
              "      <td>Samsung</td>\n",
              "      <td>Amazon</td>\n",
              "      <td>https://amzn.eu/d/bOFfVHI</td>\n",
              "      <td>The best phone you could buy</td>\n",
              "      <td>I'm writing review after year of purchase , ev...</td>\n",
              "      <td>vicky</td>\n",
              "      <td>5</td>\n",
              "      <td>0.325714</td>\n",
              "      <td>0.587857</td>\n",
              "    </tr>\n",
              "    <tr>\n",
              "      <th>...</th>\n",
              "      <td>...</td>\n",
              "      <td>...</td>\n",
              "      <td>...</td>\n",
              "      <td>...</td>\n",
              "      <td>...</td>\n",
              "      <td>...</td>\n",
              "      <td>...</td>\n",
              "      <td>...</td>\n",
              "      <td>...</td>\n",
              "      <td>...</td>\n",
              "      <td>...</td>\n",
              "    </tr>\n",
              "    <tr>\n",
              "      <th>1678</th>\n",
              "      <td>B08FN6WGDQ</td>\n",
              "      <td>Samsung Galaxy Buds Live Bluetooth Truly Wirel...</td>\n",
              "      <td>Samsung</td>\n",
              "      <td>Amazon</td>\n",
              "      <td>https://www.amazon.in/Samsung-Galaxy-SM-R180NZ...</td>\n",
              "      <td>Itâ€™s Good</td>\n",
              "      <td>I bought it in festive season Sale..\\n Itâ€™s ...</td>\n",
              "      <td>Diwakar Nayal</td>\n",
              "      <td>3</td>\n",
              "      <td>0.184667</td>\n",
              "      <td>0.614667</td>\n",
              "    </tr>\n",
              "    <tr>\n",
              "      <th>1679</th>\n",
              "      <td>B08FN6WGDQ</td>\n",
              "      <td>Samsung Galaxy Buds Live Bluetooth Truly Wirel...</td>\n",
              "      <td>Samsung</td>\n",
              "      <td>Amazon</td>\n",
              "      <td>https://www.amazon.in/Samsung-Galaxy-SM-R180NZ...</td>\n",
              "      <td>NOT WORTH IT</td>\n",
              "      <td>Pro.. Good Finish and Quality. Good Battery Li...</td>\n",
              "      <td>Sainathan Arumugam</td>\n",
              "      <td>3</td>\n",
              "      <td>0.217949</td>\n",
              "      <td>0.496062</td>\n",
              "    </tr>\n",
              "    <tr>\n",
              "      <th>1680</th>\n",
              "      <td>B08FN6WGDQ</td>\n",
              "      <td>Samsung Galaxy Buds Live Bluetooth Truly Wirel...</td>\n",
              "      <td>Samsung</td>\n",
              "      <td>Amazon</td>\n",
              "      <td>https://www.amazon.in/Samsung-Galaxy-SM-R180NZ...</td>\n",
              "      <td>Good purchase</td>\n",
              "      <td>First they sent a defective one which alwaysss...</td>\n",
              "      <td>Naveen B.</td>\n",
              "      <td>5</td>\n",
              "      <td>0.329509</td>\n",
              "      <td>0.549206</td>\n",
              "    </tr>\n",
              "    <tr>\n",
              "      <th>1683</th>\n",
              "      <td>B08FN6WGDQ</td>\n",
              "      <td>Samsung Galaxy Buds Live Bluetooth Truly Wirel...</td>\n",
              "      <td>Samsung</td>\n",
              "      <td>Amazon</td>\n",
              "      <td>https://www.amazon.in/Samsung-Galaxy-SM-R180NZ...</td>\n",
              "      <td>Affordable earbuds</td>\n",
              "      <td>Sound is loud and somewhat clear with some ech...</td>\n",
              "      <td>shahid patel</td>\n",
              "      <td>4</td>\n",
              "      <td>0.200000</td>\n",
              "      <td>0.527778</td>\n",
              "    </tr>\n",
              "    <tr>\n",
              "      <th>1684</th>\n",
              "      <td>B08FN6WGDQ</td>\n",
              "      <td>Samsung Galaxy Buds Live Bluetooth Truly Wirel...</td>\n",
              "      <td>Samsung</td>\n",
              "      <td>Amazon</td>\n",
              "      <td>https://www.amazon.in/Samsung-Galaxy-SM-R180NZ...</td>\n",
              "      <td>Buy this only for design and few not so import...</td>\n",
              "      <td>Loved the style. But sound isn't that great. N...</td>\n",
              "      <td>Manas</td>\n",
              "      <td>4</td>\n",
              "      <td>0.466667</td>\n",
              "      <td>0.475000</td>\n",
              "    </tr>\n",
              "  </tbody>\n",
              "</table>\n",
              "<p>799 rows × 11 columns</p>\n",
              "</div>\n",
              "      <button class=\"colab-df-convert\" onclick=\"convertToInteractive('df-8a4f1721-b1da-4633-87a2-2a20793b017f')\"\n",
              "              title=\"Convert this dataframe to an interactive table.\"\n",
              "              style=\"display:none;\">\n",
              "        \n",
              "  <svg xmlns=\"http://www.w3.org/2000/svg\" height=\"24px\"viewBox=\"0 0 24 24\"\n",
              "       width=\"24px\">\n",
              "    <path d=\"M0 0h24v24H0V0z\" fill=\"none\"/>\n",
              "    <path d=\"M18.56 5.44l.94 2.06.94-2.06 2.06-.94-2.06-.94-.94-2.06-.94 2.06-2.06.94zm-11 1L8.5 8.5l.94-2.06 2.06-.94-2.06-.94L8.5 2.5l-.94 2.06-2.06.94zm10 10l.94 2.06.94-2.06 2.06-.94-2.06-.94-.94-2.06-.94 2.06-2.06.94z\"/><path d=\"M17.41 7.96l-1.37-1.37c-.4-.4-.92-.59-1.43-.59-.52 0-1.04.2-1.43.59L10.3 9.45l-7.72 7.72c-.78.78-.78 2.05 0 2.83L4 21.41c.39.39.9.59 1.41.59.51 0 1.02-.2 1.41-.59l7.78-7.78 2.81-2.81c.8-.78.8-2.07 0-2.86zM5.41 20L4 18.59l7.72-7.72 1.47 1.35L5.41 20z\"/>\n",
              "  </svg>\n",
              "      </button>\n",
              "      \n",
              "  <style>\n",
              "    .colab-df-container {\n",
              "      display:flex;\n",
              "      flex-wrap:wrap;\n",
              "      gap: 12px;\n",
              "    }\n",
              "\n",
              "    .colab-df-convert {\n",
              "      background-color: #E8F0FE;\n",
              "      border: none;\n",
              "      border-radius: 50%;\n",
              "      cursor: pointer;\n",
              "      display: none;\n",
              "      fill: #1967D2;\n",
              "      height: 32px;\n",
              "      padding: 0 0 0 0;\n",
              "      width: 32px;\n",
              "    }\n",
              "\n",
              "    .colab-df-convert:hover {\n",
              "      background-color: #E2EBFA;\n",
              "      box-shadow: 0px 1px 2px rgba(60, 64, 67, 0.3), 0px 1px 3px 1px rgba(60, 64, 67, 0.15);\n",
              "      fill: #174EA6;\n",
              "    }\n",
              "\n",
              "    [theme=dark] .colab-df-convert {\n",
              "      background-color: #3B4455;\n",
              "      fill: #D2E3FC;\n",
              "    }\n",
              "\n",
              "    [theme=dark] .colab-df-convert:hover {\n",
              "      background-color: #434B5C;\n",
              "      box-shadow: 0px 1px 3px 1px rgba(0, 0, 0, 0.15);\n",
              "      filter: drop-shadow(0px 1px 2px rgba(0, 0, 0, 0.3));\n",
              "      fill: #FFFFFF;\n",
              "    }\n",
              "  </style>\n",
              "\n",
              "      <script>\n",
              "        const buttonEl =\n",
              "          document.querySelector('#df-8a4f1721-b1da-4633-87a2-2a20793b017f button.colab-df-convert');\n",
              "        buttonEl.style.display =\n",
              "          google.colab.kernel.accessAllowed ? 'block' : 'none';\n",
              "\n",
              "        async function convertToInteractive(key) {\n",
              "          const element = document.querySelector('#df-8a4f1721-b1da-4633-87a2-2a20793b017f');\n",
              "          const dataTable =\n",
              "            await google.colab.kernel.invokeFunction('convertToInteractive',\n",
              "                                                     [key], {});\n",
              "          if (!dataTable) return;\n",
              "\n",
              "          const docLinkHtml = 'Like what you see? Visit the ' +\n",
              "            '<a target=\"_blank\" href=https://colab.research.google.com/notebooks/data_table.ipynb>data table notebook</a>'\n",
              "            + ' to learn more about interactive tables.';\n",
              "          element.innerHTML = '';\n",
              "          dataTable['output_type'] = 'display_data';\n",
              "          await google.colab.output.renderOutput(dataTable, element);\n",
              "          const docLink = document.createElement('div');\n",
              "          docLink.innerHTML = docLinkHtml;\n",
              "          element.appendChild(docLink);\n",
              "        }\n",
              "      </script>\n",
              "    </div>\n",
              "  </div>\n",
              "  "
            ]
          },
          "metadata": {},
          "execution_count": 10
        }
      ]
    },
    {
      "cell_type": "code",
      "source": [
        "from wordcloud import WordCloud\n",
        "# Plot the Word Cloud\n",
        "allWords = ' '.join([comnt for comnt in df['review_text']])\n",
        "wordCloud = WordCloud(width =1000, height =800, random_state = 21, max_font_size = 119).generate(allWords)\n",
        "\n",
        "plt.imshow(wordCloud, interpolation = \"bilinear\")\n",
        "plt.axis('off')\n",
        "plt.show()"
      ],
      "metadata": {
        "colab": {
          "base_uri": "https://localhost:8080/",
          "height": 248
        },
        "id": "LF6KnDe1Bm3y",
        "outputId": "148ab5f5-c369-448d-bd5b-cabe60ebf88e"
      },
      "execution_count": null,
      "outputs": [
        {
          "output_type": "display_data",
          "data": {
            "text/plain": [
              "<Figure size 432x288 with 1 Axes>"
            ],
            "image/png": "[encoded data removed]"
          },
          "metadata": {
            "needs_background": "light"
          }
        }
      ]
    },
    {
      "cell_type": "code",
      "source": [
        "def getAnalysis(score):\n",
        "  if score < 0:\n",
        "    return 'Negative'\n",
        "  elif score == 0:\n",
        "    return 'Neutral'\n",
        "  else:\n",
        "    return 'Positive'\n",
        "df['Class'] = df['polarity'].apply(getAnalysis)\n",
        "df"
      ],
      "metadata": {
        "id": "GPU01pgRB8cJ",
        "colab": {
          "base_uri": "https://localhost:8080/",
          "height": 1000
        },
        "outputId": "a2a9c4a2-7347-4400-aa5f-570cf6bb8578"
      },
      "execution_count": null,
      "outputs": [
        {
          "output_type": "execute_result",
          "data": {
            "text/plain": [
              "      product_id                                       product_name    brand  \\\n",
              "0     B085J1J32G  Samsung Galaxy M51 (Electric Blue, 6GB RAM, 12...  Samsung   \n",
              "1     B085J1J32G  Samsung Galaxy M51 (Electric Blue, 6GB RAM, 12...  Samsung   \n",
              "2     B085J1J32G  Samsung Galaxy M51 (Electric Blue, 6GB RAM, 12...  Samsung   \n",
              "3     B085J1J32G  Samsung Galaxy M51 (Electric Blue, 6GB RAM, 12...  Samsung   \n",
              "4     B085J1J32G  Samsung Galaxy M51 (Electric Blue, 6GB RAM, 12...  Samsung   \n",
              "...          ...                                                ...      ...   \n",
              "1678  B08FN6WGDQ  Samsung Galaxy Buds Live Bluetooth Truly Wirel...  Samsung   \n",
              "1679  B08FN6WGDQ  Samsung Galaxy Buds Live Bluetooth Truly Wirel...  Samsung   \n",
              "1680  B08FN6WGDQ  Samsung Galaxy Buds Live Bluetooth Truly Wirel...  Samsung   \n",
              "1683  B08FN6WGDQ  Samsung Galaxy Buds Live Bluetooth Truly Wirel...  Samsung   \n",
              "1684  B08FN6WGDQ  Samsung Galaxy Buds Live Bluetooth Truly Wirel...  Samsung   \n",
              "\n",
              "     website                                         source_URL  \\\n",
              "0     Amazon                          https://amzn.eu/d/bOFfVHI   \n",
              "1     Amazon                          https://amzn.eu/d/bOFfVHI   \n",
              "2     Amazon                          https://amzn.eu/d/bOFfVHI   \n",
              "3     Amazon                          https://amzn.eu/d/bOFfVHI   \n",
              "4     Amazon                          https://amzn.eu/d/bOFfVHI   \n",
              "...      ...                                                ...   \n",
              "1678  Amazon  https://www.amazon.in/Samsung-Galaxy-SM-R180NZ...   \n",
              "1679  Amazon  https://www.amazon.in/Samsung-Galaxy-SM-R180NZ...   \n",
              "1680  Amazon  https://www.amazon.in/Samsung-Galaxy-SM-R180NZ...   \n",
              "1683  Amazon  https://www.amazon.in/Samsung-Galaxy-SM-R180NZ...   \n",
              "1684  Amazon  https://www.amazon.in/Samsung-Galaxy-SM-R180NZ...   \n",
              "\n",
              "                                           review_title  \\\n",
              "0                                          Worst mobile   \n",
              "1                               Average mid-range phone   \n",
              "2          Bulky, and Back side chrome finish is faulty   \n",
              "3                       Good product with some drawback   \n",
              "4                          The best phone you could buy   \n",
              "...                                                 ...   \n",
              "1678                                        Itâ€™s Good   \n",
              "1679                                       NOT WORTH IT   \n",
              "1680                                      Good purchase   \n",
              "1683                                 Affordable earbuds   \n",
              "1684  Buy this only for design and few not so import...   \n",
              "\n",
              "                                            review_text  \\\n",
              "0                               Worst display quality😩😩   \n",
              "1     Battery is good but not great as advertised.Ru...   \n",
              "2     Back side chrome finish started like scratches...   \n",
              "3     Battery life is extraordinary. No need of carr...   \n",
              "4     I'm writing review after year of purchase , ev...   \n",
              "...                                                 ...   \n",
              "1678  I bought it in festive season Sale..\\n Itâ€™s ...   \n",
              "1679  Pro.. Good Finish and Quality. Good Battery Li...   \n",
              "1680  First they sent a defective one which alwaysss...   \n",
              "1683  Sound is loud and somewhat clear with some ech...   \n",
              "1684  Loved the style. But sound isn't that great. N...   \n",
              "\n",
              "              reviewer_name rating  polarity  subjectivity     Class  \n",
              "0                 PHALAKSHA      1 -1.000000      1.000000  Negative  \n",
              "1                   Snehith      3  0.333333      0.650000  Positive  \n",
              "2     Pro-tan International      4  0.100000      0.150000  Positive  \n",
              "3               sai krishna      4  0.132500      0.622500  Positive  \n",
              "4                     vicky      5  0.325714      0.587857  Positive  \n",
              "...                     ...    ...       ...           ...       ...  \n",
              "1678          Diwakar Nayal      3  0.184667      0.614667  Positive  \n",
              "1679     Sainathan Arumugam      3  0.217949      0.496062  Positive  \n",
              "1680              Naveen B.      5  0.329509      0.549206  Positive  \n",
              "1683           shahid patel      4  0.200000      0.527778  Positive  \n",
              "1684                  Manas      4  0.466667      0.475000  Positive  \n",
              "\n",
              "[799 rows x 12 columns]"
            ],
            "text/html": [
              "\n",
              "  <div id=\"df-9f98b2d1-1a84-46bf-b15e-683b507e95e8\">\n",
              "    <div class=\"colab-df-container\">\n",
              "      <div>\n",
              "<style scoped>\n",
              "    .dataframe tbody tr th:only-of-type {\n",
              "        vertical-align: middle;\n",
              "    }\n",
              "\n",
              "    .dataframe tbody tr th {\n",
              "        vertical-align: top;\n",
              "    }\n",
              "\n",
              "    .dataframe thead th {\n",
              "        text-align: right;\n",
              "    }\n",
              "</style>\n",
              "<table border=\"1\" class=\"dataframe\">\n",
              "  <thead>\n",
              "    <tr style=\"text-align: right;\">\n",
              "      <th></th>\n",
              "      <th>product_id</th>\n",
              "      <th>product_name</th>\n",
              "      <th>brand</th>\n",
              "      <th>website</th>\n",
              "      <th>source_URL</th>\n",
              "      <th>review_title</th>\n",
              "      <th>review_text</th>\n",
              "      <th>reviewer_name</th>\n",
              "      <th>rating</th>\n",
              "      <th>polarity</th>\n",
              "      <th>subjectivity</th>\n",
              "      <th>Class</th>\n",
              "    </tr>\n",
              "  </thead>\n",
              "  <tbody>\n",
              "    <tr>\n",
              "      <th>0</th>\n",
              "      <td>B085J1J32G</td>\n",
              "      <td>Samsung Galaxy M51 (Electric Blue, 6GB RAM, 12...</td>\n",
              "      <td>Samsung</td>\n",
              "      <td>Amazon</td>\n",
              "      <td>https://amzn.eu/d/bOFfVHI</td>\n",
              "      <td>Worst mobile</td>\n",
              "      <td>Worst display quality😩😩</td>\n",
              "      <td>PHALAKSHA</td>\n",
              "      <td>1</td>\n",
              "      <td>-1.000000</td>\n",
              "      <td>1.000000</td>\n",
              "      <td>Negative</td>\n",
              "    </tr>\n",
              "    <tr>\n",
              "      <th>1</th>\n",
              "      <td>B085J1J32G</td>\n",
              "      <td>Samsung Galaxy M51 (Electric Blue, 6GB RAM, 12...</td>\n",
              "      <td>Samsung</td>\n",
              "      <td>Amazon</td>\n",
              "      <td>https://amzn.eu/d/bOFfVHI</td>\n",
              "      <td>Average mid-range phone</td>\n",
              "      <td>Battery is good but not great as advertised.Ru...</td>\n",
              "      <td>Snehith</td>\n",
              "      <td>3</td>\n",
              "      <td>0.333333</td>\n",
              "      <td>0.650000</td>\n",
              "      <td>Positive</td>\n",
              "    </tr>\n",
              "    <tr>\n",
              "      <th>2</th>\n",
              "      <td>B085J1J32G</td>\n",
              "      <td>Samsung Galaxy M51 (Electric Blue, 6GB RAM, 12...</td>\n",
              "      <td>Samsung</td>\n",
              "      <td>Amazon</td>\n",
              "      <td>https://amzn.eu/d/bOFfVHI</td>\n",
              "      <td>Bulky, and Back side chrome finish is faulty</td>\n",
              "      <td>Back side chrome finish started like scratches...</td>\n",
              "      <td>Pro-tan International</td>\n",
              "      <td>4</td>\n",
              "      <td>0.100000</td>\n",
              "      <td>0.150000</td>\n",
              "      <td>Positive</td>\n",
              "    </tr>\n",
              "    <tr>\n",
              "      <th>3</th>\n",
              "      <td>B085J1J32G</td>\n",
              "      <td>Samsung Galaxy M51 (Electric Blue, 6GB RAM, 12...</td>\n",
              "      <td>Samsung</td>\n",
              "      <td>Amazon</td>\n",
              "      <td>https://amzn.eu/d/bOFfVHI</td>\n",
              "      <td>Good product with some drawback</td>\n",
              "      <td>Battery life is extraordinary. No need of carr...</td>\n",
              "      <td>sai krishna</td>\n",
              "      <td>4</td>\n",
              "      <td>0.132500</td>\n",
              "      <td>0.622500</td>\n",
              "      <td>Positive</td>\n",
              "    </tr>\n",
              "    <tr>\n",
              "      <th>4</th>\n",
              "      <td>B085J1J32G</td>\n",
              "      <td>Samsung Galaxy M51 (Electric Blue, 6GB RAM, 12...</td>\n",
              "      <td>Samsung</td>\n",
              "      <td>Amazon</td>\n",
              "      <td>https://amzn.eu/d/bOFfVHI</td>\n",
              "      <td>The best phone you could buy</td>\n",
              "      <td>I'm writing review after year of purchase , ev...</td>\n",
              "      <td>vicky</td>\n",
              "      <td>5</td>\n",
              "      <td>0.325714</td>\n",
              "      <td>0.587857</td>\n",
              "      <td>Positive</td>\n",
              "    </tr>\n",
              "    <tr>\n",
              "      <th>...</th>\n",
              "      <td>...</td>\n",
              "      <td>...</td>\n",
              "      <td>...</td>\n",
              "      <td>...</td>\n",
              "      <td>...</td>\n",
              "      <td>...</td>\n",
              "      <td>...</td>\n",
              "      <td>...</td>\n",
              "      <td>...</td>\n",
              "      <td>...</td>\n",
              "      <td>...</td>\n",
              "      <td>...</td>\n",
              "    </tr>\n",
              "    <tr>\n",
              "      <th>1678</th>\n",
              "      <td>B08FN6WGDQ</td>\n",
              "      <td>Samsung Galaxy Buds Live Bluetooth Truly Wirel...</td>\n",
              "      <td>Samsung</td>\n",
              "      <td>Amazon</td>\n",
              "      <td>https://www.amazon.in/Samsung-Galaxy-SM-R180NZ...</td>\n",
              "      <td>Itâ€™s Good</td>\n",
              "      <td>I bought it in festive season Sale..\\n Itâ€™s ...</td>\n",
              "      <td>Diwakar Nayal</td>\n",
              "      <td>3</td>\n",
              "      <td>0.184667</td>\n",
              "      <td>0.614667</td>\n",
              "      <td>Positive</td>\n",
              "    </tr>\n",
              "    <tr>\n",
              "      <th>1679</th>\n",
              "      <td>B08FN6WGDQ</td>\n",
              "      <td>Samsung Galaxy Buds Live Bluetooth Truly Wirel...</td>\n",
              "      <td>Samsung</td>\n",
              "      <td>Amazon</td>\n",
              "      <td>https://www.amazon.in/Samsung-Galaxy-SM-R180NZ...</td>\n",
              "      <td>NOT WORTH IT</td>\n",
              "      <td>Pro.. Good Finish and Quality. Good Battery Li...</td>\n",
              "      <td>Sainathan Arumugam</td>\n",
              "      <td>3</td>\n",
              "      <td>0.217949</td>\n",
              "      <td>0.496062</td>\n",
              "      <td>Positive</td>\n",
              "    </tr>\n",
              "    <tr>\n",
              "      <th>1680</th>\n",
              "      <td>B08FN6WGDQ</td>\n",
              "      <td>Samsung Galaxy Buds Live Bluetooth Truly Wirel...</td>\n",
              "      <td>Samsung</td>\n",
              "      <td>Amazon</td>\n",
              "      <td>https://www.amazon.in/Samsung-Galaxy-SM-R180NZ...</td>\n",
              "      <td>Good purchase</td>\n",
              "      <td>First they sent a defective one which alwaysss...</td>\n",
              "      <td>Naveen B.</td>\n",
              "      <td>5</td>\n",
              "      <td>0.329509</td>\n",
              "      <td>0.549206</td>\n",
              "      <td>Positive</td>\n",
              "    </tr>\n",
              "    <tr>\n",
              "      <th>1683</th>\n",
              "      <td>B08FN6WGDQ</td>\n",
              "      <td>Samsung Galaxy Buds Live Bluetooth Truly Wirel...</td>\n",
              "      <td>Samsung</td>\n",
              "      <td>Amazon</td>\n",
              "      <td>https://www.amazon.in/Samsung-Galaxy-SM-R180NZ...</td>\n",
              "      <td>Affordable earbuds</td>\n",
              "      <td>Sound is loud and somewhat clear with some ech...</td>\n",
              "      <td>shahid patel</td>\n",
              "      <td>4</td>\n",
              "      <td>0.200000</td>\n",
              "      <td>0.527778</td>\n",
              "      <td>Positive</td>\n",
              "    </tr>\n",
              "    <tr>\n",
              "      <th>1684</th>\n",
              "      <td>B08FN6WGDQ</td>\n",
              "      <td>Samsung Galaxy Buds Live Bluetooth Truly Wirel...</td>\n",
              "      <td>Samsung</td>\n",
              "      <td>Amazon</td>\n",
              "      <td>https://www.amazon.in/Samsung-Galaxy-SM-R180NZ...</td>\n",
              "      <td>Buy this only for design and few not so import...</td>\n",
              "      <td>Loved the style. But sound isn't that great. N...</td>\n",
              "      <td>Manas</td>\n",
              "      <td>4</td>\n",
              "      <td>0.466667</td>\n",
              "      <td>0.475000</td>\n",
              "      <td>Positive</td>\n",
              "    </tr>\n",
              "  </tbody>\n",
              "</table>\n",
              "<p>799 rows × 12 columns</p>\n",
              "</div>\n",
              "      <button class=\"colab-df-convert\" onclick=\"convertToInteractive('df-9f98b2d1-1a84-46bf-b15e-683b507e95e8')\"\n",
              "              title=\"Convert this dataframe to an interactive table.\"\n",
              "              style=\"display:none;\">\n",
              "        \n",
              "  <svg xmlns=\"http://www.w3.org/2000/svg\" height=\"24px\"viewBox=\"0 0 24 24\"\n",
              "       width=\"24px\">\n",
              "    <path d=\"M0 0h24v24H0V0z\" fill=\"none\"/>\n",
              "    <path d=\"M18.56 5.44l.94 2.06.94-2.06 2.06-.94-2.06-.94-.94-2.06-.94 2.06-2.06.94zm-11 1L8.5 8.5l.94-2.06 2.06-.94-2.06-.94L8.5 2.5l-.94 2.06-2.06.94zm10 10l.94 2.06.94-2.06 2.06-.94-2.06-.94-.94-2.06-.94 2.06-2.06.94z\"/><path d=\"M17.41 7.96l-1.37-1.37c-.4-.4-.92-.59-1.43-.59-.52 0-1.04.2-1.43.59L10.3 9.45l-7.72 7.72c-.78.78-.78 2.05 0 2.83L4 21.41c.39.39.9.59 1.41.59.51 0 1.02-.2 1.41-.59l7.78-7.78 2.81-2.81c.8-.78.8-2.07 0-2.86zM5.41 20L4 18.59l7.72-7.72 1.47 1.35L5.41 20z\"/>\n",
              "  </svg>\n",
              "      </button>\n",
              "      \n",
              "  <style>\n",
              "    .colab-df-container {\n",
              "      display:flex;\n",
              "      flex-wrap:wrap;\n",
              "      gap: 12px;\n",
              "    }\n",
              "\n",
              "    .colab-df-convert {\n",
              "      background-color: #E8F0FE;\n",
              "      border: none;\n",
              "      border-radius: 50%;\n",
              "      cursor: pointer;\n",
              "      display: none;\n",
              "      fill: #1967D2;\n",
              "      height: 32px;\n",
              "      padding: 0 0 0 0;\n",
              "      width: 32px;\n",
              "    }\n",
              "\n",
              "    .colab-df-convert:hover {\n",
              "      background-color: #E2EBFA;\n",
              "      box-shadow: 0px 1px 2px rgba(60, 64, 67, 0.3), 0px 1px 3px 1px rgba(60, 64, 67, 0.15);\n",
              "      fill: #174EA6;\n",
              "    }\n",
              "\n",
              "    [theme=dark] .colab-df-convert {\n",
              "      background-color: #3B4455;\n",
              "      fill: #D2E3FC;\n",
              "    }\n",
              "\n",
              "    [theme=dark] .colab-df-convert:hover {\n",
              "      background-color: #434B5C;\n",
              "      box-shadow: 0px 1px 3px 1px rgba(0, 0, 0, 0.15);\n",
              "      filter: drop-shadow(0px 1px 2px rgba(0, 0, 0, 0.3));\n",
              "      fill: #FFFFFF;\n",
              "    }\n",
              "  </style>\n",
              "\n",
              "      <script>\n",
              "        const buttonEl =\n",
              "          document.querySelector('#df-9f98b2d1-1a84-46bf-b15e-683b507e95e8 button.colab-df-convert');\n",
              "        buttonEl.style.display =\n",
              "          google.colab.kernel.accessAllowed ? 'block' : 'none';\n",
              "\n",
              "        async function convertToInteractive(key) {\n",
              "          const element = document.querySelector('#df-9f98b2d1-1a84-46bf-b15e-683b507e95e8');\n",
              "          const dataTable =\n",
              "            await google.colab.kernel.invokeFunction('convertToInteractive',\n",
              "                                                     [key], {});\n",
              "          if (!dataTable) return;\n",
              "\n",
              "          const docLinkHtml = 'Like what you see? Visit the ' +\n",
              "            '<a target=\"_blank\" href=https://colab.research.google.com/notebooks/data_table.ipynb>data table notebook</a>'\n",
              "            + ' to learn more about interactive tables.';\n",
              "          element.innerHTML = '';\n",
              "          dataTable['output_type'] = 'display_data';\n",
              "          await google.colab.output.renderOutput(dataTable, element);\n",
              "          const docLink = document.createElement('div');\n",
              "          docLink.innerHTML = docLinkHtml;\n",
              "          element.appendChild(docLink);\n",
              "        }\n",
              "      </script>\n",
              "    </div>\n",
              "  </div>\n",
              "  "
            ]
          },
          "metadata": {},
          "execution_count": 12
        }
      ]
    },
    {
      "cell_type": "code",
      "source": [
        "pcomment = df[df.Class == 'Positive']\n",
        "pcomment = pcomment['review_text']\n",
        "round((pcomment.shape[0]/df.shape[0]*100), 1)\n",
        ""
      ],
      "metadata": {
        "colab": {
          "base_uri": "https://localhost:8080/"
        },
        "id": "zjv3uGveCGJt",
        "outputId": "083969ae-15f7-4d15-ea1b-42c50a41d2b8"
      },
      "execution_count": null,
      "outputs": [
        {
          "output_type": "execute_result",
          "data": {
            "text/plain": [
              "76.8"
            ]
          },
          "metadata": {},
          "execution_count": 13
        }
      ]
    },
    {
      "cell_type": "code",
      "source": [
        "ncomment = df[df.Class == 'Negative']\n",
        "ncomment = ncomment['review_text']\n",
        "round((ncomment.shape[0]/df.shape[0]*100), 1)"
      ],
      "metadata": {
        "colab": {
          "base_uri": "https://localhost:8080/"
        },
        "id": "PAmxj18IDW9U",
        "outputId": "c511be44-497c-45d2-928c-ac6a6513dc92"
      },
      "execution_count": null,
      "outputs": [
        {
          "output_type": "execute_result",
          "data": {
            "text/plain": [
              "12.4"
            ]
          },
          "metadata": {},
          "execution_count": 14
        }
      ]
    },
    {
      "cell_type": "code",
      "source": [
        "ncomment = df[df.Class == 'Neutral']\n",
        "ncomment = ncomment['review_text']\n",
        "round((ncomment.shape[0]/df.shape[0]*100), 1)"
      ],
      "metadata": {
        "colab": {
          "base_uri": "https://localhost:8080/"
        },
        "id": "kk2z45kIeba9",
        "outputId": "0b9d0813-fe3e-4411-8ea1-0b81df47bae9"
      },
      "execution_count": null,
      "outputs": [
        {
          "output_type": "execute_result",
          "data": {
            "text/plain": [
              "10.8"
            ]
          },
          "metadata": {},
          "execution_count": 15
        }
      ]
    },
    {
      "cell_type": "code",
      "source": [
        "import matplotlib.pyplot as plt\n",
        "import numpy as np\n",
        "# Displaying the Sentiment Coutns\n",
        "df['Class'].value_counts()\n",
        "#plot and visualize the counts\n",
        "plt.title('Sentiment Analysis')\n",
        "plt.xlabel('Sentiment')\n",
        "plt.ylabel('Counts')\n",
        "df['Class'].value_counts().plot(kind='bar')\n",
        "plt.show()"
      ],
      "metadata": {
        "colab": {
          "base_uri": "https://localhost:8080/",
          "height": 330
        },
        "id": "dB3cLpFQgMYD",
        "outputId": "d70fb5fb-e1f6-46f3-bd70-0d68918161b1"
      },
      "execution_count": null,
      "outputs": [
        {
          "output_type": "display_data",
          "data": {
            "text/plain": [
              "<Figure size 432x288 with 1 Axes>"
            ],
            "image/png": "[encoded data removed]"
          },
          "metadata": {
            "needs_background": "light"
          }
        }
      ]
    },
    {
      "cell_type": "code",
      "source": [
        "df['Class'].value_counts().plot(kind='pie')\n",
        "plt.show()"
      ],
      "metadata": {
        "colab": {
          "base_uri": "https://localhost:8080/",
          "height": 248
        },
        "id": "VnU0mxQPhgRw",
        "outputId": "4e810dc4-49dc-4634-9967-26ded9f66f2e"
      },
      "execution_count": null,
      "outputs": [
        {
          "output_type": "display_data",
          "data": {
            "text/plain": [
              "<Figure size 432x288 with 1 Axes>"
            ],
            "image/png": "[encoded data removed]"
          },
          "metadata": {}
        }
      ]
    },
    {
      "cell_type": "code",
      "source": [
        "def data_summary(df):\n",
        "\n",
        "    \"\"\"\n",
        "    This function will print the summary of the reviews and words distribution in the dataset.\n",
        "\n",
        "    Args:\n",
        "        dataset: list of cleaned sentences\n",
        "\n",
        "    Returns:\n",
        "        Number of documnets per class: int\n",
        "        Number of words per class: int\n",
        "        Number of unique words per class: int\n",
        "    \"\"\"\n",
        "    documents = []\n",
        "    words = []\n",
        "    u_words = []\n",
        "    total_u_words = [word.strip().lower() for t in list(df.review_text) for word in t.strip().split()]\n",
        "    class_label= [k for k,v in df.Class.value_counts().to_dict().items()]\n",
        "  # find word list\n",
        "    for label in class_label:\n",
        "        word_list = [word.strip().lower() for t in list(df[df.Class==label].review_text) for word in t.strip().split()]\n",
        "        counts = dict()\n",
        "        for word in word_list:\n",
        "                counts[word] = counts.get(word, 0)+1\n",
        "        # sort the dictionary of word list\n",
        "        ordered = sorted(counts.items(), key= lambda item: item[1],reverse = True)\n",
        "        # Documents per class\n",
        "        documents.append(len(list(df[df.Class==label].review_text)))\n",
        "        # Total Word per class\n",
        "        words.append(len(word_list))\n",
        "        # Unique words per class\n",
        "        u_words.append(len(np.unique(word_list)))\n",
        "\n",
        "        print(\"\\nClass Name : \",label)\n",
        "        print(\"Number of Documents:{}\".format(len(list(df[df.Class==label].review_text))))\n",
        "        print(\"Number of Words:{}\".format(len(word_list)))\n",
        "        print(\"Number of Unique Words:{}\".format(len(np.unique(word_list))))\n",
        "        print(\"Most Frequent Words:\\n\")\n",
        "        for k,v in ordered[:10]:\n",
        "              print(\"{}\\t{}\".format(k,v))\n",
        "    print(\"Total Number of Unique Words:{}\".format(len(np.unique(total_u_words))))\n",
        "\n",
        "    return documents,words,u_words,class_label\n",
        "\n",
        "#call the fucntion\n",
        "documents,words,u_words,class_names = data_summary(df)"
      ],
      "metadata": {
        "id": "ishzNowSi9Ts",
        "colab": {
          "base_uri": "https://localhost:8080/"
        },
        "outputId": "f750e9ea-f60d-4cf4-dab5-5d61a8ae62f0"
      },
      "execution_count": null,
      "outputs": [
        {
          "output_type": "stream",
          "name": "stdout",
          "text": [
            "\n",
            "Class Name :  Positive\n",
            "Number of Documents:614\n",
            "Number of Words:28454\n",
            "Number of Unique Words:4930\n",
            "Most Frequent Words:\n",
            "\n",
            "is\t929\n",
            "the\t777\n",
            "and\t638\n",
            "for\t485\n",
            "i\t484\n",
            "to\t456\n",
            "a\t442\n",
            "it\t441\n",
            "good\t423\n",
            "this\t405\n",
            "\n",
            "Class Name :  Negative\n",
            "Number of Documents:99\n",
            "Number of Words:2923\n",
            "Number of Unique Words:1142\n",
            "Most Frequent Words:\n",
            "\n",
            "is\t92\n",
            "not\t70\n",
            "the\t50\n",
            "and\t50\n",
            "to\t46\n",
            "a\t39\n",
            "camera\t39\n",
            "this\t39\n",
            "i\t38\n",
            "very\t36\n",
            "\n",
            "Class Name :  Neutral\n",
            "Number of Documents:86\n",
            "Number of Words:765\n",
            "Number of Unique Words:421\n",
            "Most Frequent Words:\n",
            "\n",
            "the\t18\n",
            "for\t16\n",
            "in\t16\n",
            "is\t14\n",
            "i\t12\n",
            "this\t12\n",
            "mobile\t12\n",
            "to\t11\n",
            "and\t11\n",
            "phone\t10\n",
            "Total Number of Unique Words:5463\n"
          ]
        }
      ]
    },
    {
      "cell_type": "markdown",
      "source": [
        "Preprocessing Steps"
      ],
      "metadata": {
        "id": "65Y8gMaTm0La"
      }
    },
    {
      "cell_type": "markdown",
      "source": [
        "Upper case to Lower"
      ],
      "metadata": {
        "id": "7d0aHKFom433"
      }
    },
    {
      "cell_type": "code",
      "source": [
        "df['review_text']=df['review_text'].apply(lambda x: x.lower())"
      ],
      "metadata": {
        "id": "8cT7NVLomuW_"
      },
      "execution_count": null,
      "outputs": []
    },
    {
      "cell_type": "markdown",
      "source": [
        "Removing punctuation"
      ],
      "metadata": {
        "id": "5CEjNyxxnC0i"
      }
    },
    {
      "cell_type": "code",
      "source": [
        "import string\n",
        "string.punctuation"
      ],
      "metadata": {
        "colab": {
          "base_uri": "https://localhost:8080/",
          "height": 36
        },
        "id": "zeM-_jNem2eV",
        "outputId": "eb990635-ded4-4cbb-c494-49e3dcd62907"
      },
      "execution_count": null,
      "outputs": [
        {
          "output_type": "execute_result",
          "data": {
            "text/plain": [
              "'!\"#$%&\\'()*+,-./:;<=>?@[\\\\]^_`{|}~'"
            ],
            "application/vnd.google.colaboratory.intrinsic+json": {
              "type": "string"
            }
          },
          "metadata": {},
          "execution_count": 20
        }
      ]
    },
    {
      "cell_type": "code",
      "source": [
        "# defining the function to remove punctuation\n",
        "def remove_punctuation(text):\n",
        "    punctuationfree=\"\".join([i for i in text if i not in string.punctuation])\n",
        "    return punctuationfree\n",
        "#storing the puntuation free text\n",
        "df['review_text']= df['review_text'].apply(lambda x:remove_punctuation(x))\n",
        "# df.iloc[[31]]\n",
        "df"
      ],
      "metadata": {
        "colab": {
          "base_uri": "https://localhost:8080/",
          "height": 1000
        },
        "id": "a0qQWQ9ZnQsg",
        "outputId": "41333f41-f355-4d65-f003-fc72cfebe7a4"
      },
      "execution_count": null,
      "outputs": [
        {
          "output_type": "execute_result",
          "data": {
            "text/plain": [
              "      product_id                                       product_name    brand  \\\n",
              "0     B085J1J32G  Samsung Galaxy M51 (Electric Blue, 6GB RAM, 12...  Samsung   \n",
              "1     B085J1J32G  Samsung Galaxy M51 (Electric Blue, 6GB RAM, 12...  Samsung   \n",
              "2     B085J1J32G  Samsung Galaxy M51 (Electric Blue, 6GB RAM, 12...  Samsung   \n",
              "3     B085J1J32G  Samsung Galaxy M51 (Electric Blue, 6GB RAM, 12...  Samsung   \n",
              "4     B085J1J32G  Samsung Galaxy M51 (Electric Blue, 6GB RAM, 12...  Samsung   \n",
              "...          ...                                                ...      ...   \n",
              "1678  B08FN6WGDQ  Samsung Galaxy Buds Live Bluetooth Truly Wirel...  Samsung   \n",
              "1679  B08FN6WGDQ  Samsung Galaxy Buds Live Bluetooth Truly Wirel...  Samsung   \n",
              "1680  B08FN6WGDQ  Samsung Galaxy Buds Live Bluetooth Truly Wirel...  Samsung   \n",
              "1683  B08FN6WGDQ  Samsung Galaxy Buds Live Bluetooth Truly Wirel...  Samsung   \n",
              "1684  B08FN6WGDQ  Samsung Galaxy Buds Live Bluetooth Truly Wirel...  Samsung   \n",
              "\n",
              "     website                                         source_URL  \\\n",
              "0     Amazon                          https://amzn.eu/d/bOFfVHI   \n",
              "1     Amazon                          https://amzn.eu/d/bOFfVHI   \n",
              "2     Amazon                          https://amzn.eu/d/bOFfVHI   \n",
              "3     Amazon                          https://amzn.eu/d/bOFfVHI   \n",
              "4     Amazon                          https://amzn.eu/d/bOFfVHI   \n",
              "...      ...                                                ...   \n",
              "1678  Amazon  https://www.amazon.in/Samsung-Galaxy-SM-R180NZ...   \n",
              "1679  Amazon  https://www.amazon.in/Samsung-Galaxy-SM-R180NZ...   \n",
              "1680  Amazon  https://www.amazon.in/Samsung-Galaxy-SM-R180NZ...   \n",
              "1683  Amazon  https://www.amazon.in/Samsung-Galaxy-SM-R180NZ...   \n",
              "1684  Amazon  https://www.amazon.in/Samsung-Galaxy-SM-R180NZ...   \n",
              "\n",
              "                                           review_title  \\\n",
              "0                                          Worst mobile   \n",
              "1                               Average mid-range phone   \n",
              "2          Bulky, and Back side chrome finish is faulty   \n",
              "3                       Good product with some drawback   \n",
              "4                          The best phone you could buy   \n",
              "...                                                 ...   \n",
              "1678                                        Itâ€™s Good   \n",
              "1679                                       NOT WORTH IT   \n",
              "1680                                      Good purchase   \n",
              "1683                                 Affordable earbuds   \n",
              "1684  Buy this only for design and few not so import...   \n",
              "\n",
              "                                            review_text  \\\n",
              "0                               worst display quality😩😩   \n",
              "1     battery is good but not great as advertisedrun...   \n",
              "2     back side chrome finish started like scratches...   \n",
              "3     battery life is extraordinary no need of carry...   \n",
              "4     im writing review after year of purchase  even...   \n",
              "...                                                 ...   \n",
              "1678  i bought it in festive season sale\\n itâ€™s wo...   \n",
              "1679  pro good finish and quality good battery life ...   \n",
              "1680  first they sent a defective one which alwaysss...   \n",
              "1683  sound is loud and somewhat clear with some ech...   \n",
              "1684  loved the style but sound isnt that great neit...   \n",
              "\n",
              "              reviewer_name rating  polarity  subjectivity     Class  \n",
              "0                 PHALAKSHA      1 -1.000000      1.000000  Negative  \n",
              "1                   Snehith      3  0.333333      0.650000  Positive  \n",
              "2     Pro-tan International      4  0.100000      0.150000  Positive  \n",
              "3               sai krishna      4  0.132500      0.622500  Positive  \n",
              "4                     vicky      5  0.325714      0.587857  Positive  \n",
              "...                     ...    ...       ...           ...       ...  \n",
              "1678          Diwakar Nayal      3  0.184667      0.614667  Positive  \n",
              "1679     Sainathan Arumugam      3  0.217949      0.496062  Positive  \n",
              "1680              Naveen B.      5  0.329509      0.549206  Positive  \n",
              "1683           shahid patel      4  0.200000      0.527778  Positive  \n",
              "1684                  Manas      4  0.466667      0.475000  Positive  \n",
              "\n",
              "[799 rows x 12 columns]"
            ],
            "text/html": [
              "\n",
              "  <div id=\"df-aa9b9776-bb8e-45e3-8041-a802d29c54cd\">\n",
              "    <div class=\"colab-df-container\">\n",
              "      <div>\n",
              "<style scoped>\n",
              "    .dataframe tbody tr th:only-of-type {\n",
              "        vertical-align: middle;\n",
              "    }\n",
              "\n",
              "    .dataframe tbody tr th {\n",
              "        vertical-align: top;\n",
              "    }\n",
              "\n",
              "    .dataframe thead th {\n",
              "        text-align: right;\n",
              "    }\n",
              "</style>\n",
              "<table border=\"1\" class=\"dataframe\">\n",
              "  <thead>\n",
              "    <tr style=\"text-align: right;\">\n",
              "      <th></th>\n",
              "      <th>product_id</th>\n",
              "      <th>product_name</th>\n",
              "      <th>brand</th>\n",
              "      <th>website</th>\n",
              "      <th>source_URL</th>\n",
              "      <th>review_title</th>\n",
              "      <th>review_text</th>\n",
              "      <th>reviewer_name</th>\n",
              "      <th>rating</th>\n",
              "      <th>polarity</th>\n",
              "      <th>subjectivity</th>\n",
              "      <th>Class</th>\n",
              "    </tr>\n",
              "  </thead>\n",
              "  <tbody>\n",
              "    <tr>\n",
              "      <th>0</th>\n",
              "      <td>B085J1J32G</td>\n",
              "      <td>Samsung Galaxy M51 (Electric Blue, 6GB RAM, 12...</td>\n",
              "      <td>Samsung</td>\n",
              "      <td>Amazon</td>\n",
              "      <td>https://amzn.eu/d/bOFfVHI</td>\n",
              "      <td>Worst mobile</td>\n",
              "      <td>worst display quality😩😩</td>\n",
              "      <td>PHALAKSHA</td>\n",
              "      <td>1</td>\n",
              "      <td>-1.000000</td>\n",
              "      <td>1.000000</td>\n",
              "      <td>Negative</td>\n",
              "    </tr>\n",
              "    <tr>\n",
              "      <th>1</th>\n",
              "      <td>B085J1J32G</td>\n",
              "      <td>Samsung Galaxy M51 (Electric Blue, 6GB RAM, 12...</td>\n",
              "      <td>Samsung</td>\n",
              "      <td>Amazon</td>\n",
              "      <td>https://amzn.eu/d/bOFfVHI</td>\n",
              "      <td>Average mid-range phone</td>\n",
              "      <td>battery is good but not great as advertisedrun...</td>\n",
              "      <td>Snehith</td>\n",
              "      <td>3</td>\n",
              "      <td>0.333333</td>\n",
              "      <td>0.650000</td>\n",
              "      <td>Positive</td>\n",
              "    </tr>\n",
              "    <tr>\n",
              "      <th>2</th>\n",
              "      <td>B085J1J32G</td>\n",
              "      <td>Samsung Galaxy M51 (Electric Blue, 6GB RAM, 12...</td>\n",
              "      <td>Samsung</td>\n",
              "      <td>Amazon</td>\n",
              "      <td>https://amzn.eu/d/bOFfVHI</td>\n",
              "      <td>Bulky, and Back side chrome finish is faulty</td>\n",
              "      <td>back side chrome finish started like scratches...</td>\n",
              "      <td>Pro-tan International</td>\n",
              "      <td>4</td>\n",
              "      <td>0.100000</td>\n",
              "      <td>0.150000</td>\n",
              "      <td>Positive</td>\n",
              "    </tr>\n",
              "    <tr>\n",
              "      <th>3</th>\n",
              "      <td>B085J1J32G</td>\n",
              "      <td>Samsung Galaxy M51 (Electric Blue, 6GB RAM, 12...</td>\n",
              "      <td>Samsung</td>\n",
              "      <td>Amazon</td>\n",
              "      <td>https://amzn.eu/d/bOFfVHI</td>\n",
              "      <td>Good product with some drawback</td>\n",
              "      <td>battery life is extraordinary no need of carry...</td>\n",
              "      <td>sai krishna</td>\n",
              "      <td>4</td>\n",
              "      <td>0.132500</td>\n",
              "      <td>0.622500</td>\n",
              "      <td>Positive</td>\n",
              "    </tr>\n",
              "    <tr>\n",
              "      <th>4</th>\n",
              "      <td>B085J1J32G</td>\n",
              "      <td>Samsung Galaxy M51 (Electric Blue, 6GB RAM, 12...</td>\n",
              "      <td>Samsung</td>\n",
              "      <td>Amazon</td>\n",
              "      <td>https://amzn.eu/d/bOFfVHI</td>\n",
              "      <td>The best phone you could buy</td>\n",
              "      <td>im writing review after year of purchase  even...</td>\n",
              "      <td>vicky</td>\n",
              "      <td>5</td>\n",
              "      <td>0.325714</td>\n",
              "      <td>0.587857</td>\n",
              "      <td>Positive</td>\n",
              "    </tr>\n",
              "    <tr>\n",
              "      <th>...</th>\n",
              "      <td>...</td>\n",
              "      <td>...</td>\n",
              "      <td>...</td>\n",
              "      <td>...</td>\n",
              "      <td>...</td>\n",
              "      <td>...</td>\n",
              "      <td>...</td>\n",
              "      <td>...</td>\n",
              "      <td>...</td>\n",
              "      <td>...</td>\n",
              "      <td>...</td>\n",
              "      <td>...</td>\n",
              "    </tr>\n",
              "    <tr>\n",
              "      <th>1678</th>\n",
              "      <td>B08FN6WGDQ</td>\n",
              "      <td>Samsung Galaxy Buds Live Bluetooth Truly Wirel...</td>\n",
              "      <td>Samsung</td>\n",
              "      <td>Amazon</td>\n",
              "      <td>https://www.amazon.in/Samsung-Galaxy-SM-R180NZ...</td>\n",
              "      <td>Itâ€™s Good</td>\n",
              "      <td>i bought it in festive season sale\\n itâ€™s wo...</td>\n",
              "      <td>Diwakar Nayal</td>\n",
              "      <td>3</td>\n",
              "      <td>0.184667</td>\n",
              "      <td>0.614667</td>\n",
              "      <td>Positive</td>\n",
              "    </tr>\n",
              "    <tr>\n",
              "      <th>1679</th>\n",
              "      <td>B08FN6WGDQ</td>\n",
              "      <td>Samsung Galaxy Buds Live Bluetooth Truly Wirel...</td>\n",
              "      <td>Samsung</td>\n",
              "      <td>Amazon</td>\n",
              "      <td>https://www.amazon.in/Samsung-Galaxy-SM-R180NZ...</td>\n",
              "      <td>NOT WORTH IT</td>\n",
              "      <td>pro good finish and quality good battery life ...</td>\n",
              "      <td>Sainathan Arumugam</td>\n",
              "      <td>3</td>\n",
              "      <td>0.217949</td>\n",
              "      <td>0.496062</td>\n",
              "      <td>Positive</td>\n",
              "    </tr>\n",
              "    <tr>\n",
              "      <th>1680</th>\n",
              "      <td>B08FN6WGDQ</td>\n",
              "      <td>Samsung Galaxy Buds Live Bluetooth Truly Wirel...</td>\n",
              "      <td>Samsung</td>\n",
              "      <td>Amazon</td>\n",
              "      <td>https://www.amazon.in/Samsung-Galaxy-SM-R180NZ...</td>\n",
              "      <td>Good purchase</td>\n",
              "      <td>first they sent a defective one which alwaysss...</td>\n",
              "      <td>Naveen B.</td>\n",
              "      <td>5</td>\n",
              "      <td>0.329509</td>\n",
              "      <td>0.549206</td>\n",
              "      <td>Positive</td>\n",
              "    </tr>\n",
              "    <tr>\n",
              "      <th>1683</th>\n",
              "      <td>B08FN6WGDQ</td>\n",
              "      <td>Samsung Galaxy Buds Live Bluetooth Truly Wirel...</td>\n",
              "      <td>Samsung</td>\n",
              "      <td>Amazon</td>\n",
              "      <td>https://www.amazon.in/Samsung-Galaxy-SM-R180NZ...</td>\n",
              "      <td>Affordable earbuds</td>\n",
              "      <td>sound is loud and somewhat clear with some ech...</td>\n",
              "      <td>shahid patel</td>\n",
              "      <td>4</td>\n",
              "      <td>0.200000</td>\n",
              "      <td>0.527778</td>\n",
              "      <td>Positive</td>\n",
              "    </tr>\n",
              "    <tr>\n",
              "      <th>1684</th>\n",
              "      <td>B08FN6WGDQ</td>\n",
              "      <td>Samsung Galaxy Buds Live Bluetooth Truly Wirel...</td>\n",
              "      <td>Samsung</td>\n",
              "      <td>Amazon</td>\n",
              "      <td>https://www.amazon.in/Samsung-Galaxy-SM-R180NZ...</td>\n",
              "      <td>Buy this only for design and few not so import...</td>\n",
              "      <td>loved the style but sound isnt that great neit...</td>\n",
              "      <td>Manas</td>\n",
              "      <td>4</td>\n",
              "      <td>0.466667</td>\n",
              "      <td>0.475000</td>\n",
              "      <td>Positive</td>\n",
              "    </tr>\n",
              "  </tbody>\n",
              "</table>\n",
              "<p>799 rows × 12 columns</p>\n",
              "</div>\n",
              "      <button class=\"colab-df-convert\" onclick=\"convertToInteractive('df-aa9b9776-bb8e-45e3-8041-a802d29c54cd')\"\n",
              "              title=\"Convert this dataframe to an interactive table.\"\n",
              "              style=\"display:none;\">\n",
              "        \n",
              "  <svg xmlns=\"http://www.w3.org/2000/svg\" height=\"24px\"viewBox=\"0 0 24 24\"\n",
              "       width=\"24px\">\n",
              "    <path d=\"M0 0h24v24H0V0z\" fill=\"none\"/>\n",
              "    <path d=\"M18.56 5.44l.94 2.06.94-2.06 2.06-.94-2.06-.94-.94-2.06-.94 2.06-2.06.94zm-11 1L8.5 8.5l.94-2.06 2.06-.94-2.06-.94L8.5 2.5l-.94 2.06-2.06.94zm10 10l.94 2.06.94-2.06 2.06-.94-2.06-.94-.94-2.06-.94 2.06-2.06.94z\"/><path d=\"M17.41 7.96l-1.37-1.37c-.4-.4-.92-.59-1.43-.59-.52 0-1.04.2-1.43.59L10.3 9.45l-7.72 7.72c-.78.78-.78 2.05 0 2.83L4 21.41c.39.39.9.59 1.41.59.51 0 1.02-.2 1.41-.59l7.78-7.78 2.81-2.81c.8-.78.8-2.07 0-2.86zM5.41 20L4 18.59l7.72-7.72 1.47 1.35L5.41 20z\"/>\n",
              "  </svg>\n",
              "      </button>\n",
              "      \n",
              "  <style>\n",
              "    .colab-df-container {\n",
              "      display:flex;\n",
              "      flex-wrap:wrap;\n",
              "      gap: 12px;\n",
              "    }\n",
              "\n",
              "    .colab-df-convert {\n",
              "      background-color: #E8F0FE;\n",
              "      border: none;\n",
              "      border-radius: 50%;\n",
              "      cursor: pointer;\n",
              "      display: none;\n",
              "      fill: #1967D2;\n",
              "      height: 32px;\n",
              "      padding: 0 0 0 0;\n",
              "      width: 32px;\n",
              "    }\n",
              "\n",
              "    .colab-df-convert:hover {\n",
              "      background-color: #E2EBFA;\n",
              "      box-shadow: 0px 1px 2px rgba(60, 64, 67, 0.3), 0px 1px 3px 1px rgba(60, 64, 67, 0.15);\n",
              "      fill: #174EA6;\n",
              "    }\n",
              "\n",
              "    [theme=dark] .colab-df-convert {\n",
              "      background-color: #3B4455;\n",
              "      fill: #D2E3FC;\n",
              "    }\n",
              "\n",
              "    [theme=dark] .colab-df-convert:hover {\n",
              "      background-color: #434B5C;\n",
              "      box-shadow: 0px 1px 3px 1px rgba(0, 0, 0, 0.15);\n",
              "      filter: drop-shadow(0px 1px 2px rgba(0, 0, 0, 0.3));\n",
              "      fill: #FFFFFF;\n",
              "    }\n",
              "  </style>\n",
              "\n",
              "      <script>\n",
              "        const buttonEl =\n",
              "          document.querySelector('#df-aa9b9776-bb8e-45e3-8041-a802d29c54cd button.colab-df-convert');\n",
              "        buttonEl.style.display =\n",
              "          google.colab.kernel.accessAllowed ? 'block' : 'none';\n",
              "\n",
              "        async function convertToInteractive(key) {\n",
              "          const element = document.querySelector('#df-aa9b9776-bb8e-45e3-8041-a802d29c54cd');\n",
              "          const dataTable =\n",
              "            await google.colab.kernel.invokeFunction('convertToInteractive',\n",
              "                                                     [key], {});\n",
              "          if (!dataTable) return;\n",
              "\n",
              "          const docLinkHtml = 'Like what you see? Visit the ' +\n",
              "            '<a target=\"_blank\" href=https://colab.research.google.com/notebooks/data_table.ipynb>data table notebook</a>'\n",
              "            + ' to learn more about interactive tables.';\n",
              "          element.innerHTML = '';\n",
              "          dataTable['output_type'] = 'display_data';\n",
              "          await google.colab.output.renderOutput(dataTable, element);\n",
              "          const docLink = document.createElement('div');\n",
              "          docLink.innerHTML = docLinkHtml;\n",
              "          element.appendChild(docLink);\n",
              "        }\n",
              "      </script>\n",
              "    </div>\n",
              "  </div>\n",
              "  "
            ]
          },
          "metadata": {},
          "execution_count": 21
        }
      ]
    },
    {
      "cell_type": "markdown",
      "source": [
        "Removing URls"
      ],
      "metadata": {
        "id": "U5RHKN6Wnpz0"
      }
    },
    {
      "cell_type": "code",
      "source": [
        "df['review_text'] = df['review_text'].str.replace('http[s]?://(?:[a-zA-Z]|[0-9]|[$-_@.&+]|[!*,]|(?:%[0-9a-fA-F][0-9a-fA-F]))+', ' ')\n",
        ""
      ],
      "metadata": {
        "colab": {
          "base_uri": "https://localhost:8080/"
        },
        "id": "ZvnTbs6knlPs",
        "outputId": "f7c08b2a-bf13-4548-c783-5a6e20b1cef1"
      },
      "execution_count": null,
      "outputs": [
        {
          "output_type": "stream",
          "name": "stderr",
          "text": [
            "<ipython-input-22-058ecff83e7d>:1: FutureWarning: The default value of regex will change from True to False in a future version.\n",
            "  df['review_text'] = df['review_text'].str.replace('http[s]?://(?:[a-zA-Z]|[0-9]|[$-_@.&+]|[!*,]|(?:%[0-9a-fA-F][0-9a-fA-F]))+', ' ')\n"
          ]
        }
      ]
    },
    {
      "cell_type": "markdown",
      "source": [
        "Remove Stopwords"
      ],
      "metadata": {
        "id": "M2VxW6Tcn_Rf"
      }
    },
    {
      "cell_type": "code",
      "source": [
        "def remove_stop(x):\n",
        "  return \",\".join([word for word in str(x).split() if word not in stop_words]) #stopwords removal)\n",
        "df['review_text'] = df['review_text'].apply(lambda x: remove_stop(x))\n",
        "df"
      ],
      "metadata": {
        "colab": {
          "base_uri": "https://localhost:8080/",
          "height": 1000
        },
        "id": "nHm1UbUPn2Wj",
        "outputId": "57e7abd4-32d2-433a-b1cf-9e9ed30985a1"
      },
      "execution_count": null,
      "outputs": [
        {
          "output_type": "execute_result",
          "data": {
            "text/plain": [
              "      product_id                                       product_name    brand  \\\n",
              "0     B085J1J32G  Samsung Galaxy M51 (Electric Blue, 6GB RAM, 12...  Samsung   \n",
              "1     B085J1J32G  Samsung Galaxy M51 (Electric Blue, 6GB RAM, 12...  Samsung   \n",
              "2     B085J1J32G  Samsung Galaxy M51 (Electric Blue, 6GB RAM, 12...  Samsung   \n",
              "3     B085J1J32G  Samsung Galaxy M51 (Electric Blue, 6GB RAM, 12...  Samsung   \n",
              "4     B085J1J32G  Samsung Galaxy M51 (Electric Blue, 6GB RAM, 12...  Samsung   \n",
              "...          ...                                                ...      ...   \n",
              "1678  B08FN6WGDQ  Samsung Galaxy Buds Live Bluetooth Truly Wirel...  Samsung   \n",
              "1679  B08FN6WGDQ  Samsung Galaxy Buds Live Bluetooth Truly Wirel...  Samsung   \n",
              "1680  B08FN6WGDQ  Samsung Galaxy Buds Live Bluetooth Truly Wirel...  Samsung   \n",
              "1683  B08FN6WGDQ  Samsung Galaxy Buds Live Bluetooth Truly Wirel...  Samsung   \n",
              "1684  B08FN6WGDQ  Samsung Galaxy Buds Live Bluetooth Truly Wirel...  Samsung   \n",
              "\n",
              "     website                                         source_URL  \\\n",
              "0     Amazon                          https://amzn.eu/d/bOFfVHI   \n",
              "1     Amazon                          https://amzn.eu/d/bOFfVHI   \n",
              "2     Amazon                          https://amzn.eu/d/bOFfVHI   \n",
              "3     Amazon                          https://amzn.eu/d/bOFfVHI   \n",
              "4     Amazon                          https://amzn.eu/d/bOFfVHI   \n",
              "...      ...                                                ...   \n",
              "1678  Amazon  https://www.amazon.in/Samsung-Galaxy-SM-R180NZ...   \n",
              "1679  Amazon  https://www.amazon.in/Samsung-Galaxy-SM-R180NZ...   \n",
              "1680  Amazon  https://www.amazon.in/Samsung-Galaxy-SM-R180NZ...   \n",
              "1683  Amazon  https://www.amazon.in/Samsung-Galaxy-SM-R180NZ...   \n",
              "1684  Amazon  https://www.amazon.in/Samsung-Galaxy-SM-R180NZ...   \n",
              "\n",
              "                                           review_title  \\\n",
              "0                                          Worst mobile   \n",
              "1                               Average mid-range phone   \n",
              "2          Bulky, and Back side chrome finish is faulty   \n",
              "3                       Good product with some drawback   \n",
              "4                          The best phone you could buy   \n",
              "...                                                 ...   \n",
              "1678                                        Itâ€™s Good   \n",
              "1679                                       NOT WORTH IT   \n",
              "1680                                      Good purchase   \n",
              "1683                                 Affordable earbuds   \n",
              "1684  Buy this only for design and few not so import...   \n",
              "\n",
              "                                            review_text  \\\n",
              "0                               worst,display,quality😩😩   \n",
              "1     battery,good,great,advertisedruns,oneui,based,...   \n",
              "2     back,side,chrome,finish,started,like,scratches...   \n",
              "3     battery,life,extraordinary,need,carrying,power...   \n",
              "4     im,writing,review,year,purchase,even,use,mobil...   \n",
              "...                                                 ...   \n",
              "1678  bought,festive,season,sale,itâ€™s,worth,saleâ€...   \n",
              "1679  pro,good,finish,quality,good,battery,life,good...   \n",
              "1680  first,sent,defective,one,alwaysss,happens,sale...   \n",
              "1683  sound,loud,somewhat,clear,echo,receiver,end,de...   \n",
              "1684  loved,style,sound,isnt,great,neither,subpar,an...   \n",
              "\n",
              "              reviewer_name rating  polarity  subjectivity     Class  \n",
              "0                 PHALAKSHA      1 -1.000000      1.000000  Negative  \n",
              "1                   Snehith      3  0.333333      0.650000  Positive  \n",
              "2     Pro-tan International      4  0.100000      0.150000  Positive  \n",
              "3               sai krishna      4  0.132500      0.622500  Positive  \n",
              "4                     vicky      5  0.325714      0.587857  Positive  \n",
              "...                     ...    ...       ...           ...       ...  \n",
              "1678          Diwakar Nayal      3  0.184667      0.614667  Positive  \n",
              "1679     Sainathan Arumugam      3  0.217949      0.496062  Positive  \n",
              "1680              Naveen B.      5  0.329509      0.549206  Positive  \n",
              "1683           shahid patel      4  0.200000      0.527778  Positive  \n",
              "1684                  Manas      4  0.466667      0.475000  Positive  \n",
              "\n",
              "[799 rows x 12 columns]"
            ],
            "text/html": [
              "\n",
              "  <div id=\"df-5fde1f0f-84b9-4f99-95d4-0f0917029944\">\n",
              "    <div class=\"colab-df-container\">\n",
              "      <div>\n",
              "<style scoped>\n",
              "    .dataframe tbody tr th:only-of-type {\n",
              "        vertical-align: middle;\n",
              "    }\n",
              "\n",
              "    .dataframe tbody tr th {\n",
              "        vertical-align: top;\n",
              "    }\n",
              "\n",
              "    .dataframe thead th {\n",
              "        text-align: right;\n",
              "    }\n",
              "</style>\n",
              "<table border=\"1\" class=\"dataframe\">\n",
              "  <thead>\n",
              "    <tr style=\"text-align: right;\">\n",
              "      <th></th>\n",
              "      <th>product_id</th>\n",
              "      <th>product_name</th>\n",
              "      <th>brand</th>\n",
              "      <th>website</th>\n",
              "      <th>source_URL</th>\n",
              "      <th>review_title</th>\n",
              "      <th>review_text</th>\n",
              "      <th>reviewer_name</th>\n",
              "      <th>rating</th>\n",
              "      <th>polarity</th>\n",
              "      <th>subjectivity</th>\n",
              "      <th>Class</th>\n",
              "    </tr>\n",
              "  </thead>\n",
              "  <tbody>\n",
              "    <tr>\n",
              "      <th>0</th>\n",
              "      <td>B085J1J32G</td>\n",
              "      <td>Samsung Galaxy M51 (Electric Blue, 6GB RAM, 12...</td>\n",
              "      <td>Samsung</td>\n",
              "      <td>Amazon</td>\n",
              "      <td>https://amzn.eu/d/bOFfVHI</td>\n",
              "      <td>Worst mobile</td>\n",
              "      <td>worst,display,quality😩😩</td>\n",
              "      <td>PHALAKSHA</td>\n",
              "      <td>1</td>\n",
              "      <td>-1.000000</td>\n",
              "      <td>1.000000</td>\n",
              "      <td>Negative</td>\n",
              "    </tr>\n",
              "    <tr>\n",
              "      <th>1</th>\n",
              "      <td>B085J1J32G</td>\n",
              "      <td>Samsung Galaxy M51 (Electric Blue, 6GB RAM, 12...</td>\n",
              "      <td>Samsung</td>\n",
              "      <td>Amazon</td>\n",
              "      <td>https://amzn.eu/d/bOFfVHI</td>\n",
              "      <td>Average mid-range phone</td>\n",
              "      <td>battery,good,great,advertisedruns,oneui,based,...</td>\n",
              "      <td>Snehith</td>\n",
              "      <td>3</td>\n",
              "      <td>0.333333</td>\n",
              "      <td>0.650000</td>\n",
              "      <td>Positive</td>\n",
              "    </tr>\n",
              "    <tr>\n",
              "      <th>2</th>\n",
              "      <td>B085J1J32G</td>\n",
              "      <td>Samsung Galaxy M51 (Electric Blue, 6GB RAM, 12...</td>\n",
              "      <td>Samsung</td>\n",
              "      <td>Amazon</td>\n",
              "      <td>https://amzn.eu/d/bOFfVHI</td>\n",
              "      <td>Bulky, and Back side chrome finish is faulty</td>\n",
              "      <td>back,side,chrome,finish,started,like,scratches...</td>\n",
              "      <td>Pro-tan International</td>\n",
              "      <td>4</td>\n",
              "      <td>0.100000</td>\n",
              "      <td>0.150000</td>\n",
              "      <td>Positive</td>\n",
              "    </tr>\n",
              "    <tr>\n",
              "      <th>3</th>\n",
              "      <td>B085J1J32G</td>\n",
              "      <td>Samsung Galaxy M51 (Electric Blue, 6GB RAM, 12...</td>\n",
              "      <td>Samsung</td>\n",
              "      <td>Amazon</td>\n",
              "      <td>https://amzn.eu/d/bOFfVHI</td>\n",
              "      <td>Good product with some drawback</td>\n",
              "      <td>battery,life,extraordinary,need,carrying,power...</td>\n",
              "      <td>sai krishna</td>\n",
              "      <td>4</td>\n",
              "      <td>0.132500</td>\n",
              "      <td>0.622500</td>\n",
              "      <td>Positive</td>\n",
              "    </tr>\n",
              "    <tr>\n",
              "      <th>4</th>\n",
              "      <td>B085J1J32G</td>\n",
              "      <td>Samsung Galaxy M51 (Electric Blue, 6GB RAM, 12...</td>\n",
              "      <td>Samsung</td>\n",
              "      <td>Amazon</td>\n",
              "      <td>https://amzn.eu/d/bOFfVHI</td>\n",
              "      <td>The best phone you could buy</td>\n",
              "      <td>im,writing,review,year,purchase,even,use,mobil...</td>\n",
              "      <td>vicky</td>\n",
              "      <td>5</td>\n",
              "      <td>0.325714</td>\n",
              "      <td>0.587857</td>\n",
              "      <td>Positive</td>\n",
              "    </tr>\n",
              "    <tr>\n",
              "      <th>...</th>\n",
              "      <td>...</td>\n",
              "      <td>...</td>\n",
              "      <td>...</td>\n",
              "      <td>...</td>\n",
              "      <td>...</td>\n",
              "      <td>...</td>\n",
              "      <td>...</td>\n",
              "      <td>...</td>\n",
              "      <td>...</td>\n",
              "      <td>...</td>\n",
              "      <td>...</td>\n",
              "      <td>...</td>\n",
              "    </tr>\n",
              "    <tr>\n",
              "      <th>1678</th>\n",
              "      <td>B08FN6WGDQ</td>\n",
              "      <td>Samsung Galaxy Buds Live Bluetooth Truly Wirel...</td>\n",
              "      <td>Samsung</td>\n",
              "      <td>Amazon</td>\n",
              "      <td>https://www.amazon.in/Samsung-Galaxy-SM-R180NZ...</td>\n",
              "      <td>Itâ€™s Good</td>\n",
              "      <td>bought,festive,season,sale,itâ€™s,worth,saleâ€...</td>\n",
              "      <td>Diwakar Nayal</td>\n",
              "      <td>3</td>\n",
              "      <td>0.184667</td>\n",
              "      <td>0.614667</td>\n",
              "      <td>Positive</td>\n",
              "    </tr>\n",
              "    <tr>\n",
              "      <th>1679</th>\n",
              "      <td>B08FN6WGDQ</td>\n",
              "      <td>Samsung Galaxy Buds Live Bluetooth Truly Wirel...</td>\n",
              "      <td>Samsung</td>\n",
              "      <td>Amazon</td>\n",
              "      <td>https://www.amazon.in/Samsung-Galaxy-SM-R180NZ...</td>\n",
              "      <td>NOT WORTH IT</td>\n",
              "      <td>pro,good,finish,quality,good,battery,life,good...</td>\n",
              "      <td>Sainathan Arumugam</td>\n",
              "      <td>3</td>\n",
              "      <td>0.217949</td>\n",
              "      <td>0.496062</td>\n",
              "      <td>Positive</td>\n",
              "    </tr>\n",
              "    <tr>\n",
              "      <th>1680</th>\n",
              "      <td>B08FN6WGDQ</td>\n",
              "      <td>Samsung Galaxy Buds Live Bluetooth Truly Wirel...</td>\n",
              "      <td>Samsung</td>\n",
              "      <td>Amazon</td>\n",
              "      <td>https://www.amazon.in/Samsung-Galaxy-SM-R180NZ...</td>\n",
              "      <td>Good purchase</td>\n",
              "      <td>first,sent,defective,one,alwaysss,happens,sale...</td>\n",
              "      <td>Naveen B.</td>\n",
              "      <td>5</td>\n",
              "      <td>0.329509</td>\n",
              "      <td>0.549206</td>\n",
              "      <td>Positive</td>\n",
              "    </tr>\n",
              "    <tr>\n",
              "      <th>1683</th>\n",
              "      <td>B08FN6WGDQ</td>\n",
              "      <td>Samsung Galaxy Buds Live Bluetooth Truly Wirel...</td>\n",
              "      <td>Samsung</td>\n",
              "      <td>Amazon</td>\n",
              "      <td>https://www.amazon.in/Samsung-Galaxy-SM-R180NZ...</td>\n",
              "      <td>Affordable earbuds</td>\n",
              "      <td>sound,loud,somewhat,clear,echo,receiver,end,de...</td>\n",
              "      <td>shahid patel</td>\n",
              "      <td>4</td>\n",
              "      <td>0.200000</td>\n",
              "      <td>0.527778</td>\n",
              "      <td>Positive</td>\n",
              "    </tr>\n",
              "    <tr>\n",
              "      <th>1684</th>\n",
              "      <td>B08FN6WGDQ</td>\n",
              "      <td>Samsung Galaxy Buds Live Bluetooth Truly Wirel...</td>\n",
              "      <td>Samsung</td>\n",
              "      <td>Amazon</td>\n",
              "      <td>https://www.amazon.in/Samsung-Galaxy-SM-R180NZ...</td>\n",
              "      <td>Buy this only for design and few not so import...</td>\n",
              "      <td>loved,style,sound,isnt,great,neither,subpar,an...</td>\n",
              "      <td>Manas</td>\n",
              "      <td>4</td>\n",
              "      <td>0.466667</td>\n",
              "      <td>0.475000</td>\n",
              "      <td>Positive</td>\n",
              "    </tr>\n",
              "  </tbody>\n",
              "</table>\n",
              "<p>799 rows × 12 columns</p>\n",
              "</div>\n",
              "      <button class=\"colab-df-convert\" onclick=\"convertToInteractive('df-5fde1f0f-84b9-4f99-95d4-0f0917029944')\"\n",
              "              title=\"Convert this dataframe to an interactive table.\"\n",
              "              style=\"display:none;\">\n",
              "        \n",
              "  <svg xmlns=\"http://www.w3.org/2000/svg\" height=\"24px\"viewBox=\"0 0 24 24\"\n",
              "       width=\"24px\">\n",
              "    <path d=\"M0 0h24v24H0V0z\" fill=\"none\"/>\n",
              "    <path d=\"M18.56 5.44l.94 2.06.94-2.06 2.06-.94-2.06-.94-.94-2.06-.94 2.06-2.06.94zm-11 1L8.5 8.5l.94-2.06 2.06-.94-2.06-.94L8.5 2.5l-.94 2.06-2.06.94zm10 10l.94 2.06.94-2.06 2.06-.94-2.06-.94-.94-2.06-.94 2.06-2.06.94z\"/><path d=\"M17.41 7.96l-1.37-1.37c-.4-.4-.92-.59-1.43-.59-.52 0-1.04.2-1.43.59L10.3 9.45l-7.72 7.72c-.78.78-.78 2.05 0 2.83L4 21.41c.39.39.9.59 1.41.59.51 0 1.02-.2 1.41-.59l7.78-7.78 2.81-2.81c.8-.78.8-2.07 0-2.86zM5.41 20L4 18.59l7.72-7.72 1.47 1.35L5.41 20z\"/>\n",
              "  </svg>\n",
              "      </button>\n",
              "      \n",
              "  <style>\n",
              "    .colab-df-container {\n",
              "      display:flex;\n",
              "      flex-wrap:wrap;\n",
              "      gap: 12px;\n",
              "    }\n",
              "\n",
              "    .colab-df-convert {\n",
              "      background-color: #E8F0FE;\n",
              "      border: none;\n",
              "      border-radius: 50%;\n",
              "      cursor: pointer;\n",
              "      display: none;\n",
              "      fill: #1967D2;\n",
              "      height: 32px;\n",
              "      padding: 0 0 0 0;\n",
              "      width: 32px;\n",
              "    }\n",
              "\n",
              "    .colab-df-convert:hover {\n",
              "      background-color: #E2EBFA;\n",
              "      box-shadow: 0px 1px 2px rgba(60, 64, 67, 0.3), 0px 1px 3px 1px rgba(60, 64, 67, 0.15);\n",
              "      fill: #174EA6;\n",
              "    }\n",
              "\n",
              "    [theme=dark] .colab-df-convert {\n",
              "      background-color: #3B4455;\n",
              "      fill: #D2E3FC;\n",
              "    }\n",
              "\n",
              "    [theme=dark] .colab-df-convert:hover {\n",
              "      background-color: #434B5C;\n",
              "      box-shadow: 0px 1px 3px 1px rgba(0, 0, 0, 0.15);\n",
              "      filter: drop-shadow(0px 1px 2px rgba(0, 0, 0, 0.3));\n",
              "      fill: #FFFFFF;\n",
              "    }\n",
              "  </style>\n",
              "\n",
              "      <script>\n",
              "        const buttonEl =\n",
              "          document.querySelector('#df-5fde1f0f-84b9-4f99-95d4-0f0917029944 button.colab-df-convert');\n",
              "        buttonEl.style.display =\n",
              "          google.colab.kernel.accessAllowed ? 'block' : 'none';\n",
              "\n",
              "        async function convertToInteractive(key) {\n",
              "          const element = document.querySelector('#df-5fde1f0f-84b9-4f99-95d4-0f0917029944');\n",
              "          const dataTable =\n",
              "            await google.colab.kernel.invokeFunction('convertToInteractive',\n",
              "                                                     [key], {});\n",
              "          if (!dataTable) return;\n",
              "\n",
              "          const docLinkHtml = 'Like what you see? Visit the ' +\n",
              "            '<a target=\"_blank\" href=https://colab.research.google.com/notebooks/data_table.ipynb>data table notebook</a>'\n",
              "            + ' to learn more about interactive tables.';\n",
              "          element.innerHTML = '';\n",
              "          dataTable['output_type'] = 'display_data';\n",
              "          await google.colab.output.renderOutput(dataTable, element);\n",
              "          const docLink = document.createElement('div');\n",
              "          docLink.innerHTML = docLinkHtml;\n",
              "          element.appendChild(docLink);\n",
              "        }\n",
              "      </script>\n",
              "    </div>\n",
              "  </div>\n",
              "  "
            ]
          },
          "metadata": {},
          "execution_count": 23
        }
      ]
    },
    {
      "cell_type": "markdown",
      "source": [
        "Removing Emojis\n"
      ],
      "metadata": {
        "id": "o_NTK2CUoMuS"
      }
    },
    {
      "cell_type": "code",
      "source": [
        "def remove_emoji(text):\n",
        "    emoji_pattern = re.compile(\"[\"\n",
        "                           u\"\\U0001F600-\\U0001F64F\"  # emoticons\n",
        "                           u\"\\U0001F300-\\U0001F5FF\"  # symbols & pictographs\n",
        "                           u\"\\U0001F680-\\U0001F6FF\"  # transport & map symbols\n",
        "                           u\"\\U0001F1E0-\\U0001F1FF\"  # flags\n",
        "                           u\"\\U00002702-\\U000027B0\"\n",
        "                           u\"\\U000024C2-\\U0001F251\"\n",
        "                           \"]+\", flags=re.UNICODE)\n",
        "    return emoji_pattern.sub(r'', text)\n",
        "df['review_text'] = df['review_text'].apply(lambda x: remove_emoji(x))\n",
        "df.iloc[[0,1,2,3,4,6,7,5,8,9,10]]"
      ],
      "metadata": {
        "colab": {
          "base_uri": "https://localhost:8080/",
          "height": 1000
        },
        "id": "Oe1hCjm-oQID",
        "outputId": "9bb7dbb7-f22a-4a6c-8c41-ac58fccd65d2"
      },
      "execution_count": null,
      "outputs": [
        {
          "output_type": "execute_result",
          "data": {
            "text/plain": [
              "    product_id                                       product_name    brand  \\\n",
              "0   B085J1J32G  Samsung Galaxy M51 (Electric Blue, 6GB RAM, 12...  Samsung   \n",
              "1   B085J1J32G  Samsung Galaxy M51 (Electric Blue, 6GB RAM, 12...  Samsung   \n",
              "2   B085J1J32G  Samsung Galaxy M51 (Electric Blue, 6GB RAM, 12...  Samsung   \n",
              "3   B085J1J32G  Samsung Galaxy M51 (Electric Blue, 6GB RAM, 12...  Samsung   \n",
              "4   B085J1J32G  Samsung Galaxy M51 (Electric Blue, 6GB RAM, 12...  Samsung   \n",
              "6   B089MQ622N     Samsung Galaxy M01 Core (Black, 2GB RAM, 32GB)  Samsung   \n",
              "7   B089MQ622N     Samsung Galaxy M01 Core (Black, 2GB RAM, 32GB)  Samsung   \n",
              "5   B089MQ622N     Samsung Galaxy M01 Core (Black, 2GB RAM, 32GB)  Samsung   \n",
              "8   B089MQ622N     Samsung Galaxy M01 Core (Black, 2GB RAM, 32GB)  Samsung   \n",
              "9   B089MQ622N     Samsung Galaxy M01 Core (Black, 2GB RAM, 32GB)  Samsung   \n",
              "10  B07X8V5YKR  Samsung Galaxy Note10 Lite (Aura Glow, 6GB RAM...  Samsung   \n",
              "\n",
              "   website                 source_URL  \\\n",
              "0   Amazon  https://amzn.eu/d/bOFfVHI   \n",
              "1   Amazon  https://amzn.eu/d/bOFfVHI   \n",
              "2   Amazon  https://amzn.eu/d/bOFfVHI   \n",
              "3   Amazon  https://amzn.eu/d/bOFfVHI   \n",
              "4   Amazon  https://amzn.eu/d/bOFfVHI   \n",
              "6   Amazon  https://amzn.eu/d/dN2SGFv   \n",
              "7   Amazon  https://amzn.eu/d/dN2SGFv   \n",
              "5   Amazon  https://amzn.eu/d/dN2SGFv   \n",
              "8   Amazon  https://amzn.eu/d/dN2SGFv   \n",
              "9   Amazon  https://amzn.eu/d/dN2SGFv   \n",
              "10  Amazon  https://amzn.eu/d/gKNf1a3   \n",
              "\n",
              "                                         review_title  \\\n",
              "0                                        Worst mobile   \n",
              "1                             Average mid-range phone   \n",
              "2        Bulky, and Back side chrome finish is faulty   \n",
              "3                     Good product with some drawback   \n",
              "4                        The best phone you could buy   \n",
              "6             In Short I say I don't like this mobile   \n",
              "7                                        Seems ok now   \n",
              "5                A good phone for at this price range   \n",
              "8                       Good Budget Phone for Elders.   \n",
              "9   Samsung Galaxy M01 Core is Worst Phone purchas...   \n",
              "10                                            average   \n",
              "\n",
              "                                          review_text          reviewer_name  \\\n",
              "0                               worst,display,quality              PHALAKSHA   \n",
              "1   battery,good,great,advertisedruns,oneui,based,...                Snehith   \n",
              "2   back,side,chrome,finish,started,like,scratches...  Pro-tan International   \n",
              "3   battery,life,extraordinary,need,carrying,power...            sai krishna   \n",
              "4   im,writing,review,year,purchase,even,use,mobil...                  vicky   \n",
              "6   short,say,dont,like,mobile,bcoz,trouch,pad,wor...    Bharat Premraj Jain   \n",
              "7   stopped,working,3,days,return,window,closed,ch...             Lectricsuv   \n",
              "5   phone,doesnt,feel,slow,sluggish,decent,camera,...             srinivasan   \n",
              "8   samsung,galaxy,m01,core,2gb,32gb,decent,deal,r...    Abhijit Kumar Sahoo   \n",
              "9   samsung,galaxy,m01,core,worst,phone,purchased,...                 Hemant   \n",
              "10  phone,mine,suddenly,screen,got,blankthank,god,...         Arvind Jaiswal   \n",
              "\n",
              "   rating  polarity  subjectivity     Class  \n",
              "0       1 -1.000000      1.000000  Negative  \n",
              "1       3  0.333333      0.650000  Positive  \n",
              "2       4  0.100000      0.150000  Positive  \n",
              "3       4  0.132500      0.622500  Positive  \n",
              "4       5  0.325714      0.587857  Positive  \n",
              "6       2 -0.058333      0.246333  Negative  \n",
              "7       4 -0.125000      0.100000  Negative  \n",
              "5       4 -0.277778      0.577778  Negative  \n",
              "8       4  0.152381      0.584524  Positive  \n",
              "9       1 -0.089048      0.542381  Negative  \n",
              "10      3  0.018667      0.554667  Positive  "
            ],
            "text/html": [
              "\n",
              "  <div id=\"df-a72ff6ec-af16-4682-bb08-86daddc266d8\">\n",
              "    <div class=\"colab-df-container\">\n",
              "      <div>\n",
              "<style scoped>\n",
              "    .dataframe tbody tr th:only-of-type {\n",
              "        vertical-align: middle;\n",
              "    }\n",
              "\n",
              "    .dataframe tbody tr th {\n",
              "        vertical-align: top;\n",
              "    }\n",
              "\n",
              "    .dataframe thead th {\n",
              "        text-align: right;\n",
              "    }\n",
              "</style>\n",
              "<table border=\"1\" class=\"dataframe\">\n",
              "  <thead>\n",
              "    <tr style=\"text-align: right;\">\n",
              "      <th></th>\n",
              "      <th>product_id</th>\n",
              "      <th>product_name</th>\n",
              "      <th>brand</th>\n",
              "      <th>website</th>\n",
              "      <th>source_URL</th>\n",
              "      <th>review_title</th>\n",
              "      <th>review_text</th>\n",
              "      <th>reviewer_name</th>\n",
              "      <th>rating</th>\n",
              "      <th>polarity</th>\n",
              "      <th>subjectivity</th>\n",
              "      <th>Class</th>\n",
              "    </tr>\n",
              "  </thead>\n",
              "  <tbody>\n",
              "    <tr>\n",
              "      <th>0</th>\n",
              "      <td>B085J1J32G</td>\n",
              "      <td>Samsung Galaxy M51 (Electric Blue, 6GB RAM, 12...</td>\n",
              "      <td>Samsung</td>\n",
              "      <td>Amazon</td>\n",
              "      <td>https://amzn.eu/d/bOFfVHI</td>\n",
              "      <td>Worst mobile</td>\n",
              "      <td>worst,display,quality</td>\n",
              "      <td>PHALAKSHA</td>\n",
              "      <td>1</td>\n",
              "      <td>-1.000000</td>\n",
              "      <td>1.000000</td>\n",
              "      <td>Negative</td>\n",
              "    </tr>\n",
              "    <tr>\n",
              "      <th>1</th>\n",
              "      <td>B085J1J32G</td>\n",
              "      <td>Samsung Galaxy M51 (Electric Blue, 6GB RAM, 12...</td>\n",
              "      <td>Samsung</td>\n",
              "      <td>Amazon</td>\n",
              "      <td>https://amzn.eu/d/bOFfVHI</td>\n",
              "      <td>Average mid-range phone</td>\n",
              "      <td>battery,good,great,advertisedruns,oneui,based,...</td>\n",
              "      <td>Snehith</td>\n",
              "      <td>3</td>\n",
              "      <td>0.333333</td>\n",
              "      <td>0.650000</td>\n",
              "      <td>Positive</td>\n",
              "    </tr>\n",
              "    <tr>\n",
              "      <th>2</th>\n",
              "      <td>B085J1J32G</td>\n",
              "      <td>Samsung Galaxy M51 (Electric Blue, 6GB RAM, 12...</td>\n",
              "      <td>Samsung</td>\n",
              "      <td>Amazon</td>\n",
              "      <td>https://amzn.eu/d/bOFfVHI</td>\n",
              "      <td>Bulky, and Back side chrome finish is faulty</td>\n",
              "      <td>back,side,chrome,finish,started,like,scratches...</td>\n",
              "      <td>Pro-tan International</td>\n",
              "      <td>4</td>\n",
              "      <td>0.100000</td>\n",
              "      <td>0.150000</td>\n",
              "      <td>Positive</td>\n",
              "    </tr>\n",
              "    <tr>\n",
              "      <th>3</th>\n",
              "      <td>B085J1J32G</td>\n",
              "      <td>Samsung Galaxy M51 (Electric Blue, 6GB RAM, 12...</td>\n",
              "      <td>Samsung</td>\n",
              "      <td>Amazon</td>\n",
              "      <td>https://amzn.eu/d/bOFfVHI</td>\n",
              "      <td>Good product with some drawback</td>\n",
              "      <td>battery,life,extraordinary,need,carrying,power...</td>\n",
              "      <td>sai krishna</td>\n",
              "      <td>4</td>\n",
              "      <td>0.132500</td>\n",
              "      <td>0.622500</td>\n",
              "      <td>Positive</td>\n",
              "    </tr>\n",
              "    <tr>\n",
              "      <th>4</th>\n",
              "      <td>B085J1J32G</td>\n",
              "      <td>Samsung Galaxy M51 (Electric Blue, 6GB RAM, 12...</td>\n",
              "      <td>Samsung</td>\n",
              "      <td>Amazon</td>\n",
              "      <td>https://amzn.eu/d/bOFfVHI</td>\n",
              "      <td>The best phone you could buy</td>\n",
              "      <td>im,writing,review,year,purchase,even,use,mobil...</td>\n",
              "      <td>vicky</td>\n",
              "      <td>5</td>\n",
              "      <td>0.325714</td>\n",
              "      <td>0.587857</td>\n",
              "      <td>Positive</td>\n",
              "    </tr>\n",
              "    <tr>\n",
              "      <th>6</th>\n",
              "      <td>B089MQ622N</td>\n",
              "      <td>Samsung Galaxy M01 Core (Black, 2GB RAM, 32GB)</td>\n",
              "      <td>Samsung</td>\n",
              "      <td>Amazon</td>\n",
              "      <td>https://amzn.eu/d/dN2SGFv</td>\n",
              "      <td>In Short I say I don't like this mobile</td>\n",
              "      <td>short,say,dont,like,mobile,bcoz,trouch,pad,wor...</td>\n",
              "      <td>Bharat Premraj Jain</td>\n",
              "      <td>2</td>\n",
              "      <td>-0.058333</td>\n",
              "      <td>0.246333</td>\n",
              "      <td>Negative</td>\n",
              "    </tr>\n",
              "    <tr>\n",
              "      <th>7</th>\n",
              "      <td>B089MQ622N</td>\n",
              "      <td>Samsung Galaxy M01 Core (Black, 2GB RAM, 32GB)</td>\n",
              "      <td>Samsung</td>\n",
              "      <td>Amazon</td>\n",
              "      <td>https://amzn.eu/d/dN2SGFv</td>\n",
              "      <td>Seems ok now</td>\n",
              "      <td>stopped,working,3,days,return,window,closed,ch...</td>\n",
              "      <td>Lectricsuv</td>\n",
              "      <td>4</td>\n",
              "      <td>-0.125000</td>\n",
              "      <td>0.100000</td>\n",
              "      <td>Negative</td>\n",
              "    </tr>\n",
              "    <tr>\n",
              "      <th>5</th>\n",
              "      <td>B089MQ622N</td>\n",
              "      <td>Samsung Galaxy M01 Core (Black, 2GB RAM, 32GB)</td>\n",
              "      <td>Samsung</td>\n",
              "      <td>Amazon</td>\n",
              "      <td>https://amzn.eu/d/dN2SGFv</td>\n",
              "      <td>A good phone for at this price range</td>\n",
              "      <td>phone,doesnt,feel,slow,sluggish,decent,camera,...</td>\n",
              "      <td>srinivasan</td>\n",
              "      <td>4</td>\n",
              "      <td>-0.277778</td>\n",
              "      <td>0.577778</td>\n",
              "      <td>Negative</td>\n",
              "    </tr>\n",
              "    <tr>\n",
              "      <th>8</th>\n",
              "      <td>B089MQ622N</td>\n",
              "      <td>Samsung Galaxy M01 Core (Black, 2GB RAM, 32GB)</td>\n",
              "      <td>Samsung</td>\n",
              "      <td>Amazon</td>\n",
              "      <td>https://amzn.eu/d/dN2SGFv</td>\n",
              "      <td>Good Budget Phone for Elders.</td>\n",
              "      <td>samsung,galaxy,m01,core,2gb,32gb,decent,deal,r...</td>\n",
              "      <td>Abhijit Kumar Sahoo</td>\n",
              "      <td>4</td>\n",
              "      <td>0.152381</td>\n",
              "      <td>0.584524</td>\n",
              "      <td>Positive</td>\n",
              "    </tr>\n",
              "    <tr>\n",
              "      <th>9</th>\n",
              "      <td>B089MQ622N</td>\n",
              "      <td>Samsung Galaxy M01 Core (Black, 2GB RAM, 32GB)</td>\n",
              "      <td>Samsung</td>\n",
              "      <td>Amazon</td>\n",
              "      <td>https://amzn.eu/d/dN2SGFv</td>\n",
              "      <td>Samsung Galaxy M01 Core is Worst Phone purchas...</td>\n",
              "      <td>samsung,galaxy,m01,core,worst,phone,purchased,...</td>\n",
              "      <td>Hemant</td>\n",
              "      <td>1</td>\n",
              "      <td>-0.089048</td>\n",
              "      <td>0.542381</td>\n",
              "      <td>Negative</td>\n",
              "    </tr>\n",
              "    <tr>\n",
              "      <th>10</th>\n",
              "      <td>B07X8V5YKR</td>\n",
              "      <td>Samsung Galaxy Note10 Lite (Aura Glow, 6GB RAM...</td>\n",
              "      <td>Samsung</td>\n",
              "      <td>Amazon</td>\n",
              "      <td>https://amzn.eu/d/gKNf1a3</td>\n",
              "      <td>average</td>\n",
              "      <td>phone,mine,suddenly,screen,got,blankthank,god,...</td>\n",
              "      <td>Arvind Jaiswal</td>\n",
              "      <td>3</td>\n",
              "      <td>0.018667</td>\n",
              "      <td>0.554667</td>\n",
              "      <td>Positive</td>\n",
              "    </tr>\n",
              "  </tbody>\n",
              "</table>\n",
              "</div>\n",
              "      <button class=\"colab-df-convert\" onclick=\"convertToInteractive('df-a72ff6ec-af16-4682-bb08-86daddc266d8')\"\n",
              "              title=\"Convert this dataframe to an interactive table.\"\n",
              "              style=\"display:none;\">\n",
              "        \n",
              "  <svg xmlns=\"http://www.w3.org/2000/svg\" height=\"24px\"viewBox=\"0 0 24 24\"\n",
              "       width=\"24px\">\n",
              "    <path d=\"M0 0h24v24H0V0z\" fill=\"none\"/>\n",
              "    <path d=\"M18.56 5.44l.94 2.06.94-2.06 2.06-.94-2.06-.94-.94-2.06-.94 2.06-2.06.94zm-11 1L8.5 8.5l.94-2.06 2.06-.94-2.06-.94L8.5 2.5l-.94 2.06-2.06.94zm10 10l.94 2.06.94-2.06 2.06-.94-2.06-.94-.94-2.06-.94 2.06-2.06.94z\"/><path d=\"M17.41 7.96l-1.37-1.37c-.4-.4-.92-.59-1.43-.59-.52 0-1.04.2-1.43.59L10.3 9.45l-7.72 7.72c-.78.78-.78 2.05 0 2.83L4 21.41c.39.39.9.59 1.41.59.51 0 1.02-.2 1.41-.59l7.78-7.78 2.81-2.81c.8-.78.8-2.07 0-2.86zM5.41 20L4 18.59l7.72-7.72 1.47 1.35L5.41 20z\"/>\n",
              "  </svg>\n",
              "      </button>\n",
              "      \n",
              "  <style>\n",
              "    .colab-df-container {\n",
              "      display:flex;\n",
              "      flex-wrap:wrap;\n",
              "      gap: 12px;\n",
              "    }\n",
              "\n",
              "    .colab-df-convert {\n",
              "      background-color: #E8F0FE;\n",
              "      border: none;\n",
              "      border-radius: 50%;\n",
              "      cursor: pointer;\n",
              "      display: none;\n",
              "      fill: #1967D2;\n",
              "      height: 32px;\n",
              "      padding: 0 0 0 0;\n",
              "      width: 32px;\n",
              "    }\n",
              "\n",
              "    .colab-df-convert:hover {\n",
              "      background-color: #E2EBFA;\n",
              "      box-shadow: 0px 1px 2px rgba(60, 64, 67, 0.3), 0px 1px 3px 1px rgba(60, 64, 67, 0.15);\n",
              "      fill: #174EA6;\n",
              "    }\n",
              "\n",
              "    [theme=dark] .colab-df-convert {\n",
              "      background-color: #3B4455;\n",
              "      fill: #D2E3FC;\n",
              "    }\n",
              "\n",
              "    [theme=dark] .colab-df-convert:hover {\n",
              "      background-color: #434B5C;\n",
              "      box-shadow: 0px 1px 3px 1px rgba(0, 0, 0, 0.15);\n",
              "      filter: drop-shadow(0px 1px 2px rgba(0, 0, 0, 0.3));\n",
              "      fill: #FFFFFF;\n",
              "    }\n",
              "  </style>\n",
              "\n",
              "      <script>\n",
              "        const buttonEl =\n",
              "          document.querySelector('#df-a72ff6ec-af16-4682-bb08-86daddc266d8 button.colab-df-convert');\n",
              "        buttonEl.style.display =\n",
              "          google.colab.kernel.accessAllowed ? 'block' : 'none';\n",
              "\n",
              "        async function convertToInteractive(key) {\n",
              "          const element = document.querySelector('#df-a72ff6ec-af16-4682-bb08-86daddc266d8');\n",
              "          const dataTable =\n",
              "            await google.colab.kernel.invokeFunction('convertToInteractive',\n",
              "                                                     [key], {});\n",
              "          if (!dataTable) return;\n",
              "\n",
              "          const docLinkHtml = 'Like what you see? Visit the ' +\n",
              "            '<a target=\"_blank\" href=https://colab.research.google.com/notebooks/data_table.ipynb>data table notebook</a>'\n",
              "            + ' to learn more about interactive tables.';\n",
              "          element.innerHTML = '';\n",
              "          dataTable['output_type'] = 'display_data';\n",
              "          await google.colab.output.renderOutput(dataTable, element);\n",
              "          const docLink = document.createElement('div');\n",
              "          docLink.innerHTML = docLinkHtml;\n",
              "          element.appendChild(docLink);\n",
              "        }\n",
              "      </script>\n",
              "    </div>\n",
              "  </div>\n",
              "  "
            ]
          },
          "metadata": {},
          "execution_count": 24
        }
      ]
    },
    {
      "cell_type": "markdown",
      "source": [
        "Tokenisation"
      ],
      "metadata": {
        "id": "NIdjYz4Jo7E6"
      }
    },
    {
      "cell_type": "code",
      "source": [
        "df['review_text'] = df['review_text'].astype(str)\n",
        ""
      ],
      "metadata": {
        "id": "1hhbcNslpLSm"
      },
      "execution_count": null,
      "outputs": []
    },
    {
      "cell_type": "code",
      "source": [
        "df[\"review_text\"]=df[\"review_text\"].apply(lambda x: TextBlob(x).words)\n",
        "df"
      ],
      "metadata": {
        "colab": {
          "base_uri": "https://localhost:8080/",
          "height": 1000
        },
        "id": "v4S-2_kPo6fI",
        "outputId": "bcccf4da-dfbc-49cd-be6a-da9b44035907"
      },
      "execution_count": null,
      "outputs": [
        {
          "output_type": "execute_result",
          "data": {
            "text/plain": [
              "      product_id                                       product_name    brand  \\\n",
              "0     B085J1J32G  Samsung Galaxy M51 (Electric Blue, 6GB RAM, 12...  Samsung   \n",
              "1     B085J1J32G  Samsung Galaxy M51 (Electric Blue, 6GB RAM, 12...  Samsung   \n",
              "2     B085J1J32G  Samsung Galaxy M51 (Electric Blue, 6GB RAM, 12...  Samsung   \n",
              "3     B085J1J32G  Samsung Galaxy M51 (Electric Blue, 6GB RAM, 12...  Samsung   \n",
              "4     B085J1J32G  Samsung Galaxy M51 (Electric Blue, 6GB RAM, 12...  Samsung   \n",
              "...          ...                                                ...      ...   \n",
              "1678  B08FN6WGDQ  Samsung Galaxy Buds Live Bluetooth Truly Wirel...  Samsung   \n",
              "1679  B08FN6WGDQ  Samsung Galaxy Buds Live Bluetooth Truly Wirel...  Samsung   \n",
              "1680  B08FN6WGDQ  Samsung Galaxy Buds Live Bluetooth Truly Wirel...  Samsung   \n",
              "1683  B08FN6WGDQ  Samsung Galaxy Buds Live Bluetooth Truly Wirel...  Samsung   \n",
              "1684  B08FN6WGDQ  Samsung Galaxy Buds Live Bluetooth Truly Wirel...  Samsung   \n",
              "\n",
              "     website                                         source_URL  \\\n",
              "0     Amazon                          https://amzn.eu/d/bOFfVHI   \n",
              "1     Amazon                          https://amzn.eu/d/bOFfVHI   \n",
              "2     Amazon                          https://amzn.eu/d/bOFfVHI   \n",
              "3     Amazon                          https://amzn.eu/d/bOFfVHI   \n",
              "4     Amazon                          https://amzn.eu/d/bOFfVHI   \n",
              "...      ...                                                ...   \n",
              "1678  Amazon  https://www.amazon.in/Samsung-Galaxy-SM-R180NZ...   \n",
              "1679  Amazon  https://www.amazon.in/Samsung-Galaxy-SM-R180NZ...   \n",
              "1680  Amazon  https://www.amazon.in/Samsung-Galaxy-SM-R180NZ...   \n",
              "1683  Amazon  https://www.amazon.in/Samsung-Galaxy-SM-R180NZ...   \n",
              "1684  Amazon  https://www.amazon.in/Samsung-Galaxy-SM-R180NZ...   \n",
              "\n",
              "                                           review_title  \\\n",
              "0                                          Worst mobile   \n",
              "1                               Average mid-range phone   \n",
              "2          Bulky, and Back side chrome finish is faulty   \n",
              "3                       Good product with some drawback   \n",
              "4                          The best phone you could buy   \n",
              "...                                                 ...   \n",
              "1678                                        Itâ€™s Good   \n",
              "1679                                       NOT WORTH IT   \n",
              "1680                                      Good purchase   \n",
              "1683                                 Affordable earbuds   \n",
              "1684  Buy this only for design and few not so import...   \n",
              "\n",
              "                                            review_text  \\\n",
              "0                             [worst, display, quality]   \n",
              "1     [battery, good, great, advertisedruns, oneui, ...   \n",
              "2     [back, side, chrome, finish, started, like, sc...   \n",
              "3     [battery, life, extraordinary, need, carrying,...   \n",
              "4     [im, writing, review, year, purchase, even, us...   \n",
              "...                                                 ...   \n",
              "1678  [bought, festive, season, sale, itâ€™s, worth,...   \n",
              "1679  [pro, good, finish, quality, good, battery, li...   \n",
              "1680  [first, sent, defective, one, alwaysss, happen...   \n",
              "1683  [sound, loud, somewhat, clear, echo, receiver,...   \n",
              "1684  [loved, style, sound, isnt, great, neither, su...   \n",
              "\n",
              "              reviewer_name rating  polarity  subjectivity     Class  \n",
              "0                 PHALAKSHA      1 -1.000000      1.000000  Negative  \n",
              "1                   Snehith      3  0.333333      0.650000  Positive  \n",
              "2     Pro-tan International      4  0.100000      0.150000  Positive  \n",
              "3               sai krishna      4  0.132500      0.622500  Positive  \n",
              "4                     vicky      5  0.325714      0.587857  Positive  \n",
              "...                     ...    ...       ...           ...       ...  \n",
              "1678          Diwakar Nayal      3  0.184667      0.614667  Positive  \n",
              "1679     Sainathan Arumugam      3  0.217949      0.496062  Positive  \n",
              "1680              Naveen B.      5  0.329509      0.549206  Positive  \n",
              "1683           shahid patel      4  0.200000      0.527778  Positive  \n",
              "1684                  Manas      4  0.466667      0.475000  Positive  \n",
              "\n",
              "[799 rows x 12 columns]"
            ],
            "text/html": [
              "\n",
              "  <div id=\"df-c9652673-f5e9-4181-a902-b7040b4386b4\">\n",
              "    <div class=\"colab-df-container\">\n",
              "      <div>\n",
              "<style scoped>\n",
              "    .dataframe tbody tr th:only-of-type {\n",
              "        vertical-align: middle;\n",
              "    }\n",
              "\n",
              "    .dataframe tbody tr th {\n",
              "        vertical-align: top;\n",
              "    }\n",
              "\n",
              "    .dataframe thead th {\n",
              "        text-align: right;\n",
              "    }\n",
              "</style>\n",
              "<table border=\"1\" class=\"dataframe\">\n",
              "  <thead>\n",
              "    <tr style=\"text-align: right;\">\n",
              "      <th></th>\n",
              "      <th>product_id</th>\n",
              "      <th>product_name</th>\n",
              "      <th>brand</th>\n",
              "      <th>website</th>\n",
              "      <th>source_URL</th>\n",
              "      <th>review_title</th>\n",
              "      <th>review_text</th>\n",
              "      <th>reviewer_name</th>\n",
              "      <th>rating</th>\n",
              "      <th>polarity</th>\n",
              "      <th>subjectivity</th>\n",
              "      <th>Class</th>\n",
              "    </tr>\n",
              "  </thead>\n",
              "  <tbody>\n",
              "    <tr>\n",
              "      <th>0</th>\n",
              "      <td>B085J1J32G</td>\n",
              "      <td>Samsung Galaxy M51 (Electric Blue, 6GB RAM, 12...</td>\n",
              "      <td>Samsung</td>\n",
              "      <td>Amazon</td>\n",
              "      <td>https://amzn.eu/d/bOFfVHI</td>\n",
              "      <td>Worst mobile</td>\n",
              "      <td>[worst, display, quality]</td>\n",
              "      <td>PHALAKSHA</td>\n",
              "      <td>1</td>\n",
              "      <td>-1.000000</td>\n",
              "      <td>1.000000</td>\n",
              "      <td>Negative</td>\n",
              "    </tr>\n",
              "    <tr>\n",
              "      <th>1</th>\n",
              "      <td>B085J1J32G</td>\n",
              "      <td>Samsung Galaxy M51 (Electric Blue, 6GB RAM, 12...</td>\n",
              "      <td>Samsung</td>\n",
              "      <td>Amazon</td>\n",
              "      <td>https://amzn.eu/d/bOFfVHI</td>\n",
              "      <td>Average mid-range phone</td>\n",
              "      <td>[battery, good, great, advertisedruns, oneui, ...</td>\n",
              "      <td>Snehith</td>\n",
              "      <td>3</td>\n",
              "      <td>0.333333</td>\n",
              "      <td>0.650000</td>\n",
              "      <td>Positive</td>\n",
              "    </tr>\n",
              "    <tr>\n",
              "      <th>2</th>\n",
              "      <td>B085J1J32G</td>\n",
              "      <td>Samsung Galaxy M51 (Electric Blue, 6GB RAM, 12...</td>\n",
              "      <td>Samsung</td>\n",
              "      <td>Amazon</td>\n",
              "      <td>https://amzn.eu/d/bOFfVHI</td>\n",
              "      <td>Bulky, and Back side chrome finish is faulty</td>\n",
              "      <td>[back, side, chrome, finish, started, like, sc...</td>\n",
              "      <td>Pro-tan International</td>\n",
              "      <td>4</td>\n",
              "      <td>0.100000</td>\n",
              "      <td>0.150000</td>\n",
              "      <td>Positive</td>\n",
              "    </tr>\n",
              "    <tr>\n",
              "      <th>3</th>\n",
              "      <td>B085J1J32G</td>\n",
              "      <td>Samsung Galaxy M51 (Electric Blue, 6GB RAM, 12...</td>\n",
              "      <td>Samsung</td>\n",
              "      <td>Amazon</td>\n",
              "      <td>https://amzn.eu/d/bOFfVHI</td>\n",
              "      <td>Good product with some drawback</td>\n",
              "      <td>[battery, life, extraordinary, need, carrying,...</td>\n",
              "      <td>sai krishna</td>\n",
              "      <td>4</td>\n",
              "      <td>0.132500</td>\n",
              "      <td>0.622500</td>\n",
              "      <td>Positive</td>\n",
              "    </tr>\n",
              "    <tr>\n",
              "      <th>4</th>\n",
              "      <td>B085J1J32G</td>\n",
              "      <td>Samsung Galaxy M51 (Electric Blue, 6GB RAM, 12...</td>\n",
              "      <td>Samsung</td>\n",
              "      <td>Amazon</td>\n",
              "      <td>https://amzn.eu/d/bOFfVHI</td>\n",
              "      <td>The best phone you could buy</td>\n",
              "      <td>[im, writing, review, year, purchase, even, us...</td>\n",
              "      <td>vicky</td>\n",
              "      <td>5</td>\n",
              "      <td>0.325714</td>\n",
              "      <td>0.587857</td>\n",
              "      <td>Positive</td>\n",
              "    </tr>\n",
              "    <tr>\n",
              "      <th>...</th>\n",
              "      <td>...</td>\n",
              "      <td>...</td>\n",
              "      <td>...</td>\n",
              "      <td>...</td>\n",
              "      <td>...</td>\n",
              "      <td>...</td>\n",
              "      <td>...</td>\n",
              "      <td>...</td>\n",
              "      <td>...</td>\n",
              "      <td>...</td>\n",
              "      <td>...</td>\n",
              "      <td>...</td>\n",
              "    </tr>\n",
              "    <tr>\n",
              "      <th>1678</th>\n",
              "      <td>B08FN6WGDQ</td>\n",
              "      <td>Samsung Galaxy Buds Live Bluetooth Truly Wirel...</td>\n",
              "      <td>Samsung</td>\n",
              "      <td>Amazon</td>\n",
              "      <td>https://www.amazon.in/Samsung-Galaxy-SM-R180NZ...</td>\n",
              "      <td>Itâ€™s Good</td>\n",
              "      <td>[bought, festive, season, sale, itâ€™s, worth,...</td>\n",
              "      <td>Diwakar Nayal</td>\n",
              "      <td>3</td>\n",
              "      <td>0.184667</td>\n",
              "      <td>0.614667</td>\n",
              "      <td>Positive</td>\n",
              "    </tr>\n",
              "    <tr>\n",
              "      <th>1679</th>\n",
              "      <td>B08FN6WGDQ</td>\n",
              "      <td>Samsung Galaxy Buds Live Bluetooth Truly Wirel...</td>\n",
              "      <td>Samsung</td>\n",
              "      <td>Amazon</td>\n",
              "      <td>https://www.amazon.in/Samsung-Galaxy-SM-R180NZ...</td>\n",
              "      <td>NOT WORTH IT</td>\n",
              "      <td>[pro, good, finish, quality, good, battery, li...</td>\n",
              "      <td>Sainathan Arumugam</td>\n",
              "      <td>3</td>\n",
              "      <td>0.217949</td>\n",
              "      <td>0.496062</td>\n",
              "      <td>Positive</td>\n",
              "    </tr>\n",
              "    <tr>\n",
              "      <th>1680</th>\n",
              "      <td>B08FN6WGDQ</td>\n",
              "      <td>Samsung Galaxy Buds Live Bluetooth Truly Wirel...</td>\n",
              "      <td>Samsung</td>\n",
              "      <td>Amazon</td>\n",
              "      <td>https://www.amazon.in/Samsung-Galaxy-SM-R180NZ...</td>\n",
              "      <td>Good purchase</td>\n",
              "      <td>[first, sent, defective, one, alwaysss, happen...</td>\n",
              "      <td>Naveen B.</td>\n",
              "      <td>5</td>\n",
              "      <td>0.329509</td>\n",
              "      <td>0.549206</td>\n",
              "      <td>Positive</td>\n",
              "    </tr>\n",
              "    <tr>\n",
              "      <th>1683</th>\n",
              "      <td>B08FN6WGDQ</td>\n",
              "      <td>Samsung Galaxy Buds Live Bluetooth Truly Wirel...</td>\n",
              "      <td>Samsung</td>\n",
              "      <td>Amazon</td>\n",
              "      <td>https://www.amazon.in/Samsung-Galaxy-SM-R180NZ...</td>\n",
              "      <td>Affordable earbuds</td>\n",
              "      <td>[sound, loud, somewhat, clear, echo, receiver,...</td>\n",
              "      <td>shahid patel</td>\n",
              "      <td>4</td>\n",
              "      <td>0.200000</td>\n",
              "      <td>0.527778</td>\n",
              "      <td>Positive</td>\n",
              "    </tr>\n",
              "    <tr>\n",
              "      <th>1684</th>\n",
              "      <td>B08FN6WGDQ</td>\n",
              "      <td>Samsung Galaxy Buds Live Bluetooth Truly Wirel...</td>\n",
              "      <td>Samsung</td>\n",
              "      <td>Amazon</td>\n",
              "      <td>https://www.amazon.in/Samsung-Galaxy-SM-R180NZ...</td>\n",
              "      <td>Buy this only for design and few not so import...</td>\n",
              "      <td>[loved, style, sound, isnt, great, neither, su...</td>\n",
              "      <td>Manas</td>\n",
              "      <td>4</td>\n",
              "      <td>0.466667</td>\n",
              "      <td>0.475000</td>\n",
              "      <td>Positive</td>\n",
              "    </tr>\n",
              "  </tbody>\n",
              "</table>\n",
              "<p>799 rows × 12 columns</p>\n",
              "</div>\n",
              "      <button class=\"colab-df-convert\" onclick=\"convertToInteractive('df-c9652673-f5e9-4181-a902-b7040b4386b4')\"\n",
              "              title=\"Convert this dataframe to an interactive table.\"\n",
              "              style=\"display:none;\">\n",
              "        \n",
              "  <svg xmlns=\"http://www.w3.org/2000/svg\" height=\"24px\"viewBox=\"0 0 24 24\"\n",
              "       width=\"24px\">\n",
              "    <path d=\"M0 0h24v24H0V0z\" fill=\"none\"/>\n",
              "    <path d=\"M18.56 5.44l.94 2.06.94-2.06 2.06-.94-2.06-.94-.94-2.06-.94 2.06-2.06.94zm-11 1L8.5 8.5l.94-2.06 2.06-.94-2.06-.94L8.5 2.5l-.94 2.06-2.06.94zm10 10l.94 2.06.94-2.06 2.06-.94-2.06-.94-.94-2.06-.94 2.06-2.06.94z\"/><path d=\"M17.41 7.96l-1.37-1.37c-.4-.4-.92-.59-1.43-.59-.52 0-1.04.2-1.43.59L10.3 9.45l-7.72 7.72c-.78.78-.78 2.05 0 2.83L4 21.41c.39.39.9.59 1.41.59.51 0 1.02-.2 1.41-.59l7.78-7.78 2.81-2.81c.8-.78.8-2.07 0-2.86zM5.41 20L4 18.59l7.72-7.72 1.47 1.35L5.41 20z\"/>\n",
              "  </svg>\n",
              "      </button>\n",
              "      \n",
              "  <style>\n",
              "    .colab-df-container {\n",
              "      display:flex;\n",
              "      flex-wrap:wrap;\n",
              "      gap: 12px;\n",
              "    }\n",
              "\n",
              "    .colab-df-convert {\n",
              "      background-color: #E8F0FE;\n",
              "      border: none;\n",
              "      border-radius: 50%;\n",
              "      cursor: pointer;\n",
              "      display: none;\n",
              "      fill: #1967D2;\n",
              "      height: 32px;\n",
              "      padding: 0 0 0 0;\n",
              "      width: 32px;\n",
              "    }\n",
              "\n",
              "    .colab-df-convert:hover {\n",
              "      background-color: #E2EBFA;\n",
              "      box-shadow: 0px 1px 2px rgba(60, 64, 67, 0.3), 0px 1px 3px 1px rgba(60, 64, 67, 0.15);\n",
              "      fill: #174EA6;\n",
              "    }\n",
              "\n",
              "    [theme=dark] .colab-df-convert {\n",
              "      background-color: #3B4455;\n",
              "      fill: #D2E3FC;\n",
              "    }\n",
              "\n",
              "    [theme=dark] .colab-df-convert:hover {\n",
              "      background-color: #434B5C;\n",
              "      box-shadow: 0px 1px 3px 1px rgba(0, 0, 0, 0.15);\n",
              "      filter: drop-shadow(0px 1px 2px rgba(0, 0, 0, 0.3));\n",
              "      fill: #FFFFFF;\n",
              "    }\n",
              "  </style>\n",
              "\n",
              "      <script>\n",
              "        const buttonEl =\n",
              "          document.querySelector('#df-c9652673-f5e9-4181-a902-b7040b4386b4 button.colab-df-convert');\n",
              "        buttonEl.style.display =\n",
              "          google.colab.kernel.accessAllowed ? 'block' : 'none';\n",
              "\n",
              "        async function convertToInteractive(key) {\n",
              "          const element = document.querySelector('#df-c9652673-f5e9-4181-a902-b7040b4386b4');\n",
              "          const dataTable =\n",
              "            await google.colab.kernel.invokeFunction('convertToInteractive',\n",
              "                                                     [key], {});\n",
              "          if (!dataTable) return;\n",
              "\n",
              "          const docLinkHtml = 'Like what you see? Visit the ' +\n",
              "            '<a target=\"_blank\" href=https://colab.research.google.com/notebooks/data_table.ipynb>data table notebook</a>'\n",
              "            + ' to learn more about interactive tables.';\n",
              "          element.innerHTML = '';\n",
              "          dataTable['output_type'] = 'display_data';\n",
              "          await google.colab.output.renderOutput(dataTable, element);\n",
              "          const docLink = document.createElement('div');\n",
              "          docLink.innerHTML = docLinkHtml;\n",
              "          element.appendChild(docLink);\n",
              "        }\n",
              "      </script>\n",
              "    </div>\n",
              "  </div>\n",
              "  "
            ]
          },
          "metadata": {},
          "execution_count": 26
        }
      ]
    },
    {
      "cell_type": "markdown",
      "source": [
        "Lemmatization"
      ],
      "metadata": {
        "id": "9ICX436zqh2M"
      }
    },
    {
      "cell_type": "code",
      "source": [
        "from nltk.stem import WordNetLemmatizer\n",
        "#defining the object for Lemmatization\n",
        "wordnet_lemmatizer = WordNetLemmatizer()\n",
        ""
      ],
      "metadata": {
        "id": "b0Zh8p9xpbp7"
      },
      "execution_count": null,
      "outputs": []
    },
    {
      "cell_type": "code",
      "source": [
        "df['review_text'] = df['review_text'].apply(lambda x: [wordnet_lemmatizer.lemmatize(y) for y in x])\n",
        "df"
      ],
      "metadata": {
        "colab": {
          "base_uri": "https://localhost:8080/",
          "height": 1000
        },
        "id": "GmKkPZu1qqIo",
        "outputId": "7f6001a7-a319-441a-aa0d-8b547ce88847"
      },
      "execution_count": null,
      "outputs": [
        {
          "output_type": "execute_result",
          "data": {
            "text/plain": [
              "      product_id                                       product_name    brand  \\\n",
              "0     B085J1J32G  Samsung Galaxy M51 (Electric Blue, 6GB RAM, 12...  Samsung   \n",
              "1     B085J1J32G  Samsung Galaxy M51 (Electric Blue, 6GB RAM, 12...  Samsung   \n",
              "2     B085J1J32G  Samsung Galaxy M51 (Electric Blue, 6GB RAM, 12...  Samsung   \n",
              "3     B085J1J32G  Samsung Galaxy M51 (Electric Blue, 6GB RAM, 12...  Samsung   \n",
              "4     B085J1J32G  Samsung Galaxy M51 (Electric Blue, 6GB RAM, 12...  Samsung   \n",
              "...          ...                                                ...      ...   \n",
              "1678  B08FN6WGDQ  Samsung Galaxy Buds Live Bluetooth Truly Wirel...  Samsung   \n",
              "1679  B08FN6WGDQ  Samsung Galaxy Buds Live Bluetooth Truly Wirel...  Samsung   \n",
              "1680  B08FN6WGDQ  Samsung Galaxy Buds Live Bluetooth Truly Wirel...  Samsung   \n",
              "1683  B08FN6WGDQ  Samsung Galaxy Buds Live Bluetooth Truly Wirel...  Samsung   \n",
              "1684  B08FN6WGDQ  Samsung Galaxy Buds Live Bluetooth Truly Wirel...  Samsung   \n",
              "\n",
              "     website                                         source_URL  \\\n",
              "0     Amazon                          https://amzn.eu/d/bOFfVHI   \n",
              "1     Amazon                          https://amzn.eu/d/bOFfVHI   \n",
              "2     Amazon                          https://amzn.eu/d/bOFfVHI   \n",
              "3     Amazon                          https://amzn.eu/d/bOFfVHI   \n",
              "4     Amazon                          https://amzn.eu/d/bOFfVHI   \n",
              "...      ...                                                ...   \n",
              "1678  Amazon  https://www.amazon.in/Samsung-Galaxy-SM-R180NZ...   \n",
              "1679  Amazon  https://www.amazon.in/Samsung-Galaxy-SM-R180NZ...   \n",
              "1680  Amazon  https://www.amazon.in/Samsung-Galaxy-SM-R180NZ...   \n",
              "1683  Amazon  https://www.amazon.in/Samsung-Galaxy-SM-R180NZ...   \n",
              "1684  Amazon  https://www.amazon.in/Samsung-Galaxy-SM-R180NZ...   \n",
              "\n",
              "                                           review_title  \\\n",
              "0                                          Worst mobile   \n",
              "1                               Average mid-range phone   \n",
              "2          Bulky, and Back side chrome finish is faulty   \n",
              "3                       Good product with some drawback   \n",
              "4                          The best phone you could buy   \n",
              "...                                                 ...   \n",
              "1678                                        Itâ€™s Good   \n",
              "1679                                       NOT WORTH IT   \n",
              "1680                                      Good purchase   \n",
              "1683                                 Affordable earbuds   \n",
              "1684  Buy this only for design and few not so import...   \n",
              "\n",
              "                                            review_text  \\\n",
              "0                             [worst, display, quality]   \n",
              "1     [battery, good, great, advertisedruns, oneui, ...   \n",
              "2     [back, side, chrome, finish, started, like, sc...   \n",
              "3     [battery, life, extraordinary, need, carrying,...   \n",
              "4     [im, writing, review, year, purchase, even, us...   \n",
              "...                                                 ...   \n",
              "1678  [bought, festive, season, sale, itâ€™s, worth,...   \n",
              "1679  [pro, good, finish, quality, good, battery, li...   \n",
              "1680  [first, sent, defective, one, alwaysss, happen...   \n",
              "1683  [sound, loud, somewhat, clear, echo, receiver,...   \n",
              "1684  [loved, style, sound, isnt, great, neither, su...   \n",
              "\n",
              "              reviewer_name rating  polarity  subjectivity     Class  \n",
              "0                 PHALAKSHA      1 -1.000000      1.000000  Negative  \n",
              "1                   Snehith      3  0.333333      0.650000  Positive  \n",
              "2     Pro-tan International      4  0.100000      0.150000  Positive  \n",
              "3               sai krishna      4  0.132500      0.622500  Positive  \n",
              "4                     vicky      5  0.325714      0.587857  Positive  \n",
              "...                     ...    ...       ...           ...       ...  \n",
              "1678          Diwakar Nayal      3  0.184667      0.614667  Positive  \n",
              "1679     Sainathan Arumugam      3  0.217949      0.496062  Positive  \n",
              "1680              Naveen B.      5  0.329509      0.549206  Positive  \n",
              "1683           shahid patel      4  0.200000      0.527778  Positive  \n",
              "1684                  Manas      4  0.466667      0.475000  Positive  \n",
              "\n",
              "[799 rows x 12 columns]"
            ],
            "text/html": [
              "\n",
              "  <div id=\"df-1845abab-679d-4f3e-9c7d-6873126a6f18\">\n",
              "    <div class=\"colab-df-container\">\n",
              "      <div>\n",
              "<style scoped>\n",
              "    .dataframe tbody tr th:only-of-type {\n",
              "        vertical-align: middle;\n",
              "    }\n",
              "\n",
              "    .dataframe tbody tr th {\n",
              "        vertical-align: top;\n",
              "    }\n",
              "\n",
              "    .dataframe thead th {\n",
              "        text-align: right;\n",
              "    }\n",
              "</style>\n",
              "<table border=\"1\" class=\"dataframe\">\n",
              "  <thead>\n",
              "    <tr style=\"text-align: right;\">\n",
              "      <th></th>\n",
              "      <th>product_id</th>\n",
              "      <th>product_name</th>\n",
              "      <th>brand</th>\n",
              "      <th>website</th>\n",
              "      <th>source_URL</th>\n",
              "      <th>review_title</th>\n",
              "      <th>review_text</th>\n",
              "      <th>reviewer_name</th>\n",
              "      <th>rating</th>\n",
              "      <th>polarity</th>\n",
              "      <th>subjectivity</th>\n",
              "      <th>Class</th>\n",
              "    </tr>\n",
              "  </thead>\n",
              "  <tbody>\n",
              "    <tr>\n",
              "      <th>0</th>\n",
              "      <td>B085J1J32G</td>\n",
              "      <td>Samsung Galaxy M51 (Electric Blue, 6GB RAM, 12...</td>\n",
              "      <td>Samsung</td>\n",
              "      <td>Amazon</td>\n",
              "      <td>https://amzn.eu/d/bOFfVHI</td>\n",
              "      <td>Worst mobile</td>\n",
              "      <td>[worst, display, quality]</td>\n",
              "      <td>PHALAKSHA</td>\n",
              "      <td>1</td>\n",
              "      <td>-1.000000</td>\n",
              "      <td>1.000000</td>\n",
              "      <td>Negative</td>\n",
              "    </tr>\n",
              "    <tr>\n",
              "      <th>1</th>\n",
              "      <td>B085J1J32G</td>\n",
              "      <td>Samsung Galaxy M51 (Electric Blue, 6GB RAM, 12...</td>\n",
              "      <td>Samsung</td>\n",
              "      <td>Amazon</td>\n",
              "      <td>https://amzn.eu/d/bOFfVHI</td>\n",
              "      <td>Average mid-range phone</td>\n",
              "      <td>[battery, good, great, advertisedruns, oneui, ...</td>\n",
              "      <td>Snehith</td>\n",
              "      <td>3</td>\n",
              "      <td>0.333333</td>\n",
              "      <td>0.650000</td>\n",
              "      <td>Positive</td>\n",
              "    </tr>\n",
              "    <tr>\n",
              "      <th>2</th>\n",
              "      <td>B085J1J32G</td>\n",
              "      <td>Samsung Galaxy M51 (Electric Blue, 6GB RAM, 12...</td>\n",
              "      <td>Samsung</td>\n",
              "      <td>Amazon</td>\n",
              "      <td>https://amzn.eu/d/bOFfVHI</td>\n",
              "      <td>Bulky, and Back side chrome finish is faulty</td>\n",
              "      <td>[back, side, chrome, finish, started, like, sc...</td>\n",
              "      <td>Pro-tan International</td>\n",
              "      <td>4</td>\n",
              "      <td>0.100000</td>\n",
              "      <td>0.150000</td>\n",
              "      <td>Positive</td>\n",
              "    </tr>\n",
              "    <tr>\n",
              "      <th>3</th>\n",
              "      <td>B085J1J32G</td>\n",
              "      <td>Samsung Galaxy M51 (Electric Blue, 6GB RAM, 12...</td>\n",
              "      <td>Samsung</td>\n",
              "      <td>Amazon</td>\n",
              "      <td>https://amzn.eu/d/bOFfVHI</td>\n",
              "      <td>Good product with some drawback</td>\n",
              "      <td>[battery, life, extraordinary, need, carrying,...</td>\n",
              "      <td>sai krishna</td>\n",
              "      <td>4</td>\n",
              "      <td>0.132500</td>\n",
              "      <td>0.622500</td>\n",
              "      <td>Positive</td>\n",
              "    </tr>\n",
              "    <tr>\n",
              "      <th>4</th>\n",
              "      <td>B085J1J32G</td>\n",
              "      <td>Samsung Galaxy M51 (Electric Blue, 6GB RAM, 12...</td>\n",
              "      <td>Samsung</td>\n",
              "      <td>Amazon</td>\n",
              "      <td>https://amzn.eu/d/bOFfVHI</td>\n",
              "      <td>The best phone you could buy</td>\n",
              "      <td>[im, writing, review, year, purchase, even, us...</td>\n",
              "      <td>vicky</td>\n",
              "      <td>5</td>\n",
              "      <td>0.325714</td>\n",
              "      <td>0.587857</td>\n",
              "      <td>Positive</td>\n",
              "    </tr>\n",
              "    <tr>\n",
              "      <th>...</th>\n",
              "      <td>...</td>\n",
              "      <td>...</td>\n",
              "      <td>...</td>\n",
              "      <td>...</td>\n",
              "      <td>...</td>\n",
              "      <td>...</td>\n",
              "      <td>...</td>\n",
              "      <td>...</td>\n",
              "      <td>...</td>\n",
              "      <td>...</td>\n",
              "      <td>...</td>\n",
              "      <td>...</td>\n",
              "    </tr>\n",
              "    <tr>\n",
              "      <th>1678</th>\n",
              "      <td>B08FN6WGDQ</td>\n",
              "      <td>Samsung Galaxy Buds Live Bluetooth Truly Wirel...</td>\n",
              "      <td>Samsung</td>\n",
              "      <td>Amazon</td>\n",
              "      <td>https://www.amazon.in/Samsung-Galaxy-SM-R180NZ...</td>\n",
              "      <td>Itâ€™s Good</td>\n",
              "      <td>[bought, festive, season, sale, itâ€™s, worth,...</td>\n",
              "      <td>Diwakar Nayal</td>\n",
              "      <td>3</td>\n",
              "      <td>0.184667</td>\n",
              "      <td>0.614667</td>\n",
              "      <td>Positive</td>\n",
              "    </tr>\n",
              "    <tr>\n",
              "      <th>1679</th>\n",
              "      <td>B08FN6WGDQ</td>\n",
              "      <td>Samsung Galaxy Buds Live Bluetooth Truly Wirel...</td>\n",
              "      <td>Samsung</td>\n",
              "      <td>Amazon</td>\n",
              "      <td>https://www.amazon.in/Samsung-Galaxy-SM-R180NZ...</td>\n",
              "      <td>NOT WORTH IT</td>\n",
              "      <td>[pro, good, finish, quality, good, battery, li...</td>\n",
              "      <td>Sainathan Arumugam</td>\n",
              "      <td>3</td>\n",
              "      <td>0.217949</td>\n",
              "      <td>0.496062</td>\n",
              "      <td>Positive</td>\n",
              "    </tr>\n",
              "    <tr>\n",
              "      <th>1680</th>\n",
              "      <td>B08FN6WGDQ</td>\n",
              "      <td>Samsung Galaxy Buds Live Bluetooth Truly Wirel...</td>\n",
              "      <td>Samsung</td>\n",
              "      <td>Amazon</td>\n",
              "      <td>https://www.amazon.in/Samsung-Galaxy-SM-R180NZ...</td>\n",
              "      <td>Good purchase</td>\n",
              "      <td>[first, sent, defective, one, alwaysss, happen...</td>\n",
              "      <td>Naveen B.</td>\n",
              "      <td>5</td>\n",
              "      <td>0.329509</td>\n",
              "      <td>0.549206</td>\n",
              "      <td>Positive</td>\n",
              "    </tr>\n",
              "    <tr>\n",
              "      <th>1683</th>\n",
              "      <td>B08FN6WGDQ</td>\n",
              "      <td>Samsung Galaxy Buds Live Bluetooth Truly Wirel...</td>\n",
              "      <td>Samsung</td>\n",
              "      <td>Amazon</td>\n",
              "      <td>https://www.amazon.in/Samsung-Galaxy-SM-R180NZ...</td>\n",
              "      <td>Affordable earbuds</td>\n",
              "      <td>[sound, loud, somewhat, clear, echo, receiver,...</td>\n",
              "      <td>shahid patel</td>\n",
              "      <td>4</td>\n",
              "      <td>0.200000</td>\n",
              "      <td>0.527778</td>\n",
              "      <td>Positive</td>\n",
              "    </tr>\n",
              "    <tr>\n",
              "      <th>1684</th>\n",
              "      <td>B08FN6WGDQ</td>\n",
              "      <td>Samsung Galaxy Buds Live Bluetooth Truly Wirel...</td>\n",
              "      <td>Samsung</td>\n",
              "      <td>Amazon</td>\n",
              "      <td>https://www.amazon.in/Samsung-Galaxy-SM-R180NZ...</td>\n",
              "      <td>Buy this only for design and few not so import...</td>\n",
              "      <td>[loved, style, sound, isnt, great, neither, su...</td>\n",
              "      <td>Manas</td>\n",
              "      <td>4</td>\n",
              "      <td>0.466667</td>\n",
              "      <td>0.475000</td>\n",
              "      <td>Positive</td>\n",
              "    </tr>\n",
              "  </tbody>\n",
              "</table>\n",
              "<p>799 rows × 12 columns</p>\n",
              "</div>\n",
              "      <button class=\"colab-df-convert\" onclick=\"convertToInteractive('df-1845abab-679d-4f3e-9c7d-6873126a6f18')\"\n",
              "              title=\"Convert this dataframe to an interactive table.\"\n",
              "              style=\"display:none;\">\n",
              "        \n",
              "  <svg xmlns=\"http://www.w3.org/2000/svg\" height=\"24px\"viewBox=\"0 0 24 24\"\n",
              "       width=\"24px\">\n",
              "    <path d=\"M0 0h24v24H0V0z\" fill=\"none\"/>\n",
              "    <path d=\"M18.56 5.44l.94 2.06.94-2.06 2.06-.94-2.06-.94-.94-2.06-.94 2.06-2.06.94zm-11 1L8.5 8.5l.94-2.06 2.06-.94-2.06-.94L8.5 2.5l-.94 2.06-2.06.94zm10 10l.94 2.06.94-2.06 2.06-.94-2.06-.94-.94-2.06-.94 2.06-2.06.94z\"/><path d=\"M17.41 7.96l-1.37-1.37c-.4-.4-.92-.59-1.43-.59-.52 0-1.04.2-1.43.59L10.3 9.45l-7.72 7.72c-.78.78-.78 2.05 0 2.83L4 21.41c.39.39.9.59 1.41.59.51 0 1.02-.2 1.41-.59l7.78-7.78 2.81-2.81c.8-.78.8-2.07 0-2.86zM5.41 20L4 18.59l7.72-7.72 1.47 1.35L5.41 20z\"/>\n",
              "  </svg>\n",
              "      </button>\n",
              "      \n",
              "  <style>\n",
              "    .colab-df-container {\n",
              "      display:flex;\n",
              "      flex-wrap:wrap;\n",
              "      gap: 12px;\n",
              "    }\n",
              "\n",
              "    .colab-df-convert {\n",
              "      background-color: #E8F0FE;\n",
              "      border: none;\n",
              "      border-radius: 50%;\n",
              "      cursor: pointer;\n",
              "      display: none;\n",
              "      fill: #1967D2;\n",
              "      height: 32px;\n",
              "      padding: 0 0 0 0;\n",
              "      width: 32px;\n",
              "    }\n",
              "\n",
              "    .colab-df-convert:hover {\n",
              "      background-color: #E2EBFA;\n",
              "      box-shadow: 0px 1px 2px rgba(60, 64, 67, 0.3), 0px 1px 3px 1px rgba(60, 64, 67, 0.15);\n",
              "      fill: #174EA6;\n",
              "    }\n",
              "\n",
              "    [theme=dark] .colab-df-convert {\n",
              "      background-color: #3B4455;\n",
              "      fill: #D2E3FC;\n",
              "    }\n",
              "\n",
              "    [theme=dark] .colab-df-convert:hover {\n",
              "      background-color: #434B5C;\n",
              "      box-shadow: 0px 1px 3px 1px rgba(0, 0, 0, 0.15);\n",
              "      filter: drop-shadow(0px 1px 2px rgba(0, 0, 0, 0.3));\n",
              "      fill: #FFFFFF;\n",
              "    }\n",
              "  </style>\n",
              "\n",
              "      <script>\n",
              "        const buttonEl =\n",
              "          document.querySelector('#df-1845abab-679d-4f3e-9c7d-6873126a6f18 button.colab-df-convert');\n",
              "        buttonEl.style.display =\n",
              "          google.colab.kernel.accessAllowed ? 'block' : 'none';\n",
              "\n",
              "        async function convertToInteractive(key) {\n",
              "          const element = document.querySelector('#df-1845abab-679d-4f3e-9c7d-6873126a6f18');\n",
              "          const dataTable =\n",
              "            await google.colab.kernel.invokeFunction('convertToInteractive',\n",
              "                                                     [key], {});\n",
              "          if (!dataTable) return;\n",
              "\n",
              "          const docLinkHtml = 'Like what you see? Visit the ' +\n",
              "            '<a target=\"_blank\" href=https://colab.research.google.com/notebooks/data_table.ipynb>data table notebook</a>'\n",
              "            + ' to learn more about interactive tables.';\n",
              "          element.innerHTML = '';\n",
              "          dataTable['output_type'] = 'display_data';\n",
              "          await google.colab.output.renderOutput(dataTable, element);\n",
              "          const docLink = document.createElement('div');\n",
              "          docLink.innerHTML = docLinkHtml;\n",
              "          element.appendChild(docLink);\n",
              "        }\n",
              "      </script>\n",
              "    </div>\n",
              "  </div>\n",
              "  "
            ]
          },
          "metadata": {},
          "execution_count": 28
        }
      ]
    },
    {
      "cell_type": "code",
      "source": [
        "import matplotlib.pyplot as plt"
      ],
      "metadata": {
        "id": "kwUzGlT7rBIp"
      },
      "execution_count": null,
      "outputs": []
    },
    {
      "cell_type": "code",
      "source": [
        "# distribution of the three classes\n",
        "df['Class'].value_counts()\n",
        "\n"
      ],
      "metadata": {
        "colab": {
          "base_uri": "https://localhost:8080/"
        },
        "id": "YX5hIS-ErG3T",
        "outputId": "4e275bc7-5aaf-42bc-e3a5-d2310c5f12e9"
      },
      "execution_count": null,
      "outputs": [
        {
          "output_type": "execute_result",
          "data": {
            "text/plain": [
              "Positive    614\n",
              "Negative     99\n",
              "Neutral      86\n",
              "Name: Class, dtype: int64"
            ]
          },
          "metadata": {},
          "execution_count": 30
        }
      ]
    },
    {
      "cell_type": "code",
      "source": [
        "pcomment = df[df.Class == 'Positive'][:614]\n",
        "pcomment"
      ],
      "metadata": {
        "colab": {
          "base_uri": "https://localhost:8080/",
          "height": 1000
        },
        "id": "DfU-nbLurexb",
        "outputId": "0ceea72d-e3ed-4d00-9e37-8a674d2fd8a1"
      },
      "execution_count": null,
      "outputs": [
        {
          "output_type": "execute_result",
          "data": {
            "text/plain": [
              "      product_id                                       product_name    brand  \\\n",
              "1     B085J1J32G  Samsung Galaxy M51 (Electric Blue, 6GB RAM, 12...  Samsung   \n",
              "2     B085J1J32G  Samsung Galaxy M51 (Electric Blue, 6GB RAM, 12...  Samsung   \n",
              "3     B085J1J32G  Samsung Galaxy M51 (Electric Blue, 6GB RAM, 12...  Samsung   \n",
              "4     B085J1J32G  Samsung Galaxy M51 (Electric Blue, 6GB RAM, 12...  Samsung   \n",
              "8     B089MQ622N     Samsung Galaxy M01 Core (Black, 2GB RAM, 32GB)  Samsung   \n",
              "...          ...                                                ...      ...   \n",
              "1678  B08FN6WGDQ  Samsung Galaxy Buds Live Bluetooth Truly Wirel...  Samsung   \n",
              "1679  B08FN6WGDQ  Samsung Galaxy Buds Live Bluetooth Truly Wirel...  Samsung   \n",
              "1680  B08FN6WGDQ  Samsung Galaxy Buds Live Bluetooth Truly Wirel...  Samsung   \n",
              "1683  B08FN6WGDQ  Samsung Galaxy Buds Live Bluetooth Truly Wirel...  Samsung   \n",
              "1684  B08FN6WGDQ  Samsung Galaxy Buds Live Bluetooth Truly Wirel...  Samsung   \n",
              "\n",
              "     website                                         source_URL  \\\n",
              "1     Amazon                          https://amzn.eu/d/bOFfVHI   \n",
              "2     Amazon                          https://amzn.eu/d/bOFfVHI   \n",
              "3     Amazon                          https://amzn.eu/d/bOFfVHI   \n",
              "4     Amazon                          https://amzn.eu/d/bOFfVHI   \n",
              "8     Amazon                          https://amzn.eu/d/dN2SGFv   \n",
              "...      ...                                                ...   \n",
              "1678  Amazon  https://www.amazon.in/Samsung-Galaxy-SM-R180NZ...   \n",
              "1679  Amazon  https://www.amazon.in/Samsung-Galaxy-SM-R180NZ...   \n",
              "1680  Amazon  https://www.amazon.in/Samsung-Galaxy-SM-R180NZ...   \n",
              "1683  Amazon  https://www.amazon.in/Samsung-Galaxy-SM-R180NZ...   \n",
              "1684  Amazon  https://www.amazon.in/Samsung-Galaxy-SM-R180NZ...   \n",
              "\n",
              "                                           review_title  \\\n",
              "1                               Average mid-range phone   \n",
              "2          Bulky, and Back side chrome finish is faulty   \n",
              "3                       Good product with some drawback   \n",
              "4                          The best phone you could buy   \n",
              "8                         Good Budget Phone for Elders.   \n",
              "...                                                 ...   \n",
              "1678                                        Itâ€™s Good   \n",
              "1679                                       NOT WORTH IT   \n",
              "1680                                      Good purchase   \n",
              "1683                                 Affordable earbuds   \n",
              "1684  Buy this only for design and few not so import...   \n",
              "\n",
              "                                            review_text  \\\n",
              "1     [battery, good, great, advertisedruns, oneui, ...   \n",
              "2     [back, side, chrome, finish, started, like, sc...   \n",
              "3     [battery, life, extraordinary, need, carrying,...   \n",
              "4     [im, writing, review, year, purchase, even, us...   \n",
              "8     [samsung, galaxy, m01, core,2gb,32gb, decent, ...   \n",
              "...                                                 ...   \n",
              "1678  [bought, festive, season, sale, itâ€™s, worth,...   \n",
              "1679  [pro, good, finish, quality, good, battery, li...   \n",
              "1680  [first, sent, defective, one, alwaysss, happen...   \n",
              "1683  [sound, loud, somewhat, clear, echo, receiver,...   \n",
              "1684  [loved, style, sound, isnt, great, neither, su...   \n",
              "\n",
              "              reviewer_name rating  polarity  subjectivity     Class  \n",
              "1                   Snehith      3  0.333333      0.650000  Positive  \n",
              "2     Pro-tan International      4  0.100000      0.150000  Positive  \n",
              "3               sai krishna      4  0.132500      0.622500  Positive  \n",
              "4                     vicky      5  0.325714      0.587857  Positive  \n",
              "8       Abhijit Kumar Sahoo      4  0.152381      0.584524  Positive  \n",
              "...                     ...    ...       ...           ...       ...  \n",
              "1678          Diwakar Nayal      3  0.184667      0.614667  Positive  \n",
              "1679     Sainathan Arumugam      3  0.217949      0.496062  Positive  \n",
              "1680              Naveen B.      5  0.329509      0.549206  Positive  \n",
              "1683           shahid patel      4  0.200000      0.527778  Positive  \n",
              "1684                  Manas      4  0.466667      0.475000  Positive  \n",
              "\n",
              "[614 rows x 12 columns]"
            ],
            "text/html": [
              "\n",
              "  <div id=\"df-4419582e-a83d-40ce-a809-8d72d88df7e4\">\n",
              "    <div class=\"colab-df-container\">\n",
              "      <div>\n",
              "<style scoped>\n",
              "    .dataframe tbody tr th:only-of-type {\n",
              "        vertical-align: middle;\n",
              "    }\n",
              "\n",
              "    .dataframe tbody tr th {\n",
              "        vertical-align: top;\n",
              "    }\n",
              "\n",
              "    .dataframe thead th {\n",
              "        text-align: right;\n",
              "    }\n",
              "</style>\n",
              "<table border=\"1\" class=\"dataframe\">\n",
              "  <thead>\n",
              "    <tr style=\"text-align: right;\">\n",
              "      <th></th>\n",
              "      <th>product_id</th>\n",
              "      <th>product_name</th>\n",
              "      <th>brand</th>\n",
              "      <th>website</th>\n",
              "      <th>source_URL</th>\n",
              "      <th>review_title</th>\n",
              "      <th>review_text</th>\n",
              "      <th>reviewer_name</th>\n",
              "      <th>rating</th>\n",
              "      <th>polarity</th>\n",
              "      <th>subjectivity</th>\n",
              "      <th>Class</th>\n",
              "    </tr>\n",
              "  </thead>\n",
              "  <tbody>\n",
              "    <tr>\n",
              "      <th>1</th>\n",
              "      <td>B085J1J32G</td>\n",
              "      <td>Samsung Galaxy M51 (Electric Blue, 6GB RAM, 12...</td>\n",
              "      <td>Samsung</td>\n",
              "      <td>Amazon</td>\n",
              "      <td>https://amzn.eu/d/bOFfVHI</td>\n",
              "      <td>Average mid-range phone</td>\n",
              "      <td>[battery, good, great, advertisedruns, oneui, ...</td>\n",
              "      <td>Snehith</td>\n",
              "      <td>3</td>\n",
              "      <td>0.333333</td>\n",
              "      <td>0.650000</td>\n",
              "      <td>Positive</td>\n",
              "    </tr>\n",
              "    <tr>\n",
              "      <th>2</th>\n",
              "      <td>B085J1J32G</td>\n",
              "      <td>Samsung Galaxy M51 (Electric Blue, 6GB RAM, 12...</td>\n",
              "      <td>Samsung</td>\n",
              "      <td>Amazon</td>\n",
              "      <td>https://amzn.eu/d/bOFfVHI</td>\n",
              "      <td>Bulky, and Back side chrome finish is faulty</td>\n",
              "      <td>[back, side, chrome, finish, started, like, sc...</td>\n",
              "      <td>Pro-tan International</td>\n",
              "      <td>4</td>\n",
              "      <td>0.100000</td>\n",
              "      <td>0.150000</td>\n",
              "      <td>Positive</td>\n",
              "    </tr>\n",
              "    <tr>\n",
              "      <th>3</th>\n",
              "      <td>B085J1J32G</td>\n",
              "      <td>Samsung Galaxy M51 (Electric Blue, 6GB RAM, 12...</td>\n",
              "      <td>Samsung</td>\n",
              "      <td>Amazon</td>\n",
              "      <td>https://amzn.eu/d/bOFfVHI</td>\n",
              "      <td>Good product with some drawback</td>\n",
              "      <td>[battery, life, extraordinary, need, carrying,...</td>\n",
              "      <td>sai krishna</td>\n",
              "      <td>4</td>\n",
              "      <td>0.132500</td>\n",
              "      <td>0.622500</td>\n",
              "      <td>Positive</td>\n",
              "    </tr>\n",
              "    <tr>\n",
              "      <th>4</th>\n",
              "      <td>B085J1J32G</td>\n",
              "      <td>Samsung Galaxy M51 (Electric Blue, 6GB RAM, 12...</td>\n",
              "      <td>Samsung</td>\n",
              "      <td>Amazon</td>\n",
              "      <td>https://amzn.eu/d/bOFfVHI</td>\n",
              "      <td>The best phone you could buy</td>\n",
              "      <td>[im, writing, review, year, purchase, even, us...</td>\n",
              "      <td>vicky</td>\n",
              "      <td>5</td>\n",
              "      <td>0.325714</td>\n",
              "      <td>0.587857</td>\n",
              "      <td>Positive</td>\n",
              "    </tr>\n",
              "    <tr>\n",
              "      <th>8</th>\n",
              "      <td>B089MQ622N</td>\n",
              "      <td>Samsung Galaxy M01 Core (Black, 2GB RAM, 32GB)</td>\n",
              "      <td>Samsung</td>\n",
              "      <td>Amazon</td>\n",
              "      <td>https://amzn.eu/d/dN2SGFv</td>\n",
              "      <td>Good Budget Phone for Elders.</td>\n",
              "      <td>[samsung, galaxy, m01, core,2gb,32gb, decent, ...</td>\n",
              "      <td>Abhijit Kumar Sahoo</td>\n",
              "      <td>4</td>\n",
              "      <td>0.152381</td>\n",
              "      <td>0.584524</td>\n",
              "      <td>Positive</td>\n",
              "    </tr>\n",
              "    <tr>\n",
              "      <th>...</th>\n",
              "      <td>...</td>\n",
              "      <td>...</td>\n",
              "      <td>...</td>\n",
              "      <td>...</td>\n",
              "      <td>...</td>\n",
              "      <td>...</td>\n",
              "      <td>...</td>\n",
              "      <td>...</td>\n",
              "      <td>...</td>\n",
              "      <td>...</td>\n",
              "      <td>...</td>\n",
              "      <td>...</td>\n",
              "    </tr>\n",
              "    <tr>\n",
              "      <th>1678</th>\n",
              "      <td>B08FN6WGDQ</td>\n",
              "      <td>Samsung Galaxy Buds Live Bluetooth Truly Wirel...</td>\n",
              "      <td>Samsung</td>\n",
              "      <td>Amazon</td>\n",
              "      <td>https://www.amazon.in/Samsung-Galaxy-SM-R180NZ...</td>\n",
              "      <td>Itâ€™s Good</td>\n",
              "      <td>[bought, festive, season, sale, itâ€™s, worth,...</td>\n",
              "      <td>Diwakar Nayal</td>\n",
              "      <td>3</td>\n",
              "      <td>0.184667</td>\n",
              "      <td>0.614667</td>\n",
              "      <td>Positive</td>\n",
              "    </tr>\n",
              "    <tr>\n",
              "      <th>1679</th>\n",
              "      <td>B08FN6WGDQ</td>\n",
              "      <td>Samsung Galaxy Buds Live Bluetooth Truly Wirel...</td>\n",
              "      <td>Samsung</td>\n",
              "      <td>Amazon</td>\n",
              "      <td>https://www.amazon.in/Samsung-Galaxy-SM-R180NZ...</td>\n",
              "      <td>NOT WORTH IT</td>\n",
              "      <td>[pro, good, finish, quality, good, battery, li...</td>\n",
              "      <td>Sainathan Arumugam</td>\n",
              "      <td>3</td>\n",
              "      <td>0.217949</td>\n",
              "      <td>0.496062</td>\n",
              "      <td>Positive</td>\n",
              "    </tr>\n",
              "    <tr>\n",
              "      <th>1680</th>\n",
              "      <td>B08FN6WGDQ</td>\n",
              "      <td>Samsung Galaxy Buds Live Bluetooth Truly Wirel...</td>\n",
              "      <td>Samsung</td>\n",
              "      <td>Amazon</td>\n",
              "      <td>https://www.amazon.in/Samsung-Galaxy-SM-R180NZ...</td>\n",
              "      <td>Good purchase</td>\n",
              "      <td>[first, sent, defective, one, alwaysss, happen...</td>\n",
              "      <td>Naveen B.</td>\n",
              "      <td>5</td>\n",
              "      <td>0.329509</td>\n",
              "      <td>0.549206</td>\n",
              "      <td>Positive</td>\n",
              "    </tr>\n",
              "    <tr>\n",
              "      <th>1683</th>\n",
              "      <td>B08FN6WGDQ</td>\n",
              "      <td>Samsung Galaxy Buds Live Bluetooth Truly Wirel...</td>\n",
              "      <td>Samsung</td>\n",
              "      <td>Amazon</td>\n",
              "      <td>https://www.amazon.in/Samsung-Galaxy-SM-R180NZ...</td>\n",
              "      <td>Affordable earbuds</td>\n",
              "      <td>[sound, loud, somewhat, clear, echo, receiver,...</td>\n",
              "      <td>shahid patel</td>\n",
              "      <td>4</td>\n",
              "      <td>0.200000</td>\n",
              "      <td>0.527778</td>\n",
              "      <td>Positive</td>\n",
              "    </tr>\n",
              "    <tr>\n",
              "      <th>1684</th>\n",
              "      <td>B08FN6WGDQ</td>\n",
              "      <td>Samsung Galaxy Buds Live Bluetooth Truly Wirel...</td>\n",
              "      <td>Samsung</td>\n",
              "      <td>Amazon</td>\n",
              "      <td>https://www.amazon.in/Samsung-Galaxy-SM-R180NZ...</td>\n",
              "      <td>Buy this only for design and few not so import...</td>\n",
              "      <td>[loved, style, sound, isnt, great, neither, su...</td>\n",
              "      <td>Manas</td>\n",
              "      <td>4</td>\n",
              "      <td>0.466667</td>\n",
              "      <td>0.475000</td>\n",
              "      <td>Positive</td>\n",
              "    </tr>\n",
              "  </tbody>\n",
              "</table>\n",
              "<p>614 rows × 12 columns</p>\n",
              "</div>\n",
              "      <button class=\"colab-df-convert\" onclick=\"convertToInteractive('df-4419582e-a83d-40ce-a809-8d72d88df7e4')\"\n",
              "              title=\"Convert this dataframe to an interactive table.\"\n",
              "              style=\"display:none;\">\n",
              "        \n",
              "  <svg xmlns=\"http://www.w3.org/2000/svg\" height=\"24px\"viewBox=\"0 0 24 24\"\n",
              "       width=\"24px\">\n",
              "    <path d=\"M0 0h24v24H0V0z\" fill=\"none\"/>\n",
              "    <path d=\"M18.56 5.44l.94 2.06.94-2.06 2.06-.94-2.06-.94-.94-2.06-.94 2.06-2.06.94zm-11 1L8.5 8.5l.94-2.06 2.06-.94-2.06-.94L8.5 2.5l-.94 2.06-2.06.94zm10 10l.94 2.06.94-2.06 2.06-.94-2.06-.94-.94-2.06-.94 2.06-2.06.94z\"/><path d=\"M17.41 7.96l-1.37-1.37c-.4-.4-.92-.59-1.43-.59-.52 0-1.04.2-1.43.59L10.3 9.45l-7.72 7.72c-.78.78-.78 2.05 0 2.83L4 21.41c.39.39.9.59 1.41.59.51 0 1.02-.2 1.41-.59l7.78-7.78 2.81-2.81c.8-.78.8-2.07 0-2.86zM5.41 20L4 18.59l7.72-7.72 1.47 1.35L5.41 20z\"/>\n",
              "  </svg>\n",
              "      </button>\n",
              "      \n",
              "  <style>\n",
              "    .colab-df-container {\n",
              "      display:flex;\n",
              "      flex-wrap:wrap;\n",
              "      gap: 12px;\n",
              "    }\n",
              "\n",
              "    .colab-df-convert {\n",
              "      background-color: #E8F0FE;\n",
              "      border: none;\n",
              "      border-radius: 50%;\n",
              "      cursor: pointer;\n",
              "      display: none;\n",
              "      fill: #1967D2;\n",
              "      height: 32px;\n",
              "      padding: 0 0 0 0;\n",
              "      width: 32px;\n",
              "    }\n",
              "\n",
              "    .colab-df-convert:hover {\n",
              "      background-color: #E2EBFA;\n",
              "      box-shadow: 0px 1px 2px rgba(60, 64, 67, 0.3), 0px 1px 3px 1px rgba(60, 64, 67, 0.15);\n",
              "      fill: #174EA6;\n",
              "    }\n",
              "\n",
              "    [theme=dark] .colab-df-convert {\n",
              "      background-color: #3B4455;\n",
              "      fill: #D2E3FC;\n",
              "    }\n",
              "\n",
              "    [theme=dark] .colab-df-convert:hover {\n",
              "      background-color: #434B5C;\n",
              "      box-shadow: 0px 1px 3px 1px rgba(0, 0, 0, 0.15);\n",
              "      filter: drop-shadow(0px 1px 2px rgba(0, 0, 0, 0.3));\n",
              "      fill: #FFFFFF;\n",
              "    }\n",
              "  </style>\n",
              "\n",
              "      <script>\n",
              "        const buttonEl =\n",
              "          document.querySelector('#df-4419582e-a83d-40ce-a809-8d72d88df7e4 button.colab-df-convert');\n",
              "        buttonEl.style.display =\n",
              "          google.colab.kernel.accessAllowed ? 'block' : 'none';\n",
              "\n",
              "        async function convertToInteractive(key) {\n",
              "          const element = document.querySelector('#df-4419582e-a83d-40ce-a809-8d72d88df7e4');\n",
              "          const dataTable =\n",
              "            await google.colab.kernel.invokeFunction('convertToInteractive',\n",
              "                                                     [key], {});\n",
              "          if (!dataTable) return;\n",
              "\n",
              "          const docLinkHtml = 'Like what you see? Visit the ' +\n",
              "            '<a target=\"_blank\" href=https://colab.research.google.com/notebooks/data_table.ipynb>data table notebook</a>'\n",
              "            + ' to learn more about interactive tables.';\n",
              "          element.innerHTML = '';\n",
              "          dataTable['output_type'] = 'display_data';\n",
              "          await google.colab.output.renderOutput(dataTable, element);\n",
              "          const docLink = document.createElement('div');\n",
              "          docLink.innerHTML = docLinkHtml;\n",
              "          element.appendChild(docLink);\n",
              "        }\n",
              "      </script>\n",
              "    </div>\n",
              "  </div>\n",
              "  "
            ]
          },
          "metadata": {},
          "execution_count": 31
        }
      ]
    },
    {
      "cell_type": "code",
      "source": [
        "ncomment = df[df.Class == 'Negative']\n",
        "ncomment"
      ],
      "metadata": {
        "colab": {
          "base_uri": "https://localhost:8080/",
          "height": 49
        },
        "id": "3TeolWv6r3Qo",
        "outputId": "81ea72e6-bd98-4703-b21e-96acee18e4d2"
      },
      "execution_count": null,
      "outputs": [
        {
          "output_type": "execute_result",
          "data": {
            "text/plain": [
              "Empty DataFrame\n",
              "Columns: [0, Class, brand, polarity, product_id, product_name, rating, review_text, review_title, reviewer_name, source_URL, subjectivity, website]\n",
              "Index: []"
            ],
            "text/html": [
              "\n",
              "  <div id=\"df-6ee0003d-b30f-4545-96f1-56cd9f8266fc\">\n",
              "    <div class=\"colab-df-container\">\n",
              "      <div>\n",
              "<style scoped>\n",
              "    .dataframe tbody tr th:only-of-type {\n",
              "        vertical-align: middle;\n",
              "    }\n",
              "\n",
              "    .dataframe tbody tr th {\n",
              "        vertical-align: top;\n",
              "    }\n",
              "\n",
              "    .dataframe thead th {\n",
              "        text-align: right;\n",
              "    }\n",
              "</style>\n",
              "<table border=\"1\" class=\"dataframe\">\n",
              "  <thead>\n",
              "    <tr style=\"text-align: right;\">\n",
              "      <th></th>\n",
              "      <th>0</th>\n",
              "      <th>Class</th>\n",
              "      <th>brand</th>\n",
              "      <th>polarity</th>\n",
              "      <th>product_id</th>\n",
              "      <th>product_name</th>\n",
              "      <th>rating</th>\n",
              "      <th>review_text</th>\n",
              "      <th>review_title</th>\n",
              "      <th>reviewer_name</th>\n",
              "      <th>source_URL</th>\n",
              "      <th>subjectivity</th>\n",
              "      <th>website</th>\n",
              "    </tr>\n",
              "  </thead>\n",
              "  <tbody>\n",
              "  </tbody>\n",
              "</table>\n",
              "</div>\n",
              "      <button class=\"colab-df-convert\" onclick=\"convertToInteractive('df-6ee0003d-b30f-4545-96f1-56cd9f8266fc')\"\n",
              "              title=\"Convert this dataframe to an interactive table.\"\n",
              "              style=\"display:none;\">\n",
              "        \n",
              "  <svg xmlns=\"http://www.w3.org/2000/svg\" height=\"24px\"viewBox=\"0 0 24 24\"\n",
              "       width=\"24px\">\n",
              "    <path d=\"M0 0h24v24H0V0z\" fill=\"none\"/>\n",
              "    <path d=\"M18.56 5.44l.94 2.06.94-2.06 2.06-.94-2.06-.94-.94-2.06-.94 2.06-2.06.94zm-11 1L8.5 8.5l.94-2.06 2.06-.94-2.06-.94L8.5 2.5l-.94 2.06-2.06.94zm10 10l.94 2.06.94-2.06 2.06-.94-2.06-.94-.94-2.06-.94 2.06-2.06.94z\"/><path d=\"M17.41 7.96l-1.37-1.37c-.4-.4-.92-.59-1.43-.59-.52 0-1.04.2-1.43.59L10.3 9.45l-7.72 7.72c-.78.78-.78 2.05 0 2.83L4 21.41c.39.39.9.59 1.41.59.51 0 1.02-.2 1.41-.59l7.78-7.78 2.81-2.81c.8-.78.8-2.07 0-2.86zM5.41 20L4 18.59l7.72-7.72 1.47 1.35L5.41 20z\"/>\n",
              "  </svg>\n",
              "      </button>\n",
              "      \n",
              "  <style>\n",
              "    .colab-df-container {\n",
              "      display:flex;\n",
              "      flex-wrap:wrap;\n",
              "      gap: 12px;\n",
              "    }\n",
              "\n",
              "    .colab-df-convert {\n",
              "      background-color: #E8F0FE;\n",
              "      border: none;\n",
              "      border-radius: 50%;\n",
              "      cursor: pointer;\n",
              "      display: none;\n",
              "      fill: #1967D2;\n",
              "      height: 32px;\n",
              "      padding: 0 0 0 0;\n",
              "      width: 32px;\n",
              "    }\n",
              "\n",
              "    .colab-df-convert:hover {\n",
              "      background-color: #E2EBFA;\n",
              "      box-shadow: 0px 1px 2px rgba(60, 64, 67, 0.3), 0px 1px 3px 1px rgba(60, 64, 67, 0.15);\n",
              "      fill: #174EA6;\n",
              "    }\n",
              "\n",
              "    [theme=dark] .colab-df-convert {\n",
              "      background-color: #3B4455;\n",
              "      fill: #D2E3FC;\n",
              "    }\n",
              "\n",
              "    [theme=dark] .colab-df-convert:hover {\n",
              "      background-color: #434B5C;\n",
              "      box-shadow: 0px 1px 3px 1px rgba(0, 0, 0, 0.15);\n",
              "      filter: drop-shadow(0px 1px 2px rgba(0, 0, 0, 0.3));\n",
              "      fill: #FFFFFF;\n",
              "    }\n",
              "  </style>\n",
              "\n",
              "      <script>\n",
              "        const buttonEl =\n",
              "          document.querySelector('#df-6ee0003d-b30f-4545-96f1-56cd9f8266fc button.colab-df-convert');\n",
              "        buttonEl.style.display =\n",
              "          google.colab.kernel.accessAllowed ? 'block' : 'none';\n",
              "\n",
              "        async function convertToInteractive(key) {\n",
              "          const element = document.querySelector('#df-6ee0003d-b30f-4545-96f1-56cd9f8266fc');\n",
              "          const dataTable =\n",
              "            await google.colab.kernel.invokeFunction('convertToInteractive',\n",
              "                                                     [key], {});\n",
              "          if (!dataTable) return;\n",
              "\n",
              "          const docLinkHtml = 'Like what you see? Visit the ' +\n",
              "            '<a target=\"_blank\" href=https://colab.research.google.com/notebooks/data_table.ipynb>data table notebook</a>'\n",
              "            + ' to learn more about interactive tables.';\n",
              "          element.innerHTML = '';\n",
              "          dataTable['output_type'] = 'display_data';\n",
              "          await google.colab.output.renderOutput(dataTable, element);\n",
              "          const docLink = document.createElement('div');\n",
              "          docLink.innerHTML = docLinkHtml;\n",
              "          element.appendChild(docLink);\n",
              "        }\n",
              "      </script>\n",
              "    </div>\n",
              "  </div>\n",
              "  "
            ]
          },
          "metadata": {},
          "execution_count": 160
        }
      ]
    },
    {
      "cell_type": "code",
      "source": [
        "Neucomment = df[df.Class == 'Neutral']\n",
        "Neucomment"
      ],
      "metadata": {
        "colab": {
          "base_uri": "https://localhost:8080/",
          "height": 1000
        },
        "id": "bh_7hjTjsH7O",
        "outputId": "cf6b98ed-b22a-4717-8d5e-8b1641d1a613"
      },
      "execution_count": null,
      "outputs": [
        {
          "output_type": "execute_result",
          "data": {
            "text/plain": [
              "      product_id                                       product_name    brand  \\\n",
              "12    B07X8V5YKR  Samsung Galaxy Note10 Lite (Aura Glow, 6GB RAM...  Samsung   \n",
              "41    B078CBN95Q                        Oppo F5(Red, 6GB RAM, 64GB)     Oppo   \n",
              "59    B08444S68L            Oppo A31(Mystery Black, 6GB RAM, 128GB)     Oppo   \n",
              "65    B084455DLR    Oppo Reno3 Pro (Midnight Black, 8GB RAM, 256GB)     Oppo   \n",
              "78    B077PWBC78  Redmi Note 9 Pro(Interstellar Black, 4GB RAM, ...   Xiaomi   \n",
              "...          ...                                                ...      ...   \n",
              "1419  B09WYXDNWW  realme narzo 50A Prime (Flash Black, 4GB RAM+1...   Realme   \n",
              "1420  B09WYXDNWW  realme narzo 50A Prime (Flash Black, 4GB RAM+1...   Realme   \n",
              "1469  B09T39K9YL  Redmi Note 11 Pro + 5G (Stealth Black, 6GB RAM...   Xiaomi   \n",
              "1473  B09T39K9YL  Redmi Note 11 Pro + 5G (Stealth Black, 6GB RAM...   Xiaomi   \n",
              "1477  B09T39K9YL  Redmi Note 11 Pro + 5G (Stealth Black, 6GB RAM...   Xiaomi   \n",
              "\n",
              "     website                                         source_URL  \\\n",
              "12    Amazon                          https://amzn.eu/d/gKNf1a3   \n",
              "41    Amazon                          https://amzn.eu/d/gqR4ZaM   \n",
              "59    Amazon                          https://amzn.eu/d/bTT6avn   \n",
              "65    Amazon                          https://amzn.eu/d/0RnCEOD   \n",
              "78    Amazon                          https://amzn.eu/d/icOq50r   \n",
              "...      ...                                                ...   \n",
              "1419  Amazon  https://www.amazon.in/realme-Storage-Display-C...   \n",
              "1420  Amazon  https://www.amazon.in/realme-Storage-Display-C...   \n",
              "1469  Amazon  https://www.amazon.in/Redmi-Stealth-Additional...   \n",
              "1473  Amazon  https://www.amazon.in/Redmi-Stealth-Additional...   \n",
              "1477  Amazon  https://www.amazon.in/Redmi-Stealth-Additional...   \n",
              "\n",
              "                                           review_title  \\\n",
              "12              For s-pen lover under 30k ....go for it   \n",
              "41                                                    👎   \n",
              "59                                     Low refresh rate   \n",
              "65    This phone is not working properly with whatsa...   \n",
              "78                            Basic Functionality Issue   \n",
              "...                                                 ...   \n",
              "1419                                Delivery is on time   \n",
              "1420        We have not received screen protector film.   \n",
              "1469                             Overall phone is good.   \n",
              "1473                                         Great deal   \n",
              "1477                                             Review   \n",
              "\n",
              "                                            review_text    reviewer_name  \\\n",
              "12    [around, price,26k,28k, value, money, overall,...            Malik   \n",
              "41                                                   []            Mohan   \n",
              "59    [manufacturer, told, refresh, rate,60hz, even,...           Ramesh   \n",
              "65    [phone, working, properly, whatsapp, especiall...  Amazon Customer   \n",
              "78    [year, call, cant, possible, phone, call, work...    Aditya Bhuyan   \n",
              "...                                                 ...              ...   \n",
              "1419  [delivered, timely, thisbox, screen, protectio...        T Sridhar   \n",
              "1420                [received, screen, protector, film]    Mahesh Godase   \n",
              "1469                        [must, nfc, support, phone]  Prashant pandey   \n",
              "1473  [though, touch, issue, software, issue, creati...      Dipsagar M.   \n",
              "1477                                         [moderate]           Priyam   \n",
              "\n",
              "     rating  polarity  subjectivity    Class  \n",
              "12        4       0.0         0.000  Neutral  \n",
              "41        1       0.0         0.000  Neutral  \n",
              "59        2       0.0         0.000  Neutral  \n",
              "65      NaN       0.0         0.550  Neutral  \n",
              "78        2       0.0         0.825  Neutral  \n",
              "...     ...       ...           ...      ...  \n",
              "1419      3       0.0         0.000  Neutral  \n",
              "1420      3       0.0         0.000  Neutral  \n",
              "1469      4       0.0         0.000  Neutral  \n",
              "1473      4       0.0         0.000  Neutral  \n",
              "1477      4       0.0         0.700  Neutral  \n",
              "\n",
              "[86 rows x 12 columns]"
            ],
            "text/html": [
              "\n",
              "  <div id=\"df-4a09281a-30a9-42da-8036-3944309c7478\">\n",
              "    <div class=\"colab-df-container\">\n",
              "      <div>\n",
              "<style scoped>\n",
              "    .dataframe tbody tr th:only-of-type {\n",
              "        vertical-align: middle;\n",
              "    }\n",
              "\n",
              "    .dataframe tbody tr th {\n",
              "        vertical-align: top;\n",
              "    }\n",
              "\n",
              "    .dataframe thead th {\n",
              "        text-align: right;\n",
              "    }\n",
              "</style>\n",
              "<table border=\"1\" class=\"dataframe\">\n",
              "  <thead>\n",
              "    <tr style=\"text-align: right;\">\n",
              "      <th></th>\n",
              "      <th>product_id</th>\n",
              "      <th>product_name</th>\n",
              "      <th>brand</th>\n",
              "      <th>website</th>\n",
              "      <th>source_URL</th>\n",
              "      <th>review_title</th>\n",
              "      <th>review_text</th>\n",
              "      <th>reviewer_name</th>\n",
              "      <th>rating</th>\n",
              "      <th>polarity</th>\n",
              "      <th>subjectivity</th>\n",
              "      <th>Class</th>\n",
              "    </tr>\n",
              "  </thead>\n",
              "  <tbody>\n",
              "    <tr>\n",
              "      <th>12</th>\n",
              "      <td>B07X8V5YKR</td>\n",
              "      <td>Samsung Galaxy Note10 Lite (Aura Glow, 6GB RAM...</td>\n",
              "      <td>Samsung</td>\n",
              "      <td>Amazon</td>\n",
              "      <td>https://amzn.eu/d/gKNf1a3</td>\n",
              "      <td>For s-pen lover under 30k ....go for it</td>\n",
              "      <td>[around, price,26k,28k, value, money, overall,...</td>\n",
              "      <td>Malik</td>\n",
              "      <td>4</td>\n",
              "      <td>0.0</td>\n",
              "      <td>0.000</td>\n",
              "      <td>Neutral</td>\n",
              "    </tr>\n",
              "    <tr>\n",
              "      <th>41</th>\n",
              "      <td>B078CBN95Q</td>\n",
              "      <td>Oppo F5(Red, 6GB RAM, 64GB)</td>\n",
              "      <td>Oppo</td>\n",
              "      <td>Amazon</td>\n",
              "      <td>https://amzn.eu/d/gqR4ZaM</td>\n",
              "      <td>👎</td>\n",
              "      <td>[]</td>\n",
              "      <td>Mohan</td>\n",
              "      <td>1</td>\n",
              "      <td>0.0</td>\n",
              "      <td>0.000</td>\n",
              "      <td>Neutral</td>\n",
              "    </tr>\n",
              "    <tr>\n",
              "      <th>59</th>\n",
              "      <td>B08444S68L</td>\n",
              "      <td>Oppo A31(Mystery Black, 6GB RAM, 128GB)</td>\n",
              "      <td>Oppo</td>\n",
              "      <td>Amazon</td>\n",
              "      <td>https://amzn.eu/d/bTT6avn</td>\n",
              "      <td>Low refresh rate</td>\n",
              "      <td>[manufacturer, told, refresh, rate,60hz, even,...</td>\n",
              "      <td>Ramesh</td>\n",
              "      <td>2</td>\n",
              "      <td>0.0</td>\n",
              "      <td>0.000</td>\n",
              "      <td>Neutral</td>\n",
              "    </tr>\n",
              "    <tr>\n",
              "      <th>65</th>\n",
              "      <td>B084455DLR</td>\n",
              "      <td>Oppo Reno3 Pro (Midnight Black, 8GB RAM, 256GB)</td>\n",
              "      <td>Oppo</td>\n",
              "      <td>Amazon</td>\n",
              "      <td>https://amzn.eu/d/0RnCEOD</td>\n",
              "      <td>This phone is not working properly with whatsa...</td>\n",
              "      <td>[phone, working, properly, whatsapp, especiall...</td>\n",
              "      <td>Amazon Customer</td>\n",
              "      <td>NaN</td>\n",
              "      <td>0.0</td>\n",
              "      <td>0.550</td>\n",
              "      <td>Neutral</td>\n",
              "    </tr>\n",
              "    <tr>\n",
              "      <th>78</th>\n",
              "      <td>B077PWBC78</td>\n",
              "      <td>Redmi Note 9 Pro(Interstellar Black, 4GB RAM, ...</td>\n",
              "      <td>Xiaomi</td>\n",
              "      <td>Amazon</td>\n",
              "      <td>https://amzn.eu/d/icOq50r</td>\n",
              "      <td>Basic Functionality Issue</td>\n",
              "      <td>[year, call, cant, possible, phone, call, work...</td>\n",
              "      <td>Aditya Bhuyan</td>\n",
              "      <td>2</td>\n",
              "      <td>0.0</td>\n",
              "      <td>0.825</td>\n",
              "      <td>Neutral</td>\n",
              "    </tr>\n",
              "    <tr>\n",
              "      <th>...</th>\n",
              "      <td>...</td>\n",
              "      <td>...</td>\n",
              "      <td>...</td>\n",
              "      <td>...</td>\n",
              "      <td>...</td>\n",
              "      <td>...</td>\n",
              "      <td>...</td>\n",
              "      <td>...</td>\n",
              "      <td>...</td>\n",
              "      <td>...</td>\n",
              "      <td>...</td>\n",
              "      <td>...</td>\n",
              "    </tr>\n",
              "    <tr>\n",
              "      <th>1419</th>\n",
              "      <td>B09WYXDNWW</td>\n",
              "      <td>realme narzo 50A Prime (Flash Black, 4GB RAM+1...</td>\n",
              "      <td>Realme</td>\n",
              "      <td>Amazon</td>\n",
              "      <td>https://www.amazon.in/realme-Storage-Display-C...</td>\n",
              "      <td>Delivery is on time</td>\n",
              "      <td>[delivered, timely, thisbox, screen, protectio...</td>\n",
              "      <td>T Sridhar</td>\n",
              "      <td>3</td>\n",
              "      <td>0.0</td>\n",
              "      <td>0.000</td>\n",
              "      <td>Neutral</td>\n",
              "    </tr>\n",
              "    <tr>\n",
              "      <th>1420</th>\n",
              "      <td>B09WYXDNWW</td>\n",
              "      <td>realme narzo 50A Prime (Flash Black, 4GB RAM+1...</td>\n",
              "      <td>Realme</td>\n",
              "      <td>Amazon</td>\n",
              "      <td>https://www.amazon.in/realme-Storage-Display-C...</td>\n",
              "      <td>We have not received screen protector film.</td>\n",
              "      <td>[received, screen, protector, film]</td>\n",
              "      <td>Mahesh Godase</td>\n",
              "      <td>3</td>\n",
              "      <td>0.0</td>\n",
              "      <td>0.000</td>\n",
              "      <td>Neutral</td>\n",
              "    </tr>\n",
              "    <tr>\n",
              "      <th>1469</th>\n",
              "      <td>B09T39K9YL</td>\n",
              "      <td>Redmi Note 11 Pro + 5G (Stealth Black, 6GB RAM...</td>\n",
              "      <td>Xiaomi</td>\n",
              "      <td>Amazon</td>\n",
              "      <td>https://www.amazon.in/Redmi-Stealth-Additional...</td>\n",
              "      <td>Overall phone is good.</td>\n",
              "      <td>[must, nfc, support, phone]</td>\n",
              "      <td>Prashant pandey</td>\n",
              "      <td>4</td>\n",
              "      <td>0.0</td>\n",
              "      <td>0.000</td>\n",
              "      <td>Neutral</td>\n",
              "    </tr>\n",
              "    <tr>\n",
              "      <th>1473</th>\n",
              "      <td>B09T39K9YL</td>\n",
              "      <td>Redmi Note 11 Pro + 5G (Stealth Black, 6GB RAM...</td>\n",
              "      <td>Xiaomi</td>\n",
              "      <td>Amazon</td>\n",
              "      <td>https://www.amazon.in/Redmi-Stealth-Additional...</td>\n",
              "      <td>Great deal</td>\n",
              "      <td>[though, touch, issue, software, issue, creati...</td>\n",
              "      <td>Dipsagar M.</td>\n",
              "      <td>4</td>\n",
              "      <td>0.0</td>\n",
              "      <td>0.000</td>\n",
              "      <td>Neutral</td>\n",
              "    </tr>\n",
              "    <tr>\n",
              "      <th>1477</th>\n",
              "      <td>B09T39K9YL</td>\n",
              "      <td>Redmi Note 11 Pro + 5G (Stealth Black, 6GB RAM...</td>\n",
              "      <td>Xiaomi</td>\n",
              "      <td>Amazon</td>\n",
              "      <td>https://www.amazon.in/Redmi-Stealth-Additional...</td>\n",
              "      <td>Review</td>\n",
              "      <td>[moderate]</td>\n",
              "      <td>Priyam</td>\n",
              "      <td>4</td>\n",
              "      <td>0.0</td>\n",
              "      <td>0.700</td>\n",
              "      <td>Neutral</td>\n",
              "    </tr>\n",
              "  </tbody>\n",
              "</table>\n",
              "<p>86 rows × 12 columns</p>\n",
              "</div>\n",
              "      <button class=\"colab-df-convert\" onclick=\"convertToInteractive('df-4a09281a-30a9-42da-8036-3944309c7478')\"\n",
              "              title=\"Convert this dataframe to an interactive table.\"\n",
              "              style=\"display:none;\">\n",
              "        \n",
              "  <svg xmlns=\"http://www.w3.org/2000/svg\" height=\"24px\"viewBox=\"0 0 24 24\"\n",
              "       width=\"24px\">\n",
              "    <path d=\"M0 0h24v24H0V0z\" fill=\"none\"/>\n",
              "    <path d=\"M18.56 5.44l.94 2.06.94-2.06 2.06-.94-2.06-.94-.94-2.06-.94 2.06-2.06.94zm-11 1L8.5 8.5l.94-2.06 2.06-.94-2.06-.94L8.5 2.5l-.94 2.06-2.06.94zm10 10l.94 2.06.94-2.06 2.06-.94-2.06-.94-.94-2.06-.94 2.06-2.06.94z\"/><path d=\"M17.41 7.96l-1.37-1.37c-.4-.4-.92-.59-1.43-.59-.52 0-1.04.2-1.43.59L10.3 9.45l-7.72 7.72c-.78.78-.78 2.05 0 2.83L4 21.41c.39.39.9.59 1.41.59.51 0 1.02-.2 1.41-.59l7.78-7.78 2.81-2.81c.8-.78.8-2.07 0-2.86zM5.41 20L4 18.59l7.72-7.72 1.47 1.35L5.41 20z\"/>\n",
              "  </svg>\n",
              "      </button>\n",
              "      \n",
              "  <style>\n",
              "    .colab-df-container {\n",
              "      display:flex;\n",
              "      flex-wrap:wrap;\n",
              "      gap: 12px;\n",
              "    }\n",
              "\n",
              "    .colab-df-convert {\n",
              "      background-color: #E8F0FE;\n",
              "      border: none;\n",
              "      border-radius: 50%;\n",
              "      cursor: pointer;\n",
              "      display: none;\n",
              "      fill: #1967D2;\n",
              "      height: 32px;\n",
              "      padding: 0 0 0 0;\n",
              "      width: 32px;\n",
              "    }\n",
              "\n",
              "    .colab-df-convert:hover {\n",
              "      background-color: #E2EBFA;\n",
              "      box-shadow: 0px 1px 2px rgba(60, 64, 67, 0.3), 0px 1px 3px 1px rgba(60, 64, 67, 0.15);\n",
              "      fill: #174EA6;\n",
              "    }\n",
              "\n",
              "    [theme=dark] .colab-df-convert {\n",
              "      background-color: #3B4455;\n",
              "      fill: #D2E3FC;\n",
              "    }\n",
              "\n",
              "    [theme=dark] .colab-df-convert:hover {\n",
              "      background-color: #434B5C;\n",
              "      box-shadow: 0px 1px 3px 1px rgba(0, 0, 0, 0.15);\n",
              "      filter: drop-shadow(0px 1px 2px rgba(0, 0, 0, 0.3));\n",
              "      fill: #FFFFFF;\n",
              "    }\n",
              "  </style>\n",
              "\n",
              "      <script>\n",
              "        const buttonEl =\n",
              "          document.querySelector('#df-4a09281a-30a9-42da-8036-3944309c7478 button.colab-df-convert');\n",
              "        buttonEl.style.display =\n",
              "          google.colab.kernel.accessAllowed ? 'block' : 'none';\n",
              "\n",
              "        async function convertToInteractive(key) {\n",
              "          const element = document.querySelector('#df-4a09281a-30a9-42da-8036-3944309c7478');\n",
              "          const dataTable =\n",
              "            await google.colab.kernel.invokeFunction('convertToInteractive',\n",
              "                                                     [key], {});\n",
              "          if (!dataTable) return;\n",
              "\n",
              "          const docLinkHtml = 'Like what you see? Visit the ' +\n",
              "            '<a target=\"_blank\" href=https://colab.research.google.com/notebooks/data_table.ipynb>data table notebook</a>'\n",
              "            + ' to learn more about interactive tables.';\n",
              "          element.innerHTML = '';\n",
              "          dataTable['output_type'] = 'display_data';\n",
              "          await google.colab.output.renderOutput(dataTable, element);\n",
              "          const docLink = document.createElement('div');\n",
              "          docLink.innerHTML = docLinkHtml;\n",
              "          element.appendChild(docLink);\n",
              "        }\n",
              "      </script>\n",
              "    </div>\n",
              "  </div>\n",
              "  "
            ]
          },
          "metadata": {},
          "execution_count": 33
        }
      ]
    },
    {
      "cell_type": "code",
      "source": [
        "df = pd.concat([pcomment,ncomment,Neucomment], axis = 0)\n"
      ],
      "metadata": {
        "id": "1XyfoBnksUQ5"
      },
      "execution_count": null,
      "outputs": []
    },
    {
      "cell_type": "code",
      "source": [
        "df.Class.value_counts()"
      ],
      "metadata": {
        "colab": {
          "base_uri": "https://localhost:8080/"
        },
        "id": "cutxo2wGsUGI",
        "outputId": "d279a10b-882b-4ddd-c9f2-a6692481e536"
      },
      "execution_count": null,
      "outputs": [
        {
          "output_type": "execute_result",
          "data": {
            "text/plain": [
              "Positive    614\n",
              "Neutral      86\n",
              "Name: Class, dtype: int64"
            ]
          },
          "metadata": {},
          "execution_count": 162
        }
      ]
    },
    {
      "cell_type": "code",
      "source": [
        "import seaborn as sns"
      ],
      "metadata": {
        "id": "BqDyV4w3scHL"
      },
      "execution_count": null,
      "outputs": []
    },
    {
      "cell_type": "code",
      "source": [
        "sns.set(font_scale=1.4)\n",
        "df['Class'].value_counts().plot(kind='barh', figsize=(9, 3))\n",
        "plt.xlabel(\"Number of Comments\", labelpad=12)\n",
        "plt.ylabel(\"Sentiment Class\", labelpad=12)\n",
        "plt.yticks(rotation = 45)\n",
        "plt.title(\"Dataset Distribution\", y=1.02);"
      ],
      "metadata": {
        "colab": {
          "base_uri": "https://localhost:8080/",
          "height": 272
        },
        "id": "dNUpdBefsj5D",
        "outputId": "d267eb00-a149-4507-9e5e-d6710a067d66"
      },
      "execution_count": null,
      "outputs": [
        {
          "output_type": "display_data",
          "data": {
            "text/plain": [
              "<Figure size 648x216 with 1 Axes>"
            ],
            "image/png": "[encoded data removed]"
          },
          "metadata": {}
        }
      ]
    },
    {
      "cell_type": "markdown",
      "source": [
        "Label Encoder"
      ],
      "metadata": {
        "id": "zitcHYQWsuaK"
      }
    },
    {
      "cell_type": "code",
      "source": [
        "from sklearn.preprocessing import LabelEncoder\n",
        "df['Class'] = LabelEncoder().fit_transform(df['Class'])\n",
        "df['Class']"
      ],
      "metadata": {
        "colab": {
          "base_uri": "https://localhost:8080/"
        },
        "id": "FmNdZQ1NsxPm",
        "outputId": "b68893a4-c732-4bca-91a0-d930d29b119a"
      },
      "execution_count": null,
      "outputs": [
        {
          "output_type": "execute_result",
          "data": {
            "text/plain": [
              "1       1\n",
              "2       1\n",
              "3       1\n",
              "4       1\n",
              "8       1\n",
              "       ..\n",
              "1419    0\n",
              "1420    0\n",
              "1469    0\n",
              "1473    0\n",
              "1477    0\n",
              "Name: Class, Length: 786, dtype: int64"
            ]
          },
          "metadata": {},
          "execution_count": 38
        }
      ]
    },
    {
      "cell_type": "code",
      "source": [
        "df['review_text'] = df['review_text'].astype(str)\n",
        "df['review_text']\n",
        ""
      ],
      "metadata": {
        "colab": {
          "base_uri": "https://localhost:8080/"
        },
        "id": "95FBUiyFs0Tx",
        "outputId": "78a7c197-2f7d-430a-c0c8-d6b000698c4a"
      },
      "execution_count": null,
      "outputs": [
        {
          "output_type": "execute_result",
          "data": {
            "text/plain": [
              "1       ['battery', 'good', 'great', 'advertisedruns',...\n",
              "2       ['back', 'side', 'chrome', 'finish', 'started'...\n",
              "3       ['battery', 'life', 'extraordinary', 'need', '...\n",
              "4       ['im', 'writing', 'review', 'year', 'purchase'...\n",
              "8       ['samsung', 'galaxy', 'm01', 'core,2gb,32gb', ...\n",
              "                              ...                        \n",
              "1419    ['delivered', 'timely', 'thisbox', 'screen', '...\n",
              "1420          ['received', 'screen', 'protector', 'film']\n",
              "1469                  ['must', 'nfc', 'support', 'phone']\n",
              "1473    ['though', 'touch', 'issue', 'software', 'issu...\n",
              "1477                                         ['moderate']\n",
              "Name: review_text, Length: 786, dtype: object"
            ]
          },
          "metadata": {},
          "execution_count": 39
        }
      ]
    },
    {
      "cell_type": "code",
      "source": [
        "x = df.review_text.values\n",
        "y= df.Class.values\n"
      ],
      "metadata": {
        "id": "liAWuPXitNtR"
      },
      "execution_count": null,
      "outputs": []
    },
    {
      "cell_type": "code",
      "source": [
        "x.shape,y.shape"
      ],
      "metadata": {
        "colab": {
          "base_uri": "https://localhost:8080/"
        },
        "id": "qAvYnmpMteyc",
        "outputId": "547485df-34a0-4506-c781-64745ac80288"
      },
      "execution_count": null,
      "outputs": [
        {
          "output_type": "execute_result",
          "data": {
            "text/plain": [
              "((786,), (786,))"
            ]
          },
          "metadata": {},
          "execution_count": 41
        }
      ]
    },
    {
      "cell_type": "markdown",
      "source": [
        "Feature Extraction"
      ],
      "metadata": {
        "id": "i1PDyPsstSid"
      }
    },
    {
      "cell_type": "code",
      "source": [
        "from sklearn.feature_extraction.text import TfidfVectorizer\n",
        "from sklearn.feature_extraction.text import CountVectorizer"
      ],
      "metadata": {
        "id": "cacRLS8VtbFh"
      },
      "execution_count": null,
      "outputs": []
    },
    {
      "cell_type": "code",
      "source": [
        "tf_vector =  TfidfVectorizer()\n",
        "tf_x = tf_vector.fit(x)\n",
        "tf_x = tf_x.transform(x)\n",
        "\n",
        "# Create a CountVectorizer\n",
        "vectorizer = CountVectorizer()\n",
        "vector_fit =  vectorizer.fit(x)\n",
        "vector_test = vectorizer.transform(x)"
      ],
      "metadata": {
        "id": "mQN-PI5_tq-i"
      },
      "execution_count": null,
      "outputs": []
    },
    {
      "cell_type": "code",
      "source": [
        "tf_x.shape,vector_test.shape\n"
      ],
      "metadata": {
        "colab": {
          "base_uri": "https://localhost:8080/"
        },
        "id": "InknsjMwt6c6",
        "outputId": "f58dd829-38ee-4a8d-8fd1-8c8a9afe8a1e"
      },
      "execution_count": null,
      "outputs": [
        {
          "output_type": "execute_result",
          "data": {
            "text/plain": [
              "((786, 3333), (786, 3333))"
            ]
          },
          "metadata": {},
          "execution_count": 44
        }
      ]
    },
    {
      "cell_type": "code",
      "source": [
        "tf_x.toarray()"
      ],
      "metadata": {
        "colab": {
          "base_uri": "https://localhost:8080/"
        },
        "id": "SbZCvRjauAKz",
        "outputId": "ff23300d-be91-48e4-f00f-874cd2a69411"
      },
      "execution_count": null,
      "outputs": [
        {
          "output_type": "execute_result",
          "data": {
            "text/plain": [
              "array([[0., 0., 0., ..., 0., 0., 0.],\n",
              "       [0., 0., 0., ..., 0., 0., 0.],\n",
              "       [0., 0., 0., ..., 0., 0., 0.],\n",
              "       ...,\n",
              "       [0., 0., 0., ..., 0., 0., 0.],\n",
              "       [0., 0., 0., ..., 0., 0., 0.],\n",
              "       [0., 0., 0., ..., 0., 0., 0.]])"
            ]
          },
          "metadata": {},
          "execution_count": 45
        }
      ]
    },
    {
      "cell_type": "code",
      "source": [
        "vector_test.toarray()"
      ],
      "metadata": {
        "colab": {
          "base_uri": "https://localhost:8080/"
        },
        "id": "5JIefuWYuC94",
        "outputId": "274b09cf-da80-4a1a-f766-a7655feed9a2"
      },
      "execution_count": null,
      "outputs": [
        {
          "output_type": "execute_result",
          "data": {
            "text/plain": [
              "array([[0, 0, 0, ..., 0, 0, 0],\n",
              "       [0, 0, 0, ..., 0, 0, 0],\n",
              "       [0, 0, 0, ..., 0, 0, 0],\n",
              "       ...,\n",
              "       [0, 0, 0, ..., 0, 0, 0],\n",
              "       [0, 0, 0, ..., 0, 0, 0],\n",
              "       [0, 0, 0, ..., 0, 0, 0]])"
            ]
          },
          "metadata": {},
          "execution_count": 46
        }
      ]
    },
    {
      "cell_type": "code",
      "source": [
        "from imblearn.over_sampling import SMOTE, ADASYN\n",
        "import collections\n",
        "x_resampled, y_resampled = SMOTE().fit_resample(tf_x,y)\n",
        "print(sorted(collections.Counter(y_resampled).items()))"
      ],
      "metadata": {
        "colab": {
          "base_uri": "https://localhost:8080/"
        },
        "id": "scz_7LE1uDTf",
        "outputId": "849ed7b6-deba-46d0-e7d0-555b1d8bfc69"
      },
      "execution_count": null,
      "outputs": [
        {
          "output_type": "stream",
          "name": "stdout",
          "text": [
            "[(0, 614), (1, 614), (2, 614)]\n"
          ]
        }
      ]
    },
    {
      "cell_type": "code",
      "source": [
        "import matplotlib.pyplot as plt\n",
        "%matplotlib inline\n",
        "#Miscellanous libraries\n",
        "from collections import Counter"
      ],
      "metadata": {
        "id": "2ybtftp9uDzg"
      },
      "execution_count": null,
      "outputs": []
    },
    {
      "cell_type": "code",
      "source": [
        "counter = Counter(y_resampled)\n",
        "for k,v in counter.items():\n",
        "    per = v / len(y) * 100\n",
        "    print('Class=%d, n=%d (%.3f%%)' % (k, v, per))\n",
        "plt.bar(counter.keys(), counter.values())\n",
        "plt.show()"
      ],
      "metadata": {
        "colab": {
          "base_uri": "https://localhost:8080/",
          "height": 328
        },
        "id": "DFcRyf3TuzDw",
        "outputId": "9b152643-ddd6-4463-e957-bbb1e2386b3c"
      },
      "execution_count": null,
      "outputs": [
        {
          "output_type": "stream",
          "name": "stdout",
          "text": [
            "Class=1, n=614 (78.117%)\n",
            "Class=2, n=614 (78.117%)\n",
            "Class=0, n=614 (78.117%)\n"
          ]
        },
        {
          "output_type": "display_data",
          "data": {
            "text/plain": [
              "<Figure size 432x288 with 1 Axes>"
            ],
            "image/png": "[encoded data removed]"
          },
          "metadata": {
            "needs_background": "light"
          }
        }
      ]
    },
    {
      "cell_type": "code",
      "source": [
        "x_resampled.shape,y_resampled.shape"
      ],
      "metadata": {
        "colab": {
          "base_uri": "https://localhost:8080/"
        },
        "id": "TaC4MYK7vBQ1",
        "outputId": "8441ba0b-4e69-4d15-9329-a4970d616225"
      },
      "execution_count": null,
      "outputs": [
        {
          "output_type": "execute_result",
          "data": {
            "text/plain": [
              "((1842, 3333), (1842,))"
            ]
          },
          "metadata": {},
          "execution_count": 51
        }
      ]
    },
    {
      "cell_type": "code",
      "source": [
        "from imblearn.over_sampling import SMOTE, ADASYN\n",
        "import collections\n",
        "x_sampled, y_resampled=SMOTE().fit_resample(vector_test,y)\n",
        "print(sorted(collections.Counter(y_resampled).items()))"
      ],
      "metadata": {
        "colab": {
          "base_uri": "https://localhost:8080/"
        },
        "id": "SO5uJua8wskW",
        "outputId": "53b75acd-6c6d-4ef5-f0b7-0f4d969eca52"
      },
      "execution_count": null,
      "outputs": [
        {
          "output_type": "stream",
          "name": "stdout",
          "text": [
            "[(0, 614), (1, 614), (2, 614)]\n"
          ]
        }
      ]
    },
    {
      "cell_type": "code",
      "source": [
        "from sklearn.model_selection import train_test_split\n",
        "X_train, X_test, y_train, y_test = train_test_split(x_resampled, y_resampled, train_size=0.80, shuffle=True, random_state=95)"
      ],
      "metadata": {
        "id": "g2D5zC7EYA2_"
      },
      "execution_count": null,
      "outputs": []
    },
    {
      "cell_type": "code",
      "source": [
        "from sklearn.ensemble import RandomForestClassifier\n",
        "rf = RandomForestClassifier()\n",
        "#Model fitting\n",
        "rf.fit(X_train,y_train)\n",
        "\n",
        "#testing the model\n",
        "rf.score(X_test,y_test)"
      ],
      "metadata": {
        "colab": {
          "base_uri": "https://localhost:8080/"
        },
        "id": "ZhoJhxd0YJue",
        "outputId": "27409bdb-8a6a-4c96-ff0d-a4512a1d32c7"
      },
      "execution_count": null,
      "outputs": [
        {
          "output_type": "execute_result",
          "data": {
            "text/plain": [
              "0.967479674796748"
            ]
          },
          "metadata": {},
          "execution_count": 54
        }
      ]
    },
    {
      "cell_type": "code",
      "source": [
        "pred = rf.predict(X_test)"
      ],
      "metadata": {
        "id": "fMPSC8gJYU3u"
      },
      "execution_count": null,
      "outputs": []
    },
    {
      "cell_type": "code",
      "source": [
        "comment=['Best service ever . On time, products as promised. Great quality.']\n",
        "tf1_comment=vectorizer.transform(comment)\n",
        "result=rf.predict(tf1_comment)\n",
        "if result[0] == 1:\n",
        "  print('neutral')\n",
        "elif result[0]==0:\n",
        "  print('negative')\n",
        "else:\n",
        "  print('positive')\n"
      ],
      "metadata": {
        "colab": {
          "base_uri": "https://localhost:8080/"
        },
        "id": "MNqsV7RCYcBu",
        "outputId": "21d6ed93-2b9d-400b-e6e2-305a98825929"
      },
      "execution_count": null,
      "outputs": [
        {
          "output_type": "stream",
          "name": "stdout",
          "text": [
            "neutral\n"
          ]
        }
      ]
    },
    {
      "cell_type": "markdown",
      "source": [
        "Confusion Matrix"
      ],
      "metadata": {
        "id": "vIjgDJQ2Zovm"
      }
    },
    {
      "cell_type": "code",
      "source": [
        "from sklearn.metrics import accuracy_score,confusion_matrix,precision_recall_fscore_support,classification_report,roc_curve"
      ],
      "metadata": {
        "id": "FapxNh72Zsx1"
      },
      "execution_count": null,
      "outputs": []
    },
    {
      "cell_type": "code",
      "source": [
        "print(classification_report(y_test,pred))"
      ],
      "metadata": {
        "colab": {
          "base_uri": "https://localhost:8080/"
        },
        "id": "PdJ_2mByaBR-",
        "outputId": "08bad585-cf76-4093-bd80-9082f49d96a9"
      },
      "execution_count": null,
      "outputs": [
        {
          "output_type": "stream",
          "name": "stdout",
          "text": [
            "              precision    recall  f1-score   support\n",
            "\n",
            "           0       0.90      1.00      0.95       112\n",
            "           1       1.00      0.90      0.95       123\n",
            "           2       1.00      1.00      1.00       134\n",
            "\n",
            "    accuracy                           0.97       369\n",
            "   macro avg       0.97      0.97      0.97       369\n",
            "weighted avg       0.97      0.97      0.97       369\n",
            "\n"
          ]
        }
      ]
    },
    {
      "cell_type": "code",
      "source": [
        "print('Accuracy Score:',accuracy_score(y_test,pred))"
      ],
      "metadata": {
        "colab": {
          "base_uri": "https://localhost:8080/"
        },
        "id": "mYWARSM1aYWb",
        "outputId": "5146e0a8-db18-490f-b992-3862d587d2ff"
      },
      "execution_count": null,
      "outputs": [
        {
          "output_type": "stream",
          "name": "stdout",
          "text": [
            "Accuracy Score: 0.967479674796748\n"
          ]
        }
      ]
    },
    {
      "cell_type": "code",
      "source": [
        "conf_m=confusion_matrix(y_test,pred)\n",
        "sns.heatmap(conf_m,linewidths=1,annot=True,fmt='g')"
      ],
      "metadata": {
        "colab": {
          "base_uri": "https://localhost:8080/",
          "height": 291
        },
        "id": "MKuhHzaSaQBU",
        "outputId": "925838bb-d401-48c8-9c2e-4f394972ffe8"
      },
      "execution_count": null,
      "outputs": [
        {
          "output_type": "execute_result",
          "data": {
            "text/plain": [
              "<matplotlib.axes._subplots.AxesSubplot at 0x7f318993b130>"
            ]
          },
          "metadata": {},
          "execution_count": 60
        },
        {
          "output_type": "display_data",
          "data": {
            "text/plain": [
              "<Figure size 432x288 with 2 Axes>"
            ],
            "image/png": "[encoded data removed]"
          },
          "metadata": {
            "needs_background": "light"
          }
        }
      ]
    },
    {
      "cell_type": "markdown",
      "source": [
        "SVM"
      ],
      "metadata": {
        "id": "TOm5dzGeaqht"
      }
    },
    {
      "cell_type": "code",
      "source": [
        "from sklearn.svm import SVC"
      ],
      "metadata": {
        "id": "yIw2RIwWar_8"
      },
      "execution_count": null,
      "outputs": []
    },
    {
      "cell_type": "code",
      "source": [
        "model_svm=SVC()"
      ],
      "metadata": {
        "id": "X7U49AhvaxmV"
      },
      "execution_count": null,
      "outputs": []
    },
    {
      "cell_type": "code",
      "source": [
        "model_svm.fit(X_train,y_train)\n",
        "model_svm.score(X_test,y_test)"
      ],
      "metadata": {
        "colab": {
          "base_uri": "https://localhost:8080/"
        },
        "id": "L0vmMODka0M8",
        "outputId": "24d55886-1d24-407f-d7e9-0da7bcf78377"
      },
      "execution_count": null,
      "outputs": [
        {
          "output_type": "execute_result",
          "data": {
            "text/plain": [
              "1.0"
            ]
          },
          "metadata": {},
          "execution_count": 63
        }
      ]
    },
    {
      "cell_type": "code",
      "source": [
        "pred = model_svm.predict(X_test)"
      ],
      "metadata": {
        "id": "uKKrIPKqa9vM"
      },
      "execution_count": null,
      "outputs": []
    },
    {
      "cell_type": "code",
      "source": [
        "comment=['this product is poor','Product is very good,fit is good','where the product is produced']\n",
        "vect_comment=vectorizer.transform(comment)\n",
        "model_svm.predict(vect_comment)"
      ],
      "metadata": {
        "colab": {
          "base_uri": "https://localhost:8080/"
        },
        "id": "UFNVbUV_bHxs",
        "outputId": "92a1d977-d0d3-4861-e4c7-58fd32aa78b7"
      },
      "execution_count": null,
      "outputs": [
        {
          "output_type": "execute_result",
          "data": {
            "text/plain": [
              "array([1, 1, 1])"
            ]
          },
          "metadata": {},
          "execution_count": 65
        }
      ]
    },
    {
      "cell_type": "markdown",
      "source": [
        "Confusion Matrix"
      ],
      "metadata": {
        "id": "eKjHZ-LNcINE"
      }
    },
    {
      "cell_type": "code",
      "source": [
        "print(classification_report(y_test,pred))"
      ],
      "metadata": {
        "colab": {
          "base_uri": "https://localhost:8080/"
        },
        "id": "MizuYGwhcDM0",
        "outputId": "20124b04-7237-4e63-8c37-fb3d217a277e"
      },
      "execution_count": null,
      "outputs": [
        {
          "output_type": "stream",
          "name": "stdout",
          "text": [
            "              precision    recall  f1-score   support\n",
            "\n",
            "           0       1.00      1.00      1.00       112\n",
            "           1       1.00      1.00      1.00       123\n",
            "           2       1.00      1.00      1.00       134\n",
            "\n",
            "    accuracy                           1.00       369\n",
            "   macro avg       1.00      1.00      1.00       369\n",
            "weighted avg       1.00      1.00      1.00       369\n",
            "\n"
          ]
        }
      ]
    },
    {
      "cell_type": "code",
      "source": [
        "conf_m=confusion_matrix(y_test,pred)\n",
        "sns.heatmap(conf_m,linewidths=1,annot=True,fmt='g')"
      ],
      "metadata": {
        "colab": {
          "base_uri": "https://localhost:8080/",
          "height": 291
        },
        "id": "hj_i3LgpcRpS",
        "outputId": "8c870cae-6718-4399-82db-3789267d0668"
      },
      "execution_count": null,
      "outputs": [
        {
          "output_type": "execute_result",
          "data": {
            "text/plain": [
              "<matplotlib.axes._subplots.AxesSubplot at 0x7f318707c730>"
            ]
          },
          "metadata": {},
          "execution_count": 67
        },
        {
          "output_type": "display_data",
          "data": {
            "text/plain": [
              "<Figure size 432x288 with 2 Axes>"
            ],
            "image/png": "[encoded data removed]"
          },
          "metadata": {
            "needs_background": "light"
          }
        }
      ]
    },
    {
      "cell_type": "markdown",
      "source": [
        "Decision Tree Classifier"
      ],
      "metadata": {
        "id": "-O6_3kq1cj66"
      }
    },
    {
      "cell_type": "code",
      "source": [
        "from sklearn.tree import DecisionTreeClassifier"
      ],
      "metadata": {
        "id": "LaUMJS2mcmby"
      },
      "execution_count": null,
      "outputs": []
    },
    {
      "cell_type": "code",
      "source": [
        "classifier=DecisionTreeClassifier()\n",
        "classifier.fit(X_train,y_train)\n",
        "classifier.score(X_test,y_test)"
      ],
      "metadata": {
        "colab": {
          "base_uri": "https://localhost:8080/"
        },
        "id": "1SrHO2Jncsik",
        "outputId": "b8504a57-f2e0-4397-8030-04db9a26c516"
      },
      "execution_count": null,
      "outputs": [
        {
          "output_type": "execute_result",
          "data": {
            "text/plain": [
              "0.948509485094851"
            ]
          },
          "metadata": {},
          "execution_count": 200
        }
      ]
    },
    {
      "cell_type": "code",
      "source": [
        "pred=classifier.predict(X_test)"
      ],
      "metadata": {
        "id": "8YiMzpHcc99S"
      },
      "execution_count": null,
      "outputs": []
    },
    {
      "cell_type": "markdown",
      "source": [
        "Confusion Matrix"
      ],
      "metadata": {
        "id": "rs0WkCBTdkjD"
      }
    },
    {
      "cell_type": "code",
      "source": [
        "print(classification_report(y_test,pred))"
      ],
      "metadata": {
        "colab": {
          "base_uri": "https://localhost:8080/"
        },
        "id": "1Qbc1PR-dmE1",
        "outputId": "d48c04cd-61b1-4bd2-d714-ccc52840e0d6"
      },
      "execution_count": null,
      "outputs": [
        {
          "output_type": "stream",
          "name": "stdout",
          "text": [
            "              precision    recall  f1-score   support\n",
            "\n",
            "           0       0.87      0.97      0.92       112\n",
            "           1       0.97      0.87      0.92       123\n",
            "           2       1.00      1.00      1.00       134\n",
            "\n",
            "    accuracy                           0.95       369\n",
            "   macro avg       0.95      0.95      0.95       369\n",
            "weighted avg       0.95      0.95      0.95       369\n",
            "\n"
          ]
        }
      ]
    },
    {
      "cell_type": "code",
      "source": [
        "conf_m=confusion_matrix(y_test,pred)\n",
        "sns.heatmap(conf_m,linewidths=1,annot=True,fmt='g')"
      ],
      "metadata": {
        "colab": {
          "base_uri": "https://localhost:8080/",
          "height": 291
        },
        "id": "_ygjlWZyd_ix",
        "outputId": "336e7132-cf97-44cc-8927-78c3e0a3ac90"
      },
      "execution_count": null,
      "outputs": [
        {
          "output_type": "execute_result",
          "data": {
            "text/plain": [
              "<matplotlib.axes._subplots.AxesSubplot at 0x7f3186f96550>"
            ]
          },
          "metadata": {},
          "execution_count": 72
        },
        {
          "output_type": "display_data",
          "data": {
            "text/plain": [
              "<Figure size 432x288 with 2 Axes>"
            ],
            "image/png": "[encoded data removed]"
          },
          "metadata": {
            "needs_background": "light"
          }
        }
      ]
    },
    {
      "cell_type": "markdown",
      "source": [
        "Logistic Regression"
      ],
      "metadata": {
        "id": "qhLMoguSfIZA"
      }
    },
    {
      "cell_type": "code",
      "source": [
        "from sklearn.linear_model import LogisticRegression\n",
        "model=LogisticRegression()\n",
        "\n",
        "#model fitting\n",
        "model.fit(X_train,y_train)\n",
        "\n",
        "#testing the model\n",
        "model.score(X_test,y_test)"
      ],
      "metadata": {
        "colab": {
          "base_uri": "https://localhost:8080/"
        },
        "id": "ej6QrNnrfLK_",
        "outputId": "1caf14aa-2b09-42c7-d511-0b04de64609d"
      },
      "execution_count": null,
      "outputs": [
        {
          "output_type": "execute_result",
          "data": {
            "text/plain": [
              "0.9728997289972899"
            ]
          },
          "metadata": {},
          "execution_count": 73
        }
      ]
    },
    {
      "cell_type": "code",
      "source": [
        "pred=model.predict(X_test)"
      ],
      "metadata": {
        "id": "SPtDhNwIgHMW"
      },
      "execution_count": null,
      "outputs": []
    },
    {
      "cell_type": "markdown",
      "source": [
        "Confusion Matrix"
      ],
      "metadata": {
        "id": "Y3Mzgig4gSBf"
      }
    },
    {
      "cell_type": "code",
      "source": [
        "print(classification_report(y_test,pred))"
      ],
      "metadata": {
        "colab": {
          "base_uri": "https://localhost:8080/"
        },
        "id": "tJNXdn6fgUG_",
        "outputId": "88500117-658e-43cf-ae29-522e46ad6c62"
      },
      "execution_count": null,
      "outputs": [
        {
          "output_type": "stream",
          "name": "stdout",
          "text": [
            "              precision    recall  f1-score   support\n",
            "\n",
            "           0       0.93      0.99      0.96       112\n",
            "           1       0.99      0.93      0.96       123\n",
            "           2       1.00      1.00      1.00       134\n",
            "\n",
            "    accuracy                           0.97       369\n",
            "   macro avg       0.97      0.97      0.97       369\n",
            "weighted avg       0.97      0.97      0.97       369\n",
            "\n"
          ]
        }
      ]
    },
    {
      "cell_type": "code",
      "source": [
        "conf_m=confusion_matrix(y_test,pred)\n",
        "sns.heatmap(conf_m,linewidths=1,annot=True,fmt='g')"
      ],
      "metadata": {
        "colab": {
          "base_uri": "https://localhost:8080/",
          "height": 291
        },
        "id": "5qzGse3cgZFO",
        "outputId": "16be35a5-486a-4903-b20a-9f5b587e6708"
      },
      "execution_count": null,
      "outputs": [
        {
          "output_type": "execute_result",
          "data": {
            "text/plain": [
              "<matplotlib.axes._subplots.AxesSubplot at 0x7f3186f844f0>"
            ]
          },
          "metadata": {},
          "execution_count": 76
        },
        {
          "output_type": "display_data",
          "data": {
            "text/plain": [
              "<Figure size 432x288 with 2 Axes>"
            ],
            "image/png": "[encoded data removed]"
          },
          "metadata": {
            "needs_background": "light"
          }
        }
      ]
    },
    {
      "cell_type": "markdown",
      "source": [
        "Multinomial Naive Bayes"
      ],
      "metadata": {
        "id": "KvOgjDNpglv_"
      }
    },
    {
      "cell_type": "code",
      "source": [
        "from sklearn.naive_bayes import MultinomialNB"
      ],
      "metadata": {
        "id": "BqC6MZN7gq8W"
      },
      "execution_count": null,
      "outputs": []
    },
    {
      "cell_type": "code",
      "source": [
        "model=MultinomialNB()\n",
        "model.fit(X_train,y_train)\n",
        "model.score(X_test,y_test)"
      ],
      "metadata": {
        "colab": {
          "base_uri": "https://localhost:8080/"
        },
        "id": "v3zqEfB6gxIu",
        "outputId": "83da14ab-1bc3-4986-84cc-ac980bfd2a8c"
      },
      "execution_count": null,
      "outputs": [
        {
          "output_type": "execute_result",
          "data": {
            "text/plain": [
              "0.967479674796748"
            ]
          },
          "metadata": {},
          "execution_count": 78
        }
      ]
    },
    {
      "cell_type": "code",
      "source": [
        "pred=model.predict(X_test)"
      ],
      "metadata": {
        "id": "p-yq-HtVg77m"
      },
      "execution_count": null,
      "outputs": []
    },
    {
      "cell_type": "markdown",
      "source": [
        "Confusion Matrix"
      ],
      "metadata": {
        "id": "woY61_OzhBl2"
      }
    },
    {
      "cell_type": "code",
      "source": [
        "print(classification_report(y_test,pred))"
      ],
      "metadata": {
        "colab": {
          "base_uri": "https://localhost:8080/"
        },
        "id": "4Zgw301hhEGo",
        "outputId": "defd3e1e-d9cc-44a3-d476-95846f9eba49"
      },
      "execution_count": null,
      "outputs": [
        {
          "output_type": "stream",
          "name": "stdout",
          "text": [
            "              precision    recall  f1-score   support\n",
            "\n",
            "           0       0.95      0.96      0.95       112\n",
            "           1       0.96      0.94      0.95       123\n",
            "           2       0.99      1.00      1.00       134\n",
            "\n",
            "    accuracy                           0.97       369\n",
            "   macro avg       0.97      0.97      0.97       369\n",
            "weighted avg       0.97      0.97      0.97       369\n",
            "\n"
          ]
        }
      ]
    },
    {
      "cell_type": "code",
      "source": [
        "conf_m=confusion_matrix(y_test,pred)\n",
        "sns.heatmap(conf_m,linewidths=1,annot=True,fmt='g')"
      ],
      "metadata": {
        "colab": {
          "base_uri": "https://localhost:8080/",
          "height": 291
        },
        "id": "OAGRrEDKhLp-",
        "outputId": "544e1f21-3cbd-4f2f-f127-be5453ebac99"
      },
      "execution_count": null,
      "outputs": [
        {
          "output_type": "execute_result",
          "data": {
            "text/plain": [
              "<matplotlib.axes._subplots.AxesSubplot at 0x7f3186e1c5e0>"
            ]
          },
          "metadata": {},
          "execution_count": 81
        },
        {
          "output_type": "display_data",
          "data": {
            "text/plain": [
              "<Figure size 432x288 with 2 Axes>"
            ],
            "image/png": "[encoded data removed]"
          },
          "metadata": {
            "needs_background": "light"
          }
        }
      ]
    },
    {
      "cell_type": "markdown",
      "source": [
        "K-Nearest NeighBors Classifier"
      ],
      "metadata": {
        "id": "WsWRl_athQJt"
      }
    },
    {
      "cell_type": "code",
      "source": [
        "from sklearn.neighbors import KNeighborsClassifier\n",
        "knn=KNeighborsClassifier()\n",
        "\n",
        "#Model fiting\n",
        "knn.fit(X_train,y_train)\n",
        "\n",
        "#testing\n",
        "knn.score(X_test,y_test)"
      ],
      "metadata": {
        "colab": {
          "base_uri": "https://localhost:8080/"
        },
        "id": "J8mR4M_xhVNd",
        "outputId": "01f49c64-e618-4aac-9510-41bdc36f6c80"
      },
      "execution_count": null,
      "outputs": [
        {
          "output_type": "execute_result",
          "data": {
            "text/plain": [
              "0.6964769647696477"
            ]
          },
          "metadata": {},
          "execution_count": 82
        }
      ]
    },
    {
      "cell_type": "code",
      "source": [
        "pred=knn.predict(X_test)"
      ],
      "metadata": {
        "id": "lQrPF_M0ht1N"
      },
      "execution_count": null,
      "outputs": []
    },
    {
      "cell_type": "markdown",
      "source": [
        "Confusion Matrix"
      ],
      "metadata": {
        "id": "BMvMj396hx69"
      }
    },
    {
      "cell_type": "code",
      "source": [
        "print(classification_report(y_test,pred))"
      ],
      "metadata": {
        "colab": {
          "base_uri": "https://localhost:8080/"
        },
        "id": "S-rIqf3IhzoX",
        "outputId": "7696dd8b-a452-49ef-eba3-5a4247f9935f"
      },
      "execution_count": null,
      "outputs": [
        {
          "output_type": "stream",
          "name": "stdout",
          "text": [
            "              precision    recall  f1-score   support\n",
            "\n",
            "           0       0.50      1.00      0.67       112\n",
            "           1       1.00      0.09      0.16       123\n",
            "           2       1.00      1.00      1.00       134\n",
            "\n",
            "    accuracy                           0.70       369\n",
            "   macro avg       0.83      0.70      0.61       369\n",
            "weighted avg       0.85      0.70      0.62       369\n",
            "\n"
          ]
        }
      ]
    },
    {
      "cell_type": "code",
      "source": [
        "conf_m=confusion_matrix(y_test,pred)\n",
        "sns.heatmap(conf_m,linewidths=1,annot=True,fmt='g')"
      ],
      "metadata": {
        "colab": {
          "base_uri": "https://localhost:8080/",
          "height": 286
        },
        "id": "BtDx6lseh28W",
        "outputId": "30210c4b-a92d-4904-f809-49cb0452b805"
      },
      "execution_count": null,
      "outputs": [
        {
          "output_type": "execute_result",
          "data": {
            "text/plain": [
              "<matplotlib.axes._subplots.AxesSubplot at 0x7f318559bb80>"
            ]
          },
          "metadata": {},
          "execution_count": 209
        },
        {
          "output_type": "display_data",
          "data": {
            "text/plain": [
              "<Figure size 432x288 with 2 Axes>"
            ],
            "image/png": "[encoded data removed]"
          },
          "metadata": {}
        }
      ]
    },
    {
      "cell_type": "code",
      "source": [
        "from sklearn.ensemble import GradientBoostingClassifier\n",
        "gbclf=GradientBoostingClassifier(max_depth=3,n_estimators=10)\n",
        "gbclf.fit(X_train,y_train)\n",
        "gbclf.score(X_test,y_test)"
      ],
      "metadata": {
        "colab": {
          "base_uri": "https://localhost:8080/"
        },
        "id": "HLvCcm3AgPy6",
        "outputId": "c78ac36b-f3b0-49d7-cc0a-e72f87a0e57b"
      },
      "execution_count": null,
      "outputs": [
        {
          "output_type": "execute_result",
          "data": {
            "text/plain": [
              "0.8834688346883469"
            ]
          },
          "metadata": {},
          "execution_count": 86
        }
      ]
    },
    {
      "cell_type": "code",
      "source": [
        "# #  Define the models to compare\n",
        "# model_pipeline=[]\n",
        "# model_pipeline.append(MultinomialNB())\n",
        "# model_pipeline.append(LogisticRegression(solver='liblinear'))\n",
        "# model_pipeline.append(SVC())\n",
        "# model_pipeline.append(RandomForestClassifier())\n",
        "# model_pipeline.append(DecisionTreeClassifier())\n",
        "# model_pipeline.append(KNeighborsClassifier())"
      ],
      "metadata": {
        "id": "t8bgh_mpgs8U"
      },
      "execution_count": null,
      "outputs": []
    },
    {
      "cell_type": "code",
      "source": [
        "# from sklearn import metrics\n",
        "# from sklearn.metrics import classification_report\n",
        "\n",
        "\n",
        "\n",
        "# model_list=['Naive Bayes','Logistic Regression','SVM','Random Forest','Decision Tree','KNN']\n",
        "# acc_list=[]\n",
        "# cm_list=[]\n",
        "\n",
        "# for model in model_pipeline:\n",
        "#   model.fit(X_train,y_train)\n",
        "#   y_pred=model.predict(X_test)\n",
        "#   acc_list.append(metrics.accuracy_score(y_test,y_pred))\n",
        "#   # fprate,tprate, thresholds=metrics.roc_curve(y_test,y_pred,pos_label=1)\n",
        "#   # auc_list.append(round(metrics.auc(fprate,tprate),2))\n",
        "#   cm_list.append(confusion_matrix(y_test,y_pred))\n",
        "\n"
      ],
      "metadata": {
        "id": "U2fVe_40lctZ"
      },
      "execution_count": null,
      "outputs": []
    },
    {
      "cell_type": "code",
      "source": [
        "# result_df=pd.DataFrame({'Model':model_list,'Accuracy':acc_list})\n",
        "# result_df"
      ],
      "metadata": {
        "id": "X_K8VdQLxAeG"
      },
      "execution_count": null,
      "outputs": []
    },
    {
      "cell_type": "code",
      "source": [
        "names=['KNN','SVM','Decision Tree','Naive Bayes','Logistic Regression','Gradient Boosting','Random Forest']\n",
        "\n",
        "classifiers=[\n",
        "    KNeighborsClassifier(3),\n",
        "    SVC(),\n",
        "    DecisionTreeClassifier(max_depth=5),\n",
        "    MultinomialNB(),\n",
        "    LogisticRegression(),\n",
        "    GradientBoostingClassifier(),\n",
        "    RandomForestClassifier(max_depth=5,n_estimators=100)]"
      ],
      "metadata": {
        "id": "6wYAi9IIaZ83"
      },
      "execution_count": null,
      "outputs": []
    },
    {
      "cell_type": "code",
      "source": [
        "scores=[]\n",
        "for name,clf in zip(names,classifiers):\n",
        "  clf.fit(X_train,y_train)\n",
        "  score=clf.score(X_test,y_test)\n",
        "  scores.append(score)"
      ],
      "metadata": {
        "id": "osg3bqp9XY4j"
      },
      "execution_count": null,
      "outputs": []
    },
    {
      "cell_type": "code",
      "source": [
        "scores"
      ],
      "metadata": {
        "colab": {
          "base_uri": "https://localhost:8080/"
        },
        "id": "URKqDONYXxcR",
        "outputId": "4207a85b-3bbb-4db7-89e0-68cbcdc2e349"
      },
      "execution_count": null,
      "outputs": [
        {
          "output_type": "execute_result",
          "data": {
            "text/plain": [
              "[0.7073170731707317,\n",
              " 1.0,\n",
              " 0.8834688346883469,\n",
              " 0.967479674796748,\n",
              " 0.9728997289972899,\n",
              " 0.9186991869918699,\n",
              " 0.975609756097561]"
            ]
          },
          "metadata": {},
          "execution_count": 183
        }
      ]
    },
    {
      "cell_type": "code",
      "source": [
        "df=pd.DataFrame()\n",
        "df['name']=names\n",
        "df['score']=scores\n",
        "df"
      ],
      "metadata": {
        "colab": {
          "base_uri": "https://localhost:8080/",
          "height": 269
        },
        "id": "qJLx3oQLxvmr",
        "outputId": "6e2afc0b-03c8-44b0-d17f-31db1cf40654"
      },
      "execution_count": null,
      "outputs": [
        {
          "output_type": "execute_result",
          "data": {
            "text/plain": [
              "                  name     score\n",
              "0                  KNN  0.707317\n",
              "1                  SVM  1.000000\n",
              "2        Decision Tree  0.883469\n",
              "3          Naive Bayes  0.967480\n",
              "4  Logistic Regression  0.972900\n",
              "5    Gradient Boosting  0.918699\n",
              "6        Random Forest  0.975610"
            ],
            "text/html": [
              "\n",
              "  <div id=\"df-132411b7-761b-4dc6-b458-b24bf53ed34f\">\n",
              "    <div class=\"colab-df-container\">\n",
              "      <div>\n",
              "<style scoped>\n",
              "    .dataframe tbody tr th:only-of-type {\n",
              "        vertical-align: middle;\n",
              "    }\n",
              "\n",
              "    .dataframe tbody tr th {\n",
              "        vertical-align: top;\n",
              "    }\n",
              "\n",
              "    .dataframe thead th {\n",
              "        text-align: right;\n",
              "    }\n",
              "</style>\n",
              "<table border=\"1\" class=\"dataframe\">\n",
              "  <thead>\n",
              "    <tr style=\"text-align: right;\">\n",
              "      <th></th>\n",
              "      <th>name</th>\n",
              "      <th>score</th>\n",
              "    </tr>\n",
              "  </thead>\n",
              "  <tbody>\n",
              "    <tr>\n",
              "      <th>0</th>\n",
              "      <td>KNN</td>\n",
              "      <td>0.707317</td>\n",
              "    </tr>\n",
              "    <tr>\n",
              "      <th>1</th>\n",
              "      <td>SVM</td>\n",
              "      <td>1.000000</td>\n",
              "    </tr>\n",
              "    <tr>\n",
              "      <th>2</th>\n",
              "      <td>Decision Tree</td>\n",
              "      <td>0.883469</td>\n",
              "    </tr>\n",
              "    <tr>\n",
              "      <th>3</th>\n",
              "      <td>Naive Bayes</td>\n",
              "      <td>0.967480</td>\n",
              "    </tr>\n",
              "    <tr>\n",
              "      <th>4</th>\n",
              "      <td>Logistic Regression</td>\n",
              "      <td>0.972900</td>\n",
              "    </tr>\n",
              "    <tr>\n",
              "      <th>5</th>\n",
              "      <td>Gradient Boosting</td>\n",
              "      <td>0.918699</td>\n",
              "    </tr>\n",
              "    <tr>\n",
              "      <th>6</th>\n",
              "      <td>Random Forest</td>\n",
              "      <td>0.975610</td>\n",
              "    </tr>\n",
              "  </tbody>\n",
              "</table>\n",
              "</div>\n",
              "      <button class=\"colab-df-convert\" onclick=\"convertToInteractive('df-132411b7-761b-4dc6-b458-b24bf53ed34f')\"\n",
              "              title=\"Convert this dataframe to an interactive table.\"\n",
              "              style=\"display:none;\">\n",
              "        \n",
              "  <svg xmlns=\"http://www.w3.org/2000/svg\" height=\"24px\"viewBox=\"0 0 24 24\"\n",
              "       width=\"24px\">\n",
              "    <path d=\"M0 0h24v24H0V0z\" fill=\"none\"/>\n",
              "    <path d=\"M18.56 5.44l.94 2.06.94-2.06 2.06-.94-2.06-.94-.94-2.06-.94 2.06-2.06.94zm-11 1L8.5 8.5l.94-2.06 2.06-.94-2.06-.94L8.5 2.5l-.94 2.06-2.06.94zm10 10l.94 2.06.94-2.06 2.06-.94-2.06-.94-.94-2.06-.94 2.06-2.06.94z\"/><path d=\"M17.41 7.96l-1.37-1.37c-.4-.4-.92-.59-1.43-.59-.52 0-1.04.2-1.43.59L10.3 9.45l-7.72 7.72c-.78.78-.78 2.05 0 2.83L4 21.41c.39.39.9.59 1.41.59.51 0 1.02-.2 1.41-.59l7.78-7.78 2.81-2.81c.8-.78.8-2.07 0-2.86zM5.41 20L4 18.59l7.72-7.72 1.47 1.35L5.41 20z\"/>\n",
              "  </svg>\n",
              "      </button>\n",
              "      \n",
              "  <style>\n",
              "    .colab-df-container {\n",
              "      display:flex;\n",
              "      flex-wrap:wrap;\n",
              "      gap: 12px;\n",
              "    }\n",
              "\n",
              "    .colab-df-convert {\n",
              "      background-color: #E8F0FE;\n",
              "      border: none;\n",
              "      border-radius: 50%;\n",
              "      cursor: pointer;\n",
              "      display: none;\n",
              "      fill: #1967D2;\n",
              "      height: 32px;\n",
              "      padding: 0 0 0 0;\n",
              "      width: 32px;\n",
              "    }\n",
              "\n",
              "    .colab-df-convert:hover {\n",
              "      background-color: #E2EBFA;\n",
              "      box-shadow: 0px 1px 2px rgba(60, 64, 67, 0.3), 0px 1px 3px 1px rgba(60, 64, 67, 0.15);\n",
              "      fill: #174EA6;\n",
              "    }\n",
              "\n",
              "    [theme=dark] .colab-df-convert {\n",
              "      background-color: #3B4455;\n",
              "      fill: #D2E3FC;\n",
              "    }\n",
              "\n",
              "    [theme=dark] .colab-df-convert:hover {\n",
              "      background-color: #434B5C;\n",
              "      box-shadow: 0px 1px 3px 1px rgba(0, 0, 0, 0.15);\n",
              "      filter: drop-shadow(0px 1px 2px rgba(0, 0, 0, 0.3));\n",
              "      fill: #FFFFFF;\n",
              "    }\n",
              "  </style>\n",
              "\n",
              "      <script>\n",
              "        const buttonEl =\n",
              "          document.querySelector('#df-132411b7-761b-4dc6-b458-b24bf53ed34f button.colab-df-convert');\n",
              "        buttonEl.style.display =\n",
              "          google.colab.kernel.accessAllowed ? 'block' : 'none';\n",
              "\n",
              "        async function convertToInteractive(key) {\n",
              "          const element = document.querySelector('#df-132411b7-761b-4dc6-b458-b24bf53ed34f');\n",
              "          const dataTable =\n",
              "            await google.colab.kernel.invokeFunction('convertToInteractive',\n",
              "                                                     [key], {});\n",
              "          if (!dataTable) return;\n",
              "\n",
              "          const docLinkHtml = 'Like what you see? Visit the ' +\n",
              "            '<a target=\"_blank\" href=https://colab.research.google.com/notebooks/data_table.ipynb>data table notebook</a>'\n",
              "            + ' to learn more about interactive tables.';\n",
              "          element.innerHTML = '';\n",
              "          dataTable['output_type'] = 'display_data';\n",
              "          await google.colab.output.renderOutput(dataTable, element);\n",
              "          const docLink = document.createElement('div');\n",
              "          docLink.innerHTML = docLinkHtml;\n",
              "          element.appendChild(docLink);\n",
              "        }\n",
              "      </script>\n",
              "    </div>\n",
              "  </div>\n",
              "  "
            ]
          },
          "metadata": {},
          "execution_count": 184
        }
      ]
    },
    {
      "cell_type": "code",
      "source": [
        "cm=sns.light_palette(\"green\",as_cmap=True)\n",
        "s=df.style.background_gradient(cmap=cm)\n",
        "s\n"
      ],
      "metadata": {
        "colab": {
          "base_uri": "https://localhost:8080/",
          "height": 269
        },
        "id": "wOl08TZ5quL8",
        "outputId": "17adb22b-3cf9-40ef-ea3a-b1a5b5e5cea2"
      },
      "execution_count": null,
      "outputs": [
        {
          "output_type": "execute_result",
          "data": {
            "text/plain": [
              "<pandas.io.formats.style.Styler at 0x7f3184dedb20>"
            ],
            "text/html": [
              "<style type=\"text/css\">\n",
              "#T_f7cfb_row0_col1 {\n",
              "  background-color: #ebf3eb;\n",
              "  color: #000000;\n",
              "}\n",
              "#T_f7cfb_row1_col1 {\n",
              "  background-color: #008000;\n",
              "  color: #f1f1f1;\n",
              "}\n",
              "#T_f7cfb_row2_col1 {\n",
              "  background-color: #5dae5d;\n",
              "  color: #f1f1f1;\n",
              "}\n",
              "#T_f7cfb_row3_col1 {\n",
              "  background-color: #1a8d1a;\n",
              "  color: #f1f1f1;\n",
              "}\n",
              "#T_f7cfb_row4_col1 {\n",
              "  background-color: #158a15;\n",
              "  color: #f1f1f1;\n",
              "}\n",
              "#T_f7cfb_row5_col1 {\n",
              "  background-color: #41a041;\n",
              "  color: #f1f1f1;\n",
              "}\n",
              "#T_f7cfb_row6_col1 {\n",
              "  background-color: #138913;\n",
              "  color: #f1f1f1;\n",
              "}\n",
              "</style>\n",
              "<table id=\"T_f7cfb_\" class=\"dataframe\">\n",
              "  <thead>\n",
              "    <tr>\n",
              "      <th class=\"blank level0\" >&nbsp;</th>\n",
              "      <th class=\"col_heading level0 col0\" >name</th>\n",
              "      <th class=\"col_heading level0 col1\" >score</th>\n",
              "    </tr>\n",
              "  </thead>\n",
              "  <tbody>\n",
              "    <tr>\n",
              "      <th id=\"T_f7cfb_level0_row0\" class=\"row_heading level0 row0\" >0</th>\n",
              "      <td id=\"T_f7cfb_row0_col0\" class=\"data row0 col0\" >KNN</td>\n",
              "      <td id=\"T_f7cfb_row0_col1\" class=\"data row0 col1\" >0.707317</td>\n",
              "    </tr>\n",
              "    <tr>\n",
              "      <th id=\"T_f7cfb_level0_row1\" class=\"row_heading level0 row1\" >1</th>\n",
              "      <td id=\"T_f7cfb_row1_col0\" class=\"data row1 col0\" >SVM</td>\n",
              "      <td id=\"T_f7cfb_row1_col1\" class=\"data row1 col1\" >1.000000</td>\n",
              "    </tr>\n",
              "    <tr>\n",
              "      <th id=\"T_f7cfb_level0_row2\" class=\"row_heading level0 row2\" >2</th>\n",
              "      <td id=\"T_f7cfb_row2_col0\" class=\"data row2 col0\" >Decision Tree</td>\n",
              "      <td id=\"T_f7cfb_row2_col1\" class=\"data row2 col1\" >0.883469</td>\n",
              "    </tr>\n",
              "    <tr>\n",
              "      <th id=\"T_f7cfb_level0_row3\" class=\"row_heading level0 row3\" >3</th>\n",
              "      <td id=\"T_f7cfb_row3_col0\" class=\"data row3 col0\" >Naive Bayes</td>\n",
              "      <td id=\"T_f7cfb_row3_col1\" class=\"data row3 col1\" >0.967480</td>\n",
              "    </tr>\n",
              "    <tr>\n",
              "      <th id=\"T_f7cfb_level0_row4\" class=\"row_heading level0 row4\" >4</th>\n",
              "      <td id=\"T_f7cfb_row4_col0\" class=\"data row4 col0\" >Logistic Regression</td>\n",
              "      <td id=\"T_f7cfb_row4_col1\" class=\"data row4 col1\" >0.972900</td>\n",
              "    </tr>\n",
              "    <tr>\n",
              "      <th id=\"T_f7cfb_level0_row5\" class=\"row_heading level0 row5\" >5</th>\n",
              "      <td id=\"T_f7cfb_row5_col0\" class=\"data row5 col0\" >Gradient Boosting</td>\n",
              "      <td id=\"T_f7cfb_row5_col1\" class=\"data row5 col1\" >0.918699</td>\n",
              "    </tr>\n",
              "    <tr>\n",
              "      <th id=\"T_f7cfb_level0_row6\" class=\"row_heading level0 row6\" >6</th>\n",
              "      <td id=\"T_f7cfb_row6_col0\" class=\"data row6 col0\" >Random Forest</td>\n",
              "      <td id=\"T_f7cfb_row6_col1\" class=\"data row6 col1\" >0.975610</td>\n",
              "    </tr>\n",
              "  </tbody>\n",
              "</table>\n"
            ]
          },
          "metadata": {},
          "execution_count": 196
        }
      ]
    },
    {
      "cell_type": "code",
      "source": [
        "sns.set(style=\"whitegrid\").\n",
        "ax=sns.barplot(y=\"name\",x=\"score\",data=df)"
      ],
      "metadata": {
        "colab": {
          "base_uri": "https://localhost:8080/",
          "height": 285
        },
        "id": "Ku7WfXiprUwd",
        "outputId": "0d16d1a6-426c-4fc8-bc7b-a32b77f46a60"
      },
      "execution_count": null,
      "outputs": [
        {
          "output_type": "display_data",
          "data": {
            "text/plain": [
              "<Figure size 432x288 with 1 Axes>"
            ],
            "image/png": "[encoded data removed]"
          },
          "metadata": {}
        }
      ]
    },
    {
      "cell_type": "code",
      "source": [],
      "metadata": {
        "id": "cXBZX8WSpKRT"
      },
      "execution_count": null,
      "outputs": []
    }
  ]
}