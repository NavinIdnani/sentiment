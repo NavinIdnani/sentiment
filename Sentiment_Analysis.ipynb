{
  "nbformat": 4,
  "nbformat_minor": 0,
  "metadata": {
    "colab": {
      "provenance": []
    },
    "kernelspec": {
      "name": "python3",
      "display_name": "Python 3"
    },
    "language_info": {
      "name": "python"
    }
  },
  "cells": [
    {
      "cell_type": "code",
      "source": [
        "from google.colab import drive\n",
        "drive.mount(\"1a_OG.csv\")"
      ],
      "metadata": {
        "id": "Iy2RtGTr_kMV",
        "colab": {
          "base_uri": "https://localhost:8080/"
        },
        "outputId": "3433355b-5c8c-49c0-f8cc-301011973f0c"
      },
      "execution_count": null,
      "outputs": [
        {
          "output_type": "stream",
          "name": "stdout",
          "text": [
            "Mounted at 1a_OG.csv\n"
          ]
        }
      ]
    },
    {
      "cell_type": "code",
      "source": [
        "import numpy as np\n",
        "import pandas as pd\n",
        "import matplotlib.pyplot as plt\n",
        "import string\n",
        "import re\n",
        "import nltk\n",
        "from sklearn.pipeline import Pipeline\n",
        "from sklearn.feature_extraction.text import TfidfTransformer\n",
        "from sklearn.model_selection import cross_val_score\n",
        "nltk.download('stopwords')\n",
        "from nltk.corpus import stopwords\n",
        "stop_words = stopwords.words('english')\n",
        "nltk.download('punkt')\n",
        "nltk.download('wordnet')\n",
        "nltk.download('omw-1.4')"
      ],
      "metadata": {
        "colab": {
          "base_uri": "https://localhost:8080/"
        },
        "id": "bMOwAHCijDX4",
        "outputId": "e6be89df-15a0-4a76-98b3-36360741cfb9"
      },
      "execution_count": null,
      "outputs": [
        {
          "output_type": "stream",
          "name": "stderr",
          "text": [
            "[nltk_data] Downloading package stopwords to /root/nltk_data...\n",
            "[nltk_data]   Unzipping corpora/stopwords.zip.\n",
            "[nltk_data] Downloading package punkt to /root/nltk_data...\n",
            "[nltk_data]   Unzipping tokenizers/punkt.zip.\n",
            "[nltk_data] Downloading package wordnet to /root/nltk_data...\n",
            "[nltk_data] Downloading package omw-1.4 to /root/nltk_data...\n"
          ]
        },
        {
          "output_type": "execute_result",
          "data": {
            "text/plain": [
              "True"
            ]
          },
          "metadata": {},
          "execution_count": 3
        }
      ]
    },
    {
      "cell_type": "code",
      "source": [
        "df = pd.read_csv(\"/content/1a_OG.csv/MyDrive/1a_OG.csv\")\n",
        "df.head()\n"
      ],
      "metadata": {
        "colab": {
          "base_uri": "https://localhost:8080/",
          "height": 423
        },
        "id": "MXpFHfO7AZel",
        "outputId": "d29a1882-8d7c-4a04-af7f-cd6767ff6465"
      },
      "execution_count": null,
      "outputs": [
        {
          "output_type": "execute_result",
          "data": {
            "text/plain": [
              "   product_id                                       product_name    brand  \\\n",
              "0  B085J1J32G  Samsung Galaxy M51 (Electric Blue, 6GB RAM, 12...  Samsung   \n",
              "1  B085J1J32G  Samsung Galaxy M51 (Electric Blue, 6GB RAM, 12...  Samsung   \n",
              "2  B085J1J32G  Samsung Galaxy M51 (Electric Blue, 6GB RAM, 12...  Samsung   \n",
              "3  B085J1J32G  Samsung Galaxy M51 (Electric Blue, 6GB RAM, 12...  Samsung   \n",
              "4  B085J1J32G  Samsung Galaxy M51 (Electric Blue, 6GB RAM, 12...  Samsung   \n",
              "\n",
              "  website                 source_URL  \\\n",
              "0  Amazon  https://amzn.eu/d/bOFfVHI   \n",
              "1  Amazon  https://amzn.eu/d/bOFfVHI   \n",
              "2  Amazon  https://amzn.eu/d/bOFfVHI   \n",
              "3  Amazon  https://amzn.eu/d/bOFfVHI   \n",
              "4  Amazon  https://amzn.eu/d/bOFfVHI   \n",
              "\n",
              "                                   review_title  \\\n",
              "0                                  Worst mobile   \n",
              "1                       Average mid-range phone   \n",
              "2  Bulky, and Back side chrome finish is faulty   \n",
              "3               Good product with some drawback   \n",
              "4                  The best phone you could buy   \n",
              "\n",
              "                                         review_text          reviewer_name  \\\n",
              "0                            Worst display quality😩😩              PHALAKSHA   \n",
              "1  Battery is good but not great as advertised.Ru...                Snehith   \n",
              "2  Back side chrome finish started like scratches...  Pro-tan International   \n",
              "3  Battery life is extraordinary. No need of carr...            sai krishna   \n",
              "4  I'm writing review after year of purchase , ev...                  vicky   \n",
              "\n",
              "  rating  \n",
              "0      1  \n",
              "1      3  \n",
              "2      4  \n",
              "3      4  \n",
              "4      5  "
            ],
            "text/html": [
              "\n",
              "  <div id=\"df-6eb6660f-0e46-4efa-b3f9-7f176f99759c\">\n",
              "    <div class=\"colab-df-container\">\n",
              "      <div>\n",
              "<style scoped>\n",
              "    .dataframe tbody tr th:only-of-type {\n",
              "        vertical-align: middle;\n",
              "    }\n",
              "\n",
              "    .dataframe tbody tr th {\n",
              "        vertical-align: top;\n",
              "    }\n",
              "\n",
              "    .dataframe thead th {\n",
              "        text-align: right;\n",
              "    }\n",
              "</style>\n",
              "<table border=\"1\" class=\"dataframe\">\n",
              "  <thead>\n",
              "    <tr style=\"text-align: right;\">\n",
              "      <th></th>\n",
              "      <th>product_id</th>\n",
              "      <th>product_name</th>\n",
              "      <th>brand</th>\n",
              "      <th>website</th>\n",
              "      <th>source_URL</th>\n",
              "      <th>review_title</th>\n",
              "      <th>review_text</th>\n",
              "      <th>reviewer_name</th>\n",
              "      <th>rating</th>\n",
              "    </tr>\n",
              "  </thead>\n",
              "  <tbody>\n",
              "    <tr>\n",
              "      <th>0</th>\n",
              "      <td>B085J1J32G</td>\n",
              "      <td>Samsung Galaxy M51 (Electric Blue, 6GB RAM, 12...</td>\n",
              "      <td>Samsung</td>\n",
              "      <td>Amazon</td>\n",
              "      <td>https://amzn.eu/d/bOFfVHI</td>\n",
              "      <td>Worst mobile</td>\n",
              "      <td>Worst display quality😩😩</td>\n",
              "      <td>PHALAKSHA</td>\n",
              "      <td>1</td>\n",
              "    </tr>\n",
              "    <tr>\n",
              "      <th>1</th>\n",
              "      <td>B085J1J32G</td>\n",
              "      <td>Samsung Galaxy M51 (Electric Blue, 6GB RAM, 12...</td>\n",
              "      <td>Samsung</td>\n",
              "      <td>Amazon</td>\n",
              "      <td>https://amzn.eu/d/bOFfVHI</td>\n",
              "      <td>Average mid-range phone</td>\n",
              "      <td>Battery is good but not great as advertised.Ru...</td>\n",
              "      <td>Snehith</td>\n",
              "      <td>3</td>\n",
              "    </tr>\n",
              "    <tr>\n",
              "      <th>2</th>\n",
              "      <td>B085J1J32G</td>\n",
              "      <td>Samsung Galaxy M51 (Electric Blue, 6GB RAM, 12...</td>\n",
              "      <td>Samsung</td>\n",
              "      <td>Amazon</td>\n",
              "      <td>https://amzn.eu/d/bOFfVHI</td>\n",
              "      <td>Bulky, and Back side chrome finish is faulty</td>\n",
              "      <td>Back side chrome finish started like scratches...</td>\n",
              "      <td>Pro-tan International</td>\n",
              "      <td>4</td>\n",
              "    </tr>\n",
              "    <tr>\n",
              "      <th>3</th>\n",
              "      <td>B085J1J32G</td>\n",
              "      <td>Samsung Galaxy M51 (Electric Blue, 6GB RAM, 12...</td>\n",
              "      <td>Samsung</td>\n",
              "      <td>Amazon</td>\n",
              "      <td>https://amzn.eu/d/bOFfVHI</td>\n",
              "      <td>Good product with some drawback</td>\n",
              "      <td>Battery life is extraordinary. No need of carr...</td>\n",
              "      <td>sai krishna</td>\n",
              "      <td>4</td>\n",
              "    </tr>\n",
              "    <tr>\n",
              "      <th>4</th>\n",
              "      <td>B085J1J32G</td>\n",
              "      <td>Samsung Galaxy M51 (Electric Blue, 6GB RAM, 12...</td>\n",
              "      <td>Samsung</td>\n",
              "      <td>Amazon</td>\n",
              "      <td>https://amzn.eu/d/bOFfVHI</td>\n",
              "      <td>The best phone you could buy</td>\n",
              "      <td>I'm writing review after year of purchase , ev...</td>\n",
              "      <td>vicky</td>\n",
              "      <td>5</td>\n",
              "    </tr>\n",
              "  </tbody>\n",
              "</table>\n",
              "</div>\n",
              "      <button class=\"colab-df-convert\" onclick=\"convertToInteractive('df-6eb6660f-0e46-4efa-b3f9-7f176f99759c')\"\n",
              "              title=\"Convert this dataframe to an interactive table.\"\n",
              "              style=\"display:none;\">\n",
              "        \n",
              "  <svg xmlns=\"http://www.w3.org/2000/svg\" height=\"24px\"viewBox=\"0 0 24 24\"\n",
              "       width=\"24px\">\n",
              "    <path d=\"M0 0h24v24H0V0z\" fill=\"none\"/>\n",
              "    <path d=\"M18.56 5.44l.94 2.06.94-2.06 2.06-.94-2.06-.94-.94-2.06-.94 2.06-2.06.94zm-11 1L8.5 8.5l.94-2.06 2.06-.94-2.06-.94L8.5 2.5l-.94 2.06-2.06.94zm10 10l.94 2.06.94-2.06 2.06-.94-2.06-.94-.94-2.06-.94 2.06-2.06.94z\"/><path d=\"M17.41 7.96l-1.37-1.37c-.4-.4-.92-.59-1.43-.59-.52 0-1.04.2-1.43.59L10.3 9.45l-7.72 7.72c-.78.78-.78 2.05 0 2.83L4 21.41c.39.39.9.59 1.41.59.51 0 1.02-.2 1.41-.59l7.78-7.78 2.81-2.81c.8-.78.8-2.07 0-2.86zM5.41 20L4 18.59l7.72-7.72 1.47 1.35L5.41 20z\"/>\n",
              "  </svg>\n",
              "      </button>\n",
              "      \n",
              "  <style>\n",
              "    .colab-df-container {\n",
              "      display:flex;\n",
              "      flex-wrap:wrap;\n",
              "      gap: 12px;\n",
              "    }\n",
              "\n",
              "    .colab-df-convert {\n",
              "      background-color: #E8F0FE;\n",
              "      border: none;\n",
              "      border-radius: 50%;\n",
              "      cursor: pointer;\n",
              "      display: none;\n",
              "      fill: #1967D2;\n",
              "      height: 32px;\n",
              "      padding: 0 0 0 0;\n",
              "      width: 32px;\n",
              "    }\n",
              "\n",
              "    .colab-df-convert:hover {\n",
              "      background-color: #E2EBFA;\n",
              "      box-shadow: 0px 1px 2px rgba(60, 64, 67, 0.3), 0px 1px 3px 1px rgba(60, 64, 67, 0.15);\n",
              "      fill: #174EA6;\n",
              "    }\n",
              "\n",
              "    [theme=dark] .colab-df-convert {\n",
              "      background-color: #3B4455;\n",
              "      fill: #D2E3FC;\n",
              "    }\n",
              "\n",
              "    [theme=dark] .colab-df-convert:hover {\n",
              "      background-color: #434B5C;\n",
              "      box-shadow: 0px 1px 3px 1px rgba(0, 0, 0, 0.15);\n",
              "      filter: drop-shadow(0px 1px 2px rgba(0, 0, 0, 0.3));\n",
              "      fill: #FFFFFF;\n",
              "    }\n",
              "  </style>\n",
              "\n",
              "      <script>\n",
              "        const buttonEl =\n",
              "          document.querySelector('#df-6eb6660f-0e46-4efa-b3f9-7f176f99759c button.colab-df-convert');\n",
              "        buttonEl.style.display =\n",
              "          google.colab.kernel.accessAllowed ? 'block' : 'none';\n",
              "\n",
              "        async function convertToInteractive(key) {\n",
              "          const element = document.querySelector('#df-6eb6660f-0e46-4efa-b3f9-7f176f99759c');\n",
              "          const dataTable =\n",
              "            await google.colab.kernel.invokeFunction('convertToInteractive',\n",
              "                                                     [key], {});\n",
              "          if (!dataTable) return;\n",
              "\n",
              "          const docLinkHtml = 'Like what you see? Visit the ' +\n",
              "            '<a target=\"_blank\" href=https://colab.research.google.com/notebooks/data_table.ipynb>data table notebook</a>'\n",
              "            + ' to learn more about interactive tables.';\n",
              "          element.innerHTML = '';\n",
              "          dataTable['output_type'] = 'display_data';\n",
              "          await google.colab.output.renderOutput(dataTable, element);\n",
              "          const docLink = document.createElement('div');\n",
              "          docLink.innerHTML = docLinkHtml;\n",
              "          element.appendChild(docLink);\n",
              "        }\n",
              "      </script>\n",
              "    </div>\n",
              "  </div>\n",
              "  "
            ]
          },
          "metadata": {},
          "execution_count": 4
        }
      ]
    },
    {
      "cell_type": "code",
      "source": [
        "df.isnull().sum()"
      ],
      "metadata": {
        "colab": {
          "base_uri": "https://localhost:8080/"
        },
        "id": "EBgUuRrOAh29",
        "outputId": "a54caf26-5973-4ff8-e569-63bc69d62c6a"
      },
      "execution_count": null,
      "outputs": [
        {
          "output_type": "execute_result",
          "data": {
            "text/plain": [
              "product_id       38\n",
              "product_name      0\n",
              "brand             1\n",
              "website           0\n",
              "source_URL        0\n",
              "review_title      8\n",
              "review_text      44\n",
              "reviewer_name     8\n",
              "rating           28\n",
              "dtype: int64"
            ]
          },
          "metadata": {},
          "execution_count": 5
        }
      ]
    },
    {
      "cell_type": "code",
      "source": [
        "df['review_text'] = df['review_text'].astype(str)\n",
        "df.dtypes"
      ],
      "metadata": {
        "id": "sZw_rPnrArje",
        "colab": {
          "base_uri": "https://localhost:8080/"
        },
        "outputId": "53df4b68-a80b-4253-e8ed-688c957db3e5"
      },
      "execution_count": null,
      "outputs": [
        {
          "output_type": "execute_result",
          "data": {
            "text/plain": [
              "product_id       object\n",
              "product_name     object\n",
              "brand            object\n",
              "website          object\n",
              "source_URL       object\n",
              "review_title     object\n",
              "review_text      object\n",
              "reviewer_name    object\n",
              "rating           object\n",
              "dtype: object"
            ]
          },
          "metadata": {},
          "execution_count": 6
        }
      ]
    },
    {
      "cell_type": "code",
      "source": [
        "df = df.drop_duplicates(subset=['review_text'])\n",
        "df"
      ],
      "metadata": {
        "colab": {
          "base_uri": "https://localhost:8080/",
          "height": 988
        },
        "id": "FnfKj2yiA7yk",
        "outputId": "85a968fd-dbec-4a65-e021-df098b90d915"
      },
      "execution_count": null,
      "outputs": [
        {
          "output_type": "execute_result",
          "data": {
            "text/plain": [
              "      product_id                                       product_name    brand  \\\n",
              "0     B085J1J32G  Samsung Galaxy M51 (Electric Blue, 6GB RAM, 12...  Samsung   \n",
              "1     B085J1J32G  Samsung Galaxy M51 (Electric Blue, 6GB RAM, 12...  Samsung   \n",
              "2     B085J1J32G  Samsung Galaxy M51 (Electric Blue, 6GB RAM, 12...  Samsung   \n",
              "3     B085J1J32G  Samsung Galaxy M51 (Electric Blue, 6GB RAM, 12...  Samsung   \n",
              "4     B085J1J32G  Samsung Galaxy M51 (Electric Blue, 6GB RAM, 12...  Samsung   \n",
              "...          ...                                                ...      ...   \n",
              "1678  B08FN6WGDQ  Samsung Galaxy Buds Live Bluetooth Truly Wirel...  Samsung   \n",
              "1679  B08FN6WGDQ  Samsung Galaxy Buds Live Bluetooth Truly Wirel...  Samsung   \n",
              "1680  B08FN6WGDQ  Samsung Galaxy Buds Live Bluetooth Truly Wirel...  Samsung   \n",
              "1683  B08FN6WGDQ  Samsung Galaxy Buds Live Bluetooth Truly Wirel...  Samsung   \n",
              "1684  B08FN6WGDQ  Samsung Galaxy Buds Live Bluetooth Truly Wirel...  Samsung   \n",
              "\n",
              "     website                                         source_URL  \\\n",
              "0     Amazon                          https://amzn.eu/d/bOFfVHI   \n",
              "1     Amazon                          https://amzn.eu/d/bOFfVHI   \n",
              "2     Amazon                          https://amzn.eu/d/bOFfVHI   \n",
              "3     Amazon                          https://amzn.eu/d/bOFfVHI   \n",
              "4     Amazon                          https://amzn.eu/d/bOFfVHI   \n",
              "...      ...                                                ...   \n",
              "1678  Amazon  https://www.amazon.in/Samsung-Galaxy-SM-R180NZ...   \n",
              "1679  Amazon  https://www.amazon.in/Samsung-Galaxy-SM-R180NZ...   \n",
              "1680  Amazon  https://www.amazon.in/Samsung-Galaxy-SM-R180NZ...   \n",
              "1683  Amazon  https://www.amazon.in/Samsung-Galaxy-SM-R180NZ...   \n",
              "1684  Amazon  https://www.amazon.in/Samsung-Galaxy-SM-R180NZ...   \n",
              "\n",
              "                                           review_title  \\\n",
              "0                                          Worst mobile   \n",
              "1                               Average mid-range phone   \n",
              "2          Bulky, and Back side chrome finish is faulty   \n",
              "3                       Good product with some drawback   \n",
              "4                          The best phone you could buy   \n",
              "...                                                 ...   \n",
              "1678                                        Itâ€™s Good   \n",
              "1679                                       NOT WORTH IT   \n",
              "1680                                      Good purchase   \n",
              "1683                                 Affordable earbuds   \n",
              "1684  Buy this only for design and few not so import...   \n",
              "\n",
              "                                            review_text  \\\n",
              "0                               Worst display quality😩😩   \n",
              "1     Battery is good but not great as advertised.Ru...   \n",
              "2     Back side chrome finish started like scratches...   \n",
              "3     Battery life is extraordinary. No need of carr...   \n",
              "4     I'm writing review after year of purchase , ev...   \n",
              "...                                                 ...   \n",
              "1678  I bought it in festive season Sale..\\n Itâ€™s ...   \n",
              "1679  Pro.. Good Finish and Quality. Good Battery Li...   \n",
              "1680  First they sent a defective one which alwaysss...   \n",
              "1683  Sound is loud and somewhat clear with some ech...   \n",
              "1684  Loved the style. But sound isn't that great. N...   \n",
              "\n",
              "              reviewer_name rating  \n",
              "0                 PHALAKSHA      1  \n",
              "1                   Snehith      3  \n",
              "2     Pro-tan International      4  \n",
              "3               sai krishna      4  \n",
              "4                     vicky      5  \n",
              "...                     ...    ...  \n",
              "1678          Diwakar Nayal      3  \n",
              "1679     Sainathan Arumugam      3  \n",
              "1680              Naveen B.      5  \n",
              "1683           shahid patel      4  \n",
              "1684                  Manas      4  \n",
              "\n",
              "[799 rows x 9 columns]"
            ],
            "text/html": [
              "\n",
              "  <div id=\"df-4ab296e3-5ebb-4717-a33e-4bf984e8dcd1\">\n",
              "    <div class=\"colab-df-container\">\n",
              "      <div>\n",
              "<style scoped>\n",
              "    .dataframe tbody tr th:only-of-type {\n",
              "        vertical-align: middle;\n",
              "    }\n",
              "\n",
              "    .dataframe tbody tr th {\n",
              "        vertical-align: top;\n",
              "    }\n",
              "\n",
              "    .dataframe thead th {\n",
              "        text-align: right;\n",
              "    }\n",
              "</style>\n",
              "<table border=\"1\" class=\"dataframe\">\n",
              "  <thead>\n",
              "    <tr style=\"text-align: right;\">\n",
              "      <th></th>\n",
              "      <th>product_id</th>\n",
              "      <th>product_name</th>\n",
              "      <th>brand</th>\n",
              "      <th>website</th>\n",
              "      <th>source_URL</th>\n",
              "      <th>review_title</th>\n",
              "      <th>review_text</th>\n",
              "      <th>reviewer_name</th>\n",
              "      <th>rating</th>\n",
              "    </tr>\n",
              "  </thead>\n",
              "  <tbody>\n",
              "    <tr>\n",
              "      <th>0</th>\n",
              "      <td>B085J1J32G</td>\n",
              "      <td>Samsung Galaxy M51 (Electric Blue, 6GB RAM, 12...</td>\n",
              "      <td>Samsung</td>\n",
              "      <td>Amazon</td>\n",
              "      <td>https://amzn.eu/d/bOFfVHI</td>\n",
              "      <td>Worst mobile</td>\n",
              "      <td>Worst display quality😩😩</td>\n",
              "      <td>PHALAKSHA</td>\n",
              "      <td>1</td>\n",
              "    </tr>\n",
              "    <tr>\n",
              "      <th>1</th>\n",
              "      <td>B085J1J32G</td>\n",
              "      <td>Samsung Galaxy M51 (Electric Blue, 6GB RAM, 12...</td>\n",
              "      <td>Samsung</td>\n",
              "      <td>Amazon</td>\n",
              "      <td>https://amzn.eu/d/bOFfVHI</td>\n",
              "      <td>Average mid-range phone</td>\n",
              "      <td>Battery is good but not great as advertised.Ru...</td>\n",
              "      <td>Snehith</td>\n",
              "      <td>3</td>\n",
              "    </tr>\n",
              "    <tr>\n",
              "      <th>2</th>\n",
              "      <td>B085J1J32G</td>\n",
              "      <td>Samsung Galaxy M51 (Electric Blue, 6GB RAM, 12...</td>\n",
              "      <td>Samsung</td>\n",
              "      <td>Amazon</td>\n",
              "      <td>https://amzn.eu/d/bOFfVHI</td>\n",
              "      <td>Bulky, and Back side chrome finish is faulty</td>\n",
              "      <td>Back side chrome finish started like scratches...</td>\n",
              "      <td>Pro-tan International</td>\n",
              "      <td>4</td>\n",
              "    </tr>\n",
              "    <tr>\n",
              "      <th>3</th>\n",
              "      <td>B085J1J32G</td>\n",
              "      <td>Samsung Galaxy M51 (Electric Blue, 6GB RAM, 12...</td>\n",
              "      <td>Samsung</td>\n",
              "      <td>Amazon</td>\n",
              "      <td>https://amzn.eu/d/bOFfVHI</td>\n",
              "      <td>Good product with some drawback</td>\n",
              "      <td>Battery life is extraordinary. No need of carr...</td>\n",
              "      <td>sai krishna</td>\n",
              "      <td>4</td>\n",
              "    </tr>\n",
              "    <tr>\n",
              "      <th>4</th>\n",
              "      <td>B085J1J32G</td>\n",
              "      <td>Samsung Galaxy M51 (Electric Blue, 6GB RAM, 12...</td>\n",
              "      <td>Samsung</td>\n",
              "      <td>Amazon</td>\n",
              "      <td>https://amzn.eu/d/bOFfVHI</td>\n",
              "      <td>The best phone you could buy</td>\n",
              "      <td>I'm writing review after year of purchase , ev...</td>\n",
              "      <td>vicky</td>\n",
              "      <td>5</td>\n",
              "    </tr>\n",
              "    <tr>\n",
              "      <th>...</th>\n",
              "      <td>...</td>\n",
              "      <td>...</td>\n",
              "      <td>...</td>\n",
              "      <td>...</td>\n",
              "      <td>...</td>\n",
              "      <td>...</td>\n",
              "      <td>...</td>\n",
              "      <td>...</td>\n",
              "      <td>...</td>\n",
              "    </tr>\n",
              "    <tr>\n",
              "      <th>1678</th>\n",
              "      <td>B08FN6WGDQ</td>\n",
              "      <td>Samsung Galaxy Buds Live Bluetooth Truly Wirel...</td>\n",
              "      <td>Samsung</td>\n",
              "      <td>Amazon</td>\n",
              "      <td>https://www.amazon.in/Samsung-Galaxy-SM-R180NZ...</td>\n",
              "      <td>Itâ€™s Good</td>\n",
              "      <td>I bought it in festive season Sale..\\n Itâ€™s ...</td>\n",
              "      <td>Diwakar Nayal</td>\n",
              "      <td>3</td>\n",
              "    </tr>\n",
              "    <tr>\n",
              "      <th>1679</th>\n",
              "      <td>B08FN6WGDQ</td>\n",
              "      <td>Samsung Galaxy Buds Live Bluetooth Truly Wirel...</td>\n",
              "      <td>Samsung</td>\n",
              "      <td>Amazon</td>\n",
              "      <td>https://www.amazon.in/Samsung-Galaxy-SM-R180NZ...</td>\n",
              "      <td>NOT WORTH IT</td>\n",
              "      <td>Pro.. Good Finish and Quality. Good Battery Li...</td>\n",
              "      <td>Sainathan Arumugam</td>\n",
              "      <td>3</td>\n",
              "    </tr>\n",
              "    <tr>\n",
              "      <th>1680</th>\n",
              "      <td>B08FN6WGDQ</td>\n",
              "      <td>Samsung Galaxy Buds Live Bluetooth Truly Wirel...</td>\n",
              "      <td>Samsung</td>\n",
              "      <td>Amazon</td>\n",
              "      <td>https://www.amazon.in/Samsung-Galaxy-SM-R180NZ...</td>\n",
              "      <td>Good purchase</td>\n",
              "      <td>First they sent a defective one which alwaysss...</td>\n",
              "      <td>Naveen B.</td>\n",
              "      <td>5</td>\n",
              "    </tr>\n",
              "    <tr>\n",
              "      <th>1683</th>\n",
              "      <td>B08FN6WGDQ</td>\n",
              "      <td>Samsung Galaxy Buds Live Bluetooth Truly Wirel...</td>\n",
              "      <td>Samsung</td>\n",
              "      <td>Amazon</td>\n",
              "      <td>https://www.amazon.in/Samsung-Galaxy-SM-R180NZ...</td>\n",
              "      <td>Affordable earbuds</td>\n",
              "      <td>Sound is loud and somewhat clear with some ech...</td>\n",
              "      <td>shahid patel</td>\n",
              "      <td>4</td>\n",
              "    </tr>\n",
              "    <tr>\n",
              "      <th>1684</th>\n",
              "      <td>B08FN6WGDQ</td>\n",
              "      <td>Samsung Galaxy Buds Live Bluetooth Truly Wirel...</td>\n",
              "      <td>Samsung</td>\n",
              "      <td>Amazon</td>\n",
              "      <td>https://www.amazon.in/Samsung-Galaxy-SM-R180NZ...</td>\n",
              "      <td>Buy this only for design and few not so import...</td>\n",
              "      <td>Loved the style. But sound isn't that great. N...</td>\n",
              "      <td>Manas</td>\n",
              "      <td>4</td>\n",
              "    </tr>\n",
              "  </tbody>\n",
              "</table>\n",
              "<p>799 rows × 9 columns</p>\n",
              "</div>\n",
              "      <button class=\"colab-df-convert\" onclick=\"convertToInteractive('df-4ab296e3-5ebb-4717-a33e-4bf984e8dcd1')\"\n",
              "              title=\"Convert this dataframe to an interactive table.\"\n",
              "              style=\"display:none;\">\n",
              "        \n",
              "  <svg xmlns=\"http://www.w3.org/2000/svg\" height=\"24px\"viewBox=\"0 0 24 24\"\n",
              "       width=\"24px\">\n",
              "    <path d=\"M0 0h24v24H0V0z\" fill=\"none\"/>\n",
              "    <path d=\"M18.56 5.44l.94 2.06.94-2.06 2.06-.94-2.06-.94-.94-2.06-.94 2.06-2.06.94zm-11 1L8.5 8.5l.94-2.06 2.06-.94-2.06-.94L8.5 2.5l-.94 2.06-2.06.94zm10 10l.94 2.06.94-2.06 2.06-.94-2.06-.94-.94-2.06-.94 2.06-2.06.94z\"/><path d=\"M17.41 7.96l-1.37-1.37c-.4-.4-.92-.59-1.43-.59-.52 0-1.04.2-1.43.59L10.3 9.45l-7.72 7.72c-.78.78-.78 2.05 0 2.83L4 21.41c.39.39.9.59 1.41.59.51 0 1.02-.2 1.41-.59l7.78-7.78 2.81-2.81c.8-.78.8-2.07 0-2.86zM5.41 20L4 18.59l7.72-7.72 1.47 1.35L5.41 20z\"/>\n",
              "  </svg>\n",
              "      </button>\n",
              "      \n",
              "  <style>\n",
              "    .colab-df-container {\n",
              "      display:flex;\n",
              "      flex-wrap:wrap;\n",
              "      gap: 12px;\n",
              "    }\n",
              "\n",
              "    .colab-df-convert {\n",
              "      background-color: #E8F0FE;\n",
              "      border: none;\n",
              "      border-radius: 50%;\n",
              "      cursor: pointer;\n",
              "      display: none;\n",
              "      fill: #1967D2;\n",
              "      height: 32px;\n",
              "      padding: 0 0 0 0;\n",
              "      width: 32px;\n",
              "    }\n",
              "\n",
              "    .colab-df-convert:hover {\n",
              "      background-color: #E2EBFA;\n",
              "      box-shadow: 0px 1px 2px rgba(60, 64, 67, 0.3), 0px 1px 3px 1px rgba(60, 64, 67, 0.15);\n",
              "      fill: #174EA6;\n",
              "    }\n",
              "\n",
              "    [theme=dark] .colab-df-convert {\n",
              "      background-color: #3B4455;\n",
              "      fill: #D2E3FC;\n",
              "    }\n",
              "\n",
              "    [theme=dark] .colab-df-convert:hover {\n",
              "      background-color: #434B5C;\n",
              "      box-shadow: 0px 1px 3px 1px rgba(0, 0, 0, 0.15);\n",
              "      filter: drop-shadow(0px 1px 2px rgba(0, 0, 0, 0.3));\n",
              "      fill: #FFFFFF;\n",
              "    }\n",
              "  </style>\n",
              "\n",
              "      <script>\n",
              "        const buttonEl =\n",
              "          document.querySelector('#df-4ab296e3-5ebb-4717-a33e-4bf984e8dcd1 button.colab-df-convert');\n",
              "        buttonEl.style.display =\n",
              "          google.colab.kernel.accessAllowed ? 'block' : 'none';\n",
              "\n",
              "        async function convertToInteractive(key) {\n",
              "          const element = document.querySelector('#df-4ab296e3-5ebb-4717-a33e-4bf984e8dcd1');\n",
              "          const dataTable =\n",
              "            await google.colab.kernel.invokeFunction('convertToInteractive',\n",
              "                                                     [key], {});\n",
              "          if (!dataTable) return;\n",
              "\n",
              "          const docLinkHtml = 'Like what you see? Visit the ' +\n",
              "            '<a target=\"_blank\" href=https://colab.research.google.com/notebooks/data_table.ipynb>data table notebook</a>'\n",
              "            + ' to learn more about interactive tables.';\n",
              "          element.innerHTML = '';\n",
              "          dataTable['output_type'] = 'display_data';\n",
              "          await google.colab.output.renderOutput(dataTable, element);\n",
              "          const docLink = document.createElement('div');\n",
              "          docLink.innerHTML = docLinkHtml;\n",
              "          element.appendChild(docLink);\n",
              "        }\n",
              "      </script>\n",
              "    </div>\n",
              "  </div>\n",
              "  "
            ]
          },
          "metadata": {},
          "execution_count": 7
        }
      ]
    },
    {
      "cell_type": "code",
      "source": [
        "from textblob import Word, TextBlob"
      ],
      "metadata": {
        "id": "Fjv6MzCIBEQL"
      },
      "execution_count": null,
      "outputs": []
    },
    {
      "cell_type": "code",
      "source": [
        "pol = lambda x: TextBlob(x).sentiment.polarity\n",
        "sub = lambda x: TextBlob(x).sentiment.subjectivity\n",
        "\n",
        "df['polarity'] = df['review_text'].apply(pol)\n",
        "df['subjectivity'] = df['review_text'].apply(sub)\n",
        "df"
      ],
      "metadata": {
        "colab": {
          "base_uri": "https://localhost:8080/",
          "height": 1000
        },
        "id": "Doh14amqBO9c",
        "outputId": "747d1d92-f1c9-42c3-e9a2-31f30ea9512a"
      },
      "execution_count": null,
      "outputs": [
        {
          "output_type": "execute_result",
          "data": {
            "text/plain": [
              "      product_id                                       product_name    brand  \\\n",
              "0     B085J1J32G  Samsung Galaxy M51 (Electric Blue, 6GB RAM, 12...  Samsung   \n",
              "1     B085J1J32G  Samsung Galaxy M51 (Electric Blue, 6GB RAM, 12...  Samsung   \n",
              "2     B085J1J32G  Samsung Galaxy M51 (Electric Blue, 6GB RAM, 12...  Samsung   \n",
              "3     B085J1J32G  Samsung Galaxy M51 (Electric Blue, 6GB RAM, 12...  Samsung   \n",
              "4     B085J1J32G  Samsung Galaxy M51 (Electric Blue, 6GB RAM, 12...  Samsung   \n",
              "...          ...                                                ...      ...   \n",
              "1678  B08FN6WGDQ  Samsung Galaxy Buds Live Bluetooth Truly Wirel...  Samsung   \n",
              "1679  B08FN6WGDQ  Samsung Galaxy Buds Live Bluetooth Truly Wirel...  Samsung   \n",
              "1680  B08FN6WGDQ  Samsung Galaxy Buds Live Bluetooth Truly Wirel...  Samsung   \n",
              "1683  B08FN6WGDQ  Samsung Galaxy Buds Live Bluetooth Truly Wirel...  Samsung   \n",
              "1684  B08FN6WGDQ  Samsung Galaxy Buds Live Bluetooth Truly Wirel...  Samsung   \n",
              "\n",
              "     website                                         source_URL  \\\n",
              "0     Amazon                          https://amzn.eu/d/bOFfVHI   \n",
              "1     Amazon                          https://amzn.eu/d/bOFfVHI   \n",
              "2     Amazon                          https://amzn.eu/d/bOFfVHI   \n",
              "3     Amazon                          https://amzn.eu/d/bOFfVHI   \n",
              "4     Amazon                          https://amzn.eu/d/bOFfVHI   \n",
              "...      ...                                                ...   \n",
              "1678  Amazon  https://www.amazon.in/Samsung-Galaxy-SM-R180NZ...   \n",
              "1679  Amazon  https://www.amazon.in/Samsung-Galaxy-SM-R180NZ...   \n",
              "1680  Amazon  https://www.amazon.in/Samsung-Galaxy-SM-R180NZ...   \n",
              "1683  Amazon  https://www.amazon.in/Samsung-Galaxy-SM-R180NZ...   \n",
              "1684  Amazon  https://www.amazon.in/Samsung-Galaxy-SM-R180NZ...   \n",
              "\n",
              "                                           review_title  \\\n",
              "0                                          Worst mobile   \n",
              "1                               Average mid-range phone   \n",
              "2          Bulky, and Back side chrome finish is faulty   \n",
              "3                       Good product with some drawback   \n",
              "4                          The best phone you could buy   \n",
              "...                                                 ...   \n",
              "1678                                        Itâ€™s Good   \n",
              "1679                                       NOT WORTH IT   \n",
              "1680                                      Good purchase   \n",
              "1683                                 Affordable earbuds   \n",
              "1684  Buy this only for design and few not so import...   \n",
              "\n",
              "                                            review_text  \\\n",
              "0                               Worst display quality😩😩   \n",
              "1     Battery is good but not great as advertised.Ru...   \n",
              "2     Back side chrome finish started like scratches...   \n",
              "3     Battery life is extraordinary. No need of carr...   \n",
              "4     I'm writing review after year of purchase , ev...   \n",
              "...                                                 ...   \n",
              "1678  I bought it in festive season Sale..\\n Itâ€™s ...   \n",
              "1679  Pro.. Good Finish and Quality. Good Battery Li...   \n",
              "1680  First they sent a defective one which alwaysss...   \n",
              "1683  Sound is loud and somewhat clear with some ech...   \n",
              "1684  Loved the style. But sound isn't that great. N...   \n",
              "\n",
              "              reviewer_name rating  polarity  subjectivity  \n",
              "0                 PHALAKSHA      1 -1.000000      1.000000  \n",
              "1                   Snehith      3  0.333333      0.650000  \n",
              "2     Pro-tan International      4  0.100000      0.150000  \n",
              "3               sai krishna      4  0.132500      0.622500  \n",
              "4                     vicky      5  0.325714      0.587857  \n",
              "...                     ...    ...       ...           ...  \n",
              "1678          Diwakar Nayal      3  0.184667      0.614667  \n",
              "1679     Sainathan Arumugam      3  0.217949      0.496062  \n",
              "1680              Naveen B.      5  0.329509      0.549206  \n",
              "1683           shahid patel      4  0.200000      0.527778  \n",
              "1684                  Manas      4  0.466667      0.475000  \n",
              "\n",
              "[799 rows x 11 columns]"
            ],
            "text/html": [
              "\n",
              "  <div id=\"df-d3c0e73b-8b02-4155-ae85-043c9610238a\">\n",
              "    <div class=\"colab-df-container\">\n",
              "      <div>\n",
              "<style scoped>\n",
              "    .dataframe tbody tr th:only-of-type {\n",
              "        vertical-align: middle;\n",
              "    }\n",
              "\n",
              "    .dataframe tbody tr th {\n",
              "        vertical-align: top;\n",
              "    }\n",
              "\n",
              "    .dataframe thead th {\n",
              "        text-align: right;\n",
              "    }\n",
              "</style>\n",
              "<table border=\"1\" class=\"dataframe\">\n",
              "  <thead>\n",
              "    <tr style=\"text-align: right;\">\n",
              "      <th></th>\n",
              "      <th>product_id</th>\n",
              "      <th>product_name</th>\n",
              "      <th>brand</th>\n",
              "      <th>website</th>\n",
              "      <th>source_URL</th>\n",
              "      <th>review_title</th>\n",
              "      <th>review_text</th>\n",
              "      <th>reviewer_name</th>\n",
              "      <th>rating</th>\n",
              "      <th>polarity</th>\n",
              "      <th>subjectivity</th>\n",
              "    </tr>\n",
              "  </thead>\n",
              "  <tbody>\n",
              "    <tr>\n",
              "      <th>0</th>\n",
              "      <td>B085J1J32G</td>\n",
              "      <td>Samsung Galaxy M51 (Electric Blue, 6GB RAM, 12...</td>\n",
              "      <td>Samsung</td>\n",
              "      <td>Amazon</td>\n",
              "      <td>https://amzn.eu/d/bOFfVHI</td>\n",
              "      <td>Worst mobile</td>\n",
              "      <td>Worst display quality😩😩</td>\n",
              "      <td>PHALAKSHA</td>\n",
              "      <td>1</td>\n",
              "      <td>-1.000000</td>\n",
              "      <td>1.000000</td>\n",
              "    </tr>\n",
              "    <tr>\n",
              "      <th>1</th>\n",
              "      <td>B085J1J32G</td>\n",
              "      <td>Samsung Galaxy M51 (Electric Blue, 6GB RAM, 12...</td>\n",
              "      <td>Samsung</td>\n",
              "      <td>Amazon</td>\n",
              "      <td>https://amzn.eu/d/bOFfVHI</td>\n",
              "      <td>Average mid-range phone</td>\n",
              "      <td>Battery is good but not great as advertised.Ru...</td>\n",
              "      <td>Snehith</td>\n",
              "      <td>3</td>\n",
              "      <td>0.333333</td>\n",
              "      <td>0.650000</td>\n",
              "    </tr>\n",
              "    <tr>\n",
              "      <th>2</th>\n",
              "      <td>B085J1J32G</td>\n",
              "      <td>Samsung Galaxy M51 (Electric Blue, 6GB RAM, 12...</td>\n",
              "      <td>Samsung</td>\n",
              "      <td>Amazon</td>\n",
              "      <td>https://amzn.eu/d/bOFfVHI</td>\n",
              "      <td>Bulky, and Back side chrome finish is faulty</td>\n",
              "      <td>Back side chrome finish started like scratches...</td>\n",
              "      <td>Pro-tan International</td>\n",
              "      <td>4</td>\n",
              "      <td>0.100000</td>\n",
              "      <td>0.150000</td>\n",
              "    </tr>\n",
              "    <tr>\n",
              "      <th>3</th>\n",
              "      <td>B085J1J32G</td>\n",
              "      <td>Samsung Galaxy M51 (Electric Blue, 6GB RAM, 12...</td>\n",
              "      <td>Samsung</td>\n",
              "      <td>Amazon</td>\n",
              "      <td>https://amzn.eu/d/bOFfVHI</td>\n",
              "      <td>Good product with some drawback</td>\n",
              "      <td>Battery life is extraordinary. No need of carr...</td>\n",
              "      <td>sai krishna</td>\n",
              "      <td>4</td>\n",
              "      <td>0.132500</td>\n",
              "      <td>0.622500</td>\n",
              "    </tr>\n",
              "    <tr>\n",
              "      <th>4</th>\n",
              "      <td>B085J1J32G</td>\n",
              "      <td>Samsung Galaxy M51 (Electric Blue, 6GB RAM, 12...</td>\n",
              "      <td>Samsung</td>\n",
              "      <td>Amazon</td>\n",
              "      <td>https://amzn.eu/d/bOFfVHI</td>\n",
              "      <td>The best phone you could buy</td>\n",
              "      <td>I'm writing review after year of purchase , ev...</td>\n",
              "      <td>vicky</td>\n",
              "      <td>5</td>\n",
              "      <td>0.325714</td>\n",
              "      <td>0.587857</td>\n",
              "    </tr>\n",
              "    <tr>\n",
              "      <th>...</th>\n",
              "      <td>...</td>\n",
              "      <td>...</td>\n",
              "      <td>...</td>\n",
              "      <td>...</td>\n",
              "      <td>...</td>\n",
              "      <td>...</td>\n",
              "      <td>...</td>\n",
              "      <td>...</td>\n",
              "      <td>...</td>\n",
              "      <td>...</td>\n",
              "      <td>...</td>\n",
              "    </tr>\n",
              "    <tr>\n",
              "      <th>1678</th>\n",
              "      <td>B08FN6WGDQ</td>\n",
              "      <td>Samsung Galaxy Buds Live Bluetooth Truly Wirel...</td>\n",
              "      <td>Samsung</td>\n",
              "      <td>Amazon</td>\n",
              "      <td>https://www.amazon.in/Samsung-Galaxy-SM-R180NZ...</td>\n",
              "      <td>Itâ€™s Good</td>\n",
              "      <td>I bought it in festive season Sale..\\n Itâ€™s ...</td>\n",
              "      <td>Diwakar Nayal</td>\n",
              "      <td>3</td>\n",
              "      <td>0.184667</td>\n",
              "      <td>0.614667</td>\n",
              "    </tr>\n",
              "    <tr>\n",
              "      <th>1679</th>\n",
              "      <td>B08FN6WGDQ</td>\n",
              "      <td>Samsung Galaxy Buds Live Bluetooth Truly Wirel...</td>\n",
              "      <td>Samsung</td>\n",
              "      <td>Amazon</td>\n",
              "      <td>https://www.amazon.in/Samsung-Galaxy-SM-R180NZ...</td>\n",
              "      <td>NOT WORTH IT</td>\n",
              "      <td>Pro.. Good Finish and Quality. Good Battery Li...</td>\n",
              "      <td>Sainathan Arumugam</td>\n",
              "      <td>3</td>\n",
              "      <td>0.217949</td>\n",
              "      <td>0.496062</td>\n",
              "    </tr>\n",
              "    <tr>\n",
              "      <th>1680</th>\n",
              "      <td>B08FN6WGDQ</td>\n",
              "      <td>Samsung Galaxy Buds Live Bluetooth Truly Wirel...</td>\n",
              "      <td>Samsung</td>\n",
              "      <td>Amazon</td>\n",
              "      <td>https://www.amazon.in/Samsung-Galaxy-SM-R180NZ...</td>\n",
              "      <td>Good purchase</td>\n",
              "      <td>First they sent a defective one which alwaysss...</td>\n",
              "      <td>Naveen B.</td>\n",
              "      <td>5</td>\n",
              "      <td>0.329509</td>\n",
              "      <td>0.549206</td>\n",
              "    </tr>\n",
              "    <tr>\n",
              "      <th>1683</th>\n",
              "      <td>B08FN6WGDQ</td>\n",
              "      <td>Samsung Galaxy Buds Live Bluetooth Truly Wirel...</td>\n",
              "      <td>Samsung</td>\n",
              "      <td>Amazon</td>\n",
              "      <td>https://www.amazon.in/Samsung-Galaxy-SM-R180NZ...</td>\n",
              "      <td>Affordable earbuds</td>\n",
              "      <td>Sound is loud and somewhat clear with some ech...</td>\n",
              "      <td>shahid patel</td>\n",
              "      <td>4</td>\n",
              "      <td>0.200000</td>\n",
              "      <td>0.527778</td>\n",
              "    </tr>\n",
              "    <tr>\n",
              "      <th>1684</th>\n",
              "      <td>B08FN6WGDQ</td>\n",
              "      <td>Samsung Galaxy Buds Live Bluetooth Truly Wirel...</td>\n",
              "      <td>Samsung</td>\n",
              "      <td>Amazon</td>\n",
              "      <td>https://www.amazon.in/Samsung-Galaxy-SM-R180NZ...</td>\n",
              "      <td>Buy this only for design and few not so import...</td>\n",
              "      <td>Loved the style. But sound isn't that great. N...</td>\n",
              "      <td>Manas</td>\n",
              "      <td>4</td>\n",
              "      <td>0.466667</td>\n",
              "      <td>0.475000</td>\n",
              "    </tr>\n",
              "  </tbody>\n",
              "</table>\n",
              "<p>799 rows × 11 columns</p>\n",
              "</div>\n",
              "      <button class=\"colab-df-convert\" onclick=\"convertToInteractive('df-d3c0e73b-8b02-4155-ae85-043c9610238a')\"\n",
              "              title=\"Convert this dataframe to an interactive table.\"\n",
              "              style=\"display:none;\">\n",
              "        \n",
              "  <svg xmlns=\"http://www.w3.org/2000/svg\" height=\"24px\"viewBox=\"0 0 24 24\"\n",
              "       width=\"24px\">\n",
              "    <path d=\"M0 0h24v24H0V0z\" fill=\"none\"/>\n",
              "    <path d=\"M18.56 5.44l.94 2.06.94-2.06 2.06-.94-2.06-.94-.94-2.06-.94 2.06-2.06.94zm-11 1L8.5 8.5l.94-2.06 2.06-.94-2.06-.94L8.5 2.5l-.94 2.06-2.06.94zm10 10l.94 2.06.94-2.06 2.06-.94-2.06-.94-.94-2.06-.94 2.06-2.06.94z\"/><path d=\"M17.41 7.96l-1.37-1.37c-.4-.4-.92-.59-1.43-.59-.52 0-1.04.2-1.43.59L10.3 9.45l-7.72 7.72c-.78.78-.78 2.05 0 2.83L4 21.41c.39.39.9.59 1.41.59.51 0 1.02-.2 1.41-.59l7.78-7.78 2.81-2.81c.8-.78.8-2.07 0-2.86zM5.41 20L4 18.59l7.72-7.72 1.47 1.35L5.41 20z\"/>\n",
              "  </svg>\n",
              "      </button>\n",
              "      \n",
              "  <style>\n",
              "    .colab-df-container {\n",
              "      display:flex;\n",
              "      flex-wrap:wrap;\n",
              "      gap: 12px;\n",
              "    }\n",
              "\n",
              "    .colab-df-convert {\n",
              "      background-color: #E8F0FE;\n",
              "      border: none;\n",
              "      border-radius: 50%;\n",
              "      cursor: pointer;\n",
              "      display: none;\n",
              "      fill: #1967D2;\n",
              "      height: 32px;\n",
              "      padding: 0 0 0 0;\n",
              "      width: 32px;\n",
              "    }\n",
              "\n",
              "    .colab-df-convert:hover {\n",
              "      background-color: #E2EBFA;\n",
              "      box-shadow: 0px 1px 2px rgba(60, 64, 67, 0.3), 0px 1px 3px 1px rgba(60, 64, 67, 0.15);\n",
              "      fill: #174EA6;\n",
              "    }\n",
              "\n",
              "    [theme=dark] .colab-df-convert {\n",
              "      background-color: #3B4455;\n",
              "      fill: #D2E3FC;\n",
              "    }\n",
              "\n",
              "    [theme=dark] .colab-df-convert:hover {\n",
              "      background-color: #434B5C;\n",
              "      box-shadow: 0px 1px 3px 1px rgba(0, 0, 0, 0.15);\n",
              "      filter: drop-shadow(0px 1px 2px rgba(0, 0, 0, 0.3));\n",
              "      fill: #FFFFFF;\n",
              "    }\n",
              "  </style>\n",
              "\n",
              "      <script>\n",
              "        const buttonEl =\n",
              "          document.querySelector('#df-d3c0e73b-8b02-4155-ae85-043c9610238a button.colab-df-convert');\n",
              "        buttonEl.style.display =\n",
              "          google.colab.kernel.accessAllowed ? 'block' : 'none';\n",
              "\n",
              "        async function convertToInteractive(key) {\n",
              "          const element = document.querySelector('#df-d3c0e73b-8b02-4155-ae85-043c9610238a');\n",
              "          const dataTable =\n",
              "            await google.colab.kernel.invokeFunction('convertToInteractive',\n",
              "                                                     [key], {});\n",
              "          if (!dataTable) return;\n",
              "\n",
              "          const docLinkHtml = 'Like what you see? Visit the ' +\n",
              "            '<a target=\"_blank\" href=https://colab.research.google.com/notebooks/data_table.ipynb>data table notebook</a>'\n",
              "            + ' to learn more about interactive tables.';\n",
              "          element.innerHTML = '';\n",
              "          dataTable['output_type'] = 'display_data';\n",
              "          await google.colab.output.renderOutput(dataTable, element);\n",
              "          const docLink = document.createElement('div');\n",
              "          docLink.innerHTML = docLinkHtml;\n",
              "          element.appendChild(docLink);\n",
              "        }\n",
              "      </script>\n",
              "    </div>\n",
              "  </div>\n",
              "  "
            ]
          },
          "metadata": {},
          "execution_count": 9
        }
      ]
    },
    {
      "cell_type": "code",
      "source": [
        "from wordcloud import WordCloud\n",
        "# Plot the Word Cloud\n",
        "allWords = ' '.join([comnt for comnt in df['review_text']])\n",
        "wordCloud = WordCloud(width =1000, height =800, random_state = 21, max_font_size = 119).generate(allWords)\n",
        "\n",
        "plt.imshow(wordCloud, interpolation = \"bilinear\")\n",
        "plt.axis('off')\n",
        "plt.show()"
      ],
      "metadata": {
        "colab": {
          "base_uri": "https://localhost:8080/",
          "height": 406
        },
        "id": "LF6KnDe1Bm3y",
        "outputId": "17288b24-e8d5-4fd0-d710-dab5ce111e7e"
      },
      "execution_count": null,
      "outputs": [
        {
          "output_type": "display_data",
          "data": {
            "text/plain": [
              "<Figure size 640x480 with 1 Axes>"
            ],
            "image/png": "[encoded data removed]"
          },
          "metadata": {}
        }
      ]
    },
    {
      "cell_type": "code",
      "source": [
        "def getAnalysis(score):\n",
        "  if score < 0:\n",
        "    return 'Negative'\n",
        "  elif score == 0:\n",
        "    return 'Neutral'\n",
        "  else:\n",
        "    return 'Positive'\n",
        "df['Class'] = df['polarity'].apply(getAnalysis)\n",
        "df"
      ],
      "metadata": {
        "id": "GPU01pgRB8cJ",
        "colab": {
          "base_uri": "https://localhost:8080/",
          "height": 1000
        },
        "outputId": "4768da0a-4c78-4a98-b9dc-8cd515c8e83b"
      },
      "execution_count": null,
      "outputs": [
        {
          "output_type": "execute_result",
          "data": {
            "text/plain": [
              "      product_id                                       product_name    brand  \\\n",
              "0     B085J1J32G  Samsung Galaxy M51 (Electric Blue, 6GB RAM, 12...  Samsung   \n",
              "1     B085J1J32G  Samsung Galaxy M51 (Electric Blue, 6GB RAM, 12...  Samsung   \n",
              "2     B085J1J32G  Samsung Galaxy M51 (Electric Blue, 6GB RAM, 12...  Samsung   \n",
              "3     B085J1J32G  Samsung Galaxy M51 (Electric Blue, 6GB RAM, 12...  Samsung   \n",
              "4     B085J1J32G  Samsung Galaxy M51 (Electric Blue, 6GB RAM, 12...  Samsung   \n",
              "...          ...                                                ...      ...   \n",
              "1678  B08FN6WGDQ  Samsung Galaxy Buds Live Bluetooth Truly Wirel...  Samsung   \n",
              "1679  B08FN6WGDQ  Samsung Galaxy Buds Live Bluetooth Truly Wirel...  Samsung   \n",
              "1680  B08FN6WGDQ  Samsung Galaxy Buds Live Bluetooth Truly Wirel...  Samsung   \n",
              "1683  B08FN6WGDQ  Samsung Galaxy Buds Live Bluetooth Truly Wirel...  Samsung   \n",
              "1684  B08FN6WGDQ  Samsung Galaxy Buds Live Bluetooth Truly Wirel...  Samsung   \n",
              "\n",
              "     website                                         source_URL  \\\n",
              "0     Amazon                          https://amzn.eu/d/bOFfVHI   \n",
              "1     Amazon                          https://amzn.eu/d/bOFfVHI   \n",
              "2     Amazon                          https://amzn.eu/d/bOFfVHI   \n",
              "3     Amazon                          https://amzn.eu/d/bOFfVHI   \n",
              "4     Amazon                          https://amzn.eu/d/bOFfVHI   \n",
              "...      ...                                                ...   \n",
              "1678  Amazon  https://www.amazon.in/Samsung-Galaxy-SM-R180NZ...   \n",
              "1679  Amazon  https://www.amazon.in/Samsung-Galaxy-SM-R180NZ...   \n",
              "1680  Amazon  https://www.amazon.in/Samsung-Galaxy-SM-R180NZ...   \n",
              "1683  Amazon  https://www.amazon.in/Samsung-Galaxy-SM-R180NZ...   \n",
              "1684  Amazon  https://www.amazon.in/Samsung-Galaxy-SM-R180NZ...   \n",
              "\n",
              "                                           review_title  \\\n",
              "0                                          Worst mobile   \n",
              "1                               Average mid-range phone   \n",
              "2          Bulky, and Back side chrome finish is faulty   \n",
              "3                       Good product with some drawback   \n",
              "4                          The best phone you could buy   \n",
              "...                                                 ...   \n",
              "1678                                        Itâ€™s Good   \n",
              "1679                                       NOT WORTH IT   \n",
              "1680                                      Good purchase   \n",
              "1683                                 Affordable earbuds   \n",
              "1684  Buy this only for design and few not so import...   \n",
              "\n",
              "                                            review_text  \\\n",
              "0                               Worst display quality😩😩   \n",
              "1     Battery is good but not great as advertised.Ru...   \n",
              "2     Back side chrome finish started like scratches...   \n",
              "3     Battery life is extraordinary. No need of carr...   \n",
              "4     I'm writing review after year of purchase , ev...   \n",
              "...                                                 ...   \n",
              "1678  I bought it in festive season Sale..\\n Itâ€™s ...   \n",
              "1679  Pro.. Good Finish and Quality. Good Battery Li...   \n",
              "1680  First they sent a defective one which alwaysss...   \n",
              "1683  Sound is loud and somewhat clear with some ech...   \n",
              "1684  Loved the style. But sound isn't that great. N...   \n",
              "\n",
              "              reviewer_name rating  polarity  subjectivity     Class  \n",
              "0                 PHALAKSHA      1 -1.000000      1.000000  Negative  \n",
              "1                   Snehith      3  0.333333      0.650000  Positive  \n",
              "2     Pro-tan International      4  0.100000      0.150000  Positive  \n",
              "3               sai krishna      4  0.132500      0.622500  Positive  \n",
              "4                     vicky      5  0.325714      0.587857  Positive  \n",
              "...                     ...    ...       ...           ...       ...  \n",
              "1678          Diwakar Nayal      3  0.184667      0.614667  Positive  \n",
              "1679     Sainathan Arumugam      3  0.217949      0.496062  Positive  \n",
              "1680              Naveen B.      5  0.329509      0.549206  Positive  \n",
              "1683           shahid patel      4  0.200000      0.527778  Positive  \n",
              "1684                  Manas      4  0.466667      0.475000  Positive  \n",
              "\n",
              "[799 rows x 12 columns]"
            ],
            "text/html": [
              "\n",
              "  <div id=\"df-1c207fda-8687-4b39-a98a-a83a90717b8a\">\n",
              "    <div class=\"colab-df-container\">\n",
              "      <div>\n",
              "<style scoped>\n",
              "    .dataframe tbody tr th:only-of-type {\n",
              "        vertical-align: middle;\n",
              "    }\n",
              "\n",
              "    .dataframe tbody tr th {\n",
              "        vertical-align: top;\n",
              "    }\n",
              "\n",
              "    .dataframe thead th {\n",
              "        text-align: right;\n",
              "    }\n",
              "</style>\n",
              "<table border=\"1\" class=\"dataframe\">\n",
              "  <thead>\n",
              "    <tr style=\"text-align: right;\">\n",
              "      <th></th>\n",
              "      <th>product_id</th>\n",
              "      <th>product_name</th>\n",
              "      <th>brand</th>\n",
              "      <th>website</th>\n",
              "      <th>source_URL</th>\n",
              "      <th>review_title</th>\n",
              "      <th>review_text</th>\n",
              "      <th>reviewer_name</th>\n",
              "      <th>rating</th>\n",
              "      <th>polarity</th>\n",
              "      <th>subjectivity</th>\n",
              "      <th>Class</th>\n",
              "    </tr>\n",
              "  </thead>\n",
              "  <tbody>\n",
              "    <tr>\n",
              "      <th>0</th>\n",
              "      <td>B085J1J32G</td>\n",
              "      <td>Samsung Galaxy M51 (Electric Blue, 6GB RAM, 12...</td>\n",
              "      <td>Samsung</td>\n",
              "      <td>Amazon</td>\n",
              "      <td>https://amzn.eu/d/bOFfVHI</td>\n",
              "      <td>Worst mobile</td>\n",
              "      <td>Worst display quality😩😩</td>\n",
              "      <td>PHALAKSHA</td>\n",
              "      <td>1</td>\n",
              "      <td>-1.000000</td>\n",
              "      <td>1.000000</td>\n",
              "      <td>Negative</td>\n",
              "    </tr>\n",
              "    <tr>\n",
              "      <th>1</th>\n",
              "      <td>B085J1J32G</td>\n",
              "      <td>Samsung Galaxy M51 (Electric Blue, 6GB RAM, 12...</td>\n",
              "      <td>Samsung</td>\n",
              "      <td>Amazon</td>\n",
              "      <td>https://amzn.eu/d/bOFfVHI</td>\n",
              "      <td>Average mid-range phone</td>\n",
              "      <td>Battery is good but not great as advertised.Ru...</td>\n",
              "      <td>Snehith</td>\n",
              "      <td>3</td>\n",
              "      <td>0.333333</td>\n",
              "      <td>0.650000</td>\n",
              "      <td>Positive</td>\n",
              "    </tr>\n",
              "    <tr>\n",
              "      <th>2</th>\n",
              "      <td>B085J1J32G</td>\n",
              "      <td>Samsung Galaxy M51 (Electric Blue, 6GB RAM, 12...</td>\n",
              "      <td>Samsung</td>\n",
              "      <td>Amazon</td>\n",
              "      <td>https://amzn.eu/d/bOFfVHI</td>\n",
              "      <td>Bulky, and Back side chrome finish is faulty</td>\n",
              "      <td>Back side chrome finish started like scratches...</td>\n",
              "      <td>Pro-tan International</td>\n",
              "      <td>4</td>\n",
              "      <td>0.100000</td>\n",
              "      <td>0.150000</td>\n",
              "      <td>Positive</td>\n",
              "    </tr>\n",
              "    <tr>\n",
              "      <th>3</th>\n",
              "      <td>B085J1J32G</td>\n",
              "      <td>Samsung Galaxy M51 (Electric Blue, 6GB RAM, 12...</td>\n",
              "      <td>Samsung</td>\n",
              "      <td>Amazon</td>\n",
              "      <td>https://amzn.eu/d/bOFfVHI</td>\n",
              "      <td>Good product with some drawback</td>\n",
              "      <td>Battery life is extraordinary. No need of carr...</td>\n",
              "      <td>sai krishna</td>\n",
              "      <td>4</td>\n",
              "      <td>0.132500</td>\n",
              "      <td>0.622500</td>\n",
              "      <td>Positive</td>\n",
              "    </tr>\n",
              "    <tr>\n",
              "      <th>4</th>\n",
              "      <td>B085J1J32G</td>\n",
              "      <td>Samsung Galaxy M51 (Electric Blue, 6GB RAM, 12...</td>\n",
              "      <td>Samsung</td>\n",
              "      <td>Amazon</td>\n",
              "      <td>https://amzn.eu/d/bOFfVHI</td>\n",
              "      <td>The best phone you could buy</td>\n",
              "      <td>I'm writing review after year of purchase , ev...</td>\n",
              "      <td>vicky</td>\n",
              "      <td>5</td>\n",
              "      <td>0.325714</td>\n",
              "      <td>0.587857</td>\n",
              "      <td>Positive</td>\n",
              "    </tr>\n",
              "    <tr>\n",
              "      <th>...</th>\n",
              "      <td>...</td>\n",
              "      <td>...</td>\n",
              "      <td>...</td>\n",
              "      <td>...</td>\n",
              "      <td>...</td>\n",
              "      <td>...</td>\n",
              "      <td>...</td>\n",
              "      <td>...</td>\n",
              "      <td>...</td>\n",
              "      <td>...</td>\n",
              "      <td>...</td>\n",
              "      <td>...</td>\n",
              "    </tr>\n",
              "    <tr>\n",
              "      <th>1678</th>\n",
              "      <td>B08FN6WGDQ</td>\n",
              "      <td>Samsung Galaxy Buds Live Bluetooth Truly Wirel...</td>\n",
              "      <td>Samsung</td>\n",
              "      <td>Amazon</td>\n",
              "      <td>https://www.amazon.in/Samsung-Galaxy-SM-R180NZ...</td>\n",
              "      <td>Itâ€™s Good</td>\n",
              "      <td>I bought it in festive season Sale..\\n Itâ€™s ...</td>\n",
              "      <td>Diwakar Nayal</td>\n",
              "      <td>3</td>\n",
              "      <td>0.184667</td>\n",
              "      <td>0.614667</td>\n",
              "      <td>Positive</td>\n",
              "    </tr>\n",
              "    <tr>\n",
              "      <th>1679</th>\n",
              "      <td>B08FN6WGDQ</td>\n",
              "      <td>Samsung Galaxy Buds Live Bluetooth Truly Wirel...</td>\n",
              "      <td>Samsung</td>\n",
              "      <td>Amazon</td>\n",
              "      <td>https://www.amazon.in/Samsung-Galaxy-SM-R180NZ...</td>\n",
              "      <td>NOT WORTH IT</td>\n",
              "      <td>Pro.. Good Finish and Quality. Good Battery Li...</td>\n",
              "      <td>Sainathan Arumugam</td>\n",
              "      <td>3</td>\n",
              "      <td>0.217949</td>\n",
              "      <td>0.496062</td>\n",
              "      <td>Positive</td>\n",
              "    </tr>\n",
              "    <tr>\n",
              "      <th>1680</th>\n",
              "      <td>B08FN6WGDQ</td>\n",
              "      <td>Samsung Galaxy Buds Live Bluetooth Truly Wirel...</td>\n",
              "      <td>Samsung</td>\n",
              "      <td>Amazon</td>\n",
              "      <td>https://www.amazon.in/Samsung-Galaxy-SM-R180NZ...</td>\n",
              "      <td>Good purchase</td>\n",
              "      <td>First they sent a defective one which alwaysss...</td>\n",
              "      <td>Naveen B.</td>\n",
              "      <td>5</td>\n",
              "      <td>0.329509</td>\n",
              "      <td>0.549206</td>\n",
              "      <td>Positive</td>\n",
              "    </tr>\n",
              "    <tr>\n",
              "      <th>1683</th>\n",
              "      <td>B08FN6WGDQ</td>\n",
              "      <td>Samsung Galaxy Buds Live Bluetooth Truly Wirel...</td>\n",
              "      <td>Samsung</td>\n",
              "      <td>Amazon</td>\n",
              "      <td>https://www.amazon.in/Samsung-Galaxy-SM-R180NZ...</td>\n",
              "      <td>Affordable earbuds</td>\n",
              "      <td>Sound is loud and somewhat clear with some ech...</td>\n",
              "      <td>shahid patel</td>\n",
              "      <td>4</td>\n",
              "      <td>0.200000</td>\n",
              "      <td>0.527778</td>\n",
              "      <td>Positive</td>\n",
              "    </tr>\n",
              "    <tr>\n",
              "      <th>1684</th>\n",
              "      <td>B08FN6WGDQ</td>\n",
              "      <td>Samsung Galaxy Buds Live Bluetooth Truly Wirel...</td>\n",
              "      <td>Samsung</td>\n",
              "      <td>Amazon</td>\n",
              "      <td>https://www.amazon.in/Samsung-Galaxy-SM-R180NZ...</td>\n",
              "      <td>Buy this only for design and few not so import...</td>\n",
              "      <td>Loved the style. But sound isn't that great. N...</td>\n",
              "      <td>Manas</td>\n",
              "      <td>4</td>\n",
              "      <td>0.466667</td>\n",
              "      <td>0.475000</td>\n",
              "      <td>Positive</td>\n",
              "    </tr>\n",
              "  </tbody>\n",
              "</table>\n",
              "<p>799 rows × 12 columns</p>\n",
              "</div>\n",
              "      <button class=\"colab-df-convert\" onclick=\"convertToInteractive('df-1c207fda-8687-4b39-a98a-a83a90717b8a')\"\n",
              "              title=\"Convert this dataframe to an interactive table.\"\n",
              "              style=\"display:none;\">\n",
              "        \n",
              "  <svg xmlns=\"http://www.w3.org/2000/svg\" height=\"24px\"viewBox=\"0 0 24 24\"\n",
              "       width=\"24px\">\n",
              "    <path d=\"M0 0h24v24H0V0z\" fill=\"none\"/>\n",
              "    <path d=\"M18.56 5.44l.94 2.06.94-2.06 2.06-.94-2.06-.94-.94-2.06-.94 2.06-2.06.94zm-11 1L8.5 8.5l.94-2.06 2.06-.94-2.06-.94L8.5 2.5l-.94 2.06-2.06.94zm10 10l.94 2.06.94-2.06 2.06-.94-2.06-.94-.94-2.06-.94 2.06-2.06.94z\"/><path d=\"M17.41 7.96l-1.37-1.37c-.4-.4-.92-.59-1.43-.59-.52 0-1.04.2-1.43.59L10.3 9.45l-7.72 7.72c-.78.78-.78 2.05 0 2.83L4 21.41c.39.39.9.59 1.41.59.51 0 1.02-.2 1.41-.59l7.78-7.78 2.81-2.81c.8-.78.8-2.07 0-2.86zM5.41 20L4 18.59l7.72-7.72 1.47 1.35L5.41 20z\"/>\n",
              "  </svg>\n",
              "      </button>\n",
              "      \n",
              "  <style>\n",
              "    .colab-df-container {\n",
              "      display:flex;\n",
              "      flex-wrap:wrap;\n",
              "      gap: 12px;\n",
              "    }\n",
              "\n",
              "    .colab-df-convert {\n",
              "      background-color: #E8F0FE;\n",
              "      border: none;\n",
              "      border-radius: 50%;\n",
              "      cursor: pointer;\n",
              "      display: none;\n",
              "      fill: #1967D2;\n",
              "      height: 32px;\n",
              "      padding: 0 0 0 0;\n",
              "      width: 32px;\n",
              "    }\n",
              "\n",
              "    .colab-df-convert:hover {\n",
              "      background-color: #E2EBFA;\n",
              "      box-shadow: 0px 1px 2px rgba(60, 64, 67, 0.3), 0px 1px 3px 1px rgba(60, 64, 67, 0.15);\n",
              "      fill: #174EA6;\n",
              "    }\n",
              "\n",
              "    [theme=dark] .colab-df-convert {\n",
              "      background-color: #3B4455;\n",
              "      fill: #D2E3FC;\n",
              "    }\n",
              "\n",
              "    [theme=dark] .colab-df-convert:hover {\n",
              "      background-color: #434B5C;\n",
              "      box-shadow: 0px 1px 3px 1px rgba(0, 0, 0, 0.15);\n",
              "      filter: drop-shadow(0px 1px 2px rgba(0, 0, 0, 0.3));\n",
              "      fill: #FFFFFF;\n",
              "    }\n",
              "  </style>\n",
              "\n",
              "      <script>\n",
              "        const buttonEl =\n",
              "          document.querySelector('#df-1c207fda-8687-4b39-a98a-a83a90717b8a button.colab-df-convert');\n",
              "        buttonEl.style.display =\n",
              "          google.colab.kernel.accessAllowed ? 'block' : 'none';\n",
              "\n",
              "        async function convertToInteractive(key) {\n",
              "          const element = document.querySelector('#df-1c207fda-8687-4b39-a98a-a83a90717b8a');\n",
              "          const dataTable =\n",
              "            await google.colab.kernel.invokeFunction('convertToInteractive',\n",
              "                                                     [key], {});\n",
              "          if (!dataTable) return;\n",
              "\n",
              "          const docLinkHtml = 'Like what you see? Visit the ' +\n",
              "            '<a target=\"_blank\" href=https://colab.research.google.com/notebooks/data_table.ipynb>data table notebook</a>'\n",
              "            + ' to learn more about interactive tables.';\n",
              "          element.innerHTML = '';\n",
              "          dataTable['output_type'] = 'display_data';\n",
              "          await google.colab.output.renderOutput(dataTable, element);\n",
              "          const docLink = document.createElement('div');\n",
              "          docLink.innerHTML = docLinkHtml;\n",
              "          element.appendChild(docLink);\n",
              "        }\n",
              "      </script>\n",
              "    </div>\n",
              "  </div>\n",
              "  "
            ]
          },
          "metadata": {},
          "execution_count": 11
        }
      ]
    },
    {
      "cell_type": "code",
      "source": [
        "pcomment = df[df.Class == 'Positive']\n",
        "pcomment = pcomment['review_text']\n",
        "round((pcomment.shape[0]/df.shape[0]*100), 1)\n",
        ""
      ],
      "metadata": {
        "colab": {
          "base_uri": "https://localhost:8080/"
        },
        "id": "zjv3uGveCGJt",
        "outputId": "2dddb85e-fe76-49af-f420-be8824d0a0f7"
      },
      "execution_count": null,
      "outputs": [
        {
          "output_type": "execute_result",
          "data": {
            "text/plain": [
              "76.8"
            ]
          },
          "metadata": {},
          "execution_count": 12
        }
      ]
    },
    {
      "cell_type": "code",
      "source": [
        "ncomment = df[df.Class == 'Negative']\n",
        "ncomment = ncomment['review_text']\n",
        "round((ncomment.shape[0]/df.shape[0]*100), 1)"
      ],
      "metadata": {
        "colab": {
          "base_uri": "https://localhost:8080/"
        },
        "id": "PAmxj18IDW9U",
        "outputId": "8736031d-ab1e-460f-83d2-63c699da0f92"
      },
      "execution_count": null,
      "outputs": [
        {
          "output_type": "execute_result",
          "data": {
            "text/plain": [
              "12.4"
            ]
          },
          "metadata": {},
          "execution_count": 13
        }
      ]
    },
    {
      "cell_type": "code",
      "source": [
        "ncomment = df[df.Class == 'Neutral']\n",
        "ncomment = ncomment['review_text']\n",
        "round((ncomment.shape[0]/df.shape[0]*100), 1)"
      ],
      "metadata": {
        "colab": {
          "base_uri": "https://localhost:8080/"
        },
        "id": "kk2z45kIeba9",
        "outputId": "4d487a55-f886-46bb-e7e4-18a24c83b702"
      },
      "execution_count": null,
      "outputs": [
        {
          "output_type": "execute_result",
          "data": {
            "text/plain": [
              "10.8"
            ]
          },
          "metadata": {},
          "execution_count": 14
        }
      ]
    },
    {
      "cell_type": "code",
      "source": [
        "import matplotlib.pyplot as plt\n",
        "import numpy as np\n",
        "# Displaying the Sentiment Coutns\n",
        "df['Class'].value_counts()\n",
        "#plot and visualize the counts\n",
        "plt.title('Sentiment Analysis')\n",
        "plt.xlabel('Sentiment')\n",
        "plt.ylabel('Counts')\n",
        "df['Class'].value_counts().plot(kind='bar')\n",
        "plt.show()"
      ],
      "metadata": {
        "colab": {
          "base_uri": "https://localhost:8080/",
          "height": 520
        },
        "id": "dB3cLpFQgMYD",
        "outputId": "ae299980-2b55-4a5e-a9ad-9acd858b1b01"
      },
      "execution_count": null,
      "outputs": [
        {
          "output_type": "display_data",
          "data": {
            "text/plain": [
              "<Figure size 640x480 with 1 Axes>"
            ],
            "image/png": "[encoded data removed]"
          },
          "metadata": {}
        }
      ]
    },
    {
      "cell_type": "code",
      "source": [
        "df['Class'].value_counts().plot(kind='pie')\n",
        "plt.show()"
      ],
      "metadata": {
        "colab": {
          "base_uri": "https://localhost:8080/",
          "height": 406
        },
        "id": "VnU0mxQPhgRw",
        "outputId": "89070997-c4e8-4d34-cccb-fb62abb84840"
      },
      "execution_count": null,
      "outputs": [
        {
          "output_type": "display_data",
          "data": {
            "text/plain": [
              "<Figure size 640x480 with 1 Axes>"
            ],
            "image/png": "[encoded data removed]"
          },
          "metadata": {}
        }
      ]
    },
    {
      "cell_type": "code",
      "source": [
        "def data_summary(df):\n",
        "\n",
        "    \"\"\"\n",
        "    This function will print the summary of the reviews and words distribution in the dataset.\n",
        "\n",
        "    Args:\n",
        "        dataset: list of cleaned sentences\n",
        "\n",
        "    Returns:\n",
        "        Number of documnets per class: int\n",
        "        Number of words per class: int\n",
        "        Number of unique words per class: int\n",
        "    \"\"\"\n",
        "    documents = []\n",
        "    words = []\n",
        "    u_words = []\n",
        "    total_u_words = [word.strip().lower() for t in list(df.review_text) for word in t.strip().split()]\n",
        "    class_label= [k for k,v in df.Class.value_counts().to_dict().items()]\n",
        "  # find word list\n",
        "    for label in class_label:\n",
        "        word_list = [word.strip().lower() for t in list(df[df.Class==label].review_text) for word in t.strip().split()]\n",
        "        counts = dict()\n",
        "        for word in word_list:\n",
        "                counts[word] = counts.get(word, 0)+1\n",
        "        # sort the dictionary of word list\n",
        "        ordered = sorted(counts.items(), key= lambda item: item[1],reverse = True)\n",
        "        # Documents per class\n",
        "        documents.append(len(list(df[df.Class==label].review_text)))\n",
        "        # Total Word per class\n",
        "        words.append(len(word_list))\n",
        "        # Unique words per class\n",
        "        u_words.append(len(np.unique(word_list)))\n",
        "\n",
        "        print(\"\\nClass Name : \",label)\n",
        "        print(\"Number of Documents:{}\".format(len(list(df[df.Class==label].review_text))))\n",
        "        print(\"Number of Words:{}\".format(len(word_list)))\n",
        "        print(\"Number of Unique Words:{}\".format(len(np.unique(word_list))))\n",
        "        print(\"Most Frequent Words:\\n\")\n",
        "        for k,v in ordered[:10]:\n",
        "              print(\"{}\\t{}\".format(k,v))\n",
        "    print(\"Total Number of Unique Words:{}\".format(len(np.unique(total_u_words))))\n",
        "\n",
        "    return documents,words,u_words,class_label\n",
        "\n",
        "#call the fucntion\n",
        "documents,words,u_words,class_names = data_summary(df)"
      ],
      "metadata": {
        "id": "ishzNowSi9Ts",
        "colab": {
          "base_uri": "https://localhost:8080/"
        },
        "outputId": "534c44aa-f24e-4f7f-ae46-1ed390a2cdb2"
      },
      "execution_count": null,
      "outputs": [
        {
          "output_type": "stream",
          "name": "stdout",
          "text": [
            "\n",
            "Class Name :  Positive\n",
            "Number of Documents:614\n",
            "Number of Words:28454\n",
            "Number of Unique Words:4930\n",
            "Most Frequent Words:\n",
            "\n",
            "is\t929\n",
            "the\t777\n",
            "and\t638\n",
            "for\t485\n",
            "i\t484\n",
            "to\t456\n",
            "a\t442\n",
            "it\t441\n",
            "good\t423\n",
            "this\t405\n",
            "\n",
            "Class Name :  Negative\n",
            "Number of Documents:99\n",
            "Number of Words:2923\n",
            "Number of Unique Words:1142\n",
            "Most Frequent Words:\n",
            "\n",
            "is\t92\n",
            "not\t70\n",
            "the\t50\n",
            "and\t50\n",
            "to\t46\n",
            "a\t39\n",
            "camera\t39\n",
            "this\t39\n",
            "i\t38\n",
            "very\t36\n",
            "\n",
            "Class Name :  Neutral\n",
            "Number of Documents:86\n",
            "Number of Words:765\n",
            "Number of Unique Words:421\n",
            "Most Frequent Words:\n",
            "\n",
            "the\t18\n",
            "for\t16\n",
            "in\t16\n",
            "is\t14\n",
            "i\t12\n",
            "this\t12\n",
            "mobile\t12\n",
            "to\t11\n",
            "and\t11\n",
            "phone\t10\n",
            "Total Number of Unique Words:5463\n"
          ]
        }
      ]
    },
    {
      "cell_type": "markdown",
      "source": [
        "Preprocessing Steps"
      ],
      "metadata": {
        "id": "65Y8gMaTm0La"
      }
    },
    {
      "cell_type": "markdown",
      "source": [
        "Upper case to Lower"
      ],
      "metadata": {
        "id": "7d0aHKFom433"
      }
    },
    {
      "cell_type": "code",
      "source": [
        "df['review_text']=df['review_text'].apply(lambda x: x.lower())"
      ],
      "metadata": {
        "id": "8cT7NVLomuW_"
      },
      "execution_count": null,
      "outputs": []
    },
    {
      "cell_type": "markdown",
      "source": [
        "Removing punctuation"
      ],
      "metadata": {
        "id": "5CEjNyxxnC0i"
      }
    },
    {
      "cell_type": "code",
      "source": [
        "import string\n",
        "string.punctuation"
      ],
      "metadata": {
        "colab": {
          "base_uri": "https://localhost:8080/",
          "height": 35
        },
        "id": "zeM-_jNem2eV",
        "outputId": "6c70066a-188d-448d-c049-35bda22a6859"
      },
      "execution_count": null,
      "outputs": [
        {
          "output_type": "execute_result",
          "data": {
            "text/plain": [
              "'!\"#$%&\\'()*+,-./:;<=>?@[\\\\]^_`{|}~'"
            ],
            "application/vnd.google.colaboratory.intrinsic+json": {
              "type": "string"
            }
          },
          "metadata": {},
          "execution_count": 19
        }
      ]
    },
    {
      "cell_type": "code",
      "source": [
        "# defining the function to remove punctuation\n",
        "def remove_punctuation(text):\n",
        "    punctuationfree=\"\".join([i for i in text if i not in string.punctuation])\n",
        "    return punctuationfree\n",
        "#storing the puntuation free text\n",
        "df['review_text']= df['review_text'].apply(lambda x:remove_punctuation(x))\n",
        "# df.iloc[[31]]\n",
        "df"
      ],
      "metadata": {
        "colab": {
          "base_uri": "https://localhost:8080/",
          "height": 1000
        },
        "id": "a0qQWQ9ZnQsg",
        "outputId": "861b3f47-703f-4aae-bc02-cb8c53aab910"
      },
      "execution_count": null,
      "outputs": [
        {
          "output_type": "execute_result",
          "data": {
            "text/plain": [
              "      product_id                                       product_name    brand  \\\n",
              "0     B085J1J32G  Samsung Galaxy M51 (Electric Blue, 6GB RAM, 12...  Samsung   \n",
              "1     B085J1J32G  Samsung Galaxy M51 (Electric Blue, 6GB RAM, 12...  Samsung   \n",
              "2     B085J1J32G  Samsung Galaxy M51 (Electric Blue, 6GB RAM, 12...  Samsung   \n",
              "3     B085J1J32G  Samsung Galaxy M51 (Electric Blue, 6GB RAM, 12...  Samsung   \n",
              "4     B085J1J32G  Samsung Galaxy M51 (Electric Blue, 6GB RAM, 12...  Samsung   \n",
              "...          ...                                                ...      ...   \n",
              "1678  B08FN6WGDQ  Samsung Galaxy Buds Live Bluetooth Truly Wirel...  Samsung   \n",
              "1679  B08FN6WGDQ  Samsung Galaxy Buds Live Bluetooth Truly Wirel...  Samsung   \n",
              "1680  B08FN6WGDQ  Samsung Galaxy Buds Live Bluetooth Truly Wirel...  Samsung   \n",
              "1683  B08FN6WGDQ  Samsung Galaxy Buds Live Bluetooth Truly Wirel...  Samsung   \n",
              "1684  B08FN6WGDQ  Samsung Galaxy Buds Live Bluetooth Truly Wirel...  Samsung   \n",
              "\n",
              "     website                                         source_URL  \\\n",
              "0     Amazon                          https://amzn.eu/d/bOFfVHI   \n",
              "1     Amazon                          https://amzn.eu/d/bOFfVHI   \n",
              "2     Amazon                          https://amzn.eu/d/bOFfVHI   \n",
              "3     Amazon                          https://amzn.eu/d/bOFfVHI   \n",
              "4     Amazon                          https://amzn.eu/d/bOFfVHI   \n",
              "...      ...                                                ...   \n",
              "1678  Amazon  https://www.amazon.in/Samsung-Galaxy-SM-R180NZ...   \n",
              "1679  Amazon  https://www.amazon.in/Samsung-Galaxy-SM-R180NZ...   \n",
              "1680  Amazon  https://www.amazon.in/Samsung-Galaxy-SM-R180NZ...   \n",
              "1683  Amazon  https://www.amazon.in/Samsung-Galaxy-SM-R180NZ...   \n",
              "1684  Amazon  https://www.amazon.in/Samsung-Galaxy-SM-R180NZ...   \n",
              "\n",
              "                                           review_title  \\\n",
              "0                                          Worst mobile   \n",
              "1                               Average mid-range phone   \n",
              "2          Bulky, and Back side chrome finish is faulty   \n",
              "3                       Good product with some drawback   \n",
              "4                          The best phone you could buy   \n",
              "...                                                 ...   \n",
              "1678                                        Itâ€™s Good   \n",
              "1679                                       NOT WORTH IT   \n",
              "1680                                      Good purchase   \n",
              "1683                                 Affordable earbuds   \n",
              "1684  Buy this only for design and few not so import...   \n",
              "\n",
              "                                            review_text  \\\n",
              "0                               worst display quality😩😩   \n",
              "1     battery is good but not great as advertisedrun...   \n",
              "2     back side chrome finish started like scratches...   \n",
              "3     battery life is extraordinary no need of carry...   \n",
              "4     im writing review after year of purchase  even...   \n",
              "...                                                 ...   \n",
              "1678  i bought it in festive season sale\\n itâ€™s wo...   \n",
              "1679  pro good finish and quality good battery life ...   \n",
              "1680  first they sent a defective one which alwaysss...   \n",
              "1683  sound is loud and somewhat clear with some ech...   \n",
              "1684  loved the style but sound isnt that great neit...   \n",
              "\n",
              "              reviewer_name rating  polarity  subjectivity     Class  \n",
              "0                 PHALAKSHA      1 -1.000000      1.000000  Negative  \n",
              "1                   Snehith      3  0.333333      0.650000  Positive  \n",
              "2     Pro-tan International      4  0.100000      0.150000  Positive  \n",
              "3               sai krishna      4  0.132500      0.622500  Positive  \n",
              "4                     vicky      5  0.325714      0.587857  Positive  \n",
              "...                     ...    ...       ...           ...       ...  \n",
              "1678          Diwakar Nayal      3  0.184667      0.614667  Positive  \n",
              "1679     Sainathan Arumugam      3  0.217949      0.496062  Positive  \n",
              "1680              Naveen B.      5  0.329509      0.549206  Positive  \n",
              "1683           shahid patel      4  0.200000      0.527778  Positive  \n",
              "1684                  Manas      4  0.466667      0.475000  Positive  \n",
              "\n",
              "[799 rows x 12 columns]"
            ],
            "text/html": [
              "\n",
              "  <div id=\"df-59d20ecd-19cc-4422-962b-36dc96ae1154\">\n",
              "    <div class=\"colab-df-container\">\n",
              "      <div>\n",
              "<style scoped>\n",
              "    .dataframe tbody tr th:only-of-type {\n",
              "        vertical-align: middle;\n",
              "    }\n",
              "\n",
              "    .dataframe tbody tr th {\n",
              "        vertical-align: top;\n",
              "    }\n",
              "\n",
              "    .dataframe thead th {\n",
              "        text-align: right;\n",
              "    }\n",
              "</style>\n",
              "<table border=\"1\" class=\"dataframe\">\n",
              "  <thead>\n",
              "    <tr style=\"text-align: right;\">\n",
              "      <th></th>\n",
              "      <th>product_id</th>\n",
              "      <th>product_name</th>\n",
              "      <th>brand</th>\n",
              "      <th>website</th>\n",
              "      <th>source_URL</th>\n",
              "      <th>review_title</th>\n",
              "      <th>review_text</th>\n",
              "      <th>reviewer_name</th>\n",
              "      <th>rating</th>\n",
              "      <th>polarity</th>\n",
              "      <th>subjectivity</th>\n",
              "      <th>Class</th>\n",
              "    </tr>\n",
              "  </thead>\n",
              "  <tbody>\n",
              "    <tr>\n",
              "      <th>0</th>\n",
              "      <td>B085J1J32G</td>\n",
              "      <td>Samsung Galaxy M51 (Electric Blue, 6GB RAM, 12...</td>\n",
              "      <td>Samsung</td>\n",
              "      <td>Amazon</td>\n",
              "      <td>https://amzn.eu/d/bOFfVHI</td>\n",
              "      <td>Worst mobile</td>\n",
              "      <td>worst display quality😩😩</td>\n",
              "      <td>PHALAKSHA</td>\n",
              "      <td>1</td>\n",
              "      <td>-1.000000</td>\n",
              "      <td>1.000000</td>\n",
              "      <td>Negative</td>\n",
              "    </tr>\n",
              "    <tr>\n",
              "      <th>1</th>\n",
              "      <td>B085J1J32G</td>\n",
              "      <td>Samsung Galaxy M51 (Electric Blue, 6GB RAM, 12...</td>\n",
              "      <td>Samsung</td>\n",
              "      <td>Amazon</td>\n",
              "      <td>https://amzn.eu/d/bOFfVHI</td>\n",
              "      <td>Average mid-range phone</td>\n",
              "      <td>battery is good but not great as advertisedrun...</td>\n",
              "      <td>Snehith</td>\n",
              "      <td>3</td>\n",
              "      <td>0.333333</td>\n",
              "      <td>0.650000</td>\n",
              "      <td>Positive</td>\n",
              "    </tr>\n",
              "    <tr>\n",
              "      <th>2</th>\n",
              "      <td>B085J1J32G</td>\n",
              "      <td>Samsung Galaxy M51 (Electric Blue, 6GB RAM, 12...</td>\n",
              "      <td>Samsung</td>\n",
              "      <td>Amazon</td>\n",
              "      <td>https://amzn.eu/d/bOFfVHI</td>\n",
              "      <td>Bulky, and Back side chrome finish is faulty</td>\n",
              "      <td>back side chrome finish started like scratches...</td>\n",
              "      <td>Pro-tan International</td>\n",
              "      <td>4</td>\n",
              "      <td>0.100000</td>\n",
              "      <td>0.150000</td>\n",
              "      <td>Positive</td>\n",
              "    </tr>\n",
              "    <tr>\n",
              "      <th>3</th>\n",
              "      <td>B085J1J32G</td>\n",
              "      <td>Samsung Galaxy M51 (Electric Blue, 6GB RAM, 12...</td>\n",
              "      <td>Samsung</td>\n",
              "      <td>Amazon</td>\n",
              "      <td>https://amzn.eu/d/bOFfVHI</td>\n",
              "      <td>Good product with some drawback</td>\n",
              "      <td>battery life is extraordinary no need of carry...</td>\n",
              "      <td>sai krishna</td>\n",
              "      <td>4</td>\n",
              "      <td>0.132500</td>\n",
              "      <td>0.622500</td>\n",
              "      <td>Positive</td>\n",
              "    </tr>\n",
              "    <tr>\n",
              "      <th>4</th>\n",
              "      <td>B085J1J32G</td>\n",
              "      <td>Samsung Galaxy M51 (Electric Blue, 6GB RAM, 12...</td>\n",
              "      <td>Samsung</td>\n",
              "      <td>Amazon</td>\n",
              "      <td>https://amzn.eu/d/bOFfVHI</td>\n",
              "      <td>The best phone you could buy</td>\n",
              "      <td>im writing review after year of purchase  even...</td>\n",
              "      <td>vicky</td>\n",
              "      <td>5</td>\n",
              "      <td>0.325714</td>\n",
              "      <td>0.587857</td>\n",
              "      <td>Positive</td>\n",
              "    </tr>\n",
              "    <tr>\n",
              "      <th>...</th>\n",
              "      <td>...</td>\n",
              "      <td>...</td>\n",
              "      <td>...</td>\n",
              "      <td>...</td>\n",
              "      <td>...</td>\n",
              "      <td>...</td>\n",
              "      <td>...</td>\n",
              "      <td>...</td>\n",
              "      <td>...</td>\n",
              "      <td>...</td>\n",
              "      <td>...</td>\n",
              "      <td>...</td>\n",
              "    </tr>\n",
              "    <tr>\n",
              "      <th>1678</th>\n",
              "      <td>B08FN6WGDQ</td>\n",
              "      <td>Samsung Galaxy Buds Live Bluetooth Truly Wirel...</td>\n",
              "      <td>Samsung</td>\n",
              "      <td>Amazon</td>\n",
              "      <td>https://www.amazon.in/Samsung-Galaxy-SM-R180NZ...</td>\n",
              "      <td>Itâ€™s Good</td>\n",
              "      <td>i bought it in festive season sale\\n itâ€™s wo...</td>\n",
              "      <td>Diwakar Nayal</td>\n",
              "      <td>3</td>\n",
              "      <td>0.184667</td>\n",
              "      <td>0.614667</td>\n",
              "      <td>Positive</td>\n",
              "    </tr>\n",
              "    <tr>\n",
              "      <th>1679</th>\n",
              "      <td>B08FN6WGDQ</td>\n",
              "      <td>Samsung Galaxy Buds Live Bluetooth Truly Wirel...</td>\n",
              "      <td>Samsung</td>\n",
              "      <td>Amazon</td>\n",
              "      <td>https://www.amazon.in/Samsung-Galaxy-SM-R180NZ...</td>\n",
              "      <td>NOT WORTH IT</td>\n",
              "      <td>pro good finish and quality good battery life ...</td>\n",
              "      <td>Sainathan Arumugam</td>\n",
              "      <td>3</td>\n",
              "      <td>0.217949</td>\n",
              "      <td>0.496062</td>\n",
              "      <td>Positive</td>\n",
              "    </tr>\n",
              "    <tr>\n",
              "      <th>1680</th>\n",
              "      <td>B08FN6WGDQ</td>\n",
              "      <td>Samsung Galaxy Buds Live Bluetooth Truly Wirel...</td>\n",
              "      <td>Samsung</td>\n",
              "      <td>Amazon</td>\n",
              "      <td>https://www.amazon.in/Samsung-Galaxy-SM-R180NZ...</td>\n",
              "      <td>Good purchase</td>\n",
              "      <td>first they sent a defective one which alwaysss...</td>\n",
              "      <td>Naveen B.</td>\n",
              "      <td>5</td>\n",
              "      <td>0.329509</td>\n",
              "      <td>0.549206</td>\n",
              "      <td>Positive</td>\n",
              "    </tr>\n",
              "    <tr>\n",
              "      <th>1683</th>\n",
              "      <td>B08FN6WGDQ</td>\n",
              "      <td>Samsung Galaxy Buds Live Bluetooth Truly Wirel...</td>\n",
              "      <td>Samsung</td>\n",
              "      <td>Amazon</td>\n",
              "      <td>https://www.amazon.in/Samsung-Galaxy-SM-R180NZ...</td>\n",
              "      <td>Affordable earbuds</td>\n",
              "      <td>sound is loud and somewhat clear with some ech...</td>\n",
              "      <td>shahid patel</td>\n",
              "      <td>4</td>\n",
              "      <td>0.200000</td>\n",
              "      <td>0.527778</td>\n",
              "      <td>Positive</td>\n",
              "    </tr>\n",
              "    <tr>\n",
              "      <th>1684</th>\n",
              "      <td>B08FN6WGDQ</td>\n",
              "      <td>Samsung Galaxy Buds Live Bluetooth Truly Wirel...</td>\n",
              "      <td>Samsung</td>\n",
              "      <td>Amazon</td>\n",
              "      <td>https://www.amazon.in/Samsung-Galaxy-SM-R180NZ...</td>\n",
              "      <td>Buy this only for design and few not so import...</td>\n",
              "      <td>loved the style but sound isnt that great neit...</td>\n",
              "      <td>Manas</td>\n",
              "      <td>4</td>\n",
              "      <td>0.466667</td>\n",
              "      <td>0.475000</td>\n",
              "      <td>Positive</td>\n",
              "    </tr>\n",
              "  </tbody>\n",
              "</table>\n",
              "<p>799 rows × 12 columns</p>\n",
              "</div>\n",
              "      <button class=\"colab-df-convert\" onclick=\"convertToInteractive('df-59d20ecd-19cc-4422-962b-36dc96ae1154')\"\n",
              "              title=\"Convert this dataframe to an interactive table.\"\n",
              "              style=\"display:none;\">\n",
              "        \n",
              "  <svg xmlns=\"http://www.w3.org/2000/svg\" height=\"24px\"viewBox=\"0 0 24 24\"\n",
              "       width=\"24px\">\n",
              "    <path d=\"M0 0h24v24H0V0z\" fill=\"none\"/>\n",
              "    <path d=\"M18.56 5.44l.94 2.06.94-2.06 2.06-.94-2.06-.94-.94-2.06-.94 2.06-2.06.94zm-11 1L8.5 8.5l.94-2.06 2.06-.94-2.06-.94L8.5 2.5l-.94 2.06-2.06.94zm10 10l.94 2.06.94-2.06 2.06-.94-2.06-.94-.94-2.06-.94 2.06-2.06.94z\"/><path d=\"M17.41 7.96l-1.37-1.37c-.4-.4-.92-.59-1.43-.59-.52 0-1.04.2-1.43.59L10.3 9.45l-7.72 7.72c-.78.78-.78 2.05 0 2.83L4 21.41c.39.39.9.59 1.41.59.51 0 1.02-.2 1.41-.59l7.78-7.78 2.81-2.81c.8-.78.8-2.07 0-2.86zM5.41 20L4 18.59l7.72-7.72 1.47 1.35L5.41 20z\"/>\n",
              "  </svg>\n",
              "      </button>\n",
              "      \n",
              "  <style>\n",
              "    .colab-df-container {\n",
              "      display:flex;\n",
              "      flex-wrap:wrap;\n",
              "      gap: 12px;\n",
              "    }\n",
              "\n",
              "    .colab-df-convert {\n",
              "      background-color: #E8F0FE;\n",
              "      border: none;\n",
              "      border-radius: 50%;\n",
              "      cursor: pointer;\n",
              "      display: none;\n",
              "      fill: #1967D2;\n",
              "      height: 32px;\n",
              "      padding: 0 0 0 0;\n",
              "      width: 32px;\n",
              "    }\n",
              "\n",
              "    .colab-df-convert:hover {\n",
              "      background-color: #E2EBFA;\n",
              "      box-shadow: 0px 1px 2px rgba(60, 64, 67, 0.3), 0px 1px 3px 1px rgba(60, 64, 67, 0.15);\n",
              "      fill: #174EA6;\n",
              "    }\n",
              "\n",
              "    [theme=dark] .colab-df-convert {\n",
              "      background-color: #3B4455;\n",
              "      fill: #D2E3FC;\n",
              "    }\n",
              "\n",
              "    [theme=dark] .colab-df-convert:hover {\n",
              "      background-color: #434B5C;\n",
              "      box-shadow: 0px 1px 3px 1px rgba(0, 0, 0, 0.15);\n",
              "      filter: drop-shadow(0px 1px 2px rgba(0, 0, 0, 0.3));\n",
              "      fill: #FFFFFF;\n",
              "    }\n",
              "  </style>\n",
              "\n",
              "      <script>\n",
              "        const buttonEl =\n",
              "          document.querySelector('#df-59d20ecd-19cc-4422-962b-36dc96ae1154 button.colab-df-convert');\n",
              "        buttonEl.style.display =\n",
              "          google.colab.kernel.accessAllowed ? 'block' : 'none';\n",
              "\n",
              "        async function convertToInteractive(key) {\n",
              "          const element = document.querySelector('#df-59d20ecd-19cc-4422-962b-36dc96ae1154');\n",
              "          const dataTable =\n",
              "            await google.colab.kernel.invokeFunction('convertToInteractive',\n",
              "                                                     [key], {});\n",
              "          if (!dataTable) return;\n",
              "\n",
              "          const docLinkHtml = 'Like what you see? Visit the ' +\n",
              "            '<a target=\"_blank\" href=https://colab.research.google.com/notebooks/data_table.ipynb>data table notebook</a>'\n",
              "            + ' to learn more about interactive tables.';\n",
              "          element.innerHTML = '';\n",
              "          dataTable['output_type'] = 'display_data';\n",
              "          await google.colab.output.renderOutput(dataTable, element);\n",
              "          const docLink = document.createElement('div');\n",
              "          docLink.innerHTML = docLinkHtml;\n",
              "          element.appendChild(docLink);\n",
              "        }\n",
              "      </script>\n",
              "    </div>\n",
              "  </div>\n",
              "  "
            ]
          },
          "metadata": {},
          "execution_count": 20
        }
      ]
    },
    {
      "cell_type": "markdown",
      "source": [
        "Removing URls"
      ],
      "metadata": {
        "id": "U5RHKN6Wnpz0"
      }
    },
    {
      "cell_type": "code",
      "source": [
        "df['review_text'] = df['review_text'].str.replace('http[s]?://(?:[a-zA-Z]|[0-9]|[$-_@.&+]|[!*,]|(?:%[0-9a-fA-F][0-9a-fA-F]))+', ' ')\n",
        ""
      ],
      "metadata": {
        "colab": {
          "base_uri": "https://localhost:8080/"
        },
        "id": "ZvnTbs6knlPs",
        "outputId": "7bf49b6f-f52a-4274-e244-ca6b843eefe3"
      },
      "execution_count": null,
      "outputs": [
        {
          "output_type": "stream",
          "name": "stderr",
          "text": [
            "<ipython-input-21-058ecff83e7d>:1: FutureWarning: The default value of regex will change from True to False in a future version.\n",
            "  df['review_text'] = df['review_text'].str.replace('http[s]?://(?:[a-zA-Z]|[0-9]|[$-_@.&+]|[!*,]|(?:%[0-9a-fA-F][0-9a-fA-F]))+', ' ')\n"
          ]
        }
      ]
    },
    {
      "cell_type": "markdown",
      "source": [
        "Remove Stopwords"
      ],
      "metadata": {
        "id": "M2VxW6Tcn_Rf"
      }
    },
    {
      "cell_type": "code",
      "source": [
        "def remove_stop(x):\n",
        "  return \",\".join([word for word in str(x).split() if word not in stop_words]) #stopwords removal)\n",
        "df['review_text'] = df['review_text'].apply(lambda x: remove_stop(x))\n",
        "df"
      ],
      "metadata": {
        "colab": {
          "base_uri": "https://localhost:8080/",
          "height": 1000
        },
        "id": "nHm1UbUPn2Wj",
        "outputId": "57bbd8b1-f49d-41fd-d47a-641e3f65df0c"
      },
      "execution_count": null,
      "outputs": [
        {
          "output_type": "execute_result",
          "data": {
            "text/plain": [
              "      product_id                                       product_name    brand  \\\n",
              "0     B085J1J32G  Samsung Galaxy M51 (Electric Blue, 6GB RAM, 12...  Samsung   \n",
              "1     B085J1J32G  Samsung Galaxy M51 (Electric Blue, 6GB RAM, 12...  Samsung   \n",
              "2     B085J1J32G  Samsung Galaxy M51 (Electric Blue, 6GB RAM, 12...  Samsung   \n",
              "3     B085J1J32G  Samsung Galaxy M51 (Electric Blue, 6GB RAM, 12...  Samsung   \n",
              "4     B085J1J32G  Samsung Galaxy M51 (Electric Blue, 6GB RAM, 12...  Samsung   \n",
              "...          ...                                                ...      ...   \n",
              "1678  B08FN6WGDQ  Samsung Galaxy Buds Live Bluetooth Truly Wirel...  Samsung   \n",
              "1679  B08FN6WGDQ  Samsung Galaxy Buds Live Bluetooth Truly Wirel...  Samsung   \n",
              "1680  B08FN6WGDQ  Samsung Galaxy Buds Live Bluetooth Truly Wirel...  Samsung   \n",
              "1683  B08FN6WGDQ  Samsung Galaxy Buds Live Bluetooth Truly Wirel...  Samsung   \n",
              "1684  B08FN6WGDQ  Samsung Galaxy Buds Live Bluetooth Truly Wirel...  Samsung   \n",
              "\n",
              "     website                                         source_URL  \\\n",
              "0     Amazon                          https://amzn.eu/d/bOFfVHI   \n",
              "1     Amazon                          https://amzn.eu/d/bOFfVHI   \n",
              "2     Amazon                          https://amzn.eu/d/bOFfVHI   \n",
              "3     Amazon                          https://amzn.eu/d/bOFfVHI   \n",
              "4     Amazon                          https://amzn.eu/d/bOFfVHI   \n",
              "...      ...                                                ...   \n",
              "1678  Amazon  https://www.amazon.in/Samsung-Galaxy-SM-R180NZ...   \n",
              "1679  Amazon  https://www.amazon.in/Samsung-Galaxy-SM-R180NZ...   \n",
              "1680  Amazon  https://www.amazon.in/Samsung-Galaxy-SM-R180NZ...   \n",
              "1683  Amazon  https://www.amazon.in/Samsung-Galaxy-SM-R180NZ...   \n",
              "1684  Amazon  https://www.amazon.in/Samsung-Galaxy-SM-R180NZ...   \n",
              "\n",
              "                                           review_title  \\\n",
              "0                                          Worst mobile   \n",
              "1                               Average mid-range phone   \n",
              "2          Bulky, and Back side chrome finish is faulty   \n",
              "3                       Good product with some drawback   \n",
              "4                          The best phone you could buy   \n",
              "...                                                 ...   \n",
              "1678                                        Itâ€™s Good   \n",
              "1679                                       NOT WORTH IT   \n",
              "1680                                      Good purchase   \n",
              "1683                                 Affordable earbuds   \n",
              "1684  Buy this only for design and few not so import...   \n",
              "\n",
              "                                            review_text  \\\n",
              "0                               worst,display,quality😩😩   \n",
              "1     battery,good,great,advertisedruns,oneui,based,...   \n",
              "2     back,side,chrome,finish,started,like,scratches...   \n",
              "3     battery,life,extraordinary,need,carrying,power...   \n",
              "4     im,writing,review,year,purchase,even,use,mobil...   \n",
              "...                                                 ...   \n",
              "1678  bought,festive,season,sale,itâ€™s,worth,saleâ€...   \n",
              "1679  pro,good,finish,quality,good,battery,life,good...   \n",
              "1680  first,sent,defective,one,alwaysss,happens,sale...   \n",
              "1683  sound,loud,somewhat,clear,echo,receiver,end,de...   \n",
              "1684  loved,style,sound,isnt,great,neither,subpar,an...   \n",
              "\n",
              "              reviewer_name rating  polarity  subjectivity     Class  \n",
              "0                 PHALAKSHA      1 -1.000000      1.000000  Negative  \n",
              "1                   Snehith      3  0.333333      0.650000  Positive  \n",
              "2     Pro-tan International      4  0.100000      0.150000  Positive  \n",
              "3               sai krishna      4  0.132500      0.622500  Positive  \n",
              "4                     vicky      5  0.325714      0.587857  Positive  \n",
              "...                     ...    ...       ...           ...       ...  \n",
              "1678          Diwakar Nayal      3  0.184667      0.614667  Positive  \n",
              "1679     Sainathan Arumugam      3  0.217949      0.496062  Positive  \n",
              "1680              Naveen B.      5  0.329509      0.549206  Positive  \n",
              "1683           shahid patel      4  0.200000      0.527778  Positive  \n",
              "1684                  Manas      4  0.466667      0.475000  Positive  \n",
              "\n",
              "[799 rows x 12 columns]"
            ],
            "text/html": [
              "\n",
              "  <div id=\"df-0f428f98-c01d-4433-89ab-387c1b264bae\">\n",
              "    <div class=\"colab-df-container\">\n",
              "      <div>\n",
              "<style scoped>\n",
              "    .dataframe tbody tr th:only-of-type {\n",
              "        vertical-align: middle;\n",
              "    }\n",
              "\n",
              "    .dataframe tbody tr th {\n",
              "        vertical-align: top;\n",
              "    }\n",
              "\n",
              "    .dataframe thead th {\n",
              "        text-align: right;\n",
              "    }\n",
              "</style>\n",
              "<table border=\"1\" class=\"dataframe\">\n",
              "  <thead>\n",
              "    <tr style=\"text-align: right;\">\n",
              "      <th></th>\n",
              "      <th>product_id</th>\n",
              "      <th>product_name</th>\n",
              "      <th>brand</th>\n",
              "      <th>website</th>\n",
              "      <th>source_URL</th>\n",
              "      <th>review_title</th>\n",
              "      <th>review_text</th>\n",
              "      <th>reviewer_name</th>\n",
              "      <th>rating</th>\n",
              "      <th>polarity</th>\n",
              "      <th>subjectivity</th>\n",
              "      <th>Class</th>\n",
              "    </tr>\n",
              "  </thead>\n",
              "  <tbody>\n",
              "    <tr>\n",
              "      <th>0</th>\n",
              "      <td>B085J1J32G</td>\n",
              "      <td>Samsung Galaxy M51 (Electric Blue, 6GB RAM, 12...</td>\n",
              "      <td>Samsung</td>\n",
              "      <td>Amazon</td>\n",
              "      <td>https://amzn.eu/d/bOFfVHI</td>\n",
              "      <td>Worst mobile</td>\n",
              "      <td>worst,display,quality😩😩</td>\n",
              "      <td>PHALAKSHA</td>\n",
              "      <td>1</td>\n",
              "      <td>-1.000000</td>\n",
              "      <td>1.000000</td>\n",
              "      <td>Negative</td>\n",
              "    </tr>\n",
              "    <tr>\n",
              "      <th>1</th>\n",
              "      <td>B085J1J32G</td>\n",
              "      <td>Samsung Galaxy M51 (Electric Blue, 6GB RAM, 12...</td>\n",
              "      <td>Samsung</td>\n",
              "      <td>Amazon</td>\n",
              "      <td>https://amzn.eu/d/bOFfVHI</td>\n",
              "      <td>Average mid-range phone</td>\n",
              "      <td>battery,good,great,advertisedruns,oneui,based,...</td>\n",
              "      <td>Snehith</td>\n",
              "      <td>3</td>\n",
              "      <td>0.333333</td>\n",
              "      <td>0.650000</td>\n",
              "      <td>Positive</td>\n",
              "    </tr>\n",
              "    <tr>\n",
              "      <th>2</th>\n",
              "      <td>B085J1J32G</td>\n",
              "      <td>Samsung Galaxy M51 (Electric Blue, 6GB RAM, 12...</td>\n",
              "      <td>Samsung</td>\n",
              "      <td>Amazon</td>\n",
              "      <td>https://amzn.eu/d/bOFfVHI</td>\n",
              "      <td>Bulky, and Back side chrome finish is faulty</td>\n",
              "      <td>back,side,chrome,finish,started,like,scratches...</td>\n",
              "      <td>Pro-tan International</td>\n",
              "      <td>4</td>\n",
              "      <td>0.100000</td>\n",
              "      <td>0.150000</td>\n",
              "      <td>Positive</td>\n",
              "    </tr>\n",
              "    <tr>\n",
              "      <th>3</th>\n",
              "      <td>B085J1J32G</td>\n",
              "      <td>Samsung Galaxy M51 (Electric Blue, 6GB RAM, 12...</td>\n",
              "      <td>Samsung</td>\n",
              "      <td>Amazon</td>\n",
              "      <td>https://amzn.eu/d/bOFfVHI</td>\n",
              "      <td>Good product with some drawback</td>\n",
              "      <td>battery,life,extraordinary,need,carrying,power...</td>\n",
              "      <td>sai krishna</td>\n",
              "      <td>4</td>\n",
              "      <td>0.132500</td>\n",
              "      <td>0.622500</td>\n",
              "      <td>Positive</td>\n",
              "    </tr>\n",
              "    <tr>\n",
              "      <th>4</th>\n",
              "      <td>B085J1J32G</td>\n",
              "      <td>Samsung Galaxy M51 (Electric Blue, 6GB RAM, 12...</td>\n",
              "      <td>Samsung</td>\n",
              "      <td>Amazon</td>\n",
              "      <td>https://amzn.eu/d/bOFfVHI</td>\n",
              "      <td>The best phone you could buy</td>\n",
              "      <td>im,writing,review,year,purchase,even,use,mobil...</td>\n",
              "      <td>vicky</td>\n",
              "      <td>5</td>\n",
              "      <td>0.325714</td>\n",
              "      <td>0.587857</td>\n",
              "      <td>Positive</td>\n",
              "    </tr>\n",
              "    <tr>\n",
              "      <th>...</th>\n",
              "      <td>...</td>\n",
              "      <td>...</td>\n",
              "      <td>...</td>\n",
              "      <td>...</td>\n",
              "      <td>...</td>\n",
              "      <td>...</td>\n",
              "      <td>...</td>\n",
              "      <td>...</td>\n",
              "      <td>...</td>\n",
              "      <td>...</td>\n",
              "      <td>...</td>\n",
              "      <td>...</td>\n",
              "    </tr>\n",
              "    <tr>\n",
              "      <th>1678</th>\n",
              "      <td>B08FN6WGDQ</td>\n",
              "      <td>Samsung Galaxy Buds Live Bluetooth Truly Wirel...</td>\n",
              "      <td>Samsung</td>\n",
              "      <td>Amazon</td>\n",
              "      <td>https://www.amazon.in/Samsung-Galaxy-SM-R180NZ...</td>\n",
              "      <td>Itâ€™s Good</td>\n",
              "      <td>bought,festive,season,sale,itâ€™s,worth,saleâ€...</td>\n",
              "      <td>Diwakar Nayal</td>\n",
              "      <td>3</td>\n",
              "      <td>0.184667</td>\n",
              "      <td>0.614667</td>\n",
              "      <td>Positive</td>\n",
              "    </tr>\n",
              "    <tr>\n",
              "      <th>1679</th>\n",
              "      <td>B08FN6WGDQ</td>\n",
              "      <td>Samsung Galaxy Buds Live Bluetooth Truly Wirel...</td>\n",
              "      <td>Samsung</td>\n",
              "      <td>Amazon</td>\n",
              "      <td>https://www.amazon.in/Samsung-Galaxy-SM-R180NZ...</td>\n",
              "      <td>NOT WORTH IT</td>\n",
              "      <td>pro,good,finish,quality,good,battery,life,good...</td>\n",
              "      <td>Sainathan Arumugam</td>\n",
              "      <td>3</td>\n",
              "      <td>0.217949</td>\n",
              "      <td>0.496062</td>\n",
              "      <td>Positive</td>\n",
              "    </tr>\n",
              "    <tr>\n",
              "      <th>1680</th>\n",
              "      <td>B08FN6WGDQ</td>\n",
              "      <td>Samsung Galaxy Buds Live Bluetooth Truly Wirel...</td>\n",
              "      <td>Samsung</td>\n",
              "      <td>Amazon</td>\n",
              "      <td>https://www.amazon.in/Samsung-Galaxy-SM-R180NZ...</td>\n",
              "      <td>Good purchase</td>\n",
              "      <td>first,sent,defective,one,alwaysss,happens,sale...</td>\n",
              "      <td>Naveen B.</td>\n",
              "      <td>5</td>\n",
              "      <td>0.329509</td>\n",
              "      <td>0.549206</td>\n",
              "      <td>Positive</td>\n",
              "    </tr>\n",
              "    <tr>\n",
              "      <th>1683</th>\n",
              "      <td>B08FN6WGDQ</td>\n",
              "      <td>Samsung Galaxy Buds Live Bluetooth Truly Wirel...</td>\n",
              "      <td>Samsung</td>\n",
              "      <td>Amazon</td>\n",
              "      <td>https://www.amazon.in/Samsung-Galaxy-SM-R180NZ...</td>\n",
              "      <td>Affordable earbuds</td>\n",
              "      <td>sound,loud,somewhat,clear,echo,receiver,end,de...</td>\n",
              "      <td>shahid patel</td>\n",
              "      <td>4</td>\n",
              "      <td>0.200000</td>\n",
              "      <td>0.527778</td>\n",
              "      <td>Positive</td>\n",
              "    </tr>\n",
              "    <tr>\n",
              "      <th>1684</th>\n",
              "      <td>B08FN6WGDQ</td>\n",
              "      <td>Samsung Galaxy Buds Live Bluetooth Truly Wirel...</td>\n",
              "      <td>Samsung</td>\n",
              "      <td>Amazon</td>\n",
              "      <td>https://www.amazon.in/Samsung-Galaxy-SM-R180NZ...</td>\n",
              "      <td>Buy this only for design and few not so import...</td>\n",
              "      <td>loved,style,sound,isnt,great,neither,subpar,an...</td>\n",
              "      <td>Manas</td>\n",
              "      <td>4</td>\n",
              "      <td>0.466667</td>\n",
              "      <td>0.475000</td>\n",
              "      <td>Positive</td>\n",
              "    </tr>\n",
              "  </tbody>\n",
              "</table>\n",
              "<p>799 rows × 12 columns</p>\n",
              "</div>\n",
              "      <button class=\"colab-df-convert\" onclick=\"convertToInteractive('df-0f428f98-c01d-4433-89ab-387c1b264bae')\"\n",
              "              title=\"Convert this dataframe to an interactive table.\"\n",
              "              style=\"display:none;\">\n",
              "        \n",
              "  <svg xmlns=\"http://www.w3.org/2000/svg\" height=\"24px\"viewBox=\"0 0 24 24\"\n",
              "       width=\"24px\">\n",
              "    <path d=\"M0 0h24v24H0V0z\" fill=\"none\"/>\n",
              "    <path d=\"M18.56 5.44l.94 2.06.94-2.06 2.06-.94-2.06-.94-.94-2.06-.94 2.06-2.06.94zm-11 1L8.5 8.5l.94-2.06 2.06-.94-2.06-.94L8.5 2.5l-.94 2.06-2.06.94zm10 10l.94 2.06.94-2.06 2.06-.94-2.06-.94-.94-2.06-.94 2.06-2.06.94z\"/><path d=\"M17.41 7.96l-1.37-1.37c-.4-.4-.92-.59-1.43-.59-.52 0-1.04.2-1.43.59L10.3 9.45l-7.72 7.72c-.78.78-.78 2.05 0 2.83L4 21.41c.39.39.9.59 1.41.59.51 0 1.02-.2 1.41-.59l7.78-7.78 2.81-2.81c.8-.78.8-2.07 0-2.86zM5.41 20L4 18.59l7.72-7.72 1.47 1.35L5.41 20z\"/>\n",
              "  </svg>\n",
              "      </button>\n",
              "      \n",
              "  <style>\n",
              "    .colab-df-container {\n",
              "      display:flex;\n",
              "      flex-wrap:wrap;\n",
              "      gap: 12px;\n",
              "    }\n",
              "\n",
              "    .colab-df-convert {\n",
              "      background-color: #E8F0FE;\n",
              "      border: none;\n",
              "      border-radius: 50%;\n",
              "      cursor: pointer;\n",
              "      display: none;\n",
              "      fill: #1967D2;\n",
              "      height: 32px;\n",
              "      padding: 0 0 0 0;\n",
              "      width: 32px;\n",
              "    }\n",
              "\n",
              "    .colab-df-convert:hover {\n",
              "      background-color: #E2EBFA;\n",
              "      box-shadow: 0px 1px 2px rgba(60, 64, 67, 0.3), 0px 1px 3px 1px rgba(60, 64, 67, 0.15);\n",
              "      fill: #174EA6;\n",
              "    }\n",
              "\n",
              "    [theme=dark] .colab-df-convert {\n",
              "      background-color: #3B4455;\n",
              "      fill: #D2E3FC;\n",
              "    }\n",
              "\n",
              "    [theme=dark] .colab-df-convert:hover {\n",
              "      background-color: #434B5C;\n",
              "      box-shadow: 0px 1px 3px 1px rgba(0, 0, 0, 0.15);\n",
              "      filter: drop-shadow(0px 1px 2px rgba(0, 0, 0, 0.3));\n",
              "      fill: #FFFFFF;\n",
              "    }\n",
              "  </style>\n",
              "\n",
              "      <script>\n",
              "        const buttonEl =\n",
              "          document.querySelector('#df-0f428f98-c01d-4433-89ab-387c1b264bae button.colab-df-convert');\n",
              "        buttonEl.style.display =\n",
              "          google.colab.kernel.accessAllowed ? 'block' : 'none';\n",
              "\n",
              "        async function convertToInteractive(key) {\n",
              "          const element = document.querySelector('#df-0f428f98-c01d-4433-89ab-387c1b264bae');\n",
              "          const dataTable =\n",
              "            await google.colab.kernel.invokeFunction('convertToInteractive',\n",
              "                                                     [key], {});\n",
              "          if (!dataTable) return;\n",
              "\n",
              "          const docLinkHtml = 'Like what you see? Visit the ' +\n",
              "            '<a target=\"_blank\" href=https://colab.research.google.com/notebooks/data_table.ipynb>data table notebook</a>'\n",
              "            + ' to learn more about interactive tables.';\n",
              "          element.innerHTML = '';\n",
              "          dataTable['output_type'] = 'display_data';\n",
              "          await google.colab.output.renderOutput(dataTable, element);\n",
              "          const docLink = document.createElement('div');\n",
              "          docLink.innerHTML = docLinkHtml;\n",
              "          element.appendChild(docLink);\n",
              "        }\n",
              "      </script>\n",
              "    </div>\n",
              "  </div>\n",
              "  "
            ]
          },
          "metadata": {},
          "execution_count": 22
        }
      ]
    },
    {
      "cell_type": "markdown",
      "source": [
        "Removing Emojis\n"
      ],
      "metadata": {
        "id": "o_NTK2CUoMuS"
      }
    },
    {
      "cell_type": "code",
      "source": [
        "def remove_emoji(text):\n",
        "    emoji_pattern = re.compile(\"[\"\n",
        "                           u\"\\U0001F600-\\U0001F64F\"  # emoticons\n",
        "                           u\"\\U0001F300-\\U0001F5FF\"  # symbols & pictographs\n",
        "                           u\"\\U0001F680-\\U0001F6FF\"  # transport & map symbols\n",
        "                           u\"\\U0001F1E0-\\U0001F1FF\"  # flags\n",
        "                           u\"\\U00002702-\\U000027B0\"\n",
        "                           u\"\\U000024C2-\\U0001F251\"\n",
        "                           \"]+\", flags=re.UNICODE)\n",
        "    return emoji_pattern.sub(r'', text)\n",
        "df['review_text'] = df['review_text'].apply(lambda x: remove_emoji(x))\n",
        "df.iloc[[0,1,2,3,4,6,7,5,8,9,10]]"
      ],
      "metadata": {
        "colab": {
          "base_uri": "https://localhost:8080/",
          "height": 1000
        },
        "id": "Oe1hCjm-oQID",
        "outputId": "ff1d0947-9e01-456e-9344-c51f910a00cc"
      },
      "execution_count": null,
      "outputs": [
        {
          "output_type": "execute_result",
          "data": {
            "text/plain": [
              "    product_id                                       product_name    brand  \\\n",
              "0   B085J1J32G  Samsung Galaxy M51 (Electric Blue, 6GB RAM, 12...  Samsung   \n",
              "1   B085J1J32G  Samsung Galaxy M51 (Electric Blue, 6GB RAM, 12...  Samsung   \n",
              "2   B085J1J32G  Samsung Galaxy M51 (Electric Blue, 6GB RAM, 12...  Samsung   \n",
              "3   B085J1J32G  Samsung Galaxy M51 (Electric Blue, 6GB RAM, 12...  Samsung   \n",
              "4   B085J1J32G  Samsung Galaxy M51 (Electric Blue, 6GB RAM, 12...  Samsung   \n",
              "6   B089MQ622N     Samsung Galaxy M01 Core (Black, 2GB RAM, 32GB)  Samsung   \n",
              "7   B089MQ622N     Samsung Galaxy M01 Core (Black, 2GB RAM, 32GB)  Samsung   \n",
              "5   B089MQ622N     Samsung Galaxy M01 Core (Black, 2GB RAM, 32GB)  Samsung   \n",
              "8   B089MQ622N     Samsung Galaxy M01 Core (Black, 2GB RAM, 32GB)  Samsung   \n",
              "9   B089MQ622N     Samsung Galaxy M01 Core (Black, 2GB RAM, 32GB)  Samsung   \n",
              "10  B07X8V5YKR  Samsung Galaxy Note10 Lite (Aura Glow, 6GB RAM...  Samsung   \n",
              "\n",
              "   website                 source_URL  \\\n",
              "0   Amazon  https://amzn.eu/d/bOFfVHI   \n",
              "1   Amazon  https://amzn.eu/d/bOFfVHI   \n",
              "2   Amazon  https://amzn.eu/d/bOFfVHI   \n",
              "3   Amazon  https://amzn.eu/d/bOFfVHI   \n",
              "4   Amazon  https://amzn.eu/d/bOFfVHI   \n",
              "6   Amazon  https://amzn.eu/d/dN2SGFv   \n",
              "7   Amazon  https://amzn.eu/d/dN2SGFv   \n",
              "5   Amazon  https://amzn.eu/d/dN2SGFv   \n",
              "8   Amazon  https://amzn.eu/d/dN2SGFv   \n",
              "9   Amazon  https://amzn.eu/d/dN2SGFv   \n",
              "10  Amazon  https://amzn.eu/d/gKNf1a3   \n",
              "\n",
              "                                         review_title  \\\n",
              "0                                        Worst mobile   \n",
              "1                             Average mid-range phone   \n",
              "2        Bulky, and Back side chrome finish is faulty   \n",
              "3                     Good product with some drawback   \n",
              "4                        The best phone you could buy   \n",
              "6             In Short I say I don't like this mobile   \n",
              "7                                        Seems ok now   \n",
              "5                A good phone for at this price range   \n",
              "8                       Good Budget Phone for Elders.   \n",
              "9   Samsung Galaxy M01 Core is Worst Phone purchas...   \n",
              "10                                            average   \n",
              "\n",
              "                                          review_text          reviewer_name  \\\n",
              "0                               worst,display,quality              PHALAKSHA   \n",
              "1   battery,good,great,advertisedruns,oneui,based,...                Snehith   \n",
              "2   back,side,chrome,finish,started,like,scratches...  Pro-tan International   \n",
              "3   battery,life,extraordinary,need,carrying,power...            sai krishna   \n",
              "4   im,writing,review,year,purchase,even,use,mobil...                  vicky   \n",
              "6   short,say,dont,like,mobile,bcoz,trouch,pad,wor...    Bharat Premraj Jain   \n",
              "7   stopped,working,3,days,return,window,closed,ch...             Lectricsuv   \n",
              "5   phone,doesnt,feel,slow,sluggish,decent,camera,...             srinivasan   \n",
              "8   samsung,galaxy,m01,core,2gb,32gb,decent,deal,r...    Abhijit Kumar Sahoo   \n",
              "9   samsung,galaxy,m01,core,worst,phone,purchased,...                 Hemant   \n",
              "10  phone,mine,suddenly,screen,got,blankthank,god,...         Arvind Jaiswal   \n",
              "\n",
              "   rating  polarity  subjectivity     Class  \n",
              "0       1 -1.000000      1.000000  Negative  \n",
              "1       3  0.333333      0.650000  Positive  \n",
              "2       4  0.100000      0.150000  Positive  \n",
              "3       4  0.132500      0.622500  Positive  \n",
              "4       5  0.325714      0.587857  Positive  \n",
              "6       2 -0.058333      0.246333  Negative  \n",
              "7       4 -0.125000      0.100000  Negative  \n",
              "5       4 -0.277778      0.577778  Negative  \n",
              "8       4  0.152381      0.584524  Positive  \n",
              "9       1 -0.089048      0.542381  Negative  \n",
              "10      3  0.018667      0.554667  Positive  "
            ],
            "text/html": [
              "\n",
              "  <div id=\"df-56f810d1-f16e-4b06-a9dc-ca99caf80efb\">\n",
              "    <div class=\"colab-df-container\">\n",
              "      <div>\n",
              "<style scoped>\n",
              "    .dataframe tbody tr th:only-of-type {\n",
              "        vertical-align: middle;\n",
              "    }\n",
              "\n",
              "    .dataframe tbody tr th {\n",
              "        vertical-align: top;\n",
              "    }\n",
              "\n",
              "    .dataframe thead th {\n",
              "        text-align: right;\n",
              "    }\n",
              "</style>\n",
              "<table border=\"1\" class=\"dataframe\">\n",
              "  <thead>\n",
              "    <tr style=\"text-align: right;\">\n",
              "      <th></th>\n",
              "      <th>product_id</th>\n",
              "      <th>product_name</th>\n",
              "      <th>brand</th>\n",
              "      <th>website</th>\n",
              "      <th>source_URL</th>\n",
              "      <th>review_title</th>\n",
              "      <th>review_text</th>\n",
              "      <th>reviewer_name</th>\n",
              "      <th>rating</th>\n",
              "      <th>polarity</th>\n",
              "      <th>subjectivity</th>\n",
              "      <th>Class</th>\n",
              "    </tr>\n",
              "  </thead>\n",
              "  <tbody>\n",
              "    <tr>\n",
              "      <th>0</th>\n",
              "      <td>B085J1J32G</td>\n",
              "      <td>Samsung Galaxy M51 (Electric Blue, 6GB RAM, 12...</td>\n",
              "      <td>Samsung</td>\n",
              "      <td>Amazon</td>\n",
              "      <td>https://amzn.eu/d/bOFfVHI</td>\n",
              "      <td>Worst mobile</td>\n",
              "      <td>worst,display,quality</td>\n",
              "      <td>PHALAKSHA</td>\n",
              "      <td>1</td>\n",
              "      <td>-1.000000</td>\n",
              "      <td>1.000000</td>\n",
              "      <td>Negative</td>\n",
              "    </tr>\n",
              "    <tr>\n",
              "      <th>1</th>\n",
              "      <td>B085J1J32G</td>\n",
              "      <td>Samsung Galaxy M51 (Electric Blue, 6GB RAM, 12...</td>\n",
              "      <td>Samsung</td>\n",
              "      <td>Amazon</td>\n",
              "      <td>https://amzn.eu/d/bOFfVHI</td>\n",
              "      <td>Average mid-range phone</td>\n",
              "      <td>battery,good,great,advertisedruns,oneui,based,...</td>\n",
              "      <td>Snehith</td>\n",
              "      <td>3</td>\n",
              "      <td>0.333333</td>\n",
              "      <td>0.650000</td>\n",
              "      <td>Positive</td>\n",
              "    </tr>\n",
              "    <tr>\n",
              "      <th>2</th>\n",
              "      <td>B085J1J32G</td>\n",
              "      <td>Samsung Galaxy M51 (Electric Blue, 6GB RAM, 12...</td>\n",
              "      <td>Samsung</td>\n",
              "      <td>Amazon</td>\n",
              "      <td>https://amzn.eu/d/bOFfVHI</td>\n",
              "      <td>Bulky, and Back side chrome finish is faulty</td>\n",
              "      <td>back,side,chrome,finish,started,like,scratches...</td>\n",
              "      <td>Pro-tan International</td>\n",
              "      <td>4</td>\n",
              "      <td>0.100000</td>\n",
              "      <td>0.150000</td>\n",
              "      <td>Positive</td>\n",
              "    </tr>\n",
              "    <tr>\n",
              "      <th>3</th>\n",
              "      <td>B085J1J32G</td>\n",
              "      <td>Samsung Galaxy M51 (Electric Blue, 6GB RAM, 12...</td>\n",
              "      <td>Samsung</td>\n",
              "      <td>Amazon</td>\n",
              "      <td>https://amzn.eu/d/bOFfVHI</td>\n",
              "      <td>Good product with some drawback</td>\n",
              "      <td>battery,life,extraordinary,need,carrying,power...</td>\n",
              "      <td>sai krishna</td>\n",
              "      <td>4</td>\n",
              "      <td>0.132500</td>\n",
              "      <td>0.622500</td>\n",
              "      <td>Positive</td>\n",
              "    </tr>\n",
              "    <tr>\n",
              "      <th>4</th>\n",
              "      <td>B085J1J32G</td>\n",
              "      <td>Samsung Galaxy M51 (Electric Blue, 6GB RAM, 12...</td>\n",
              "      <td>Samsung</td>\n",
              "      <td>Amazon</td>\n",
              "      <td>https://amzn.eu/d/bOFfVHI</td>\n",
              "      <td>The best phone you could buy</td>\n",
              "      <td>im,writing,review,year,purchase,even,use,mobil...</td>\n",
              "      <td>vicky</td>\n",
              "      <td>5</td>\n",
              "      <td>0.325714</td>\n",
              "      <td>0.587857</td>\n",
              "      <td>Positive</td>\n",
              "    </tr>\n",
              "    <tr>\n",
              "      <th>6</th>\n",
              "      <td>B089MQ622N</td>\n",
              "      <td>Samsung Galaxy M01 Core (Black, 2GB RAM, 32GB)</td>\n",
              "      <td>Samsung</td>\n",
              "      <td>Amazon</td>\n",
              "      <td>https://amzn.eu/d/dN2SGFv</td>\n",
              "      <td>In Short I say I don't like this mobile</td>\n",
              "      <td>short,say,dont,like,mobile,bcoz,trouch,pad,wor...</td>\n",
              "      <td>Bharat Premraj Jain</td>\n",
              "      <td>2</td>\n",
              "      <td>-0.058333</td>\n",
              "      <td>0.246333</td>\n",
              "      <td>Negative</td>\n",
              "    </tr>\n",
              "    <tr>\n",
              "      <th>7</th>\n",
              "      <td>B089MQ622N</td>\n",
              "      <td>Samsung Galaxy M01 Core (Black, 2GB RAM, 32GB)</td>\n",
              "      <td>Samsung</td>\n",
              "      <td>Amazon</td>\n",
              "      <td>https://amzn.eu/d/dN2SGFv</td>\n",
              "      <td>Seems ok now</td>\n",
              "      <td>stopped,working,3,days,return,window,closed,ch...</td>\n",
              "      <td>Lectricsuv</td>\n",
              "      <td>4</td>\n",
              "      <td>-0.125000</td>\n",
              "      <td>0.100000</td>\n",
              "      <td>Negative</td>\n",
              "    </tr>\n",
              "    <tr>\n",
              "      <th>5</th>\n",
              "      <td>B089MQ622N</td>\n",
              "      <td>Samsung Galaxy M01 Core (Black, 2GB RAM, 32GB)</td>\n",
              "      <td>Samsung</td>\n",
              "      <td>Amazon</td>\n",
              "      <td>https://amzn.eu/d/dN2SGFv</td>\n",
              "      <td>A good phone for at this price range</td>\n",
              "      <td>phone,doesnt,feel,slow,sluggish,decent,camera,...</td>\n",
              "      <td>srinivasan</td>\n",
              "      <td>4</td>\n",
              "      <td>-0.277778</td>\n",
              "      <td>0.577778</td>\n",
              "      <td>Negative</td>\n",
              "    </tr>\n",
              "    <tr>\n",
              "      <th>8</th>\n",
              "      <td>B089MQ622N</td>\n",
              "      <td>Samsung Galaxy M01 Core (Black, 2GB RAM, 32GB)</td>\n",
              "      <td>Samsung</td>\n",
              "      <td>Amazon</td>\n",
              "      <td>https://amzn.eu/d/dN2SGFv</td>\n",
              "      <td>Good Budget Phone for Elders.</td>\n",
              "      <td>samsung,galaxy,m01,core,2gb,32gb,decent,deal,r...</td>\n",
              "      <td>Abhijit Kumar Sahoo</td>\n",
              "      <td>4</td>\n",
              "      <td>0.152381</td>\n",
              "      <td>0.584524</td>\n",
              "      <td>Positive</td>\n",
              "    </tr>\n",
              "    <tr>\n",
              "      <th>9</th>\n",
              "      <td>B089MQ622N</td>\n",
              "      <td>Samsung Galaxy M01 Core (Black, 2GB RAM, 32GB)</td>\n",
              "      <td>Samsung</td>\n",
              "      <td>Amazon</td>\n",
              "      <td>https://amzn.eu/d/dN2SGFv</td>\n",
              "      <td>Samsung Galaxy M01 Core is Worst Phone purchas...</td>\n",
              "      <td>samsung,galaxy,m01,core,worst,phone,purchased,...</td>\n",
              "      <td>Hemant</td>\n",
              "      <td>1</td>\n",
              "      <td>-0.089048</td>\n",
              "      <td>0.542381</td>\n",
              "      <td>Negative</td>\n",
              "    </tr>\n",
              "    <tr>\n",
              "      <th>10</th>\n",
              "      <td>B07X8V5YKR</td>\n",
              "      <td>Samsung Galaxy Note10 Lite (Aura Glow, 6GB RAM...</td>\n",
              "      <td>Samsung</td>\n",
              "      <td>Amazon</td>\n",
              "      <td>https://amzn.eu/d/gKNf1a3</td>\n",
              "      <td>average</td>\n",
              "      <td>phone,mine,suddenly,screen,got,blankthank,god,...</td>\n",
              "      <td>Arvind Jaiswal</td>\n",
              "      <td>3</td>\n",
              "      <td>0.018667</td>\n",
              "      <td>0.554667</td>\n",
              "      <td>Positive</td>\n",
              "    </tr>\n",
              "  </tbody>\n",
              "</table>\n",
              "</div>\n",
              "      <button class=\"colab-df-convert\" onclick=\"convertToInteractive('df-56f810d1-f16e-4b06-a9dc-ca99caf80efb')\"\n",
              "              title=\"Convert this dataframe to an interactive table.\"\n",
              "              style=\"display:none;\">\n",
              "        \n",
              "  <svg xmlns=\"http://www.w3.org/2000/svg\" height=\"24px\"viewBox=\"0 0 24 24\"\n",
              "       width=\"24px\">\n",
              "    <path d=\"M0 0h24v24H0V0z\" fill=\"none\"/>\n",
              "    <path d=\"M18.56 5.44l.94 2.06.94-2.06 2.06-.94-2.06-.94-.94-2.06-.94 2.06-2.06.94zm-11 1L8.5 8.5l.94-2.06 2.06-.94-2.06-.94L8.5 2.5l-.94 2.06-2.06.94zm10 10l.94 2.06.94-2.06 2.06-.94-2.06-.94-.94-2.06-.94 2.06-2.06.94z\"/><path d=\"M17.41 7.96l-1.37-1.37c-.4-.4-.92-.59-1.43-.59-.52 0-1.04.2-1.43.59L10.3 9.45l-7.72 7.72c-.78.78-.78 2.05 0 2.83L4 21.41c.39.39.9.59 1.41.59.51 0 1.02-.2 1.41-.59l7.78-7.78 2.81-2.81c.8-.78.8-2.07 0-2.86zM5.41 20L4 18.59l7.72-7.72 1.47 1.35L5.41 20z\"/>\n",
              "  </svg>\n",
              "      </button>\n",
              "      \n",
              "  <style>\n",
              "    .colab-df-container {\n",
              "      display:flex;\n",
              "      flex-wrap:wrap;\n",
              "      gap: 12px;\n",
              "    }\n",
              "\n",
              "    .colab-df-convert {\n",
              "      background-color: #E8F0FE;\n",
              "      border: none;\n",
              "      border-radius: 50%;\n",
              "      cursor: pointer;\n",
              "      display: none;\n",
              "      fill: #1967D2;\n",
              "      height: 32px;\n",
              "      padding: 0 0 0 0;\n",
              "      width: 32px;\n",
              "    }\n",
              "\n",
              "    .colab-df-convert:hover {\n",
              "      background-color: #E2EBFA;\n",
              "      box-shadow: 0px 1px 2px rgba(60, 64, 67, 0.3), 0px 1px 3px 1px rgba(60, 64, 67, 0.15);\n",
              "      fill: #174EA6;\n",
              "    }\n",
              "\n",
              "    [theme=dark] .colab-df-convert {\n",
              "      background-color: #3B4455;\n",
              "      fill: #D2E3FC;\n",
              "    }\n",
              "\n",
              "    [theme=dark] .colab-df-convert:hover {\n",
              "      background-color: #434B5C;\n",
              "      box-shadow: 0px 1px 3px 1px rgba(0, 0, 0, 0.15);\n",
              "      filter: drop-shadow(0px 1px 2px rgba(0, 0, 0, 0.3));\n",
              "      fill: #FFFFFF;\n",
              "    }\n",
              "  </style>\n",
              "\n",
              "      <script>\n",
              "        const buttonEl =\n",
              "          document.querySelector('#df-56f810d1-f16e-4b06-a9dc-ca99caf80efb button.colab-df-convert');\n",
              "        buttonEl.style.display =\n",
              "          google.colab.kernel.accessAllowed ? 'block' : 'none';\n",
              "\n",
              "        async function convertToInteractive(key) {\n",
              "          const element = document.querySelector('#df-56f810d1-f16e-4b06-a9dc-ca99caf80efb');\n",
              "          const dataTable =\n",
              "            await google.colab.kernel.invokeFunction('convertToInteractive',\n",
              "                                                     [key], {});\n",
              "          if (!dataTable) return;\n",
              "\n",
              "          const docLinkHtml = 'Like what you see? Visit the ' +\n",
              "            '<a target=\"_blank\" href=https://colab.research.google.com/notebooks/data_table.ipynb>data table notebook</a>'\n",
              "            + ' to learn more about interactive tables.';\n",
              "          element.innerHTML = '';\n",
              "          dataTable['output_type'] = 'display_data';\n",
              "          await google.colab.output.renderOutput(dataTable, element);\n",
              "          const docLink = document.createElement('div');\n",
              "          docLink.innerHTML = docLinkHtml;\n",
              "          element.appendChild(docLink);\n",
              "        }\n",
              "      </script>\n",
              "    </div>\n",
              "  </div>\n",
              "  "
            ]
          },
          "metadata": {},
          "execution_count": 23
        }
      ]
    },
    {
      "cell_type": "markdown",
      "source": [
        "Tokenisation"
      ],
      "metadata": {
        "id": "NIdjYz4Jo7E6"
      }
    },
    {
      "cell_type": "code",
      "source": [
        "df['review_text'] = df['review_text'].astype(str)\n",
        ""
      ],
      "metadata": {
        "id": "1hhbcNslpLSm"
      },
      "execution_count": null,
      "outputs": []
    },
    {
      "cell_type": "code",
      "source": [
        "df[\"review_text\"]=df[\"review_text\"].apply(lambda x: TextBlob(x).words)\n",
        "df"
      ],
      "metadata": {
        "colab": {
          "base_uri": "https://localhost:8080/",
          "height": 1000
        },
        "id": "v4S-2_kPo6fI",
        "outputId": "93a7d551-3857-4d98-e9ec-834c24d71c63"
      },
      "execution_count": null,
      "outputs": [
        {
          "output_type": "execute_result",
          "data": {
            "text/plain": [
              "      product_id                                       product_name    brand  \\\n",
              "0     B085J1J32G  Samsung Galaxy M51 (Electric Blue, 6GB RAM, 12...  Samsung   \n",
              "1     B085J1J32G  Samsung Galaxy M51 (Electric Blue, 6GB RAM, 12...  Samsung   \n",
              "2     B085J1J32G  Samsung Galaxy M51 (Electric Blue, 6GB RAM, 12...  Samsung   \n",
              "3     B085J1J32G  Samsung Galaxy M51 (Electric Blue, 6GB RAM, 12...  Samsung   \n",
              "4     B085J1J32G  Samsung Galaxy M51 (Electric Blue, 6GB RAM, 12...  Samsung   \n",
              "...          ...                                                ...      ...   \n",
              "1678  B08FN6WGDQ  Samsung Galaxy Buds Live Bluetooth Truly Wirel...  Samsung   \n",
              "1679  B08FN6WGDQ  Samsung Galaxy Buds Live Bluetooth Truly Wirel...  Samsung   \n",
              "1680  B08FN6WGDQ  Samsung Galaxy Buds Live Bluetooth Truly Wirel...  Samsung   \n",
              "1683  B08FN6WGDQ  Samsung Galaxy Buds Live Bluetooth Truly Wirel...  Samsung   \n",
              "1684  B08FN6WGDQ  Samsung Galaxy Buds Live Bluetooth Truly Wirel...  Samsung   \n",
              "\n",
              "     website                                         source_URL  \\\n",
              "0     Amazon                          https://amzn.eu/d/bOFfVHI   \n",
              "1     Amazon                          https://amzn.eu/d/bOFfVHI   \n",
              "2     Amazon                          https://amzn.eu/d/bOFfVHI   \n",
              "3     Amazon                          https://amzn.eu/d/bOFfVHI   \n",
              "4     Amazon                          https://amzn.eu/d/bOFfVHI   \n",
              "...      ...                                                ...   \n",
              "1678  Amazon  https://www.amazon.in/Samsung-Galaxy-SM-R180NZ...   \n",
              "1679  Amazon  https://www.amazon.in/Samsung-Galaxy-SM-R180NZ...   \n",
              "1680  Amazon  https://www.amazon.in/Samsung-Galaxy-SM-R180NZ...   \n",
              "1683  Amazon  https://www.amazon.in/Samsung-Galaxy-SM-R180NZ...   \n",
              "1684  Amazon  https://www.amazon.in/Samsung-Galaxy-SM-R180NZ...   \n",
              "\n",
              "                                           review_title  \\\n",
              "0                                          Worst mobile   \n",
              "1                               Average mid-range phone   \n",
              "2          Bulky, and Back side chrome finish is faulty   \n",
              "3                       Good product with some drawback   \n",
              "4                          The best phone you could buy   \n",
              "...                                                 ...   \n",
              "1678                                        Itâ€™s Good   \n",
              "1679                                       NOT WORTH IT   \n",
              "1680                                      Good purchase   \n",
              "1683                                 Affordable earbuds   \n",
              "1684  Buy this only for design and few not so import...   \n",
              "\n",
              "                                            review_text  \\\n",
              "0                             [worst, display, quality]   \n",
              "1     [battery, good, great, advertisedruns, oneui, ...   \n",
              "2     [back, side, chrome, finish, started, like, sc...   \n",
              "3     [battery, life, extraordinary, need, carrying,...   \n",
              "4     [im, writing, review, year, purchase, even, us...   \n",
              "...                                                 ...   \n",
              "1678  [bought, festive, season, sale, itâ€™s, worth,...   \n",
              "1679  [pro, good, finish, quality, good, battery, li...   \n",
              "1680  [first, sent, defective, one, alwaysss, happen...   \n",
              "1683  [sound, loud, somewhat, clear, echo, receiver,...   \n",
              "1684  [loved, style, sound, isnt, great, neither, su...   \n",
              "\n",
              "              reviewer_name rating  polarity  subjectivity     Class  \n",
              "0                 PHALAKSHA      1 -1.000000      1.000000  Negative  \n",
              "1                   Snehith      3  0.333333      0.650000  Positive  \n",
              "2     Pro-tan International      4  0.100000      0.150000  Positive  \n",
              "3               sai krishna      4  0.132500      0.622500  Positive  \n",
              "4                     vicky      5  0.325714      0.587857  Positive  \n",
              "...                     ...    ...       ...           ...       ...  \n",
              "1678          Diwakar Nayal      3  0.184667      0.614667  Positive  \n",
              "1679     Sainathan Arumugam      3  0.217949      0.496062  Positive  \n",
              "1680              Naveen B.      5  0.329509      0.549206  Positive  \n",
              "1683           shahid patel      4  0.200000      0.527778  Positive  \n",
              "1684                  Manas      4  0.466667      0.475000  Positive  \n",
              "\n",
              "[799 rows x 12 columns]"
            ],
            "text/html": [
              "\n",
              "  <div id=\"df-2173c7b9-ff43-4af9-9bbb-f7fd2ce56f08\">\n",
              "    <div class=\"colab-df-container\">\n",
              "      <div>\n",
              "<style scoped>\n",
              "    .dataframe tbody tr th:only-of-type {\n",
              "        vertical-align: middle;\n",
              "    }\n",
              "\n",
              "    .dataframe tbody tr th {\n",
              "        vertical-align: top;\n",
              "    }\n",
              "\n",
              "    .dataframe thead th {\n",
              "        text-align: right;\n",
              "    }\n",
              "</style>\n",
              "<table border=\"1\" class=\"dataframe\">\n",
              "  <thead>\n",
              "    <tr style=\"text-align: right;\">\n",
              "      <th></th>\n",
              "      <th>product_id</th>\n",
              "      <th>product_name</th>\n",
              "      <th>brand</th>\n",
              "      <th>website</th>\n",
              "      <th>source_URL</th>\n",
              "      <th>review_title</th>\n",
              "      <th>review_text</th>\n",
              "      <th>reviewer_name</th>\n",
              "      <th>rating</th>\n",
              "      <th>polarity</th>\n",
              "      <th>subjectivity</th>\n",
              "      <th>Class</th>\n",
              "    </tr>\n",
              "  </thead>\n",
              "  <tbody>\n",
              "    <tr>\n",
              "      <th>0</th>\n",
              "      <td>B085J1J32G</td>\n",
              "      <td>Samsung Galaxy M51 (Electric Blue, 6GB RAM, 12...</td>\n",
              "      <td>Samsung</td>\n",
              "      <td>Amazon</td>\n",
              "      <td>https://amzn.eu/d/bOFfVHI</td>\n",
              "      <td>Worst mobile</td>\n",
              "      <td>[worst, display, quality]</td>\n",
              "      <td>PHALAKSHA</td>\n",
              "      <td>1</td>\n",
              "      <td>-1.000000</td>\n",
              "      <td>1.000000</td>\n",
              "      <td>Negative</td>\n",
              "    </tr>\n",
              "    <tr>\n",
              "      <th>1</th>\n",
              "      <td>B085J1J32G</td>\n",
              "      <td>Samsung Galaxy M51 (Electric Blue, 6GB RAM, 12...</td>\n",
              "      <td>Samsung</td>\n",
              "      <td>Amazon</td>\n",
              "      <td>https://amzn.eu/d/bOFfVHI</td>\n",
              "      <td>Average mid-range phone</td>\n",
              "      <td>[battery, good, great, advertisedruns, oneui, ...</td>\n",
              "      <td>Snehith</td>\n",
              "      <td>3</td>\n",
              "      <td>0.333333</td>\n",
              "      <td>0.650000</td>\n",
              "      <td>Positive</td>\n",
              "    </tr>\n",
              "    <tr>\n",
              "      <th>2</th>\n",
              "      <td>B085J1J32G</td>\n",
              "      <td>Samsung Galaxy M51 (Electric Blue, 6GB RAM, 12...</td>\n",
              "      <td>Samsung</td>\n",
              "      <td>Amazon</td>\n",
              "      <td>https://amzn.eu/d/bOFfVHI</td>\n",
              "      <td>Bulky, and Back side chrome finish is faulty</td>\n",
              "      <td>[back, side, chrome, finish, started, like, sc...</td>\n",
              "      <td>Pro-tan International</td>\n",
              "      <td>4</td>\n",
              "      <td>0.100000</td>\n",
              "      <td>0.150000</td>\n",
              "      <td>Positive</td>\n",
              "    </tr>\n",
              "    <tr>\n",
              "      <th>3</th>\n",
              "      <td>B085J1J32G</td>\n",
              "      <td>Samsung Galaxy M51 (Electric Blue, 6GB RAM, 12...</td>\n",
              "      <td>Samsung</td>\n",
              "      <td>Amazon</td>\n",
              "      <td>https://amzn.eu/d/bOFfVHI</td>\n",
              "      <td>Good product with some drawback</td>\n",
              "      <td>[battery, life, extraordinary, need, carrying,...</td>\n",
              "      <td>sai krishna</td>\n",
              "      <td>4</td>\n",
              "      <td>0.132500</td>\n",
              "      <td>0.622500</td>\n",
              "      <td>Positive</td>\n",
              "    </tr>\n",
              "    <tr>\n",
              "      <th>4</th>\n",
              "      <td>B085J1J32G</td>\n",
              "      <td>Samsung Galaxy M51 (Electric Blue, 6GB RAM, 12...</td>\n",
              "      <td>Samsung</td>\n",
              "      <td>Amazon</td>\n",
              "      <td>https://amzn.eu/d/bOFfVHI</td>\n",
              "      <td>The best phone you could buy</td>\n",
              "      <td>[im, writing, review, year, purchase, even, us...</td>\n",
              "      <td>vicky</td>\n",
              "      <td>5</td>\n",
              "      <td>0.325714</td>\n",
              "      <td>0.587857</td>\n",
              "      <td>Positive</td>\n",
              "    </tr>\n",
              "    <tr>\n",
              "      <th>...</th>\n",
              "      <td>...</td>\n",
              "      <td>...</td>\n",
              "      <td>...</td>\n",
              "      <td>...</td>\n",
              "      <td>...</td>\n",
              "      <td>...</td>\n",
              "      <td>...</td>\n",
              "      <td>...</td>\n",
              "      <td>...</td>\n",
              "      <td>...</td>\n",
              "      <td>...</td>\n",
              "      <td>...</td>\n",
              "    </tr>\n",
              "    <tr>\n",
              "      <th>1678</th>\n",
              "      <td>B08FN6WGDQ</td>\n",
              "      <td>Samsung Galaxy Buds Live Bluetooth Truly Wirel...</td>\n",
              "      <td>Samsung</td>\n",
              "      <td>Amazon</td>\n",
              "      <td>https://www.amazon.in/Samsung-Galaxy-SM-R180NZ...</td>\n",
              "      <td>Itâ€™s Good</td>\n",
              "      <td>[bought, festive, season, sale, itâ€™s, worth,...</td>\n",
              "      <td>Diwakar Nayal</td>\n",
              "      <td>3</td>\n",
              "      <td>0.184667</td>\n",
              "      <td>0.614667</td>\n",
              "      <td>Positive</td>\n",
              "    </tr>\n",
              "    <tr>\n",
              "      <th>1679</th>\n",
              "      <td>B08FN6WGDQ</td>\n",
              "      <td>Samsung Galaxy Buds Live Bluetooth Truly Wirel...</td>\n",
              "      <td>Samsung</td>\n",
              "      <td>Amazon</td>\n",
              "      <td>https://www.amazon.in/Samsung-Galaxy-SM-R180NZ...</td>\n",
              "      <td>NOT WORTH IT</td>\n",
              "      <td>[pro, good, finish, quality, good, battery, li...</td>\n",
              "      <td>Sainathan Arumugam</td>\n",
              "      <td>3</td>\n",
              "      <td>0.217949</td>\n",
              "      <td>0.496062</td>\n",
              "      <td>Positive</td>\n",
              "    </tr>\n",
              "    <tr>\n",
              "      <th>1680</th>\n",
              "      <td>B08FN6WGDQ</td>\n",
              "      <td>Samsung Galaxy Buds Live Bluetooth Truly Wirel...</td>\n",
              "      <td>Samsung</td>\n",
              "      <td>Amazon</td>\n",
              "      <td>https://www.amazon.in/Samsung-Galaxy-SM-R180NZ...</td>\n",
              "      <td>Good purchase</td>\n",
              "      <td>[first, sent, defective, one, alwaysss, happen...</td>\n",
              "      <td>Naveen B.</td>\n",
              "      <td>5</td>\n",
              "      <td>0.329509</td>\n",
              "      <td>0.549206</td>\n",
              "      <td>Positive</td>\n",
              "    </tr>\n",
              "    <tr>\n",
              "      <th>1683</th>\n",
              "      <td>B08FN6WGDQ</td>\n",
              "      <td>Samsung Galaxy Buds Live Bluetooth Truly Wirel...</td>\n",
              "      <td>Samsung</td>\n",
              "      <td>Amazon</td>\n",
              "      <td>https://www.amazon.in/Samsung-Galaxy-SM-R180NZ...</td>\n",
              "      <td>Affordable earbuds</td>\n",
              "      <td>[sound, loud, somewhat, clear, echo, receiver,...</td>\n",
              "      <td>shahid patel</td>\n",
              "      <td>4</td>\n",
              "      <td>0.200000</td>\n",
              "      <td>0.527778</td>\n",
              "      <td>Positive</td>\n",
              "    </tr>\n",
              "    <tr>\n",
              "      <th>1684</th>\n",
              "      <td>B08FN6WGDQ</td>\n",
              "      <td>Samsung Galaxy Buds Live Bluetooth Truly Wirel...</td>\n",
              "      <td>Samsung</td>\n",
              "      <td>Amazon</td>\n",
              "      <td>https://www.amazon.in/Samsung-Galaxy-SM-R180NZ...</td>\n",
              "      <td>Buy this only for design and few not so import...</td>\n",
              "      <td>[loved, style, sound, isnt, great, neither, su...</td>\n",
              "      <td>Manas</td>\n",
              "      <td>4</td>\n",
              "      <td>0.466667</td>\n",
              "      <td>0.475000</td>\n",
              "      <td>Positive</td>\n",
              "    </tr>\n",
              "  </tbody>\n",
              "</table>\n",
              "<p>799 rows × 12 columns</p>\n",
              "</div>\n",
              "      <button class=\"colab-df-convert\" onclick=\"convertToInteractive('df-2173c7b9-ff43-4af9-9bbb-f7fd2ce56f08')\"\n",
              "              title=\"Convert this dataframe to an interactive table.\"\n",
              "              style=\"display:none;\">\n",
              "        \n",
              "  <svg xmlns=\"http://www.w3.org/2000/svg\" height=\"24px\"viewBox=\"0 0 24 24\"\n",
              "       width=\"24px\">\n",
              "    <path d=\"M0 0h24v24H0V0z\" fill=\"none\"/>\n",
              "    <path d=\"M18.56 5.44l.94 2.06.94-2.06 2.06-.94-2.06-.94-.94-2.06-.94 2.06-2.06.94zm-11 1L8.5 8.5l.94-2.06 2.06-.94-2.06-.94L8.5 2.5l-.94 2.06-2.06.94zm10 10l.94 2.06.94-2.06 2.06-.94-2.06-.94-.94-2.06-.94 2.06-2.06.94z\"/><path d=\"M17.41 7.96l-1.37-1.37c-.4-.4-.92-.59-1.43-.59-.52 0-1.04.2-1.43.59L10.3 9.45l-7.72 7.72c-.78.78-.78 2.05 0 2.83L4 21.41c.39.39.9.59 1.41.59.51 0 1.02-.2 1.41-.59l7.78-7.78 2.81-2.81c.8-.78.8-2.07 0-2.86zM5.41 20L4 18.59l7.72-7.72 1.47 1.35L5.41 20z\"/>\n",
              "  </svg>\n",
              "      </button>\n",
              "      \n",
              "  <style>\n",
              "    .colab-df-container {\n",
              "      display:flex;\n",
              "      flex-wrap:wrap;\n",
              "      gap: 12px;\n",
              "    }\n",
              "\n",
              "    .colab-df-convert {\n",
              "      background-color: #E8F0FE;\n",
              "      border: none;\n",
              "      border-radius: 50%;\n",
              "      cursor: pointer;\n",
              "      display: none;\n",
              "      fill: #1967D2;\n",
              "      height: 32px;\n",
              "      padding: 0 0 0 0;\n",
              "      width: 32px;\n",
              "    }\n",
              "\n",
              "    .colab-df-convert:hover {\n",
              "      background-color: #E2EBFA;\n",
              "      box-shadow: 0px 1px 2px rgba(60, 64, 67, 0.3), 0px 1px 3px 1px rgba(60, 64, 67, 0.15);\n",
              "      fill: #174EA6;\n",
              "    }\n",
              "\n",
              "    [theme=dark] .colab-df-convert {\n",
              "      background-color: #3B4455;\n",
              "      fill: #D2E3FC;\n",
              "    }\n",
              "\n",
              "    [theme=dark] .colab-df-convert:hover {\n",
              "      background-color: #434B5C;\n",
              "      box-shadow: 0px 1px 3px 1px rgba(0, 0, 0, 0.15);\n",
              "      filter: drop-shadow(0px 1px 2px rgba(0, 0, 0, 0.3));\n",
              "      fill: #FFFFFF;\n",
              "    }\n",
              "  </style>\n",
              "\n",
              "      <script>\n",
              "        const buttonEl =\n",
              "          document.querySelector('#df-2173c7b9-ff43-4af9-9bbb-f7fd2ce56f08 button.colab-df-convert');\n",
              "        buttonEl.style.display =\n",
              "          google.colab.kernel.accessAllowed ? 'block' : 'none';\n",
              "\n",
              "        async function convertToInteractive(key) {\n",
              "          const element = document.querySelector('#df-2173c7b9-ff43-4af9-9bbb-f7fd2ce56f08');\n",
              "          const dataTable =\n",
              "            await google.colab.kernel.invokeFunction('convertToInteractive',\n",
              "                                                     [key], {});\n",
              "          if (!dataTable) return;\n",
              "\n",
              "          const docLinkHtml = 'Like what you see? Visit the ' +\n",
              "            '<a target=\"_blank\" href=https://colab.research.google.com/notebooks/data_table.ipynb>data table notebook</a>'\n",
              "            + ' to learn more about interactive tables.';\n",
              "          element.innerHTML = '';\n",
              "          dataTable['output_type'] = 'display_data';\n",
              "          await google.colab.output.renderOutput(dataTable, element);\n",
              "          const docLink = document.createElement('div');\n",
              "          docLink.innerHTML = docLinkHtml;\n",
              "          element.appendChild(docLink);\n",
              "        }\n",
              "      </script>\n",
              "    </div>\n",
              "  </div>\n",
              "  "
            ]
          },
          "metadata": {},
          "execution_count": 25
        }
      ]
    },
    {
      "cell_type": "markdown",
      "source": [
        "Lemmatization"
      ],
      "metadata": {
        "id": "9ICX436zqh2M"
      }
    },
    {
      "cell_type": "code",
      "source": [
        "from nltk.stem import WordNetLemmatizer\n",
        "#defining the object for Lemmatization\n",
        "wordnet_lemmatizer = WordNetLemmatizer()\n",
        ""
      ],
      "metadata": {
        "id": "b0Zh8p9xpbp7"
      },
      "execution_count": null,
      "outputs": []
    },
    {
      "cell_type": "code",
      "source": [
        "df['review_text'] = df['review_text'].apply(lambda x: [wordnet_lemmatizer.lemmatize(y) for y in x])\n",
        "df"
      ],
      "metadata": {
        "colab": {
          "base_uri": "https://localhost:8080/",
          "height": 1000
        },
        "id": "GmKkPZu1qqIo",
        "outputId": "6160b6c5-eccb-4784-f037-2c488924117c"
      },
      "execution_count": null,
      "outputs": [
        {
          "output_type": "execute_result",
          "data": {
            "text/plain": [
              "      product_id                                       product_name    brand  \\\n",
              "0     B085J1J32G  Samsung Galaxy M51 (Electric Blue, 6GB RAM, 12...  Samsung   \n",
              "1     B085J1J32G  Samsung Galaxy M51 (Electric Blue, 6GB RAM, 12...  Samsung   \n",
              "2     B085J1J32G  Samsung Galaxy M51 (Electric Blue, 6GB RAM, 12...  Samsung   \n",
              "3     B085J1J32G  Samsung Galaxy M51 (Electric Blue, 6GB RAM, 12...  Samsung   \n",
              "4     B085J1J32G  Samsung Galaxy M51 (Electric Blue, 6GB RAM, 12...  Samsung   \n",
              "...          ...                                                ...      ...   \n",
              "1678  B08FN6WGDQ  Samsung Galaxy Buds Live Bluetooth Truly Wirel...  Samsung   \n",
              "1679  B08FN6WGDQ  Samsung Galaxy Buds Live Bluetooth Truly Wirel...  Samsung   \n",
              "1680  B08FN6WGDQ  Samsung Galaxy Buds Live Bluetooth Truly Wirel...  Samsung   \n",
              "1683  B08FN6WGDQ  Samsung Galaxy Buds Live Bluetooth Truly Wirel...  Samsung   \n",
              "1684  B08FN6WGDQ  Samsung Galaxy Buds Live Bluetooth Truly Wirel...  Samsung   \n",
              "\n",
              "     website                                         source_URL  \\\n",
              "0     Amazon                          https://amzn.eu/d/bOFfVHI   \n",
              "1     Amazon                          https://amzn.eu/d/bOFfVHI   \n",
              "2     Amazon                          https://amzn.eu/d/bOFfVHI   \n",
              "3     Amazon                          https://amzn.eu/d/bOFfVHI   \n",
              "4     Amazon                          https://amzn.eu/d/bOFfVHI   \n",
              "...      ...                                                ...   \n",
              "1678  Amazon  https://www.amazon.in/Samsung-Galaxy-SM-R180NZ...   \n",
              "1679  Amazon  https://www.amazon.in/Samsung-Galaxy-SM-R180NZ...   \n",
              "1680  Amazon  https://www.amazon.in/Samsung-Galaxy-SM-R180NZ...   \n",
              "1683  Amazon  https://www.amazon.in/Samsung-Galaxy-SM-R180NZ...   \n",
              "1684  Amazon  https://www.amazon.in/Samsung-Galaxy-SM-R180NZ...   \n",
              "\n",
              "                                           review_title  \\\n",
              "0                                          Worst mobile   \n",
              "1                               Average mid-range phone   \n",
              "2          Bulky, and Back side chrome finish is faulty   \n",
              "3                       Good product with some drawback   \n",
              "4                          The best phone you could buy   \n",
              "...                                                 ...   \n",
              "1678                                        Itâ€™s Good   \n",
              "1679                                       NOT WORTH IT   \n",
              "1680                                      Good purchase   \n",
              "1683                                 Affordable earbuds   \n",
              "1684  Buy this only for design and few not so import...   \n",
              "\n",
              "                                            review_text  \\\n",
              "0                             [worst, display, quality]   \n",
              "1     [battery, good, great, advertisedruns, oneui, ...   \n",
              "2     [back, side, chrome, finish, started, like, sc...   \n",
              "3     [battery, life, extraordinary, need, carrying,...   \n",
              "4     [im, writing, review, year, purchase, even, us...   \n",
              "...                                                 ...   \n",
              "1678  [bought, festive, season, sale, itâ€™s, worth,...   \n",
              "1679  [pro, good, finish, quality, good, battery, li...   \n",
              "1680  [first, sent, defective, one, alwaysss, happen...   \n",
              "1683  [sound, loud, somewhat, clear, echo, receiver,...   \n",
              "1684  [loved, style, sound, isnt, great, neither, su...   \n",
              "\n",
              "              reviewer_name rating  polarity  subjectivity     Class  \n",
              "0                 PHALAKSHA      1 -1.000000      1.000000  Negative  \n",
              "1                   Snehith      3  0.333333      0.650000  Positive  \n",
              "2     Pro-tan International      4  0.100000      0.150000  Positive  \n",
              "3               sai krishna      4  0.132500      0.622500  Positive  \n",
              "4                     vicky      5  0.325714      0.587857  Positive  \n",
              "...                     ...    ...       ...           ...       ...  \n",
              "1678          Diwakar Nayal      3  0.184667      0.614667  Positive  \n",
              "1679     Sainathan Arumugam      3  0.217949      0.496062  Positive  \n",
              "1680              Naveen B.      5  0.329509      0.549206  Positive  \n",
              "1683           shahid patel      4  0.200000      0.527778  Positive  \n",
              "1684                  Manas      4  0.466667      0.475000  Positive  \n",
              "\n",
              "[799 rows x 12 columns]"
            ],
            "text/html": [
              "\n",
              "  <div id=\"df-7b3a50be-cb7e-4711-bee6-0df919157497\">\n",
              "    <div class=\"colab-df-container\">\n",
              "      <div>\n",
              "<style scoped>\n",
              "    .dataframe tbody tr th:only-of-type {\n",
              "        vertical-align: middle;\n",
              "    }\n",
              "\n",
              "    .dataframe tbody tr th {\n",
              "        vertical-align: top;\n",
              "    }\n",
              "\n",
              "    .dataframe thead th {\n",
              "        text-align: right;\n",
              "    }\n",
              "</style>\n",
              "<table border=\"1\" class=\"dataframe\">\n",
              "  <thead>\n",
              "    <tr style=\"text-align: right;\">\n",
              "      <th></th>\n",
              "      <th>product_id</th>\n",
              "      <th>product_name</th>\n",
              "      <th>brand</th>\n",
              "      <th>website</th>\n",
              "      <th>source_URL</th>\n",
              "      <th>review_title</th>\n",
              "      <th>review_text</th>\n",
              "      <th>reviewer_name</th>\n",
              "      <th>rating</th>\n",
              "      <th>polarity</th>\n",
              "      <th>subjectivity</th>\n",
              "      <th>Class</th>\n",
              "    </tr>\n",
              "  </thead>\n",
              "  <tbody>\n",
              "    <tr>\n",
              "      <th>0</th>\n",
              "      <td>B085J1J32G</td>\n",
              "      <td>Samsung Galaxy M51 (Electric Blue, 6GB RAM, 12...</td>\n",
              "      <td>Samsung</td>\n",
              "      <td>Amazon</td>\n",
              "      <td>https://amzn.eu/d/bOFfVHI</td>\n",
              "      <td>Worst mobile</td>\n",
              "      <td>[worst, display, quality]</td>\n",
              "      <td>PHALAKSHA</td>\n",
              "      <td>1</td>\n",
              "      <td>-1.000000</td>\n",
              "      <td>1.000000</td>\n",
              "      <td>Negative</td>\n",
              "    </tr>\n",
              "    <tr>\n",
              "      <th>1</th>\n",
              "      <td>B085J1J32G</td>\n",
              "      <td>Samsung Galaxy M51 (Electric Blue, 6GB RAM, 12...</td>\n",
              "      <td>Samsung</td>\n",
              "      <td>Amazon</td>\n",
              "      <td>https://amzn.eu/d/bOFfVHI</td>\n",
              "      <td>Average mid-range phone</td>\n",
              "      <td>[battery, good, great, advertisedruns, oneui, ...</td>\n",
              "      <td>Snehith</td>\n",
              "      <td>3</td>\n",
              "      <td>0.333333</td>\n",
              "      <td>0.650000</td>\n",
              "      <td>Positive</td>\n",
              "    </tr>\n",
              "    <tr>\n",
              "      <th>2</th>\n",
              "      <td>B085J1J32G</td>\n",
              "      <td>Samsung Galaxy M51 (Electric Blue, 6GB RAM, 12...</td>\n",
              "      <td>Samsung</td>\n",
              "      <td>Amazon</td>\n",
              "      <td>https://amzn.eu/d/bOFfVHI</td>\n",
              "      <td>Bulky, and Back side chrome finish is faulty</td>\n",
              "      <td>[back, side, chrome, finish, started, like, sc...</td>\n",
              "      <td>Pro-tan International</td>\n",
              "      <td>4</td>\n",
              "      <td>0.100000</td>\n",
              "      <td>0.150000</td>\n",
              "      <td>Positive</td>\n",
              "    </tr>\n",
              "    <tr>\n",
              "      <th>3</th>\n",
              "      <td>B085J1J32G</td>\n",
              "      <td>Samsung Galaxy M51 (Electric Blue, 6GB RAM, 12...</td>\n",
              "      <td>Samsung</td>\n",
              "      <td>Amazon</td>\n",
              "      <td>https://amzn.eu/d/bOFfVHI</td>\n",
              "      <td>Good product with some drawback</td>\n",
              "      <td>[battery, life, extraordinary, need, carrying,...</td>\n",
              "      <td>sai krishna</td>\n",
              "      <td>4</td>\n",
              "      <td>0.132500</td>\n",
              "      <td>0.622500</td>\n",
              "      <td>Positive</td>\n",
              "    </tr>\n",
              "    <tr>\n",
              "      <th>4</th>\n",
              "      <td>B085J1J32G</td>\n",
              "      <td>Samsung Galaxy M51 (Electric Blue, 6GB RAM, 12...</td>\n",
              "      <td>Samsung</td>\n",
              "      <td>Amazon</td>\n",
              "      <td>https://amzn.eu/d/bOFfVHI</td>\n",
              "      <td>The best phone you could buy</td>\n",
              "      <td>[im, writing, review, year, purchase, even, us...</td>\n",
              "      <td>vicky</td>\n",
              "      <td>5</td>\n",
              "      <td>0.325714</td>\n",
              "      <td>0.587857</td>\n",
              "      <td>Positive</td>\n",
              "    </tr>\n",
              "    <tr>\n",
              "      <th>...</th>\n",
              "      <td>...</td>\n",
              "      <td>...</td>\n",
              "      <td>...</td>\n",
              "      <td>...</td>\n",
              "      <td>...</td>\n",
              "      <td>...</td>\n",
              "      <td>...</td>\n",
              "      <td>...</td>\n",
              "      <td>...</td>\n",
              "      <td>...</td>\n",
              "      <td>...</td>\n",
              "      <td>...</td>\n",
              "    </tr>\n",
              "    <tr>\n",
              "      <th>1678</th>\n",
              "      <td>B08FN6WGDQ</td>\n",
              "      <td>Samsung Galaxy Buds Live Bluetooth Truly Wirel...</td>\n",
              "      <td>Samsung</td>\n",
              "      <td>Amazon</td>\n",
              "      <td>https://www.amazon.in/Samsung-Galaxy-SM-R180NZ...</td>\n",
              "      <td>Itâ€™s Good</td>\n",
              "      <td>[bought, festive, season, sale, itâ€™s, worth,...</td>\n",
              "      <td>Diwakar Nayal</td>\n",
              "      <td>3</td>\n",
              "      <td>0.184667</td>\n",
              "      <td>0.614667</td>\n",
              "      <td>Positive</td>\n",
              "    </tr>\n",
              "    <tr>\n",
              "      <th>1679</th>\n",
              "      <td>B08FN6WGDQ</td>\n",
              "      <td>Samsung Galaxy Buds Live Bluetooth Truly Wirel...</td>\n",
              "      <td>Samsung</td>\n",
              "      <td>Amazon</td>\n",
              "      <td>https://www.amazon.in/Samsung-Galaxy-SM-R180NZ...</td>\n",
              "      <td>NOT WORTH IT</td>\n",
              "      <td>[pro, good, finish, quality, good, battery, li...</td>\n",
              "      <td>Sainathan Arumugam</td>\n",
              "      <td>3</td>\n",
              "      <td>0.217949</td>\n",
              "      <td>0.496062</td>\n",
              "      <td>Positive</td>\n",
              "    </tr>\n",
              "    <tr>\n",
              "      <th>1680</th>\n",
              "      <td>B08FN6WGDQ</td>\n",
              "      <td>Samsung Galaxy Buds Live Bluetooth Truly Wirel...</td>\n",
              "      <td>Samsung</td>\n",
              "      <td>Amazon</td>\n",
              "      <td>https://www.amazon.in/Samsung-Galaxy-SM-R180NZ...</td>\n",
              "      <td>Good purchase</td>\n",
              "      <td>[first, sent, defective, one, alwaysss, happen...</td>\n",
              "      <td>Naveen B.</td>\n",
              "      <td>5</td>\n",
              "      <td>0.329509</td>\n",
              "      <td>0.549206</td>\n",
              "      <td>Positive</td>\n",
              "    </tr>\n",
              "    <tr>\n",
              "      <th>1683</th>\n",
              "      <td>B08FN6WGDQ</td>\n",
              "      <td>Samsung Galaxy Buds Live Bluetooth Truly Wirel...</td>\n",
              "      <td>Samsung</td>\n",
              "      <td>Amazon</td>\n",
              "      <td>https://www.amazon.in/Samsung-Galaxy-SM-R180NZ...</td>\n",
              "      <td>Affordable earbuds</td>\n",
              "      <td>[sound, loud, somewhat, clear, echo, receiver,...</td>\n",
              "      <td>shahid patel</td>\n",
              "      <td>4</td>\n",
              "      <td>0.200000</td>\n",
              "      <td>0.527778</td>\n",
              "      <td>Positive</td>\n",
              "    </tr>\n",
              "    <tr>\n",
              "      <th>1684</th>\n",
              "      <td>B08FN6WGDQ</td>\n",
              "      <td>Samsung Galaxy Buds Live Bluetooth Truly Wirel...</td>\n",
              "      <td>Samsung</td>\n",
              "      <td>Amazon</td>\n",
              "      <td>https://www.amazon.in/Samsung-Galaxy-SM-R180NZ...</td>\n",
              "      <td>Buy this only for design and few not so import...</td>\n",
              "      <td>[loved, style, sound, isnt, great, neither, su...</td>\n",
              "      <td>Manas</td>\n",
              "      <td>4</td>\n",
              "      <td>0.466667</td>\n",
              "      <td>0.475000</td>\n",
              "      <td>Positive</td>\n",
              "    </tr>\n",
              "  </tbody>\n",
              "</table>\n",
              "<p>799 rows × 12 columns</p>\n",
              "</div>\n",
              "      <button class=\"colab-df-convert\" onclick=\"convertToInteractive('df-7b3a50be-cb7e-4711-bee6-0df919157497')\"\n",
              "              title=\"Convert this dataframe to an interactive table.\"\n",
              "              style=\"display:none;\">\n",
              "        \n",
              "  <svg xmlns=\"http://www.w3.org/2000/svg\" height=\"24px\"viewBox=\"0 0 24 24\"\n",
              "       width=\"24px\">\n",
              "    <path d=\"M0 0h24v24H0V0z\" fill=\"none\"/>\n",
              "    <path d=\"M18.56 5.44l.94 2.06.94-2.06 2.06-.94-2.06-.94-.94-2.06-.94 2.06-2.06.94zm-11 1L8.5 8.5l.94-2.06 2.06-.94-2.06-.94L8.5 2.5l-.94 2.06-2.06.94zm10 10l.94 2.06.94-2.06 2.06-.94-2.06-.94-.94-2.06-.94 2.06-2.06.94z\"/><path d=\"M17.41 7.96l-1.37-1.37c-.4-.4-.92-.59-1.43-.59-.52 0-1.04.2-1.43.59L10.3 9.45l-7.72 7.72c-.78.78-.78 2.05 0 2.83L4 21.41c.39.39.9.59 1.41.59.51 0 1.02-.2 1.41-.59l7.78-7.78 2.81-2.81c.8-.78.8-2.07 0-2.86zM5.41 20L4 18.59l7.72-7.72 1.47 1.35L5.41 20z\"/>\n",
              "  </svg>\n",
              "      </button>\n",
              "      \n",
              "  <style>\n",
              "    .colab-df-container {\n",
              "      display:flex;\n",
              "      flex-wrap:wrap;\n",
              "      gap: 12px;\n",
              "    }\n",
              "\n",
              "    .colab-df-convert {\n",
              "      background-color: #E8F0FE;\n",
              "      border: none;\n",
              "      border-radius: 50%;\n",
              "      cursor: pointer;\n",
              "      display: none;\n",
              "      fill: #1967D2;\n",
              "      height: 32px;\n",
              "      padding: 0 0 0 0;\n",
              "      width: 32px;\n",
              "    }\n",
              "\n",
              "    .colab-df-convert:hover {\n",
              "      background-color: #E2EBFA;\n",
              "      box-shadow: 0px 1px 2px rgba(60, 64, 67, 0.3), 0px 1px 3px 1px rgba(60, 64, 67, 0.15);\n",
              "      fill: #174EA6;\n",
              "    }\n",
              "\n",
              "    [theme=dark] .colab-df-convert {\n",
              "      background-color: #3B4455;\n",
              "      fill: #D2E3FC;\n",
              "    }\n",
              "\n",
              "    [theme=dark] .colab-df-convert:hover {\n",
              "      background-color: #434B5C;\n",
              "      box-shadow: 0px 1px 3px 1px rgba(0, 0, 0, 0.15);\n",
              "      filter: drop-shadow(0px 1px 2px rgba(0, 0, 0, 0.3));\n",
              "      fill: #FFFFFF;\n",
              "    }\n",
              "  </style>\n",
              "\n",
              "      <script>\n",
              "        const buttonEl =\n",
              "          document.querySelector('#df-7b3a50be-cb7e-4711-bee6-0df919157497 button.colab-df-convert');\n",
              "        buttonEl.style.display =\n",
              "          google.colab.kernel.accessAllowed ? 'block' : 'none';\n",
              "\n",
              "        async function convertToInteractive(key) {\n",
              "          const element = document.querySelector('#df-7b3a50be-cb7e-4711-bee6-0df919157497');\n",
              "          const dataTable =\n",
              "            await google.colab.kernel.invokeFunction('convertToInteractive',\n",
              "                                                     [key], {});\n",
              "          if (!dataTable) return;\n",
              "\n",
              "          const docLinkHtml = 'Like what you see? Visit the ' +\n",
              "            '<a target=\"_blank\" href=https://colab.research.google.com/notebooks/data_table.ipynb>data table notebook</a>'\n",
              "            + ' to learn more about interactive tables.';\n",
              "          element.innerHTML = '';\n",
              "          dataTable['output_type'] = 'display_data';\n",
              "          await google.colab.output.renderOutput(dataTable, element);\n",
              "          const docLink = document.createElement('div');\n",
              "          docLink.innerHTML = docLinkHtml;\n",
              "          element.appendChild(docLink);\n",
              "        }\n",
              "      </script>\n",
              "    </div>\n",
              "  </div>\n",
              "  "
            ]
          },
          "metadata": {},
          "execution_count": 27
        }
      ]
    },
    {
      "cell_type": "code",
      "source": [
        "import matplotlib.pyplot as plt"
      ],
      "metadata": {
        "id": "kwUzGlT7rBIp"
      },
      "execution_count": null,
      "outputs": []
    },
    {
      "cell_type": "code",
      "source": [
        "# distribution of the three classes\n",
        "df['Class'].value_counts()\n",
        "\n"
      ],
      "metadata": {
        "colab": {
          "base_uri": "https://localhost:8080/"
        },
        "id": "YX5hIS-ErG3T",
        "outputId": "13829ad6-f164-436e-ba3a-eb17f826185b"
      },
      "execution_count": null,
      "outputs": [
        {
          "output_type": "execute_result",
          "data": {
            "text/plain": [
              "Positive    614\n",
              "Negative     99\n",
              "Neutral      86\n",
              "Name: Class, dtype: int64"
            ]
          },
          "metadata": {},
          "execution_count": 29
        }
      ]
    },
    {
      "cell_type": "code",
      "source": [
        "pcomment = df[df.Class == 'Positive'][:614]\n",
        "pcomment"
      ],
      "metadata": {
        "colab": {
          "base_uri": "https://localhost:8080/",
          "height": 1000
        },
        "id": "DfU-nbLurexb",
        "outputId": "4b3f8247-8bfe-41cb-dd6c-c8b1e84d5ee9"
      },
      "execution_count": null,
      "outputs": [
        {
          "output_type": "execute_result",
          "data": {
            "text/plain": [
              "      product_id                                       product_name    brand  \\\n",
              "1     B085J1J32G  Samsung Galaxy M51 (Electric Blue, 6GB RAM, 12...  Samsung   \n",
              "2     B085J1J32G  Samsung Galaxy M51 (Electric Blue, 6GB RAM, 12...  Samsung   \n",
              "3     B085J1J32G  Samsung Galaxy M51 (Electric Blue, 6GB RAM, 12...  Samsung   \n",
              "4     B085J1J32G  Samsung Galaxy M51 (Electric Blue, 6GB RAM, 12...  Samsung   \n",
              "8     B089MQ622N     Samsung Galaxy M01 Core (Black, 2GB RAM, 32GB)  Samsung   \n",
              "...          ...                                                ...      ...   \n",
              "1678  B08FN6WGDQ  Samsung Galaxy Buds Live Bluetooth Truly Wirel...  Samsung   \n",
              "1679  B08FN6WGDQ  Samsung Galaxy Buds Live Bluetooth Truly Wirel...  Samsung   \n",
              "1680  B08FN6WGDQ  Samsung Galaxy Buds Live Bluetooth Truly Wirel...  Samsung   \n",
              "1683  B08FN6WGDQ  Samsung Galaxy Buds Live Bluetooth Truly Wirel...  Samsung   \n",
              "1684  B08FN6WGDQ  Samsung Galaxy Buds Live Bluetooth Truly Wirel...  Samsung   \n",
              "\n",
              "     website                                         source_URL  \\\n",
              "1     Amazon                          https://amzn.eu/d/bOFfVHI   \n",
              "2     Amazon                          https://amzn.eu/d/bOFfVHI   \n",
              "3     Amazon                          https://amzn.eu/d/bOFfVHI   \n",
              "4     Amazon                          https://amzn.eu/d/bOFfVHI   \n",
              "8     Amazon                          https://amzn.eu/d/dN2SGFv   \n",
              "...      ...                                                ...   \n",
              "1678  Amazon  https://www.amazon.in/Samsung-Galaxy-SM-R180NZ...   \n",
              "1679  Amazon  https://www.amazon.in/Samsung-Galaxy-SM-R180NZ...   \n",
              "1680  Amazon  https://www.amazon.in/Samsung-Galaxy-SM-R180NZ...   \n",
              "1683  Amazon  https://www.amazon.in/Samsung-Galaxy-SM-R180NZ...   \n",
              "1684  Amazon  https://www.amazon.in/Samsung-Galaxy-SM-R180NZ...   \n",
              "\n",
              "                                           review_title  \\\n",
              "1                               Average mid-range phone   \n",
              "2          Bulky, and Back side chrome finish is faulty   \n",
              "3                       Good product with some drawback   \n",
              "4                          The best phone you could buy   \n",
              "8                         Good Budget Phone for Elders.   \n",
              "...                                                 ...   \n",
              "1678                                        Itâ€™s Good   \n",
              "1679                                       NOT WORTH IT   \n",
              "1680                                      Good purchase   \n",
              "1683                                 Affordable earbuds   \n",
              "1684  Buy this only for design and few not so import...   \n",
              "\n",
              "                                            review_text  \\\n",
              "1     [battery, good, great, advertisedruns, oneui, ...   \n",
              "2     [back, side, chrome, finish, started, like, sc...   \n",
              "3     [battery, life, extraordinary, need, carrying,...   \n",
              "4     [im, writing, review, year, purchase, even, us...   \n",
              "8     [samsung, galaxy, m01, core,2gb,32gb, decent, ...   \n",
              "...                                                 ...   \n",
              "1678  [bought, festive, season, sale, itâ€™s, worth,...   \n",
              "1679  [pro, good, finish, quality, good, battery, li...   \n",
              "1680  [first, sent, defective, one, alwaysss, happen...   \n",
              "1683  [sound, loud, somewhat, clear, echo, receiver,...   \n",
              "1684  [loved, style, sound, isnt, great, neither, su...   \n",
              "\n",
              "              reviewer_name rating  polarity  subjectivity     Class  \n",
              "1                   Snehith      3  0.333333      0.650000  Positive  \n",
              "2     Pro-tan International      4  0.100000      0.150000  Positive  \n",
              "3               sai krishna      4  0.132500      0.622500  Positive  \n",
              "4                     vicky      5  0.325714      0.587857  Positive  \n",
              "8       Abhijit Kumar Sahoo      4  0.152381      0.584524  Positive  \n",
              "...                     ...    ...       ...           ...       ...  \n",
              "1678          Diwakar Nayal      3  0.184667      0.614667  Positive  \n",
              "1679     Sainathan Arumugam      3  0.217949      0.496062  Positive  \n",
              "1680              Naveen B.      5  0.329509      0.549206  Positive  \n",
              "1683           shahid patel      4  0.200000      0.527778  Positive  \n",
              "1684                  Manas      4  0.466667      0.475000  Positive  \n",
              "\n",
              "[614 rows x 12 columns]"
            ],
            "text/html": [
              "\n",
              "  <div id=\"df-bd1d280a-0c51-462d-8104-5fa32d559d3f\">\n",
              "    <div class=\"colab-df-container\">\n",
              "      <div>\n",
              "<style scoped>\n",
              "    .dataframe tbody tr th:only-of-type {\n",
              "        vertical-align: middle;\n",
              "    }\n",
              "\n",
              "    .dataframe tbody tr th {\n",
              "        vertical-align: top;\n",
              "    }\n",
              "\n",
              "    .dataframe thead th {\n",
              "        text-align: right;\n",
              "    }\n",
              "</style>\n",
              "<table border=\"1\" class=\"dataframe\">\n",
              "  <thead>\n",
              "    <tr style=\"text-align: right;\">\n",
              "      <th></th>\n",
              "      <th>product_id</th>\n",
              "      <th>product_name</th>\n",
              "      <th>brand</th>\n",
              "      <th>website</th>\n",
              "      <th>source_URL</th>\n",
              "      <th>review_title</th>\n",
              "      <th>review_text</th>\n",
              "      <th>reviewer_name</th>\n",
              "      <th>rating</th>\n",
              "      <th>polarity</th>\n",
              "      <th>subjectivity</th>\n",
              "      <th>Class</th>\n",
              "    </tr>\n",
              "  </thead>\n",
              "  <tbody>\n",
              "    <tr>\n",
              "      <th>1</th>\n",
              "      <td>B085J1J32G</td>\n",
              "      <td>Samsung Galaxy M51 (Electric Blue, 6GB RAM, 12...</td>\n",
              "      <td>Samsung</td>\n",
              "      <td>Amazon</td>\n",
              "      <td>https://amzn.eu/d/bOFfVHI</td>\n",
              "      <td>Average mid-range phone</td>\n",
              "      <td>[battery, good, great, advertisedruns, oneui, ...</td>\n",
              "      <td>Snehith</td>\n",
              "      <td>3</td>\n",
              "      <td>0.333333</td>\n",
              "      <td>0.650000</td>\n",
              "      <td>Positive</td>\n",
              "    </tr>\n",
              "    <tr>\n",
              "      <th>2</th>\n",
              "      <td>B085J1J32G</td>\n",
              "      <td>Samsung Galaxy M51 (Electric Blue, 6GB RAM, 12...</td>\n",
              "      <td>Samsung</td>\n",
              "      <td>Amazon</td>\n",
              "      <td>https://amzn.eu/d/bOFfVHI</td>\n",
              "      <td>Bulky, and Back side chrome finish is faulty</td>\n",
              "      <td>[back, side, chrome, finish, started, like, sc...</td>\n",
              "      <td>Pro-tan International</td>\n",
              "      <td>4</td>\n",
              "      <td>0.100000</td>\n",
              "      <td>0.150000</td>\n",
              "      <td>Positive</td>\n",
              "    </tr>\n",
              "    <tr>\n",
              "      <th>3</th>\n",
              "      <td>B085J1J32G</td>\n",
              "      <td>Samsung Galaxy M51 (Electric Blue, 6GB RAM, 12...</td>\n",
              "      <td>Samsung</td>\n",
              "      <td>Amazon</td>\n",
              "      <td>https://amzn.eu/d/bOFfVHI</td>\n",
              "      <td>Good product with some drawback</td>\n",
              "      <td>[battery, life, extraordinary, need, carrying,...</td>\n",
              "      <td>sai krishna</td>\n",
              "      <td>4</td>\n",
              "      <td>0.132500</td>\n",
              "      <td>0.622500</td>\n",
              "      <td>Positive</td>\n",
              "    </tr>\n",
              "    <tr>\n",
              "      <th>4</th>\n",
              "      <td>B085J1J32G</td>\n",
              "      <td>Samsung Galaxy M51 (Electric Blue, 6GB RAM, 12...</td>\n",
              "      <td>Samsung</td>\n",
              "      <td>Amazon</td>\n",
              "      <td>https://amzn.eu/d/bOFfVHI</td>\n",
              "      <td>The best phone you could buy</td>\n",
              "      <td>[im, writing, review, year, purchase, even, us...</td>\n",
              "      <td>vicky</td>\n",
              "      <td>5</td>\n",
              "      <td>0.325714</td>\n",
              "      <td>0.587857</td>\n",
              "      <td>Positive</td>\n",
              "    </tr>\n",
              "    <tr>\n",
              "      <th>8</th>\n",
              "      <td>B089MQ622N</td>\n",
              "      <td>Samsung Galaxy M01 Core (Black, 2GB RAM, 32GB)</td>\n",
              "      <td>Samsung</td>\n",
              "      <td>Amazon</td>\n",
              "      <td>https://amzn.eu/d/dN2SGFv</td>\n",
              "      <td>Good Budget Phone for Elders.</td>\n",
              "      <td>[samsung, galaxy, m01, core,2gb,32gb, decent, ...</td>\n",
              "      <td>Abhijit Kumar Sahoo</td>\n",
              "      <td>4</td>\n",
              "      <td>0.152381</td>\n",
              "      <td>0.584524</td>\n",
              "      <td>Positive</td>\n",
              "    </tr>\n",
              "    <tr>\n",
              "      <th>...</th>\n",
              "      <td>...</td>\n",
              "      <td>...</td>\n",
              "      <td>...</td>\n",
              "      <td>...</td>\n",
              "      <td>...</td>\n",
              "      <td>...</td>\n",
              "      <td>...</td>\n",
              "      <td>...</td>\n",
              "      <td>...</td>\n",
              "      <td>...</td>\n",
              "      <td>...</td>\n",
              "      <td>...</td>\n",
              "    </tr>\n",
              "    <tr>\n",
              "      <th>1678</th>\n",
              "      <td>B08FN6WGDQ</td>\n",
              "      <td>Samsung Galaxy Buds Live Bluetooth Truly Wirel...</td>\n",
              "      <td>Samsung</td>\n",
              "      <td>Amazon</td>\n",
              "      <td>https://www.amazon.in/Samsung-Galaxy-SM-R180NZ...</td>\n",
              "      <td>Itâ€™s Good</td>\n",
              "      <td>[bought, festive, season, sale, itâ€™s, worth,...</td>\n",
              "      <td>Diwakar Nayal</td>\n",
              "      <td>3</td>\n",
              "      <td>0.184667</td>\n",
              "      <td>0.614667</td>\n",
              "      <td>Positive</td>\n",
              "    </tr>\n",
              "    <tr>\n",
              "      <th>1679</th>\n",
              "      <td>B08FN6WGDQ</td>\n",
              "      <td>Samsung Galaxy Buds Live Bluetooth Truly Wirel...</td>\n",
              "      <td>Samsung</td>\n",
              "      <td>Amazon</td>\n",
              "      <td>https://www.amazon.in/Samsung-Galaxy-SM-R180NZ...</td>\n",
              "      <td>NOT WORTH IT</td>\n",
              "      <td>[pro, good, finish, quality, good, battery, li...</td>\n",
              "      <td>Sainathan Arumugam</td>\n",
              "      <td>3</td>\n",
              "      <td>0.217949</td>\n",
              "      <td>0.496062</td>\n",
              "      <td>Positive</td>\n",
              "    </tr>\n",
              "    <tr>\n",
              "      <th>1680</th>\n",
              "      <td>B08FN6WGDQ</td>\n",
              "      <td>Samsung Galaxy Buds Live Bluetooth Truly Wirel...</td>\n",
              "      <td>Samsung</td>\n",
              "      <td>Amazon</td>\n",
              "      <td>https://www.amazon.in/Samsung-Galaxy-SM-R180NZ...</td>\n",
              "      <td>Good purchase</td>\n",
              "      <td>[first, sent, defective, one, alwaysss, happen...</td>\n",
              "      <td>Naveen B.</td>\n",
              "      <td>5</td>\n",
              "      <td>0.329509</td>\n",
              "      <td>0.549206</td>\n",
              "      <td>Positive</td>\n",
              "    </tr>\n",
              "    <tr>\n",
              "      <th>1683</th>\n",
              "      <td>B08FN6WGDQ</td>\n",
              "      <td>Samsung Galaxy Buds Live Bluetooth Truly Wirel...</td>\n",
              "      <td>Samsung</td>\n",
              "      <td>Amazon</td>\n",
              "      <td>https://www.amazon.in/Samsung-Galaxy-SM-R180NZ...</td>\n",
              "      <td>Affordable earbuds</td>\n",
              "      <td>[sound, loud, somewhat, clear, echo, receiver,...</td>\n",
              "      <td>shahid patel</td>\n",
              "      <td>4</td>\n",
              "      <td>0.200000</td>\n",
              "      <td>0.527778</td>\n",
              "      <td>Positive</td>\n",
              "    </tr>\n",
              "    <tr>\n",
              "      <th>1684</th>\n",
              "      <td>B08FN6WGDQ</td>\n",
              "      <td>Samsung Galaxy Buds Live Bluetooth Truly Wirel...</td>\n",
              "      <td>Samsung</td>\n",
              "      <td>Amazon</td>\n",
              "      <td>https://www.amazon.in/Samsung-Galaxy-SM-R180NZ...</td>\n",
              "      <td>Buy this only for design and few not so import...</td>\n",
              "      <td>[loved, style, sound, isnt, great, neither, su...</td>\n",
              "      <td>Manas</td>\n",
              "      <td>4</td>\n",
              "      <td>0.466667</td>\n",
              "      <td>0.475000</td>\n",
              "      <td>Positive</td>\n",
              "    </tr>\n",
              "  </tbody>\n",
              "</table>\n",
              "<p>614 rows × 12 columns</p>\n",
              "</div>\n",
              "      <button class=\"colab-df-convert\" onclick=\"convertToInteractive('df-bd1d280a-0c51-462d-8104-5fa32d559d3f')\"\n",
              "              title=\"Convert this dataframe to an interactive table.\"\n",
              "              style=\"display:none;\">\n",
              "        \n",
              "  <svg xmlns=\"http://www.w3.org/2000/svg\" height=\"24px\"viewBox=\"0 0 24 24\"\n",
              "       width=\"24px\">\n",
              "    <path d=\"M0 0h24v24H0V0z\" fill=\"none\"/>\n",
              "    <path d=\"M18.56 5.44l.94 2.06.94-2.06 2.06-.94-2.06-.94-.94-2.06-.94 2.06-2.06.94zm-11 1L8.5 8.5l.94-2.06 2.06-.94-2.06-.94L8.5 2.5l-.94 2.06-2.06.94zm10 10l.94 2.06.94-2.06 2.06-.94-2.06-.94-.94-2.06-.94 2.06-2.06.94z\"/><path d=\"M17.41 7.96l-1.37-1.37c-.4-.4-.92-.59-1.43-.59-.52 0-1.04.2-1.43.59L10.3 9.45l-7.72 7.72c-.78.78-.78 2.05 0 2.83L4 21.41c.39.39.9.59 1.41.59.51 0 1.02-.2 1.41-.59l7.78-7.78 2.81-2.81c.8-.78.8-2.07 0-2.86zM5.41 20L4 18.59l7.72-7.72 1.47 1.35L5.41 20z\"/>\n",
              "  </svg>\n",
              "      </button>\n",
              "      \n",
              "  <style>\n",
              "    .colab-df-container {\n",
              "      display:flex;\n",
              "      flex-wrap:wrap;\n",
              "      gap: 12px;\n",
              "    }\n",
              "\n",
              "    .colab-df-convert {\n",
              "      background-color: #E8F0FE;\n",
              "      border: none;\n",
              "      border-radius: 50%;\n",
              "      cursor: pointer;\n",
              "      display: none;\n",
              "      fill: #1967D2;\n",
              "      height: 32px;\n",
              "      padding: 0 0 0 0;\n",
              "      width: 32px;\n",
              "    }\n",
              "\n",
              "    .colab-df-convert:hover {\n",
              "      background-color: #E2EBFA;\n",
              "      box-shadow: 0px 1px 2px rgba(60, 64, 67, 0.3), 0px 1px 3px 1px rgba(60, 64, 67, 0.15);\n",
              "      fill: #174EA6;\n",
              "    }\n",
              "\n",
              "    [theme=dark] .colab-df-convert {\n",
              "      background-color: #3B4455;\n",
              "      fill: #D2E3FC;\n",
              "    }\n",
              "\n",
              "    [theme=dark] .colab-df-convert:hover {\n",
              "      background-color: #434B5C;\n",
              "      box-shadow: 0px 1px 3px 1px rgba(0, 0, 0, 0.15);\n",
              "      filter: drop-shadow(0px 1px 2px rgba(0, 0, 0, 0.3));\n",
              "      fill: #FFFFFF;\n",
              "    }\n",
              "  </style>\n",
              "\n",
              "      <script>\n",
              "        const buttonEl =\n",
              "          document.querySelector('#df-bd1d280a-0c51-462d-8104-5fa32d559d3f button.colab-df-convert');\n",
              "        buttonEl.style.display =\n",
              "          google.colab.kernel.accessAllowed ? 'block' : 'none';\n",
              "\n",
              "        async function convertToInteractive(key) {\n",
              "          const element = document.querySelector('#df-bd1d280a-0c51-462d-8104-5fa32d559d3f');\n",
              "          const dataTable =\n",
              "            await google.colab.kernel.invokeFunction('convertToInteractive',\n",
              "                                                     [key], {});\n",
              "          if (!dataTable) return;\n",
              "\n",
              "          const docLinkHtml = 'Like what you see? Visit the ' +\n",
              "            '<a target=\"_blank\" href=https://colab.research.google.com/notebooks/data_table.ipynb>data table notebook</a>'\n",
              "            + ' to learn more about interactive tables.';\n",
              "          element.innerHTML = '';\n",
              "          dataTable['output_type'] = 'display_data';\n",
              "          await google.colab.output.renderOutput(dataTable, element);\n",
              "          const docLink = document.createElement('div');\n",
              "          docLink.innerHTML = docLinkHtml;\n",
              "          element.appendChild(docLink);\n",
              "        }\n",
              "      </script>\n",
              "    </div>\n",
              "  </div>\n",
              "  "
            ]
          },
          "metadata": {},
          "execution_count": 30
        }
      ]
    },
    {
      "cell_type": "code",
      "source": [
        "ncomment = df[df.Class == 'Negative']\n",
        "ncomment"
      ],
      "metadata": {
        "colab": {
          "base_uri": "https://localhost:8080/",
          "height": 1000
        },
        "id": "3TeolWv6r3Qo",
        "outputId": "04f49fe7-1d1a-477d-ef1a-66369dcf7aa2"
      },
      "execution_count": null,
      "outputs": [
        {
          "output_type": "execute_result",
          "data": {
            "text/plain": [
              "      product_id                                       product_name    brand  \\\n",
              "0     B085J1J32G  Samsung Galaxy M51 (Electric Blue, 6GB RAM, 12...  Samsung   \n",
              "5     B089MQ622N     Samsung Galaxy M01 Core (Black, 2GB RAM, 32GB)  Samsung   \n",
              "6     B089MQ622N     Samsung Galaxy M01 Core (Black, 2GB RAM, 32GB)  Samsung   \n",
              "7     B089MQ622N     Samsung Galaxy M01 Core (Black, 2GB RAM, 32GB)  Samsung   \n",
              "9     B089MQ622N     Samsung Galaxy M01 Core (Black, 2GB RAM, 32GB)  Samsung   \n",
              "...          ...                                                ...      ...   \n",
              "1470  B09T39K9YL  Redmi Note 11 Pro + 5G (Stealth Black, 6GB RAM...   Xiaomi   \n",
              "1472  B09T39K9YL  Redmi Note 11 Pro + 5G (Stealth Black, 6GB RAM...   Xiaomi   \n",
              "1480  B09T39K9YL  Redmi Note 11 Pro + 5G (Stealth Black, 6GB RAM...   Xiaomi   \n",
              "1498  B09T39K9YL  Redmi Note 11 Pro + 5G (Stealth Black, 6GB RAM...   Xiaomi   \n",
              "1500  B09T39K9YL  Redmi Note 11 Pro + 5G (Stealth Black, 6GB RAM...   Xiaomi   \n",
              "\n",
              "     website                                         source_URL  \\\n",
              "0     Amazon                          https://amzn.eu/d/bOFfVHI   \n",
              "5     Amazon                          https://amzn.eu/d/dN2SGFv   \n",
              "6     Amazon                          https://amzn.eu/d/dN2SGFv   \n",
              "7     Amazon                          https://amzn.eu/d/dN2SGFv   \n",
              "9     Amazon                          https://amzn.eu/d/dN2SGFv   \n",
              "...      ...                                                ...   \n",
              "1470  Amazon  https://www.amazon.in/Redmi-Stealth-Additional...   \n",
              "1472  Amazon  https://www.amazon.in/Redmi-Stealth-Additional...   \n",
              "1480  Amazon  https://www.amazon.in/Redmi-Stealth-Additional...   \n",
              "1498  Amazon  https://www.amazon.in/Redmi-Stealth-Additional...   \n",
              "1500  Amazon  https://www.amazon.in/Redmi-Stealth-Additional...   \n",
              "\n",
              "                                           review_title  \\\n",
              "0                                          Worst mobile   \n",
              "5                  A good phone for at this price range   \n",
              "6               In Short I say I don't like this mobile   \n",
              "7                                          Seems ok now   \n",
              "9     Samsung Galaxy M01 Core is Worst Phone purchas...   \n",
              "...                                                 ...   \n",
              "1470                                    Camera very bad   \n",
              "1472                                               Good   \n",
              "1480  Very worst camera quality bad software update ...   \n",
              "1498  Camera quality too low below 32mp, battery lif...   \n",
              "1500                                        Well set up   \n",
              "\n",
              "                                            review_text        reviewer_name  \\\n",
              "0                             [worst, display, quality]            PHALAKSHA   \n",
              "5     [phone, doesnt, feel, slow, sluggish, decent, ...           srinivasan   \n",
              "6     [short, say, dont, like, mobile, bcoz, trouch,...  Bharat Premraj Jain   \n",
              "7     [stopped, working,3, day, return, window, clos...           Lectricsuv   \n",
              "9     [samsung, galaxy, m01, core, worst, phone, pur...               Hemant   \n",
              "...                                                 ...                  ...   \n",
              "1470                                      [camera, bad]               Nikhil   \n",
              "1472                                 [average, quality]         Banku Saikia   \n",
              "1480  [expected, flagship, level, camera,108mp, numb...                Magha   \n",
              "1498  [photo, quality, low, mention,108mp, camera, u...              Dheeraj   \n",
              "1500  [home, page, setting, impressive, compared, sa...       MAHADEVAN KASI   \n",
              "\n",
              "     rating  polarity  subjectivity     Class  \n",
              "0         1 -1.000000      1.000000  Negative  \n",
              "5         4 -0.277778      0.577778  Negative  \n",
              "6         2 -0.058333      0.246333  Negative  \n",
              "7         4 -0.125000      0.100000  Negative  \n",
              "9         1 -0.089048      0.542381  Negative  \n",
              "...     ...       ...           ...       ...  \n",
              "1470      4 -0.910000      0.866667  Negative  \n",
              "1472      4 -0.150000      0.400000  Negative  \n",
              "1480      4 -0.023182      0.654242  Negative  \n",
              "1498      4 -0.060167      0.522333  Negative  \n",
              "1500      4 -0.500000      1.000000  Negative  \n",
              "\n",
              "[99 rows x 12 columns]"
            ],
            "text/html": [
              "\n",
              "  <div id=\"df-9986380a-ad15-4f7a-9606-339380e39ace\">\n",
              "    <div class=\"colab-df-container\">\n",
              "      <div>\n",
              "<style scoped>\n",
              "    .dataframe tbody tr th:only-of-type {\n",
              "        vertical-align: middle;\n",
              "    }\n",
              "\n",
              "    .dataframe tbody tr th {\n",
              "        vertical-align: top;\n",
              "    }\n",
              "\n",
              "    .dataframe thead th {\n",
              "        text-align: right;\n",
              "    }\n",
              "</style>\n",
              "<table border=\"1\" class=\"dataframe\">\n",
              "  <thead>\n",
              "    <tr style=\"text-align: right;\">\n",
              "      <th></th>\n",
              "      <th>product_id</th>\n",
              "      <th>product_name</th>\n",
              "      <th>brand</th>\n",
              "      <th>website</th>\n",
              "      <th>source_URL</th>\n",
              "      <th>review_title</th>\n",
              "      <th>review_text</th>\n",
              "      <th>reviewer_name</th>\n",
              "      <th>rating</th>\n",
              "      <th>polarity</th>\n",
              "      <th>subjectivity</th>\n",
              "      <th>Class</th>\n",
              "    </tr>\n",
              "  </thead>\n",
              "  <tbody>\n",
              "    <tr>\n",
              "      <th>0</th>\n",
              "      <td>B085J1J32G</td>\n",
              "      <td>Samsung Galaxy M51 (Electric Blue, 6GB RAM, 12...</td>\n",
              "      <td>Samsung</td>\n",
              "      <td>Amazon</td>\n",
              "      <td>https://amzn.eu/d/bOFfVHI</td>\n",
              "      <td>Worst mobile</td>\n",
              "      <td>[worst, display, quality]</td>\n",
              "      <td>PHALAKSHA</td>\n",
              "      <td>1</td>\n",
              "      <td>-1.000000</td>\n",
              "      <td>1.000000</td>\n",
              "      <td>Negative</td>\n",
              "    </tr>\n",
              "    <tr>\n",
              "      <th>5</th>\n",
              "      <td>B089MQ622N</td>\n",
              "      <td>Samsung Galaxy M01 Core (Black, 2GB RAM, 32GB)</td>\n",
              "      <td>Samsung</td>\n",
              "      <td>Amazon</td>\n",
              "      <td>https://amzn.eu/d/dN2SGFv</td>\n",
              "      <td>A good phone for at this price range</td>\n",
              "      <td>[phone, doesnt, feel, slow, sluggish, decent, ...</td>\n",
              "      <td>srinivasan</td>\n",
              "      <td>4</td>\n",
              "      <td>-0.277778</td>\n",
              "      <td>0.577778</td>\n",
              "      <td>Negative</td>\n",
              "    </tr>\n",
              "    <tr>\n",
              "      <th>6</th>\n",
              "      <td>B089MQ622N</td>\n",
              "      <td>Samsung Galaxy M01 Core (Black, 2GB RAM, 32GB)</td>\n",
              "      <td>Samsung</td>\n",
              "      <td>Amazon</td>\n",
              "      <td>https://amzn.eu/d/dN2SGFv</td>\n",
              "      <td>In Short I say I don't like this mobile</td>\n",
              "      <td>[short, say, dont, like, mobile, bcoz, trouch,...</td>\n",
              "      <td>Bharat Premraj Jain</td>\n",
              "      <td>2</td>\n",
              "      <td>-0.058333</td>\n",
              "      <td>0.246333</td>\n",
              "      <td>Negative</td>\n",
              "    </tr>\n",
              "    <tr>\n",
              "      <th>7</th>\n",
              "      <td>B089MQ622N</td>\n",
              "      <td>Samsung Galaxy M01 Core (Black, 2GB RAM, 32GB)</td>\n",
              "      <td>Samsung</td>\n",
              "      <td>Amazon</td>\n",
              "      <td>https://amzn.eu/d/dN2SGFv</td>\n",
              "      <td>Seems ok now</td>\n",
              "      <td>[stopped, working,3, day, return, window, clos...</td>\n",
              "      <td>Lectricsuv</td>\n",
              "      <td>4</td>\n",
              "      <td>-0.125000</td>\n",
              "      <td>0.100000</td>\n",
              "      <td>Negative</td>\n",
              "    </tr>\n",
              "    <tr>\n",
              "      <th>9</th>\n",
              "      <td>B089MQ622N</td>\n",
              "      <td>Samsung Galaxy M01 Core (Black, 2GB RAM, 32GB)</td>\n",
              "      <td>Samsung</td>\n",
              "      <td>Amazon</td>\n",
              "      <td>https://amzn.eu/d/dN2SGFv</td>\n",
              "      <td>Samsung Galaxy M01 Core is Worst Phone purchas...</td>\n",
              "      <td>[samsung, galaxy, m01, core, worst, phone, pur...</td>\n",
              "      <td>Hemant</td>\n",
              "      <td>1</td>\n",
              "      <td>-0.089048</td>\n",
              "      <td>0.542381</td>\n",
              "      <td>Negative</td>\n",
              "    </tr>\n",
              "    <tr>\n",
              "      <th>...</th>\n",
              "      <td>...</td>\n",
              "      <td>...</td>\n",
              "      <td>...</td>\n",
              "      <td>...</td>\n",
              "      <td>...</td>\n",
              "      <td>...</td>\n",
              "      <td>...</td>\n",
              "      <td>...</td>\n",
              "      <td>...</td>\n",
              "      <td>...</td>\n",
              "      <td>...</td>\n",
              "      <td>...</td>\n",
              "    </tr>\n",
              "    <tr>\n",
              "      <th>1470</th>\n",
              "      <td>B09T39K9YL</td>\n",
              "      <td>Redmi Note 11 Pro + 5G (Stealth Black, 6GB RAM...</td>\n",
              "      <td>Xiaomi</td>\n",
              "      <td>Amazon</td>\n",
              "      <td>https://www.amazon.in/Redmi-Stealth-Additional...</td>\n",
              "      <td>Camera very bad</td>\n",
              "      <td>[camera, bad]</td>\n",
              "      <td>Nikhil</td>\n",
              "      <td>4</td>\n",
              "      <td>-0.910000</td>\n",
              "      <td>0.866667</td>\n",
              "      <td>Negative</td>\n",
              "    </tr>\n",
              "    <tr>\n",
              "      <th>1472</th>\n",
              "      <td>B09T39K9YL</td>\n",
              "      <td>Redmi Note 11 Pro + 5G (Stealth Black, 6GB RAM...</td>\n",
              "      <td>Xiaomi</td>\n",
              "      <td>Amazon</td>\n",
              "      <td>https://www.amazon.in/Redmi-Stealth-Additional...</td>\n",
              "      <td>Good</td>\n",
              "      <td>[average, quality]</td>\n",
              "      <td>Banku Saikia</td>\n",
              "      <td>4</td>\n",
              "      <td>-0.150000</td>\n",
              "      <td>0.400000</td>\n",
              "      <td>Negative</td>\n",
              "    </tr>\n",
              "    <tr>\n",
              "      <th>1480</th>\n",
              "      <td>B09T39K9YL</td>\n",
              "      <td>Redmi Note 11 Pro + 5G (Stealth Black, 6GB RAM...</td>\n",
              "      <td>Xiaomi</td>\n",
              "      <td>Amazon</td>\n",
              "      <td>https://www.amazon.in/Redmi-Stealth-Additional...</td>\n",
              "      <td>Very worst camera quality bad software update ...</td>\n",
              "      <td>[expected, flagship, level, camera,108mp, numb...</td>\n",
              "      <td>Magha</td>\n",
              "      <td>4</td>\n",
              "      <td>-0.023182</td>\n",
              "      <td>0.654242</td>\n",
              "      <td>Negative</td>\n",
              "    </tr>\n",
              "    <tr>\n",
              "      <th>1498</th>\n",
              "      <td>B09T39K9YL</td>\n",
              "      <td>Redmi Note 11 Pro + 5G (Stealth Black, 6GB RAM...</td>\n",
              "      <td>Xiaomi</td>\n",
              "      <td>Amazon</td>\n",
              "      <td>https://www.amazon.in/Redmi-Stealth-Additional...</td>\n",
              "      <td>Camera quality too low below 32mp, battery lif...</td>\n",
              "      <td>[photo, quality, low, mention,108mp, camera, u...</td>\n",
              "      <td>Dheeraj</td>\n",
              "      <td>4</td>\n",
              "      <td>-0.060167</td>\n",
              "      <td>0.522333</td>\n",
              "      <td>Negative</td>\n",
              "    </tr>\n",
              "    <tr>\n",
              "      <th>1500</th>\n",
              "      <td>B09T39K9YL</td>\n",
              "      <td>Redmi Note 11 Pro + 5G (Stealth Black, 6GB RAM...</td>\n",
              "      <td>Xiaomi</td>\n",
              "      <td>Amazon</td>\n",
              "      <td>https://www.amazon.in/Redmi-Stealth-Additional...</td>\n",
              "      <td>Well set up</td>\n",
              "      <td>[home, page, setting, impressive, compared, sa...</td>\n",
              "      <td>MAHADEVAN KASI</td>\n",
              "      <td>4</td>\n",
              "      <td>-0.500000</td>\n",
              "      <td>1.000000</td>\n",
              "      <td>Negative</td>\n",
              "    </tr>\n",
              "  </tbody>\n",
              "</table>\n",
              "<p>99 rows × 12 columns</p>\n",
              "</div>\n",
              "      <button class=\"colab-df-convert\" onclick=\"convertToInteractive('df-9986380a-ad15-4f7a-9606-339380e39ace')\"\n",
              "              title=\"Convert this dataframe to an interactive table.\"\n",
              "              style=\"display:none;\">\n",
              "        \n",
              "  <svg xmlns=\"http://www.w3.org/2000/svg\" height=\"24px\"viewBox=\"0 0 24 24\"\n",
              "       width=\"24px\">\n",
              "    <path d=\"M0 0h24v24H0V0z\" fill=\"none\"/>\n",
              "    <path d=\"M18.56 5.44l.94 2.06.94-2.06 2.06-.94-2.06-.94-.94-2.06-.94 2.06-2.06.94zm-11 1L8.5 8.5l.94-2.06 2.06-.94-2.06-.94L8.5 2.5l-.94 2.06-2.06.94zm10 10l.94 2.06.94-2.06 2.06-.94-2.06-.94-.94-2.06-.94 2.06-2.06.94z\"/><path d=\"M17.41 7.96l-1.37-1.37c-.4-.4-.92-.59-1.43-.59-.52 0-1.04.2-1.43.59L10.3 9.45l-7.72 7.72c-.78.78-.78 2.05 0 2.83L4 21.41c.39.39.9.59 1.41.59.51 0 1.02-.2 1.41-.59l7.78-7.78 2.81-2.81c.8-.78.8-2.07 0-2.86zM5.41 20L4 18.59l7.72-7.72 1.47 1.35L5.41 20z\"/>\n",
              "  </svg>\n",
              "      </button>\n",
              "      \n",
              "  <style>\n",
              "    .colab-df-container {\n",
              "      display:flex;\n",
              "      flex-wrap:wrap;\n",
              "      gap: 12px;\n",
              "    }\n",
              "\n",
              "    .colab-df-convert {\n",
              "      background-color: #E8F0FE;\n",
              "      border: none;\n",
              "      border-radius: 50%;\n",
              "      cursor: pointer;\n",
              "      display: none;\n",
              "      fill: #1967D2;\n",
              "      height: 32px;\n",
              "      padding: 0 0 0 0;\n",
              "      width: 32px;\n",
              "    }\n",
              "\n",
              "    .colab-df-convert:hover {\n",
              "      background-color: #E2EBFA;\n",
              "      box-shadow: 0px 1px 2px rgba(60, 64, 67, 0.3), 0px 1px 3px 1px rgba(60, 64, 67, 0.15);\n",
              "      fill: #174EA6;\n",
              "    }\n",
              "\n",
              "    [theme=dark] .colab-df-convert {\n",
              "      background-color: #3B4455;\n",
              "      fill: #D2E3FC;\n",
              "    }\n",
              "\n",
              "    [theme=dark] .colab-df-convert:hover {\n",
              "      background-color: #434B5C;\n",
              "      box-shadow: 0px 1px 3px 1px rgba(0, 0, 0, 0.15);\n",
              "      filter: drop-shadow(0px 1px 2px rgba(0, 0, 0, 0.3));\n",
              "      fill: #FFFFFF;\n",
              "    }\n",
              "  </style>\n",
              "\n",
              "      <script>\n",
              "        const buttonEl =\n",
              "          document.querySelector('#df-9986380a-ad15-4f7a-9606-339380e39ace button.colab-df-convert');\n",
              "        buttonEl.style.display =\n",
              "          google.colab.kernel.accessAllowed ? 'block' : 'none';\n",
              "\n",
              "        async function convertToInteractive(key) {\n",
              "          const element = document.querySelector('#df-9986380a-ad15-4f7a-9606-339380e39ace');\n",
              "          const dataTable =\n",
              "            await google.colab.kernel.invokeFunction('convertToInteractive',\n",
              "                                                     [key], {});\n",
              "          if (!dataTable) return;\n",
              "\n",
              "          const docLinkHtml = 'Like what you see? Visit the ' +\n",
              "            '<a target=\"_blank\" href=https://colab.research.google.com/notebooks/data_table.ipynb>data table notebook</a>'\n",
              "            + ' to learn more about interactive tables.';\n",
              "          element.innerHTML = '';\n",
              "          dataTable['output_type'] = 'display_data';\n",
              "          await google.colab.output.renderOutput(dataTable, element);\n",
              "          const docLink = document.createElement('div');\n",
              "          docLink.innerHTML = docLinkHtml;\n",
              "          element.appendChild(docLink);\n",
              "        }\n",
              "      </script>\n",
              "    </div>\n",
              "  </div>\n",
              "  "
            ]
          },
          "metadata": {},
          "execution_count": 31
        }
      ]
    },
    {
      "cell_type": "code",
      "source": [
        "Neucomment = df[df.Class == 'Neutral']\n",
        "Neucomment"
      ],
      "metadata": {
        "colab": {
          "base_uri": "https://localhost:8080/",
          "height": 1000
        },
        "id": "bh_7hjTjsH7O",
        "outputId": "7981dae0-8c8f-4808-9ecf-b5302111d426"
      },
      "execution_count": null,
      "outputs": [
        {
          "output_type": "execute_result",
          "data": {
            "text/plain": [
              "      product_id                                       product_name    brand  \\\n",
              "12    B07X8V5YKR  Samsung Galaxy Note10 Lite (Aura Glow, 6GB RAM...  Samsung   \n",
              "41    B078CBN95Q                        Oppo F5(Red, 6GB RAM, 64GB)     Oppo   \n",
              "59    B08444S68L            Oppo A31(Mystery Black, 6GB RAM, 128GB)     Oppo   \n",
              "65    B084455DLR    Oppo Reno3 Pro (Midnight Black, 8GB RAM, 256GB)     Oppo   \n",
              "78    B077PWBC78  Redmi Note 9 Pro(Interstellar Black, 4GB RAM, ...   Xiaomi   \n",
              "...          ...                                                ...      ...   \n",
              "1419  B09WYXDNWW  realme narzo 50A Prime (Flash Black, 4GB RAM+1...   Realme   \n",
              "1420  B09WYXDNWW  realme narzo 50A Prime (Flash Black, 4GB RAM+1...   Realme   \n",
              "1469  B09T39K9YL  Redmi Note 11 Pro + 5G (Stealth Black, 6GB RAM...   Xiaomi   \n",
              "1473  B09T39K9YL  Redmi Note 11 Pro + 5G (Stealth Black, 6GB RAM...   Xiaomi   \n",
              "1477  B09T39K9YL  Redmi Note 11 Pro + 5G (Stealth Black, 6GB RAM...   Xiaomi   \n",
              "\n",
              "     website                                         source_URL  \\\n",
              "12    Amazon                          https://amzn.eu/d/gKNf1a3   \n",
              "41    Amazon                          https://amzn.eu/d/gqR4ZaM   \n",
              "59    Amazon                          https://amzn.eu/d/bTT6avn   \n",
              "65    Amazon                          https://amzn.eu/d/0RnCEOD   \n",
              "78    Amazon                          https://amzn.eu/d/icOq50r   \n",
              "...      ...                                                ...   \n",
              "1419  Amazon  https://www.amazon.in/realme-Storage-Display-C...   \n",
              "1420  Amazon  https://www.amazon.in/realme-Storage-Display-C...   \n",
              "1469  Amazon  https://www.amazon.in/Redmi-Stealth-Additional...   \n",
              "1473  Amazon  https://www.amazon.in/Redmi-Stealth-Additional...   \n",
              "1477  Amazon  https://www.amazon.in/Redmi-Stealth-Additional...   \n",
              "\n",
              "                                           review_title  \\\n",
              "12              For s-pen lover under 30k ....go for it   \n",
              "41                                                    👎   \n",
              "59                                     Low refresh rate   \n",
              "65    This phone is not working properly with whatsa...   \n",
              "78                            Basic Functionality Issue   \n",
              "...                                                 ...   \n",
              "1419                                Delivery is on time   \n",
              "1420        We have not received screen protector film.   \n",
              "1469                             Overall phone is good.   \n",
              "1473                                         Great deal   \n",
              "1477                                             Review   \n",
              "\n",
              "                                            review_text    reviewer_name  \\\n",
              "12    [around, price,26k,28k, value, money, overall,...            Malik   \n",
              "41                                                   []            Mohan   \n",
              "59    [manufacturer, told, refresh, rate,60hz, even,...           Ramesh   \n",
              "65    [phone, working, properly, whatsapp, especiall...  Amazon Customer   \n",
              "78    [year, call, cant, possible, phone, call, work...    Aditya Bhuyan   \n",
              "...                                                 ...              ...   \n",
              "1419  [delivered, timely, thisbox, screen, protectio...        T Sridhar   \n",
              "1420                [received, screen, protector, film]    Mahesh Godase   \n",
              "1469                        [must, nfc, support, phone]  Prashant pandey   \n",
              "1473  [though, touch, issue, software, issue, creati...      Dipsagar M.   \n",
              "1477                                         [moderate]           Priyam   \n",
              "\n",
              "     rating  polarity  subjectivity    Class  \n",
              "12        4       0.0         0.000  Neutral  \n",
              "41        1       0.0         0.000  Neutral  \n",
              "59        2       0.0         0.000  Neutral  \n",
              "65      NaN       0.0         0.550  Neutral  \n",
              "78        2       0.0         0.825  Neutral  \n",
              "...     ...       ...           ...      ...  \n",
              "1419      3       0.0         0.000  Neutral  \n",
              "1420      3       0.0         0.000  Neutral  \n",
              "1469      4       0.0         0.000  Neutral  \n",
              "1473      4       0.0         0.000  Neutral  \n",
              "1477      4       0.0         0.700  Neutral  \n",
              "\n",
              "[86 rows x 12 columns]"
            ],
            "text/html": [
              "\n",
              "  <div id=\"df-0e0057c5-d19b-42bb-ac73-f3626ac70e11\">\n",
              "    <div class=\"colab-df-container\">\n",
              "      <div>\n",
              "<style scoped>\n",
              "    .dataframe tbody tr th:only-of-type {\n",
              "        vertical-align: middle;\n",
              "    }\n",
              "\n",
              "    .dataframe tbody tr th {\n",
              "        vertical-align: top;\n",
              "    }\n",
              "\n",
              "    .dataframe thead th {\n",
              "        text-align: right;\n",
              "    }\n",
              "</style>\n",
              "<table border=\"1\" class=\"dataframe\">\n",
              "  <thead>\n",
              "    <tr style=\"text-align: right;\">\n",
              "      <th></th>\n",
              "      <th>product_id</th>\n",
              "      <th>product_name</th>\n",
              "      <th>brand</th>\n",
              "      <th>website</th>\n",
              "      <th>source_URL</th>\n",
              "      <th>review_title</th>\n",
              "      <th>review_text</th>\n",
              "      <th>reviewer_name</th>\n",
              "      <th>rating</th>\n",
              "      <th>polarity</th>\n",
              "      <th>subjectivity</th>\n",
              "      <th>Class</th>\n",
              "    </tr>\n",
              "  </thead>\n",
              "  <tbody>\n",
              "    <tr>\n",
              "      <th>12</th>\n",
              "      <td>B07X8V5YKR</td>\n",
              "      <td>Samsung Galaxy Note10 Lite (Aura Glow, 6GB RAM...</td>\n",
              "      <td>Samsung</td>\n",
              "      <td>Amazon</td>\n",
              "      <td>https://amzn.eu/d/gKNf1a3</td>\n",
              "      <td>For s-pen lover under 30k ....go for it</td>\n",
              "      <td>[around, price,26k,28k, value, money, overall,...</td>\n",
              "      <td>Malik</td>\n",
              "      <td>4</td>\n",
              "      <td>0.0</td>\n",
              "      <td>0.000</td>\n",
              "      <td>Neutral</td>\n",
              "    </tr>\n",
              "    <tr>\n",
              "      <th>41</th>\n",
              "      <td>B078CBN95Q</td>\n",
              "      <td>Oppo F5(Red, 6GB RAM, 64GB)</td>\n",
              "      <td>Oppo</td>\n",
              "      <td>Amazon</td>\n",
              "      <td>https://amzn.eu/d/gqR4ZaM</td>\n",
              "      <td>👎</td>\n",
              "      <td>[]</td>\n",
              "      <td>Mohan</td>\n",
              "      <td>1</td>\n",
              "      <td>0.0</td>\n",
              "      <td>0.000</td>\n",
              "      <td>Neutral</td>\n",
              "    </tr>\n",
              "    <tr>\n",
              "      <th>59</th>\n",
              "      <td>B08444S68L</td>\n",
              "      <td>Oppo A31(Mystery Black, 6GB RAM, 128GB)</td>\n",
              "      <td>Oppo</td>\n",
              "      <td>Amazon</td>\n",
              "      <td>https://amzn.eu/d/bTT6avn</td>\n",
              "      <td>Low refresh rate</td>\n",
              "      <td>[manufacturer, told, refresh, rate,60hz, even,...</td>\n",
              "      <td>Ramesh</td>\n",
              "      <td>2</td>\n",
              "      <td>0.0</td>\n",
              "      <td>0.000</td>\n",
              "      <td>Neutral</td>\n",
              "    </tr>\n",
              "    <tr>\n",
              "      <th>65</th>\n",
              "      <td>B084455DLR</td>\n",
              "      <td>Oppo Reno3 Pro (Midnight Black, 8GB RAM, 256GB)</td>\n",
              "      <td>Oppo</td>\n",
              "      <td>Amazon</td>\n",
              "      <td>https://amzn.eu/d/0RnCEOD</td>\n",
              "      <td>This phone is not working properly with whatsa...</td>\n",
              "      <td>[phone, working, properly, whatsapp, especiall...</td>\n",
              "      <td>Amazon Customer</td>\n",
              "      <td>NaN</td>\n",
              "      <td>0.0</td>\n",
              "      <td>0.550</td>\n",
              "      <td>Neutral</td>\n",
              "    </tr>\n",
              "    <tr>\n",
              "      <th>78</th>\n",
              "      <td>B077PWBC78</td>\n",
              "      <td>Redmi Note 9 Pro(Interstellar Black, 4GB RAM, ...</td>\n",
              "      <td>Xiaomi</td>\n",
              "      <td>Amazon</td>\n",
              "      <td>https://amzn.eu/d/icOq50r</td>\n",
              "      <td>Basic Functionality Issue</td>\n",
              "      <td>[year, call, cant, possible, phone, call, work...</td>\n",
              "      <td>Aditya Bhuyan</td>\n",
              "      <td>2</td>\n",
              "      <td>0.0</td>\n",
              "      <td>0.825</td>\n",
              "      <td>Neutral</td>\n",
              "    </tr>\n",
              "    <tr>\n",
              "      <th>...</th>\n",
              "      <td>...</td>\n",
              "      <td>...</td>\n",
              "      <td>...</td>\n",
              "      <td>...</td>\n",
              "      <td>...</td>\n",
              "      <td>...</td>\n",
              "      <td>...</td>\n",
              "      <td>...</td>\n",
              "      <td>...</td>\n",
              "      <td>...</td>\n",
              "      <td>...</td>\n",
              "      <td>...</td>\n",
              "    </tr>\n",
              "    <tr>\n",
              "      <th>1419</th>\n",
              "      <td>B09WYXDNWW</td>\n",
              "      <td>realme narzo 50A Prime (Flash Black, 4GB RAM+1...</td>\n",
              "      <td>Realme</td>\n",
              "      <td>Amazon</td>\n",
              "      <td>https://www.amazon.in/realme-Storage-Display-C...</td>\n",
              "      <td>Delivery is on time</td>\n",
              "      <td>[delivered, timely, thisbox, screen, protectio...</td>\n",
              "      <td>T Sridhar</td>\n",
              "      <td>3</td>\n",
              "      <td>0.0</td>\n",
              "      <td>0.000</td>\n",
              "      <td>Neutral</td>\n",
              "    </tr>\n",
              "    <tr>\n",
              "      <th>1420</th>\n",
              "      <td>B09WYXDNWW</td>\n",
              "      <td>realme narzo 50A Prime (Flash Black, 4GB RAM+1...</td>\n",
              "      <td>Realme</td>\n",
              "      <td>Amazon</td>\n",
              "      <td>https://www.amazon.in/realme-Storage-Display-C...</td>\n",
              "      <td>We have not received screen protector film.</td>\n",
              "      <td>[received, screen, protector, film]</td>\n",
              "      <td>Mahesh Godase</td>\n",
              "      <td>3</td>\n",
              "      <td>0.0</td>\n",
              "      <td>0.000</td>\n",
              "      <td>Neutral</td>\n",
              "    </tr>\n",
              "    <tr>\n",
              "      <th>1469</th>\n",
              "      <td>B09T39K9YL</td>\n",
              "      <td>Redmi Note 11 Pro + 5G (Stealth Black, 6GB RAM...</td>\n",
              "      <td>Xiaomi</td>\n",
              "      <td>Amazon</td>\n",
              "      <td>https://www.amazon.in/Redmi-Stealth-Additional...</td>\n",
              "      <td>Overall phone is good.</td>\n",
              "      <td>[must, nfc, support, phone]</td>\n",
              "      <td>Prashant pandey</td>\n",
              "      <td>4</td>\n",
              "      <td>0.0</td>\n",
              "      <td>0.000</td>\n",
              "      <td>Neutral</td>\n",
              "    </tr>\n",
              "    <tr>\n",
              "      <th>1473</th>\n",
              "      <td>B09T39K9YL</td>\n",
              "      <td>Redmi Note 11 Pro + 5G (Stealth Black, 6GB RAM...</td>\n",
              "      <td>Xiaomi</td>\n",
              "      <td>Amazon</td>\n",
              "      <td>https://www.amazon.in/Redmi-Stealth-Additional...</td>\n",
              "      <td>Great deal</td>\n",
              "      <td>[though, touch, issue, software, issue, creati...</td>\n",
              "      <td>Dipsagar M.</td>\n",
              "      <td>4</td>\n",
              "      <td>0.0</td>\n",
              "      <td>0.000</td>\n",
              "      <td>Neutral</td>\n",
              "    </tr>\n",
              "    <tr>\n",
              "      <th>1477</th>\n",
              "      <td>B09T39K9YL</td>\n",
              "      <td>Redmi Note 11 Pro + 5G (Stealth Black, 6GB RAM...</td>\n",
              "      <td>Xiaomi</td>\n",
              "      <td>Amazon</td>\n",
              "      <td>https://www.amazon.in/Redmi-Stealth-Additional...</td>\n",
              "      <td>Review</td>\n",
              "      <td>[moderate]</td>\n",
              "      <td>Priyam</td>\n",
              "      <td>4</td>\n",
              "      <td>0.0</td>\n",
              "      <td>0.700</td>\n",
              "      <td>Neutral</td>\n",
              "    </tr>\n",
              "  </tbody>\n",
              "</table>\n",
              "<p>86 rows × 12 columns</p>\n",
              "</div>\n",
              "      <button class=\"colab-df-convert\" onclick=\"convertToInteractive('df-0e0057c5-d19b-42bb-ac73-f3626ac70e11')\"\n",
              "              title=\"Convert this dataframe to an interactive table.\"\n",
              "              style=\"display:none;\">\n",
              "        \n",
              "  <svg xmlns=\"http://www.w3.org/2000/svg\" height=\"24px\"viewBox=\"0 0 24 24\"\n",
              "       width=\"24px\">\n",
              "    <path d=\"M0 0h24v24H0V0z\" fill=\"none\"/>\n",
              "    <path d=\"M18.56 5.44l.94 2.06.94-2.06 2.06-.94-2.06-.94-.94-2.06-.94 2.06-2.06.94zm-11 1L8.5 8.5l.94-2.06 2.06-.94-2.06-.94L8.5 2.5l-.94 2.06-2.06.94zm10 10l.94 2.06.94-2.06 2.06-.94-2.06-.94-.94-2.06-.94 2.06-2.06.94z\"/><path d=\"M17.41 7.96l-1.37-1.37c-.4-.4-.92-.59-1.43-.59-.52 0-1.04.2-1.43.59L10.3 9.45l-7.72 7.72c-.78.78-.78 2.05 0 2.83L4 21.41c.39.39.9.59 1.41.59.51 0 1.02-.2 1.41-.59l7.78-7.78 2.81-2.81c.8-.78.8-2.07 0-2.86zM5.41 20L4 18.59l7.72-7.72 1.47 1.35L5.41 20z\"/>\n",
              "  </svg>\n",
              "      </button>\n",
              "      \n",
              "  <style>\n",
              "    .colab-df-container {\n",
              "      display:flex;\n",
              "      flex-wrap:wrap;\n",
              "      gap: 12px;\n",
              "    }\n",
              "\n",
              "    .colab-df-convert {\n",
              "      background-color: #E8F0FE;\n",
              "      border: none;\n",
              "      border-radius: 50%;\n",
              "      cursor: pointer;\n",
              "      display: none;\n",
              "      fill: #1967D2;\n",
              "      height: 32px;\n",
              "      padding: 0 0 0 0;\n",
              "      width: 32px;\n",
              "    }\n",
              "\n",
              "    .colab-df-convert:hover {\n",
              "      background-color: #E2EBFA;\n",
              "      box-shadow: 0px 1px 2px rgba(60, 64, 67, 0.3), 0px 1px 3px 1px rgba(60, 64, 67, 0.15);\n",
              "      fill: #174EA6;\n",
              "    }\n",
              "\n",
              "    [theme=dark] .colab-df-convert {\n",
              "      background-color: #3B4455;\n",
              "      fill: #D2E3FC;\n",
              "    }\n",
              "\n",
              "    [theme=dark] .colab-df-convert:hover {\n",
              "      background-color: #434B5C;\n",
              "      box-shadow: 0px 1px 3px 1px rgba(0, 0, 0, 0.15);\n",
              "      filter: drop-shadow(0px 1px 2px rgba(0, 0, 0, 0.3));\n",
              "      fill: #FFFFFF;\n",
              "    }\n",
              "  </style>\n",
              "\n",
              "      <script>\n",
              "        const buttonEl =\n",
              "          document.querySelector('#df-0e0057c5-d19b-42bb-ac73-f3626ac70e11 button.colab-df-convert');\n",
              "        buttonEl.style.display =\n",
              "          google.colab.kernel.accessAllowed ? 'block' : 'none';\n",
              "\n",
              "        async function convertToInteractive(key) {\n",
              "          const element = document.querySelector('#df-0e0057c5-d19b-42bb-ac73-f3626ac70e11');\n",
              "          const dataTable =\n",
              "            await google.colab.kernel.invokeFunction('convertToInteractive',\n",
              "                                                     [key], {});\n",
              "          if (!dataTable) return;\n",
              "\n",
              "          const docLinkHtml = 'Like what you see? Visit the ' +\n",
              "            '<a target=\"_blank\" href=https://colab.research.google.com/notebooks/data_table.ipynb>data table notebook</a>'\n",
              "            + ' to learn more about interactive tables.';\n",
              "          element.innerHTML = '';\n",
              "          dataTable['output_type'] = 'display_data';\n",
              "          await google.colab.output.renderOutput(dataTable, element);\n",
              "          const docLink = document.createElement('div');\n",
              "          docLink.innerHTML = docLinkHtml;\n",
              "          element.appendChild(docLink);\n",
              "        }\n",
              "      </script>\n",
              "    </div>\n",
              "  </div>\n",
              "  "
            ]
          },
          "metadata": {},
          "execution_count": 32
        }
      ]
    },
    {
      "cell_type": "code",
      "source": [
        "df = pd.concat([pcomment,ncomment,Neucomment], axis = 0)\n"
      ],
      "metadata": {
        "id": "1XyfoBnksUQ5"
      },
      "execution_count": null,
      "outputs": []
    },
    {
      "cell_type": "code",
      "source": [
        "df.Class.value_counts()"
      ],
      "metadata": {
        "colab": {
          "base_uri": "https://localhost:8080/"
        },
        "id": "cutxo2wGsUGI",
        "outputId": "0ff8bd49-6333-4736-b5b8-23baacfcfc25"
      },
      "execution_count": null,
      "outputs": [
        {
          "output_type": "execute_result",
          "data": {
            "text/plain": [
              "Positive    614\n",
              "Negative     99\n",
              "Neutral      86\n",
              "Name: Class, dtype: int64"
            ]
          },
          "metadata": {},
          "execution_count": 34
        }
      ]
    },
    {
      "cell_type": "code",
      "source": [
        "import seaborn as sns"
      ],
      "metadata": {
        "id": "BqDyV4w3scHL"
      },
      "execution_count": null,
      "outputs": []
    },
    {
      "cell_type": "code",
      "source": [
        "sns.set(font_scale=1.4)\n",
        "df['Class'].value_counts().plot(kind='barh', figsize=(9, 3))\n",
        "plt.xlabel(\"Number of Comments\", labelpad=12)\n",
        "plt.ylabel(\"Sentiment Class\", labelpad=12)\n",
        "plt.yticks(rotation = 45)\n",
        "plt.title(\"Dataset Distribution\", y=1.02);"
      ],
      "metadata": {
        "colab": {
          "base_uri": "https://localhost:8080/",
          "height": 371
        },
        "id": "dNUpdBefsj5D",
        "outputId": "f790e3ea-ab1c-4a30-e30e-202b52f9aebd"
      },
      "execution_count": null,
      "outputs": [
        {
          "output_type": "display_data",
          "data": {
            "text/plain": [
              "<Figure size 900x300 with 1 Axes>"
            ],
            "image/png": "[encoded data removed]"
          },
          "metadata": {}
        }
      ]
    },
    {
      "cell_type": "markdown",
      "source": [
        "Label Encoder"
      ],
      "metadata": {
        "id": "zitcHYQWsuaK"
      }
    },
    {
      "cell_type": "code",
      "source": [
        "from sklearn.preprocessing import LabelEncoder\n",
        "df['Class'] = LabelEncoder().fit_transform(df['Class'])\n",
        "df['Class']"
      ],
      "metadata": {
        "colab": {
          "base_uri": "https://localhost:8080/"
        },
        "id": "FmNdZQ1NsxPm",
        "outputId": "a60073ad-6702-4c98-98de-3a2cd593b64c"
      },
      "execution_count": null,
      "outputs": [
        {
          "output_type": "execute_result",
          "data": {
            "text/plain": [
              "1       2\n",
              "2       2\n",
              "3       2\n",
              "4       2\n",
              "8       2\n",
              "       ..\n",
              "1419    1\n",
              "1420    1\n",
              "1469    1\n",
              "1473    1\n",
              "1477    1\n",
              "Name: Class, Length: 799, dtype: int64"
            ]
          },
          "metadata": {},
          "execution_count": 37
        }
      ]
    },
    {
      "cell_type": "code",
      "source": [
        "df['review_text'] = df['review_text'].astype(str)\n",
        "df['review_text']\n",
        ""
      ],
      "metadata": {
        "colab": {
          "base_uri": "https://localhost:8080/"
        },
        "id": "95FBUiyFs0Tx",
        "outputId": "58253a40-8e5b-4dc4-de95-676e2d592a35"
      },
      "execution_count": null,
      "outputs": [
        {
          "output_type": "execute_result",
          "data": {
            "text/plain": [
              "1       ['battery', 'good', 'great', 'advertisedruns',...\n",
              "2       ['back', 'side', 'chrome', 'finish', 'started'...\n",
              "3       ['battery', 'life', 'extraordinary', 'need', '...\n",
              "4       ['im', 'writing', 'review', 'year', 'purchase'...\n",
              "8       ['samsung', 'galaxy', 'm01', 'core,2gb,32gb', ...\n",
              "                              ...                        \n",
              "1419    ['delivered', 'timely', 'thisbox', 'screen', '...\n",
              "1420          ['received', 'screen', 'protector', 'film']\n",
              "1469                  ['must', 'nfc', 'support', 'phone']\n",
              "1473    ['though', 'touch', 'issue', 'software', 'issu...\n",
              "1477                                         ['moderate']\n",
              "Name: review_text, Length: 799, dtype: object"
            ]
          },
          "metadata": {},
          "execution_count": 38
        }
      ]
    },
    {
      "cell_type": "code",
      "source": [
        "x = df.review_text.values\n",
        "y= df.Class.values\n"
      ],
      "metadata": {
        "id": "liAWuPXitNtR"
      },
      "execution_count": null,
      "outputs": []
    },
    {
      "cell_type": "code",
      "source": [
        "x.shape,y.shape"
      ],
      "metadata": {
        "colab": {
          "base_uri": "https://localhost:8080/"
        },
        "id": "qAvYnmpMteyc",
        "outputId": "5183f182-f46b-4e65-eea6-e918be0da25e"
      },
      "execution_count": null,
      "outputs": [
        {
          "output_type": "execute_result",
          "data": {
            "text/plain": [
              "((799,), (799,))"
            ]
          },
          "metadata": {},
          "execution_count": 40
        }
      ]
    },
    {
      "cell_type": "markdown",
      "source": [
        "Feature Extraction"
      ],
      "metadata": {
        "id": "i1PDyPsstSid"
      }
    },
    {
      "cell_type": "code",
      "source": [
        "from sklearn.feature_extraction.text import TfidfVectorizer\n",
        "from sklearn.feature_extraction.text import CountVectorizer"
      ],
      "metadata": {
        "id": "cacRLS8VtbFh"
      },
      "execution_count": null,
      "outputs": []
    },
    {
      "cell_type": "code",
      "source": [
        "tf_vector =  TfidfVectorizer()\n",
        "tf_x = tf_vector.fit(x)\n",
        "tf_x = tf_x.transform(x)\n",
        "\n",
        "# Create a CountVectorizer\n",
        "vectorizer = CountVectorizer()\n",
        "vector_fit =  vectorizer.fit(x)\n",
        "vector_test = vectorizer.transform(x)"
      ],
      "metadata": {
        "id": "mQN-PI5_tq-i"
      },
      "execution_count": null,
      "outputs": []
    },
    {
      "cell_type": "code",
      "source": [
        "tf_x.shape,vector_test.shape\n"
      ],
      "metadata": {
        "colab": {
          "base_uri": "https://localhost:8080/"
        },
        "id": "InknsjMwt6c6",
        "outputId": "0885c08d-efdd-4c75-e133-7487935dc777"
      },
      "execution_count": null,
      "outputs": [
        {
          "output_type": "execute_result",
          "data": {
            "text/plain": [
              "((799, 3610), (799, 3610))"
            ]
          },
          "metadata": {},
          "execution_count": 43
        }
      ]
    },
    {
      "cell_type": "code",
      "source": [
        "tf_x.toarray()"
      ],
      "metadata": {
        "colab": {
          "base_uri": "https://localhost:8080/"
        },
        "id": "SbZCvRjauAKz",
        "outputId": "1dd57f21-8c6c-4d11-91a1-f7993d78ee05"
      },
      "execution_count": null,
      "outputs": [
        {
          "output_type": "execute_result",
          "data": {
            "text/plain": [
              "array([[0., 0., 0., ..., 0., 0., 0.],\n",
              "       [0., 0., 0., ..., 0., 0., 0.],\n",
              "       [0., 0., 0., ..., 0., 0., 0.],\n",
              "       ...,\n",
              "       [0., 0., 0., ..., 0., 0., 0.],\n",
              "       [0., 0., 0., ..., 0., 0., 0.],\n",
              "       [0., 0., 0., ..., 0., 0., 0.]])"
            ]
          },
          "metadata": {},
          "execution_count": 44
        }
      ]
    },
    {
      "cell_type": "code",
      "source": [
        "vector_test.toarray()"
      ],
      "metadata": {
        "colab": {
          "base_uri": "https://localhost:8080/"
        },
        "id": "5JIefuWYuC94",
        "outputId": "1fba106a-d5ab-4b4a-8dec-511392fea38d"
      },
      "execution_count": null,
      "outputs": [
        {
          "output_type": "execute_result",
          "data": {
            "text/plain": [
              "array([[0, 0, 0, ..., 0, 0, 0],\n",
              "       [0, 0, 0, ..., 0, 0, 0],\n",
              "       [0, 0, 0, ..., 0, 0, 0],\n",
              "       ...,\n",
              "       [0, 0, 0, ..., 0, 0, 0],\n",
              "       [0, 0, 0, ..., 0, 0, 0],\n",
              "       [0, 0, 0, ..., 0, 0, 0]])"
            ]
          },
          "metadata": {},
          "execution_count": 45
        }
      ]
    },
    {
      "cell_type": "code",
      "source": [
        "from imblearn.over_sampling import SMOTE, ADASYN\n",
        "import collections\n",
        "x_resampled, y_resampled = SMOTE().fit_resample(tf_x,y)\n",
        "print(sorted(collections.Counter(y_resampled).items()))"
      ],
      "metadata": {
        "colab": {
          "base_uri": "https://localhost:8080/"
        },
        "id": "scz_7LE1uDTf",
        "outputId": "c72e4233-f873-4a92-cdda-82cde477cfd6"
      },
      "execution_count": null,
      "outputs": [
        {
          "output_type": "stream",
          "name": "stdout",
          "text": [
            "[(0, 614), (1, 614), (2, 614)]\n"
          ]
        }
      ]
    },
    {
      "cell_type": "code",
      "source": [
        "import matplotlib.pyplot as plt\n",
        "%matplotlib inline\n",
        "#Miscellanous libraries\n",
        "from collections import Counter"
      ],
      "metadata": {
        "id": "2ybtftp9uDzg"
      },
      "execution_count": null,
      "outputs": []
    },
    {
      "cell_type": "code",
      "source": [
        "counter = Counter(y_resampled)\n",
        "for k,v in counter.items():\n",
        "    per = v / len(y) * 100\n",
        "    print('Class=%d, n=%d (%.3f%%)' % (k, v, per))\n",
        "plt.bar(counter.keys(), counter.values())\n",
        "plt.show()"
      ],
      "metadata": {
        "colab": {
          "base_uri": "https://localhost:8080/",
          "height": 491
        },
        "id": "DFcRyf3TuzDw",
        "outputId": "c9b211f1-fe94-4df0-9e05-505e2b1b2403"
      },
      "execution_count": null,
      "outputs": [
        {
          "output_type": "stream",
          "name": "stdout",
          "text": [
            "Class=2, n=614 (76.846%)\n",
            "Class=0, n=614 (76.846%)\n",
            "Class=1, n=614 (76.846%)\n"
          ]
        },
        {
          "output_type": "display_data",
          "data": {
            "text/plain": [
              "<Figure size 640x480 with 1 Axes>"
            ],
            "image/png": "[encoded data removed]"
          },
          "metadata": {}
        }
      ]
    },
    {
      "cell_type": "code",
      "source": [
        "x_resampled.shape,y_resampled.shape"
      ],
      "metadata": {
        "colab": {
          "base_uri": "https://localhost:8080/"
        },
        "id": "TaC4MYK7vBQ1",
        "outputId": "88c1556f-505d-442d-8913-dc8cdd9ae291"
      },
      "execution_count": null,
      "outputs": [
        {
          "output_type": "execute_result",
          "data": {
            "text/plain": [
              "((1842, 3610), (1842,))"
            ]
          },
          "metadata": {},
          "execution_count": 49
        }
      ]
    },
    {
      "cell_type": "code",
      "source": [
        "from imblearn.over_sampling import SMOTE, ADASYN\n",
        "import collections\n",
        "x_sampled, y_resampled=SMOTE().fit_resample(vector_test,y)\n",
        "print(sorted(collections.Counter(y_resampled).items()))"
      ],
      "metadata": {
        "colab": {
          "base_uri": "https://localhost:8080/"
        },
        "id": "SO5uJua8wskW",
        "outputId": "009cfa60-5ced-4f90-ab95-c4a565d234e7"
      },
      "execution_count": null,
      "outputs": [
        {
          "output_type": "stream",
          "name": "stdout",
          "text": [
            "[(0, 614), (1, 614), (2, 614)]\n"
          ]
        }
      ]
    },
    {
      "cell_type": "code",
      "source": [
        "from sklearn.model_selection import train_test_split\n",
        "X_train, X_test, y_train, y_test = train_test_split(x_resampled, y_resampled, train_size=0.80, shuffle=True, random_state=95)"
      ],
      "metadata": {
        "id": "g2D5zC7EYA2_"
      },
      "execution_count": null,
      "outputs": []
    },
    {
      "cell_type": "code",
      "source": [
        "from sklearn.ensemble import RandomForestClassifier\n",
        "rf = RandomForestClassifier()\n",
        "#Model fitting\n",
        "rf.fit(X_train,y_train)\n",
        "\n",
        "#testing the model\n",
        "rf.score(X_test,y_test)"
      ],
      "metadata": {
        "colab": {
          "base_uri": "https://localhost:8080/"
        },
        "id": "ZhoJhxd0YJue",
        "outputId": "9778e414-7951-4b2d-d1d4-5587df5b4cfa"
      },
      "execution_count": null,
      "outputs": [
        {
          "output_type": "execute_result",
          "data": {
            "text/plain": [
              "0.9295392953929539"
            ]
          },
          "metadata": {},
          "execution_count": 52
        }
      ]
    },
    {
      "cell_type": "code",
      "source": [
        "pred = rf.predict(X_test)"
      ],
      "metadata": {
        "id": "fMPSC8gJYU3u"
      },
      "execution_count": null,
      "outputs": []
    },
    {
      "cell_type": "code",
      "source": [
        "comment=['Best service ever . On time, products as promised. Great quality.']\n",
        "tf1_comment=vectorizer.transform(comment)\n",
        "result=rf.predict(tf1_comment)\n",
        "if result[0] == 1:\n",
        "  print('neutral')\n",
        "elif result[0]==0:\n",
        "  print('negative')\n",
        "else:\n",
        "  print('positive')\n"
      ],
      "metadata": {
        "colab": {
          "base_uri": "https://localhost:8080/"
        },
        "id": "MNqsV7RCYcBu",
        "outputId": "42c9ebd0-8df5-40ae-8305-f9a6c9269eb7"
      },
      "execution_count": null,
      "outputs": [
        {
          "output_type": "stream",
          "name": "stdout",
          "text": [
            "positive\n"
          ]
        }
      ]
    },
    {
      "cell_type": "markdown",
      "source": [
        "Confusion Matrix"
      ],
      "metadata": {
        "id": "vIjgDJQ2Zovm"
      }
    },
    {
      "cell_type": "code",
      "source": [
        "comment=['worst product third class quality.']\n",
        "tf1_comment=vectorizer.transform(comment)\n",
        "result=rf.predict(tf1_comment)\n",
        "if result[0] == 1:\n",
        "  print('neutral')\n",
        "elif result[0]==0:\n",
        "  print('negative')\n",
        "else:\n",
        "  print('positive')\n"
      ],
      "metadata": {
        "colab": {
          "base_uri": "https://localhost:8080/"
        },
        "id": "LK1-J0NsMaC7",
        "outputId": "1c7d7621-05b9-45b2-9ad6-6c17b2e889c1"
      },
      "execution_count": null,
      "outputs": [
        {
          "output_type": "stream",
          "name": "stdout",
          "text": [
            "negative\n"
          ]
        }
      ]
    },
    {
      "cell_type": "code",
      "source": [
        "comment=['Fine.']\n",
        "tf1_comment=vectorizer.transform(comment)\n",
        "result=rf.predict(tf1_comment)\n",
        "if result[0] == 1:\n",
        "  print('neutral')\n",
        "elif result[0]==0:\n",
        "  print('negative')\n",
        "else:\n",
        "  print('positive')\n"
      ],
      "metadata": {
        "colab": {
          "base_uri": "https://localhost:8080/"
        },
        "id": "k4mXoOLOM2IJ",
        "outputId": "956dd47c-d3a8-4aaf-c038-d4f0eba951f2"
      },
      "execution_count": null,
      "outputs": [
        {
          "output_type": "stream",
          "name": "stdout",
          "text": [
            "neutral\n"
          ]
        }
      ]
    },
    {
      "cell_type": "code",
      "source": [
        "from sklearn.metrics import accuracy_score,confusion_matrix,precision_recall_fscore_support,classification_report,roc_curve"
      ],
      "metadata": {
        "id": "FapxNh72Zsx1"
      },
      "execution_count": null,
      "outputs": []
    },
    {
      "cell_type": "code",
      "source": [
        "print(classification_report(y_test,pred))"
      ],
      "metadata": {
        "colab": {
          "base_uri": "https://localhost:8080/"
        },
        "id": "PdJ_2mByaBR-",
        "outputId": "3190a5ca-a389-42e2-addf-3e879eedcdd8"
      },
      "execution_count": null,
      "outputs": [
        {
          "output_type": "stream",
          "name": "stdout",
          "text": [
            "              precision    recall  f1-score   support\n",
            "\n",
            "           0       0.95      0.95      0.95       120\n",
            "           1       0.89      0.98      0.94       126\n",
            "           2       0.95      0.85      0.90       123\n",
            "\n",
            "    accuracy                           0.93       369\n",
            "   macro avg       0.93      0.93      0.93       369\n",
            "weighted avg       0.93      0.93      0.93       369\n",
            "\n"
          ]
        }
      ]
    },
    {
      "cell_type": "code",
      "source": [
        "print('Accuracy Score:',accuracy_score(y_test,pred))"
      ],
      "metadata": {
        "colab": {
          "base_uri": "https://localhost:8080/"
        },
        "id": "mYWARSM1aYWb",
        "outputId": "26e09033-c0eb-4b4d-d062-b377f04738a0"
      },
      "execution_count": null,
      "outputs": [
        {
          "output_type": "stream",
          "name": "stdout",
          "text": [
            "Accuracy Score: 0.9295392953929539\n"
          ]
        }
      ]
    },
    {
      "cell_type": "code",
      "source": [
        "conf_m=confusion_matrix(y_test,pred)\n",
        "sns.heatmap(conf_m,linewidths=1,annot=True,fmt='g')"
      ],
      "metadata": {
        "colab": {
          "base_uri": "https://localhost:8080/",
          "height": 456
        },
        "id": "MKuhHzaSaQBU",
        "outputId": "00d2f51f-27bf-44fd-8779-34c42fef7f7f"
      },
      "execution_count": null,
      "outputs": [
        {
          "output_type": "execute_result",
          "data": {
            "text/plain": [
              "<Axes: >"
            ]
          },
          "metadata": {},
          "execution_count": 60
        },
        {
          "output_type": "display_data",
          "data": {
            "text/plain": [
              "<Figure size 640x480 with 2 Axes>"
            ],
            "image/png": "[encoded data removed]"
          },
          "metadata": {}
        }
      ]
    },
    {
      "cell_type": "markdown",
      "source": [
        "SVM"
      ],
      "metadata": {
        "id": "TOm5dzGeaqht"
      }
    },
    {
      "cell_type": "code",
      "source": [
        "from sklearn.svm import SVC"
      ],
      "metadata": {
        "id": "yIw2RIwWar_8"
      },
      "execution_count": null,
      "outputs": []
    },
    {
      "cell_type": "code",
      "source": [
        "model_svm=SVC()"
      ],
      "metadata": {
        "id": "X7U49AhvaxmV"
      },
      "execution_count": null,
      "outputs": []
    },
    {
      "cell_type": "code",
      "source": [
        "model_svm.fit(X_train,y_train)\n",
        "model_svm.score(X_test,y_test)"
      ],
      "metadata": {
        "colab": {
          "base_uri": "https://localhost:8080/"
        },
        "id": "L0vmMODka0M8",
        "outputId": "26bfac21-ac11-407c-832f-95ec99299fc2"
      },
      "execution_count": null,
      "outputs": [
        {
          "output_type": "execute_result",
          "data": {
            "text/plain": [
              "0.986449864498645"
            ]
          },
          "metadata": {},
          "execution_count": 98
        }
      ]
    },
    {
      "cell_type": "code",
      "source": [
        "pred = model_svm.predict(X_test)\n",
        "pred"
      ],
      "metadata": {
        "id": "uKKrIPKqa9vM",
        "colab": {
          "base_uri": "https://localhost:8080/"
        },
        "outputId": "f627313f-64e3-4031-e129-7d6b974f1ed0"
      },
      "execution_count": null,
      "outputs": [
        {
          "output_type": "execute_result",
          "data": {
            "text/plain": [
              "array([2, 2, 0, 2, 1, 1, 1, 2, 0, 0, 0, 1, 0, 1, 2, 0, 1, 1, 1, 2, 1, 0,\n",
              "       0, 2, 0, 2, 1, 2, 0, 1, 0, 1, 0, 2, 0, 0, 2, 2, 1, 1, 1, 2, 2, 2,\n",
              "       1, 0, 2, 0, 1, 0, 2, 2, 2, 0, 2, 2, 2, 0, 2, 2, 2, 0, 1, 2, 0, 2,\n",
              "       0, 0, 2, 0, 0, 0, 1, 0, 2, 1, 1, 2, 2, 1, 2, 2, 1, 1, 1, 1, 1, 0,\n",
              "       1, 1, 1, 1, 0, 1, 0, 1, 0, 0, 2, 0, 1, 0, 2, 1, 1, 2, 2, 0, 0, 1,\n",
              "       2, 0, 1, 2, 1, 0, 1, 1, 2, 1, 1, 1, 1, 0, 1, 2, 1, 0, 1, 0, 0, 1,\n",
              "       2, 1, 0, 1, 2, 2, 0, 1, 0, 1, 1, 0, 2, 1, 2, 0, 2, 1, 2, 0, 1, 0,\n",
              "       0, 1, 2, 0, 0, 1, 0, 1, 2, 2, 1, 2, 1, 2, 0, 0, 0, 2, 2, 0, 1, 0,\n",
              "       2, 0, 2, 2, 0, 2, 1, 2, 0, 1, 1, 1, 2, 1, 1, 2, 0, 2, 1, 2, 2, 0,\n",
              "       2, 2, 2, 2, 2, 0, 0, 2, 1, 1, 2, 0, 1, 1, 0, 2, 0, 2, 0, 2, 0, 2,\n",
              "       0, 2, 1, 2, 1, 2, 1, 2, 0, 1, 1, 1, 2, 0, 2, 2, 1, 0, 0, 1, 0, 2,\n",
              "       2, 0, 2, 0, 0, 1, 1, 0, 1, 1, 0, 2, 2, 0, 1, 2, 2, 1, 2, 2, 1, 2,\n",
              "       0, 2, 2, 0, 1, 0, 0, 0, 2, 0, 2, 2, 2, 0, 0, 0, 2, 1, 1, 2, 1, 0,\n",
              "       2, 1, 1, 1, 2, 0, 2, 0, 1, 0, 2, 1, 1, 0, 0, 2, 2, 0, 0, 2, 1, 1,\n",
              "       1, 1, 2, 1, 1, 0, 0, 2, 1, 0, 0, 1, 1, 2, 0, 2, 0, 1, 1, 1, 0, 1,\n",
              "       2, 2, 0, 2, 0, 1, 0, 0, 2, 0, 1, 1, 1, 2, 2, 0, 1, 2, 0, 2, 1, 1,\n",
              "       0, 2, 0, 2, 2, 1, 1, 1, 2, 0, 1, 2, 0, 1, 2, 2, 0])"
            ]
          },
          "metadata": {},
          "execution_count": 100
        }
      ]
    },
    {
      "cell_type": "code",
      "source": [
        "import pickle\n",
        "with open('modelsvm.pkl','wb') as f:\n",
        "  pickle.dump(model_svm,f)"
      ],
      "metadata": {
        "id": "mAWJnGQ0e260"
      },
      "execution_count": null,
      "outputs": []
    },
    {
      "cell_type": "code",
      "source": [
        "comment=['this product is poor','Product is very good,fit is good','where the product is produced']\n",
        "vect_comment=vectorizer.transform(comment)\n",
        "model_svm.predict(vect_comment)"
      ],
      "metadata": {
        "colab": {
          "base_uri": "https://localhost:8080/"
        },
        "id": "UFNVbUV_bHxs",
        "outputId": "3e1630a6-3ce3-400a-882d-5bc55ac9d360"
      },
      "execution_count": null,
      "outputs": [
        {
          "output_type": "execute_result",
          "data": {
            "text/plain": [
              "array([2, 2, 2])"
            ]
          },
          "metadata": {},
          "execution_count": 65
        }
      ]
    },
    {
      "cell_type": "markdown",
      "source": [
        "Confusion Matrix"
      ],
      "metadata": {
        "id": "eKjHZ-LNcINE"
      }
    },
    {
      "cell_type": "code",
      "source": [
        "print(classification_report(y_test,pred))"
      ],
      "metadata": {
        "colab": {
          "base_uri": "https://localhost:8080/"
        },
        "id": "MizuYGwhcDM0",
        "outputId": "fe3712b3-496d-4c91-b887-1ba5c8fae8f0"
      },
      "execution_count": null,
      "outputs": [
        {
          "output_type": "stream",
          "name": "stdout",
          "text": [
            "              precision    recall  f1-score   support\n",
            "\n",
            "           0       0.99      0.97      0.98       120\n",
            "           1       1.00      0.98      0.99       126\n",
            "           2       0.97      1.00      0.98       123\n",
            "\n",
            "    accuracy                           0.99       369\n",
            "   macro avg       0.99      0.99      0.99       369\n",
            "weighted avg       0.99      0.99      0.99       369\n",
            "\n"
          ]
        }
      ]
    },
    {
      "cell_type": "code",
      "source": [
        "conf_m=confusion_matrix(y_test,pred)\n",
        "sns.heatmap(conf_m,linewidths=1,annot=True,fmt='g')"
      ],
      "metadata": {
        "colab": {
          "base_uri": "https://localhost:8080/",
          "height": 456
        },
        "id": "hj_i3LgpcRpS",
        "outputId": "66f48470-3888-4046-a302-51e0db41f2fc"
      },
      "execution_count": null,
      "outputs": [
        {
          "output_type": "execute_result",
          "data": {
            "text/plain": [
              "<Axes: >"
            ]
          },
          "metadata": {},
          "execution_count": 67
        },
        {
          "output_type": "display_data",
          "data": {
            "text/plain": [
              "<Figure size 640x480 with 2 Axes>"
            ],
            "image/png": "[encoded data removed]"
          },
          "metadata": {}
        }
      ]
    },
    {
      "cell_type": "markdown",
      "source": [
        "Decision Tree Classifier"
      ],
      "metadata": {
        "id": "-O6_3kq1cj66"
      }
    },
    {
      "cell_type": "code",
      "source": [
        "from sklearn.tree import DecisionTreeClassifier"
      ],
      "metadata": {
        "id": "LaUMJS2mcmby"
      },
      "execution_count": null,
      "outputs": []
    },
    {
      "cell_type": "code",
      "source": [
        "classifier=DecisionTreeClassifier()\n",
        "classifier.fit(X_train,y_train)\n",
        "classifier.score(X_test,y_test)"
      ],
      "metadata": {
        "colab": {
          "base_uri": "https://localhost:8080/"
        },
        "id": "1SrHO2Jncsik",
        "outputId": "deebd154-f7b6-4d6f-fcae-c2502838aa14"
      },
      "execution_count": null,
      "outputs": [
        {
          "output_type": "execute_result",
          "data": {
            "text/plain": [
              "0.8997289972899729"
            ]
          },
          "metadata": {},
          "execution_count": 69
        }
      ]
    },
    {
      "cell_type": "code",
      "source": [
        "pred=classifier.predict(X_test)"
      ],
      "metadata": {
        "id": "8YiMzpHcc99S"
      },
      "execution_count": null,
      "outputs": []
    },
    {
      "cell_type": "markdown",
      "source": [
        "Confusion Matrix"
      ],
      "metadata": {
        "id": "rs0WkCBTdkjD"
      }
    },
    {
      "cell_type": "code",
      "source": [
        "print(classification_report(y_test,pred))"
      ],
      "metadata": {
        "colab": {
          "base_uri": "https://localhost:8080/"
        },
        "id": "1Qbc1PR-dmE1",
        "outputId": "34692356-00ac-4958-bfe6-4daaf0331f67"
      },
      "execution_count": null,
      "outputs": [
        {
          "output_type": "stream",
          "name": "stdout",
          "text": [
            "              precision    recall  f1-score   support\n",
            "\n",
            "           0       0.91      0.89      0.90       120\n",
            "           1       0.88      0.99      0.93       126\n",
            "           2       0.92      0.81      0.86       123\n",
            "\n",
            "    accuracy                           0.90       369\n",
            "   macro avg       0.90      0.90      0.90       369\n",
            "weighted avg       0.90      0.90      0.90       369\n",
            "\n"
          ]
        }
      ]
    },
    {
      "cell_type": "code",
      "source": [
        "conf_m=confusion_matrix(y_test,pred)\n",
        "sns.heatmap(conf_m,linewidths=1,annot=True,fmt='g')"
      ],
      "metadata": {
        "colab": {
          "base_uri": "https://localhost:8080/",
          "height": 456
        },
        "id": "_ygjlWZyd_ix",
        "outputId": "9eaf8a2b-4846-460f-c59b-63311391be61"
      },
      "execution_count": null,
      "outputs": [
        {
          "output_type": "execute_result",
          "data": {
            "text/plain": [
              "<Axes: >"
            ]
          },
          "metadata": {},
          "execution_count": 72
        },
        {
          "output_type": "display_data",
          "data": {
            "text/plain": [
              "<Figure size 640x480 with 2 Axes>"
            ],
            "image/png": "[encoded data removed]"
          },
          "metadata": {}
        }
      ]
    },
    {
      "cell_type": "markdown",
      "source": [
        "Logistic Regression"
      ],
      "metadata": {
        "id": "qhLMoguSfIZA"
      }
    },
    {
      "cell_type": "code",
      "source": [
        "from sklearn.linear_model import LogisticRegression\n",
        "model=LogisticRegression()\n",
        "\n",
        "#model fitting\n",
        "model.fit(X_train,y_train)\n",
        "\n",
        "#testing the model\n",
        "model.score(X_test,y_test)"
      ],
      "metadata": {
        "colab": {
          "base_uri": "https://localhost:8080/"
        },
        "id": "ej6QrNnrfLK_",
        "outputId": "8a1704da-3e42-4f07-b63a-07590c18c160"
      },
      "execution_count": null,
      "outputs": [
        {
          "output_type": "execute_result",
          "data": {
            "text/plain": [
              "0.9376693766937669"
            ]
          },
          "metadata": {},
          "execution_count": 73
        }
      ]
    },
    {
      "cell_type": "code",
      "source": [
        "pred=model.predict(X_test)"
      ],
      "metadata": {
        "id": "SPtDhNwIgHMW"
      },
      "execution_count": null,
      "outputs": []
    },
    {
      "cell_type": "markdown",
      "source": [
        "Confusion Matrix"
      ],
      "metadata": {
        "id": "Y3Mzgig4gSBf"
      }
    },
    {
      "cell_type": "code",
      "source": [
        "print(classification_report(y_test,pred))"
      ],
      "metadata": {
        "colab": {
          "base_uri": "https://localhost:8080/"
        },
        "id": "tJNXdn6fgUG_",
        "outputId": "1d7aa501-0167-4c66-f41a-66f78e0a9fe2"
      },
      "execution_count": null,
      "outputs": [
        {
          "output_type": "stream",
          "name": "stdout",
          "text": [
            "              precision    recall  f1-score   support\n",
            "\n",
            "           0       0.94      0.97      0.96       120\n",
            "           1       0.93      0.96      0.95       126\n",
            "           2       0.94      0.88      0.91       123\n",
            "\n",
            "    accuracy                           0.94       369\n",
            "   macro avg       0.94      0.94      0.94       369\n",
            "weighted avg       0.94      0.94      0.94       369\n",
            "\n"
          ]
        }
      ]
    },
    {
      "cell_type": "code",
      "source": [
        "conf_m=confusion_matrix(y_test,pred)\n",
        "sns.heatmap(conf_m,linewidths=1,annot=True,fmt='g')"
      ],
      "metadata": {
        "colab": {
          "base_uri": "https://localhost:8080/",
          "height": 461
        },
        "id": "5qzGse3cgZFO",
        "outputId": "1fa467b0-2019-4a27-aaae-87f9891551ba"
      },
      "execution_count": null,
      "outputs": [
        {
          "output_type": "execute_result",
          "data": {
            "text/plain": [
              "<Axes: >"
            ]
          },
          "metadata": {},
          "execution_count": 76
        },
        {
          "output_type": "display_data",
          "data": {
            "text/plain": [
              "<Figure size 640x480 with 2 Axes>"
            ],
            "image/png": "[encoded data removed]"
          },
          "metadata": {}
        }
      ]
    },
    {
      "cell_type": "markdown",
      "source": [
        "Multinomial Naive Bayes"
      ],
      "metadata": {
        "id": "KvOgjDNpglv_"
      }
    },
    {
      "cell_type": "code",
      "source": [
        "from sklearn.naive_bayes import MultinomialNB"
      ],
      "metadata": {
        "id": "BqC6MZN7gq8W"
      },
      "execution_count": null,
      "outputs": []
    },
    {
      "cell_type": "code",
      "source": [
        "model=MultinomialNB()\n",
        "model.fit(X_train,y_train)\n",
        "model.score(X_test,y_test)"
      ],
      "metadata": {
        "colab": {
          "base_uri": "https://localhost:8080/"
        },
        "id": "v3zqEfB6gxIu",
        "outputId": "cf18085b-f42b-4b78-a6fa-f160fae77679"
      },
      "execution_count": null,
      "outputs": [
        {
          "output_type": "execute_result",
          "data": {
            "text/plain": [
              "0.9051490514905149"
            ]
          },
          "metadata": {},
          "execution_count": 78
        }
      ]
    },
    {
      "cell_type": "code",
      "source": [
        "pred=model.predict(X_test)"
      ],
      "metadata": {
        "id": "p-yq-HtVg77m"
      },
      "execution_count": null,
      "outputs": []
    },
    {
      "cell_type": "markdown",
      "source": [
        "Confusion Matrix"
      ],
      "metadata": {
        "id": "woY61_OzhBl2"
      }
    },
    {
      "cell_type": "code",
      "source": [
        "print(classification_report(y_test,pred))"
      ],
      "metadata": {
        "colab": {
          "base_uri": "https://localhost:8080/"
        },
        "id": "4Zgw301hhEGo",
        "outputId": "b0868fdd-8b0c-4c6c-fe04-7132e9772bdb"
      },
      "execution_count": null,
      "outputs": [
        {
          "output_type": "stream",
          "name": "stdout",
          "text": [
            "              precision    recall  f1-score   support\n",
            "\n",
            "           0       0.84      0.97      0.90       120\n",
            "           1       0.98      0.90      0.94       126\n",
            "           2       0.91      0.85      0.88       123\n",
            "\n",
            "    accuracy                           0.91       369\n",
            "   macro avg       0.91      0.91      0.91       369\n",
            "weighted avg       0.91      0.91      0.91       369\n",
            "\n"
          ]
        }
      ]
    },
    {
      "cell_type": "code",
      "source": [
        "conf_m=confusion_matrix(y_test,pred)\n",
        "sns.heatmap(conf_m,linewidths=1,annot=True,fmt='g')"
      ],
      "metadata": {
        "colab": {
          "base_uri": "https://localhost:8080/",
          "height": 456
        },
        "id": "OAGRrEDKhLp-",
        "outputId": "f75bcedb-f0b0-48f1-f947-c7361942a658"
      },
      "execution_count": null,
      "outputs": [
        {
          "output_type": "execute_result",
          "data": {
            "text/plain": [
              "<Axes: >"
            ]
          },
          "metadata": {},
          "execution_count": 81
        },
        {
          "output_type": "display_data",
          "data": {
            "text/plain": [
              "<Figure size 640x480 with 2 Axes>"
            ],
            "image/png": "[encoded data removed]"
          },
          "metadata": {}
        }
      ]
    },
    {
      "cell_type": "markdown",
      "source": [
        "K-Nearest NeighBors Classifier"
      ],
      "metadata": {
        "id": "WsWRl_athQJt"
      }
    },
    {
      "cell_type": "code",
      "source": [
        "from sklearn.neighbors import KNeighborsClassifier\n",
        "knn=KNeighborsClassifier()\n",
        "\n",
        "#Model fiting\n",
        "knn.fit(X_train,y_train)\n",
        "\n",
        "#testing\n",
        "knn.score(X_test,y_test)"
      ],
      "metadata": {
        "colab": {
          "base_uri": "https://localhost:8080/"
        },
        "id": "J8mR4M_xhVNd",
        "outputId": "c0b4bedd-a581-4645-daf8-f52b66086798"
      },
      "execution_count": null,
      "outputs": [
        {
          "output_type": "execute_result",
          "data": {
            "text/plain": [
              "0.6829268292682927"
            ]
          },
          "metadata": {},
          "execution_count": 82
        }
      ]
    },
    {
      "cell_type": "code",
      "source": [
        "pred=knn.predict(X_test)"
      ],
      "metadata": {
        "id": "lQrPF_M0ht1N"
      },
      "execution_count": null,
      "outputs": []
    },
    {
      "cell_type": "markdown",
      "source": [
        "Confusion Matrix"
      ],
      "metadata": {
        "id": "BMvMj396hx69"
      }
    },
    {
      "cell_type": "code",
      "source": [
        "print(classification_report(y_test,pred))"
      ],
      "metadata": {
        "colab": {
          "base_uri": "https://localhost:8080/"
        },
        "id": "S-rIqf3IhzoX",
        "outputId": "edfae25b-3270-4d40-d2d4-bef2a2054852"
      },
      "execution_count": null,
      "outputs": [
        {
          "output_type": "stream",
          "name": "stdout",
          "text": [
            "              precision    recall  f1-score   support\n",
            "\n",
            "           0       0.94      0.97      0.95       120\n",
            "           1       0.54      1.00      0.70       126\n",
            "           2       0.91      0.08      0.15       123\n",
            "\n",
            "    accuracy                           0.68       369\n",
            "   macro avg       0.80      0.68      0.60       369\n",
            "weighted avg       0.79      0.68      0.60       369\n",
            "\n"
          ]
        }
      ]
    },
    {
      "cell_type": "code",
      "source": [
        "conf_m=confusion_matrix(y_test,pred)\n",
        "sns.heatmap(conf_m,linewidths=1,annot=True,fmt='g')"
      ],
      "metadata": {
        "colab": {
          "base_uri": "https://localhost:8080/",
          "height": 456
        },
        "id": "BtDx6lseh28W",
        "outputId": "737d560f-d9b2-485d-a611-6b94a2b1b220"
      },
      "execution_count": null,
      "outputs": [
        {
          "output_type": "execute_result",
          "data": {
            "text/plain": [
              "<Axes: >"
            ]
          },
          "metadata": {},
          "execution_count": 85
        },
        {
          "output_type": "display_data",
          "data": {
            "text/plain": [
              "<Figure size 640x480 with 2 Axes>"
            ],
            "image/png": "[encoded data removed]"
          },
          "metadata": {}
        }
      ]
    },
    {
      "cell_type": "code",
      "source": [
        "from sklearn.ensemble import GradientBoostingClassifier\n",
        "gbclf=GradientBoostingClassifier(max_depth=3,n_estimators=10)\n",
        "gbclf.fit(X_train,y_train)\n",
        "gbclf.score(X_test,y_test)"
      ],
      "metadata": {
        "colab": {
          "base_uri": "https://localhost:8080/"
        },
        "id": "HLvCcm3AgPy6",
        "outputId": "eca25d19-3943-4721-cebe-da1703d73eb1"
      },
      "execution_count": null,
      "outputs": [
        {
          "output_type": "execute_result",
          "data": {
            "text/plain": [
              "0.7886178861788617"
            ]
          },
          "metadata": {},
          "execution_count": 86
        }
      ]
    },
    {
      "cell_type": "code",
      "source": [
        "# #  Define the models to compare\n",
        "# model_pipeline=[]\n",
        "# model_pipeline.append(MultinomialNB())\n",
        "# model_pipeline.append(LogisticRegression(solver='liblinear'))\n",
        "# model_pipeline.append(SVC())\n",
        "# model_pipeline.append(RandomForestClassifier())\n",
        "# model_pipeline.append(DecisionTreeClassifier())\n",
        "# model_pipeline.append(KNeighborsClassifier())"
      ],
      "metadata": {
        "id": "t8bgh_mpgs8U"
      },
      "execution_count": null,
      "outputs": []
    },
    {
      "cell_type": "code",
      "source": [
        "# from sklearn import metrics\n",
        "# from sklearn.metrics import classification_report\n",
        "\n",
        "\n",
        "\n",
        "# model_list=['Naive Bayes','Logistic Regression','SVM','Random Forest','Decision Tree','KNN']\n",
        "# acc_list=[]\n",
        "# cm_list=[]\n",
        "\n",
        "# for model in model_pipeline:\n",
        "#   model.fit(X_train,y_train)\n",
        "#   y_pred=model.predict(X_test)\n",
        "#   acc_list.append(metrics.accuracy_score(y_test,y_pred))\n",
        "#   # fprate,tprate, thresholds=metrics.roc_curve(y_test,y_pred,pos_label=1)\n",
        "#   # auc_list.append(round(metrics.auc(fprate,tprate),2))\n",
        "#   cm_list.append(confusion_matrix(y_test,y_pred))\n",
        "\n"
      ],
      "metadata": {
        "id": "U2fVe_40lctZ"
      },
      "execution_count": null,
      "outputs": []
    },
    {
      "cell_type": "code",
      "source": [
        "# result_df=pd.DataFrame({'Model':model_list,'Accuracy':acc_list})\n",
        "# result_df"
      ],
      "metadata": {
        "id": "X_K8VdQLxAeG"
      },
      "execution_count": null,
      "outputs": []
    },
    {
      "cell_type": "code",
      "source": [
        "names=['KNN','SVM','Decision Tree','Naive Bayes','Logistic Regression','Gradient Boosting','Random Forest']\n",
        "\n",
        "classifiers=[\n",
        "    KNeighborsClassifier(3),\n",
        "    SVC(),\n",
        "    DecisionTreeClassifier(max_depth=5),\n",
        "    MultinomialNB(),\n",
        "    LogisticRegression(),\n",
        "    GradientBoostingClassifier(),\n",
        "    RandomForestClassifier(max_depth=5,n_estimators=100)]"
      ],
      "metadata": {
        "id": "6wYAi9IIaZ83"
      },
      "execution_count": null,
      "outputs": []
    },
    {
      "cell_type": "code",
      "source": [
        "scores=[]\n",
        "for name,clf in zip(names,classifiers):\n",
        "  clf.fit(X_train,y_train)\n",
        "  score=clf.score(X_test,y_test)\n",
        "  scores.append(score)"
      ],
      "metadata": {
        "id": "osg3bqp9XY4j"
      },
      "execution_count": null,
      "outputs": []
    },
    {
      "cell_type": "code",
      "source": [
        "scores"
      ],
      "metadata": {
        "colab": {
          "base_uri": "https://localhost:8080/"
        },
        "id": "URKqDONYXxcR",
        "outputId": "aefee468-8bdf-491a-c980-47cb54268ef1"
      },
      "execution_count": null,
      "outputs": [
        {
          "output_type": "execute_result",
          "data": {
            "text/plain": [
              "[0.6991869918699187,\n",
              " 0.986449864498645,\n",
              " 0.7344173441734417,\n",
              " 0.9051490514905149,\n",
              " 0.9376693766937669,\n",
              " 0.8943089430894309,\n",
              " 0.8048780487804879]"
            ]
          },
          "metadata": {},
          "execution_count": 92
        }
      ]
    },
    {
      "cell_type": "code",
      "source": [
        "df=pd.DataFrame()\n",
        "df['name']=names\n",
        "df['score']=scores\n",
        "df"
      ],
      "metadata": {
        "colab": {
          "base_uri": "https://localhost:8080/",
          "height": 268
        },
        "id": "qJLx3oQLxvmr",
        "outputId": "a9397ca6-2a67-401f-b5eb-1815a4a408c8"
      },
      "execution_count": null,
      "outputs": [
        {
          "output_type": "execute_result",
          "data": {
            "text/plain": [
              "                  name     score\n",
              "0                  KNN  0.699187\n",
              "1                  SVM  0.986450\n",
              "2        Decision Tree  0.734417\n",
              "3          Naive Bayes  0.905149\n",
              "4  Logistic Regression  0.937669\n",
              "5    Gradient Boosting  0.894309\n",
              "6        Random Forest  0.804878"
            ],
            "text/html": [
              "\n",
              "  <div id=\"df-8726a22f-4df7-4de4-b81d-484e6fccb958\">\n",
              "    <div class=\"colab-df-container\">\n",
              "      <div>\n",
              "<style scoped>\n",
              "    .dataframe tbody tr th:only-of-type {\n",
              "        vertical-align: middle;\n",
              "    }\n",
              "\n",
              "    .dataframe tbody tr th {\n",
              "        vertical-align: top;\n",
              "    }\n",
              "\n",
              "    .dataframe thead th {\n",
              "        text-align: right;\n",
              "    }\n",
              "</style>\n",
              "<table border=\"1\" class=\"dataframe\">\n",
              "  <thead>\n",
              "    <tr style=\"text-align: right;\">\n",
              "      <th></th>\n",
              "      <th>name</th>\n",
              "      <th>score</th>\n",
              "    </tr>\n",
              "  </thead>\n",
              "  <tbody>\n",
              "    <tr>\n",
              "      <th>0</th>\n",
              "      <td>KNN</td>\n",
              "      <td>0.699187</td>\n",
              "    </tr>\n",
              "    <tr>\n",
              "      <th>1</th>\n",
              "      <td>SVM</td>\n",
              "      <td>0.986450</td>\n",
              "    </tr>\n",
              "    <tr>\n",
              "      <th>2</th>\n",
              "      <td>Decision Tree</td>\n",
              "      <td>0.734417</td>\n",
              "    </tr>\n",
              "    <tr>\n",
              "      <th>3</th>\n",
              "      <td>Naive Bayes</td>\n",
              "      <td>0.905149</td>\n",
              "    </tr>\n",
              "    <tr>\n",
              "      <th>4</th>\n",
              "      <td>Logistic Regression</td>\n",
              "      <td>0.937669</td>\n",
              "    </tr>\n",
              "    <tr>\n",
              "      <th>5</th>\n",
              "      <td>Gradient Boosting</td>\n",
              "      <td>0.894309</td>\n",
              "    </tr>\n",
              "    <tr>\n",
              "      <th>6</th>\n",
              "      <td>Random Forest</td>\n",
              "      <td>0.804878</td>\n",
              "    </tr>\n",
              "  </tbody>\n",
              "</table>\n",
              "</div>\n",
              "      <button class=\"colab-df-convert\" onclick=\"convertToInteractive('df-8726a22f-4df7-4de4-b81d-484e6fccb958')\"\n",
              "              title=\"Convert this dataframe to an interactive table.\"\n",
              "              style=\"display:none;\">\n",
              "        \n",
              "  <svg xmlns=\"http://www.w3.org/2000/svg\" height=\"24px\"viewBox=\"0 0 24 24\"\n",
              "       width=\"24px\">\n",
              "    <path d=\"M0 0h24v24H0V0z\" fill=\"none\"/>\n",
              "    <path d=\"M18.56 5.44l.94 2.06.94-2.06 2.06-.94-2.06-.94-.94-2.06-.94 2.06-2.06.94zm-11 1L8.5 8.5l.94-2.06 2.06-.94-2.06-.94L8.5 2.5l-.94 2.06-2.06.94zm10 10l.94 2.06.94-2.06 2.06-.94-2.06-.94-.94-2.06-.94 2.06-2.06.94z\"/><path d=\"M17.41 7.96l-1.37-1.37c-.4-.4-.92-.59-1.43-.59-.52 0-1.04.2-1.43.59L10.3 9.45l-7.72 7.72c-.78.78-.78 2.05 0 2.83L4 21.41c.39.39.9.59 1.41.59.51 0 1.02-.2 1.41-.59l7.78-7.78 2.81-2.81c.8-.78.8-2.07 0-2.86zM5.41 20L4 18.59l7.72-7.72 1.47 1.35L5.41 20z\"/>\n",
              "  </svg>\n",
              "      </button>\n",
              "      \n",
              "  <style>\n",
              "    .colab-df-container {\n",
              "      display:flex;\n",
              "      flex-wrap:wrap;\n",
              "      gap: 12px;\n",
              "    }\n",
              "\n",
              "    .colab-df-convert {\n",
              "      background-color: #E8F0FE;\n",
              "      border: none;\n",
              "      border-radius: 50%;\n",
              "      cursor: pointer;\n",
              "      display: none;\n",
              "      fill: #1967D2;\n",
              "      height: 32px;\n",
              "      padding: 0 0 0 0;\n",
              "      width: 32px;\n",
              "    }\n",
              "\n",
              "    .colab-df-convert:hover {\n",
              "      background-color: #E2EBFA;\n",
              "      box-shadow: 0px 1px 2px rgba(60, 64, 67, 0.3), 0px 1px 3px 1px rgba(60, 64, 67, 0.15);\n",
              "      fill: #174EA6;\n",
              "    }\n",
              "\n",
              "    [theme=dark] .colab-df-convert {\n",
              "      background-color: #3B4455;\n",
              "      fill: #D2E3FC;\n",
              "    }\n",
              "\n",
              "    [theme=dark] .colab-df-convert:hover {\n",
              "      background-color: #434B5C;\n",
              "      box-shadow: 0px 1px 3px 1px rgba(0, 0, 0, 0.15);\n",
              "      filter: drop-shadow(0px 1px 2px rgba(0, 0, 0, 0.3));\n",
              "      fill: #FFFFFF;\n",
              "    }\n",
              "  </style>\n",
              "\n",
              "      <script>\n",
              "        const buttonEl =\n",
              "          document.querySelector('#df-8726a22f-4df7-4de4-b81d-484e6fccb958 button.colab-df-convert');\n",
              "        buttonEl.style.display =\n",
              "          google.colab.kernel.accessAllowed ? 'block' : 'none';\n",
              "\n",
              "        async function convertToInteractive(key) {\n",
              "          const element = document.querySelector('#df-8726a22f-4df7-4de4-b81d-484e6fccb958');\n",
              "          const dataTable =\n",
              "            await google.colab.kernel.invokeFunction('convertToInteractive',\n",
              "                                                     [key], {});\n",
              "          if (!dataTable) return;\n",
              "\n",
              "          const docLinkHtml = 'Like what you see? Visit the ' +\n",
              "            '<a target=\"_blank\" href=https://colab.research.google.com/notebooks/data_table.ipynb>data table notebook</a>'\n",
              "            + ' to learn more about interactive tables.';\n",
              "          element.innerHTML = '';\n",
              "          dataTable['output_type'] = 'display_data';\n",
              "          await google.colab.output.renderOutput(dataTable, element);\n",
              "          const docLink = document.createElement('div');\n",
              "          docLink.innerHTML = docLinkHtml;\n",
              "          element.appendChild(docLink);\n",
              "        }\n",
              "      </script>\n",
              "    </div>\n",
              "  </div>\n",
              "  "
            ]
          },
          "metadata": {},
          "execution_count": 93
        }
      ]
    },
    {
      "cell_type": "code",
      "source": [
        "cm=sns.light_palette(\"green\",as_cmap=True)\n",
        "s=df.style.background_gradient(cmap=cm)\n"
      ],
      "metadata": {
        "id": "wOl08TZ5quL8"
      },
      "execution_count": null,
      "outputs": []
    },
    {
      "cell_type": "code",
      "source": [
        "sns.set(style=\"whitegrid\")\n",
        "ax=sns.barplot(y=\"name\",x=\"score\",data=df)"
      ],
      "metadata": {
        "colab": {
          "base_uri": "https://localhost:8080/",
          "height": 458
        },
        "id": "Ku7WfXiprUwd",
        "outputId": "5c9369dc-638f-4e95-f02d-53f0a34d477d"
      },
      "execution_count": null,
      "outputs": [
        {
          "output_type": "display_data",
          "data": {
            "text/plain": [
              "<Figure size 640x480 with 1 Axes>"
            ],
            "image/png": "[encoded data removed]"
          },
          "metadata": {}
        }
      ]
    },
    {
      "cell_type": "code",
      "source": [
        "import pickle"
      ],
      "metadata": {
        "id": "SNDaQNIoV1L5"
      },
      "execution_count": null,
      "outputs": []
    },
    {
      "cell_type": "code",
      "source": [
        "pickle.dump(classifier,open(\"model.pkl\",\"wb\"))"
      ],
      "metadata": {
        "id": "IRvFRSmerIur"
      },
      "execution_count": null,
      "outputs": []
    },
    {
      "cell_type": "code",
      "source": [
        "x_train fit\n"
      ],
      "metadata": {
        "id": "MD04eil7UTHA"
      },
      "execution_count": null,
      "outputs": []
    },
    {
      "cell_type": "code",
      "source": [],
      "metadata": {
        "id": "dKYwd_zlrIsM"
      },
      "execution_count": null,
      "outputs": []
    },
    {
      "cell_type": "code",
      "source": [],
      "metadata": {
        "id": "qIq70hRirIkh"
      },
      "execution_count": null,
      "outputs": []
    },
    {
      "cell_type": "code",
      "source": [],
      "metadata": {
        "id": "OzGfDz6zrIis"
      },
      "execution_count": null,
      "outputs": []
    },
    {
      "cell_type": "code",
      "source": [],
      "metadata": {
        "id": "IVxzlfRLrIVt"
      },
      "execution_count": null,
      "outputs": []
    },
    {
      "cell_type": "code",
      "source": [],
      "metadata": {
        "id": "cXBZX8WSpKRT"
      },
      "execution_count": null,
      "outputs": []
    }
  ]
}